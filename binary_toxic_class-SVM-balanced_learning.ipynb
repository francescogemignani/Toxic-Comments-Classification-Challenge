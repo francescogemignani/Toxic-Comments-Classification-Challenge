{
 "cells": [
  {
   "cell_type": "markdown",
   "id": "8e63a102",
   "metadata": {},
   "source": [
    "## SVM Binary Toxic Classifier - Balanced learning"
   ]
  },
  {
   "cell_type": "code",
   "execution_count": 273,
   "id": "a49e9cbd-5440-42f0-9b82-3bd541007504",
   "metadata": {},
   "outputs": [],
   "source": [
    "import pandas as pd\n",
    "import seaborn as sns\n",
    "import matplotlib.pyplot as plt\n",
    "\n",
    "from sklearn.model_selection import train_test_split\n",
    "from imblearn.under_sampling import RandomUnderSampler\n",
    "from sklearn.feature_extraction.text import TfidfVectorizer\n",
    "from sklearn.svm import SVC, LinearSVC\n",
    "from sklearn.model_selection import GridSearchCV\n",
    "from sklearn.feature_extraction.text import CountVectorizer, TfidfTransformer\n",
    "from sklearn.pipeline import Pipeline\n",
    "from sklearn.metrics import confusion_matrix, classification_report"
   ]
  },
  {
   "cell_type": "code",
   "execution_count": 274,
   "id": "0f85ac36",
   "metadata": {},
   "outputs": [],
   "source": [
    "# utility function\n",
    "def make_confusion_matrix( cfm, title):\n",
    "    group_names = ['TN','FP','FN','TP']\n",
    "\n",
    "    group_counts = [\"{0:0.0f}\".format(value) for value in\n",
    "                cfm.flatten()]\n",
    "\n",
    "    group_percentages = [\"{0:.2%}\".format(value) for value in\n",
    "                     cfm.flatten()/np.sum(cfm)]\n",
    "\n",
    "    labels = [f\"{v1}\\n{v2}\\n{v3}\" for v1, v2, v3 in\n",
    "          zip(group_names,group_counts,group_percentages)]\n",
    "\n",
    "    labels = np.asarray(labels).reshape(2,2)\n",
    "    plt.title(title)\n",
    "    \n",
    "    sns.heatmap(cfm, annot=labels, fmt=\"\", cmap='Blues')\n",
    "    plt.ylabel('True Label', fontsize=12)\n",
    "    plt.xlabel('Predicted',fontsize=12)"
   ]
  },
  {
   "cell_type": "code",
   "execution_count": 275,
   "id": "96d76c02",
   "metadata": {},
   "outputs": [],
   "source": [
    "from sklearn.metrics import roc_curve,auc\n",
    "\n",
    "def plot_roc_curve(y_test, prediction, name_model):\n",
    "    test_fpr, test_tpr, te_thresholds = roc_curve(y_test, prediction)\n",
    "\n",
    "    plt.grid()\n",
    "    auc_score = round(auc(test_fpr, test_tpr),2)\n",
    "    plt.plot(test_fpr, test_tpr, label=f\"{name_model} - AUC =\"+ str(auc_score))\n",
    "    plt.plot([0,1],[0,1],'r--')\n",
    "    plt.legend()\n",
    "    plt.xlabel(\"True Positive Rate\")\n",
    "    plt.ylabel(\"False Positive Rate\")\n",
    "    plt.title(f\" AUC(ROC curve) - {name_model}\")\n",
    "    plt.grid(color='black', linestyle='', linewidth=0.5)\n",
    "    plt.show()"
   ]
  },
  {
   "cell_type": "code",
   "execution_count": 276,
   "id": "e416ad4a-b423-4772-b004-e2856f52dd2d",
   "metadata": {},
   "outputs": [],
   "source": [
    "df = pd.read_csv('data/final.zip', compression='zip')\n",
    "data = 'tokenized_stemmed'\n",
    "target = 'TOXIC'"
   ]
  },
  {
   "cell_type": "code",
   "execution_count": null,
   "id": "fd052389",
   "metadata": {},
   "outputs": [],
   "source": []
  },
  {
   "cell_type": "code",
   "execution_count": 277,
   "id": "b64652d5",
   "metadata": {},
   "outputs": [
    {
     "data": {
      "text/html": [
       "<div>\n",
       "<style scoped>\n",
       "    .dataframe tbody tr th:only-of-type {\n",
       "        vertical-align: middle;\n",
       "    }\n",
       "\n",
       "    .dataframe tbody tr th {\n",
       "        vertical-align: top;\n",
       "    }\n",
       "\n",
       "    .dataframe thead th {\n",
       "        text-align: right;\n",
       "    }\n",
       "</style>\n",
       "<table border=\"1\" class=\"dataframe\">\n",
       "  <thead>\n",
       "    <tr style=\"text-align: right;\">\n",
       "      <th></th>\n",
       "      <th>Unnamed: 0</th>\n",
       "      <th>id</th>\n",
       "      <th>comment_text</th>\n",
       "      <th>toxic</th>\n",
       "      <th>severe_toxic</th>\n",
       "      <th>obscene</th>\n",
       "      <th>threat</th>\n",
       "      <th>insult</th>\n",
       "      <th>identity_hate</th>\n",
       "      <th>TOXIC</th>\n",
       "      <th>...</th>\n",
       "      <th>word_counts</th>\n",
       "      <th>unique_word_counts</th>\n",
       "      <th>clean_text</th>\n",
       "      <th>tokenized</th>\n",
       "      <th>tokenized_no_stopwords</th>\n",
       "      <th>tokenized_stemmed</th>\n",
       "      <th>tokenized_pos</th>\n",
       "      <th>tokenized_lemmatized</th>\n",
       "      <th>tokenized_lemmatized_pos</th>\n",
       "      <th>tokenized_bigram</th>\n",
       "    </tr>\n",
       "  </thead>\n",
       "  <tbody>\n",
       "    <tr>\n",
       "      <th>0</th>\n",
       "      <td>0</td>\n",
       "      <td>0000997932d777bf</td>\n",
       "      <td>Explanation\\nWhy the edits made under my usern...</td>\n",
       "      <td>0</td>\n",
       "      <td>0</td>\n",
       "      <td>0</td>\n",
       "      <td>0</td>\n",
       "      <td>0</td>\n",
       "      <td>0</td>\n",
       "      <td>0</td>\n",
       "      <td>...</td>\n",
       "      <td>43</td>\n",
       "      <td>41</td>\n",
       "      <td>explanation why the edits made under my userna...</td>\n",
       "      <td>['explanation', 'why', 'the', 'edits', 'made',...</td>\n",
       "      <td>['explanation', 'edits', 'made', 'username', '...</td>\n",
       "      <td>['explan', 'edit', 'made', 'usernam', 'hardcor...</td>\n",
       "      <td>[('explanation', 'NN'), ('edits', 'NNS'), ('ma...</td>\n",
       "      <td>['explanation', 'edits', 'made', 'username', '...</td>\n",
       "      <td>['explanation', 'edits', 'make', 'username', '...</td>\n",
       "      <td>[('explanation', 'edits'), ('edits', 'made'), ...</td>\n",
       "    </tr>\n",
       "    <tr>\n",
       "      <th>1</th>\n",
       "      <td>1</td>\n",
       "      <td>000103f0d9cfb60f</td>\n",
       "      <td>D'aww! He matches this background colour I'm s...</td>\n",
       "      <td>0</td>\n",
       "      <td>0</td>\n",
       "      <td>0</td>\n",
       "      <td>0</td>\n",
       "      <td>0</td>\n",
       "      <td>0</td>\n",
       "      <td>0</td>\n",
       "      <td>...</td>\n",
       "      <td>17</td>\n",
       "      <td>17</td>\n",
       "      <td>daww he matches this background colour i am se...</td>\n",
       "      <td>['daww', 'he', 'matches', 'this', 'background'...</td>\n",
       "      <td>['daww', 'matches', 'background', 'colour', 's...</td>\n",
       "      <td>['daww', 'match', 'background', 'colour', 'see...</td>\n",
       "      <td>[('daww', 'NN'), ('matches', 'NNS'), ('backgro...</td>\n",
       "      <td>['daww', 'match', 'background', 'colour', 'see...</td>\n",
       "      <td>['daww', 'match', 'background', 'colour', 'see...</td>\n",
       "      <td>[('daww', 'matches'), ('matches', 'background'...</td>\n",
       "    </tr>\n",
       "    <tr>\n",
       "      <th>2</th>\n",
       "      <td>2</td>\n",
       "      <td>000113f07ec002fd</td>\n",
       "      <td>Hey man, I'm really not trying to edit war. It...</td>\n",
       "      <td>0</td>\n",
       "      <td>0</td>\n",
       "      <td>0</td>\n",
       "      <td>0</td>\n",
       "      <td>0</td>\n",
       "      <td>0</td>\n",
       "      <td>0</td>\n",
       "      <td>...</td>\n",
       "      <td>42</td>\n",
       "      <td>39</td>\n",
       "      <td>hey man i am really not trying to edit war it ...</td>\n",
       "      <td>['hey', 'man', 'i', 'am', 'really', 'not', 'tr...</td>\n",
       "      <td>['hey', 'man', 'really', 'trying', 'edit', 'wa...</td>\n",
       "      <td>['hey', 'man', 'realli', 'tri', 'edit', 'war',...</td>\n",
       "      <td>[('hey', 'NN'), ('man', 'NN'), ('really', 'RB'...</td>\n",
       "      <td>['hey', 'man', 'really', 'trying', 'edit', 'wa...</td>\n",
       "      <td>['hey', 'man', 'really', 'try', 'edit', 'war',...</td>\n",
       "      <td>[('hey', 'man'), ('man', 'really'), ('really',...</td>\n",
       "    </tr>\n",
       "    <tr>\n",
       "      <th>3</th>\n",
       "      <td>3</td>\n",
       "      <td>0001b41b1c6bb37e</td>\n",
       "      <td>\"\\nMore\\nI can't make any real suggestions on ...</td>\n",
       "      <td>0</td>\n",
       "      <td>0</td>\n",
       "      <td>0</td>\n",
       "      <td>0</td>\n",
       "      <td>0</td>\n",
       "      <td>0</td>\n",
       "      <td>0</td>\n",
       "      <td>...</td>\n",
       "      <td>113</td>\n",
       "      <td>82</td>\n",
       "      <td>more i cannot make any real suggestions on im...</td>\n",
       "      <td>['more', 'i', 'can', 'not', 'make', 'any', 're...</td>\n",
       "      <td>['make', 'real', 'suggestions', 'improvement',...</td>\n",
       "      <td>['make', 'real', 'suggest', 'improv', 'wonder'...</td>\n",
       "      <td>[('make', 'VB'), ('real', 'JJ'), ('suggestions...</td>\n",
       "      <td>['make', 'real', 'suggestion', 'improvement', ...</td>\n",
       "      <td>['make', 'real', 'suggestion', 'improvement', ...</td>\n",
       "      <td>[('make', 'real'), ('real', 'suggestions'), ('...</td>\n",
       "    </tr>\n",
       "    <tr>\n",
       "      <th>4</th>\n",
       "      <td>4</td>\n",
       "      <td>0001d958c54c6e35</td>\n",
       "      <td>You, sir, are my hero. Any chance you remember...</td>\n",
       "      <td>0</td>\n",
       "      <td>0</td>\n",
       "      <td>0</td>\n",
       "      <td>0</td>\n",
       "      <td>0</td>\n",
       "      <td>0</td>\n",
       "      <td>0</td>\n",
       "      <td>...</td>\n",
       "      <td>13</td>\n",
       "      <td>13</td>\n",
       "      <td>you sir are my hero any chance you remember wh...</td>\n",
       "      <td>['you', 'sir', 'are', 'my', 'hero', 'any', 'ch...</td>\n",
       "      <td>['sir', 'hero', 'chance', 'remember', 'page']</td>\n",
       "      <td>['sir', 'hero', 'chanc', 'rememb', 'page']</td>\n",
       "      <td>[('sir', 'NN'), ('hero', 'NN'), ('chance', 'NN...</td>\n",
       "      <td>['sir', 'hero', 'chance', 'remember', 'page']</td>\n",
       "      <td>['sir', 'hero', 'chance', 'remember', 'page']</td>\n",
       "      <td>[('sir', 'hero'), ('hero', 'chance'), ('chance...</td>\n",
       "    </tr>\n",
       "  </tbody>\n",
       "</table>\n",
       "<p>5 rows × 21 columns</p>\n",
       "</div>"
      ],
      "text/plain": [
       "   Unnamed: 0                id  \\\n",
       "0           0  0000997932d777bf   \n",
       "1           1  000103f0d9cfb60f   \n",
       "2           2  000113f07ec002fd   \n",
       "3           3  0001b41b1c6bb37e   \n",
       "4           4  0001d958c54c6e35   \n",
       "\n",
       "                                        comment_text  toxic  severe_toxic  \\\n",
       "0  Explanation\\nWhy the edits made under my usern...      0             0   \n",
       "1  D'aww! He matches this background colour I'm s...      0             0   \n",
       "2  Hey man, I'm really not trying to edit war. It...      0             0   \n",
       "3  \"\\nMore\\nI can't make any real suggestions on ...      0             0   \n",
       "4  You, sir, are my hero. Any chance you remember...      0             0   \n",
       "\n",
       "   obscene  threat  insult  identity_hate  TOXIC  ...  word_counts  \\\n",
       "0        0       0       0              0      0  ...           43   \n",
       "1        0       0       0              0      0  ...           17   \n",
       "2        0       0       0              0      0  ...           42   \n",
       "3        0       0       0              0      0  ...          113   \n",
       "4        0       0       0              0      0  ...           13   \n",
       "\n",
       "   unique_word_counts                                         clean_text  \\\n",
       "0                  41  explanation why the edits made under my userna...   \n",
       "1                  17  daww he matches this background colour i am se...   \n",
       "2                  39  hey man i am really not trying to edit war it ...   \n",
       "3                  82   more i cannot make any real suggestions on im...   \n",
       "4                  13  you sir are my hero any chance you remember wh...   \n",
       "\n",
       "                                           tokenized  \\\n",
       "0  ['explanation', 'why', 'the', 'edits', 'made',...   \n",
       "1  ['daww', 'he', 'matches', 'this', 'background'...   \n",
       "2  ['hey', 'man', 'i', 'am', 'really', 'not', 'tr...   \n",
       "3  ['more', 'i', 'can', 'not', 'make', 'any', 're...   \n",
       "4  ['you', 'sir', 'are', 'my', 'hero', 'any', 'ch...   \n",
       "\n",
       "                              tokenized_no_stopwords  \\\n",
       "0  ['explanation', 'edits', 'made', 'username', '...   \n",
       "1  ['daww', 'matches', 'background', 'colour', 's...   \n",
       "2  ['hey', 'man', 'really', 'trying', 'edit', 'wa...   \n",
       "3  ['make', 'real', 'suggestions', 'improvement',...   \n",
       "4      ['sir', 'hero', 'chance', 'remember', 'page']   \n",
       "\n",
       "                                   tokenized_stemmed  \\\n",
       "0  ['explan', 'edit', 'made', 'usernam', 'hardcor...   \n",
       "1  ['daww', 'match', 'background', 'colour', 'see...   \n",
       "2  ['hey', 'man', 'realli', 'tri', 'edit', 'war',...   \n",
       "3  ['make', 'real', 'suggest', 'improv', 'wonder'...   \n",
       "4         ['sir', 'hero', 'chanc', 'rememb', 'page']   \n",
       "\n",
       "                                       tokenized_pos  \\\n",
       "0  [('explanation', 'NN'), ('edits', 'NNS'), ('ma...   \n",
       "1  [('daww', 'NN'), ('matches', 'NNS'), ('backgro...   \n",
       "2  [('hey', 'NN'), ('man', 'NN'), ('really', 'RB'...   \n",
       "3  [('make', 'VB'), ('real', 'JJ'), ('suggestions...   \n",
       "4  [('sir', 'NN'), ('hero', 'NN'), ('chance', 'NN...   \n",
       "\n",
       "                                tokenized_lemmatized  \\\n",
       "0  ['explanation', 'edits', 'made', 'username', '...   \n",
       "1  ['daww', 'match', 'background', 'colour', 'see...   \n",
       "2  ['hey', 'man', 'really', 'trying', 'edit', 'wa...   \n",
       "3  ['make', 'real', 'suggestion', 'improvement', ...   \n",
       "4      ['sir', 'hero', 'chance', 'remember', 'page']   \n",
       "\n",
       "                            tokenized_lemmatized_pos  \\\n",
       "0  ['explanation', 'edits', 'make', 'username', '...   \n",
       "1  ['daww', 'match', 'background', 'colour', 'see...   \n",
       "2  ['hey', 'man', 'really', 'try', 'edit', 'war',...   \n",
       "3  ['make', 'real', 'suggestion', 'improvement', ...   \n",
       "4      ['sir', 'hero', 'chance', 'remember', 'page']   \n",
       "\n",
       "                                    tokenized_bigram  \n",
       "0  [('explanation', 'edits'), ('edits', 'made'), ...  \n",
       "1  [('daww', 'matches'), ('matches', 'background'...  \n",
       "2  [('hey', 'man'), ('man', 'really'), ('really',...  \n",
       "3  [('make', 'real'), ('real', 'suggestions'), ('...  \n",
       "4  [('sir', 'hero'), ('hero', 'chance'), ('chance...  \n",
       "\n",
       "[5 rows x 21 columns]"
      ]
     },
     "execution_count": 277,
     "metadata": {},
     "output_type": "execute_result"
    }
   ],
   "source": [
    "df.head()"
   ]
  },
  {
   "cell_type": "markdown",
   "id": "8a1e5751",
   "metadata": {},
   "source": [
    "### Unbalanced classes"
   ]
  },
  {
   "cell_type": "code",
   "execution_count": 278,
   "id": "e8aad8f5-191f-4472-b191-9e39ace9206d",
   "metadata": {},
   "outputs": [
    {
     "data": {
      "text/plain": [
       "Text(0.5, 1.0, 'Unbalanced Labels')"
      ]
     },
     "execution_count": 278,
     "metadata": {},
     "output_type": "execute_result"
    },
    {
     "data": {
      "image/png": "[encoded data removed]",
      "text/plain": [
       "<Figure size 432x288 with 1 Axes>"
      ]
     },
     "metadata": {
      "needs_background": "light"
     },
     "output_type": "display_data"
    }
   ],
   "source": [
    "sns.countplot(data=df, x=target)\n",
    "plt.title(\"Unbalanced Labels\")"
   ]
  },
  {
   "cell_type": "code",
   "execution_count": 279,
   "id": "d4da46b8-8971-4424-ac8e-3eb746f1e7ab",
   "metadata": {},
   "outputs": [
    {
     "name": "stdout",
     "output_type": "stream",
     "text": [
      "Legend:\n",
      "0: No Toxic\n",
      "1: Toxic\n",
      "\n"
     ]
    },
    {
     "data": {
      "text/plain": [
       "0    201081\n",
       "1     22468\n",
       "Name: TOXIC, dtype: int64"
      ]
     },
     "execution_count": 279,
     "metadata": {},
     "output_type": "execute_result"
    }
   ],
   "source": [
    "print('Legend:\\n0: No Toxic\\n1: Toxic\\n')\n",
    "df[target].value_counts()"
   ]
  },
  {
   "cell_type": "markdown",
   "id": "08e57e39",
   "metadata": {},
   "source": [
    "### Random Undersampling"
   ]
  },
  {
   "cell_type": "code",
   "execution_count": 280,
   "id": "5f875ac9",
   "metadata": {},
   "outputs": [],
   "source": [
    "labels = df[[target]]\n",
    "df.drop(target,axis=1,inplace=True)"
   ]
  },
  {
   "cell_type": "code",
   "execution_count": 216,
   "id": "3aa7ab62",
   "metadata": {},
   "outputs": [],
   "source": [
    "under_sample = RandomUnderSampler(random_state=42)\n",
    "data_under, labels_under = under_sample.fit_resample(df,labels)"
   ]
  },
  {
   "cell_type": "code",
   "execution_count": 281,
   "id": "fdc36ed4-1561-422f-a1b8-120c8ff91aa8",
   "metadata": {},
   "outputs": [
    {
     "data": {
      "text/plain": [
       "<AxesSubplot:xlabel='TOXIC', ylabel='count'>"
      ]
     },
     "execution_count": 281,
     "metadata": {},
     "output_type": "execute_result"
    },
    {
     "data": {
      "image/png": "[encoded data removed]",
      "text/plain": [
       "<Figure size 432x288 with 1 Axes>"
      ]
     },
     "metadata": {
      "needs_background": "light"
     },
     "output_type": "display_data"
    }
   ],
   "source": [
    "sns.countplot(data=labels_under, x=target)"
   ]
  },
  {
   "cell_type": "code",
   "execution_count": 218,
   "id": "f296cfbb-54e8-4160-801c-8952611ac8d9",
   "metadata": {},
   "outputs": [
    {
     "name": "stdout",
     "output_type": "stream",
     "text": [
      "Legend:\n",
      "0: No Toxic\n",
      "1: Toxic\n",
      "\n"
     ]
    },
    {
     "data": {
      "text/plain": [
       "TOXIC\n",
       "0        22468\n",
       "1        22468\n",
       "dtype: int64"
      ]
     },
     "execution_count": 218,
     "metadata": {},
     "output_type": "execute_result"
    }
   ],
   "source": [
    "print('Legend:\\n0: No Toxic\\n1: Toxic\\n')\n",
    "labels_under.value_counts()"
   ]
  },
  {
   "cell_type": "markdown",
   "id": "6103aa8d",
   "metadata": {},
   "source": [
    "### Split Data"
   ]
  },
  {
   "cell_type": "code",
   "execution_count": 282,
   "id": "2de1ed22-a608-4404-b0c7-72572f0112a0",
   "metadata": {},
   "outputs": [],
   "source": [
    "X_train, X_test, y_train, y_test = train_test_split(data_under[data], labels_under[target], test_size=0.30, random_state=42, stratify=labels_under) "
   ]
  },
  {
   "cell_type": "code",
   "execution_count": 283,
   "id": "2071f173-8865-4ab9-8157-bc4262b589ce",
   "metadata": {},
   "outputs": [
    {
     "name": "stdout",
     "output_type": "stream",
     "text": [
      "Training set\n",
      "1    15728\n",
      "0    15727\n",
      "Name: TOXIC, dtype: int64\n",
      "\n",
      "Test set\n",
      "0    6741\n",
      "1    6740\n",
      "Name: TOXIC, dtype: int64\n",
      "\n"
     ]
    }
   ],
   "source": [
    "print(f\"Training set\\n{y_train.value_counts()}\\n\")\n",
    "print(f\"Test set\\n{y_test.value_counts()}\\n\")"
   ]
  },
  {
   "cell_type": "markdown",
   "id": "309271f5",
   "metadata": {},
   "source": [
    "## Support Vector Machine Classifiers - Hard Margin"
   ]
  },
  {
   "cell_type": "code",
   "execution_count": 228,
   "id": "3117b5fe",
   "metadata": {},
   "outputs": [],
   "source": [
    "#help(LinearSVC)"
   ]
  },
  {
   "cell_type": "code",
   "execution_count": 256,
   "id": "898f3aaa",
   "metadata": {},
   "outputs": [
    {
     "name": "stdout",
     "output_type": "stream",
     "text": [
      "[LibLinear]"
     ]
    },
    {
     "data": {
      "text/plain": [
       "Pipeline(steps=[('vect', CountVectorizer()), ('tfidf', TfidfTransformer()),\n",
       "                ('clf-svc',\n",
       "                 LinearSVC(class_weight='balanced', random_state=42,\n",
       "                           verbose=1))])"
      ]
     },
     "execution_count": 256,
     "metadata": {},
     "output_type": "execute_result"
    }
   ],
   "source": [
    "lsvc_pipeline = Pipeline([\n",
    "    ('vect', CountVectorizer()),  \n",
    "    ('tfidf', TfidfTransformer()),  \n",
    "    ('clf-svc', LinearSVC(class_weight='balanced', verbose=1, random_state=42))])\n",
    "\n",
    "lsvc_pipeline.fit(X_train,y_train)"
   ]
  },
  {
   "cell_type": "code",
   "execution_count": 257,
   "id": "762eb4df",
   "metadata": {},
   "outputs": [
    {
     "name": "stdout",
     "output_type": "stream",
     "text": [
      "              precision    recall  f1-score   support\n",
      "\n",
      "           0       0.89      0.91      0.90      6741\n",
      "           1       0.90      0.88      0.89      6740\n",
      "\n",
      "    accuracy                           0.89     13481\n",
      "   macro avg       0.89      0.89      0.89     13481\n",
      "weighted avg       0.89      0.89      0.89     13481\n",
      "\n"
     ]
    }
   ],
   "source": [
    "y_pred = lsvc_pipeline.predict(X_test)\n",
    "print(classification_report(y_test,y_pred ))"
   ]
  },
  {
   "cell_type": "code",
   "execution_count": 284,
   "id": "ad27b715",
   "metadata": {},
   "outputs": [
    {
     "data": {
      "image/png": "[encoded data removed]",
      "text/plain": [
       "<Figure size 432x288 with 2 Axes>"
      ]
     },
     "metadata": {
      "needs_background": "light"
     },
     "output_type": "display_data"
    }
   ],
   "source": [
    "cf_matrix = confusion_matrix(y_test, y_pred)\n",
    "make_confusion_matrix(cf_matrix, 'Linear SVM Hard Margin - Confusion Matrix')"
   ]
  },
  {
   "cell_type": "code",
   "execution_count": 259,
   "id": "787405c0",
   "metadata": {},
   "outputs": [
    {
     "data": {
      "image/png": "[encoded data removed]",
      "text/plain": [
       "<Figure size 432x288 with 1 Axes>"
      ]
     },
     "metadata": {
      "needs_background": "light"
     },
     "output_type": "display_data"
    }
   ],
   "source": [
    "plot_roc_curve(y_test, y_pred, 'Linear SVM')"
   ]
  },
  {
   "cell_type": "markdown",
   "id": "a8bc6413",
   "metadata": {},
   "source": [
    "### SVM: Coarse GridSearch"
   ]
  },
  {
   "cell_type": "code",
   "execution_count": 260,
   "id": "0a2ed456",
   "metadata": {},
   "outputs": [],
   "source": [
    "lsvc_pipeline = Pipeline([\n",
    "    ('vect', CountVectorizer()),  \n",
    "    ('tfidf', TfidfTransformer()),  \n",
    "    ('clf-svc', LinearSVC(class_weight='balanced', verbose=1, random_state=42))])"
   ]
  },
  {
   "cell_type": "code",
   "execution_count": 261,
   "id": "c9ca13a4",
   "metadata": {},
   "outputs": [],
   "source": [
    "params = {'vect__ngram_range': [(1, 1), (1, 2)],\n",
    "          'tfidf__use_idf': (True, False),\n",
    "          'clf-svc__C': [0.2, 0.5, 1, 2, 3, 5, 10, 100],\n",
    "         }"
   ]
  },
  {
   "cell_type": "code",
   "execution_count": 262,
   "id": "e91de8b1",
   "metadata": {},
   "outputs": [
    {
     "name": "stdout",
     "output_type": "stream",
     "text": [
      "[LibLinear]"
     ]
    }
   ],
   "source": [
    "gs = GridSearchCV(estimator=lsvc_pipeline, param_grid=params, n_jobs=-1, cv=3)\n",
    "gs_results = gs.fit(X_train, y_train)"
   ]
  },
  {
   "cell_type": "code",
   "execution_count": 263,
   "id": "aaf8026c",
   "metadata": {},
   "outputs": [
    {
     "name": "stdout",
     "output_type": "stream",
     "text": [
      "best parameters:\n",
      "{'clf-svc__C': 1, 'tfidf__use_idf': False, 'vect__ngram_range': (1, 2)}\n",
      "accuracy: 0.8951518041646797\n"
     ]
    }
   ],
   "source": [
    "print(f\"best parameters:\\n{gs_results.best_params_}\\naccuracy: {gs_results.best_score_}\")"
   ]
  },
  {
   "cell_type": "markdown",
   "id": "a4dd69ea",
   "metadata": {},
   "source": [
    "### SVM: Fine GrideSearch"
   ]
  },
  {
   "cell_type": "code",
   "execution_count": 264,
   "id": "04dbfb2e",
   "metadata": {},
   "outputs": [],
   "source": [
    "# Fine Random search for C parameter in Linear SVM\n",
    "params = {'vect__ngram_range': [(1, 1), (1, 2), (1,3)],\n",
    "          'tfidf__use_idf': (True, False),\n",
    "          'clf-svc__C': list(np.arange(0.5,1.5,0.05)),\n",
    "         }"
   ]
  },
  {
   "cell_type": "code",
   "execution_count": 265,
   "id": "5ad3cb2e",
   "metadata": {},
   "outputs": [
    {
     "name": "stdout",
     "output_type": "stream",
     "text": [
      "[LibLinear]"
     ]
    }
   ],
   "source": [
    "gs = GridSearchCV(estimator=lsvc_pipeline, param_grid=params, n_jobs=-1, cv=3)\n",
    "gs_results = gs.fit(X_train, y_train)"
   ]
  },
  {
   "cell_type": "code",
   "execution_count": 266,
   "id": "3cffa380",
   "metadata": {},
   "outputs": [
    {
     "name": "stdout",
     "output_type": "stream",
     "text": [
      "best parameters:\n",
      "{'clf-svc__C': 0.9000000000000004, 'tfidf__use_idf': False, 'vect__ngram_range': (1, 2)}\n",
      "accuracy: 0.8954379271975839\n"
     ]
    }
   ],
   "source": [
    "print(f\"best parameters:\\n{gs_results.best_params_}\\naccuracy: {gs_results.best_score_}\")"
   ]
  },
  {
   "cell_type": "markdown",
   "id": "aba8be02",
   "metadata": {},
   "source": [
    "### Retrain and test the model"
   ]
  },
  {
   "cell_type": "code",
   "execution_count": 267,
   "id": "c61f1e14",
   "metadata": {},
   "outputs": [],
   "source": [
    "lsvc_pipeline = Pipeline([\n",
    "    ('vect', CountVectorizer(ngram_range=(1, 2))),  \n",
    "    ('tfidf', TfidfTransformer(use_idf=False)),  \n",
    "    ('clf-svc', LinearSVC(C=0.9000000000000004 ,class_weight='balanced', verbose=1, random_state=42))])"
   ]
  },
  {
   "cell_type": "code",
   "execution_count": 268,
   "id": "6a5859ea",
   "metadata": {},
   "outputs": [
    {
     "name": "stdout",
     "output_type": "stream",
     "text": [
      "[LibLinear]"
     ]
    },
    {
     "data": {
      "text/plain": [
       "Pipeline(steps=[('vect', CountVectorizer(ngram_range=(1, 2))),\n",
       "                ('tfidf', TfidfTransformer(use_idf=False)),\n",
       "                ('clf-svc',\n",
       "                 LinearSVC(C=0.9000000000000004, class_weight='balanced',\n",
       "                           random_state=42, verbose=1))])"
      ]
     },
     "execution_count": 268,
     "metadata": {},
     "output_type": "execute_result"
    }
   ],
   "source": [
    "lsvc_pipeline.fit(X_train,y_train)"
   ]
  },
  {
   "cell_type": "code",
   "execution_count": 269,
   "id": "fc21cc75",
   "metadata": {},
   "outputs": [
    {
     "name": "stdout",
     "output_type": "stream",
     "text": [
      "              precision    recall  f1-score   support\n",
      "\n",
      "           0       0.89      0.91      0.90      6741\n",
      "           1       0.91      0.89      0.90      6740\n",
      "\n",
      "    accuracy                           0.90     13481\n",
      "   macro avg       0.90      0.90      0.90     13481\n",
      "weighted avg       0.90      0.90      0.90     13481\n",
      "\n"
     ]
    }
   ],
   "source": [
    "y_pred = lsvc_pipeline.predict(X_test)\n",
    "print(classification_report(y_test, y_pred))"
   ]
  },
  {
   "cell_type": "code",
   "execution_count": 270,
   "id": "54463c8f",
   "metadata": {},
   "outputs": [
    {
     "data": {
      "image/png": "[encoded data removed]",
      "text/plain": [
       "<Figure size 432x288 with 2 Axes>"
      ]
     },
     "metadata": {
      "needs_background": "light"
     },
     "output_type": "display_data"
    }
   ],
   "source": [
    "cf_matrix_soft = confusion_matrix(y_test, y_pred)\n",
    "make_confusion_matrix(cf_matrix_soft, 'Linear SVM Soft Margin - Confusion Matrix')"
   ]
  },
  {
   "cell_type": "code",
   "execution_count": 271,
   "id": "e60570d5",
   "metadata": {},
   "outputs": [
    {
     "data": {
      "image/png": "[encoded data removed]",
      "text/plain": [
       "<Figure size 432x288 with 1 Axes>"
      ]
     },
     "metadata": {
      "needs_background": "light"
     },
     "output_type": "display_data"
    }
   ],
   "source": [
    "plot_roc_curve(y_test, y_pred, 'Linear SVM')"
   ]
  },
  {
   "cell_type": "code",
   "execution_count": null,
   "id": "dc4d3429",
   "metadata": {},
   "outputs": [],
   "source": []
  }
 ],
 "metadata": {
  "kernelspec": {
   "display_name": "Python 3",
   "language": "python",
   "name": "python3"
  },
  "language_info": {
   "codemirror_mode": {
    "name": "ipython",
    "version": 3
   },
   "file_extension": ".py",
   "mimetype": "text/x-python",
   "name": "python",
   "nbconvert_exporter": "python",
   "pygments_lexer": "ipython3",
   "version": "3.8.8"
  }
 },
 "nbformat": 4,
 "nbformat_minor": 5
}
