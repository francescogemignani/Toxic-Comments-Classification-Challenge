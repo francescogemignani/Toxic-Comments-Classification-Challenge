{
 "cells": [
  {
   "cell_type": "markdown",
   "id": "e74718ff-fbf3-4e90-9c2a-d32a49a22d81",
   "metadata": {},
   "source": [
    "## SVM Binary Toxic Classifier - Balanced learning"
   ]
  },
  {
   "cell_type": "code",
   "execution_count": 34,
   "id": "c64dc395-db77-4db8-9fbe-949c34967b5a",
   "metadata": {},
   "outputs": [],
   "source": [
    "import pandas as pd\n",
    "import numpy as np\n",
    "import seaborn as sns\n",
    "import matplotlib.pyplot as plt\n",
    "\n",
    "from sklearn.model_selection import train_test_split\n",
    "from imblearn.under_sampling import RandomUnderSampler\n",
    "from sklearn.feature_extraction.text import TfidfVectorizer\n",
    "from sklearn.svm import LinearSVC\n",
    "from sklearn.model_selection import GridSearchCV\n",
    "from sklearn.feature_extraction.text import CountVectorizer, TfidfTransformer\n",
    "from sklearn.pipeline import Pipeline\n",
    "from sklearn.metrics import confusion_matrix, classification_report\n",
    "\n",
    "import warnings \n",
    "warnings.filterwarnings(\"ignore\")\n",
    "\n",
    "from ast import literal_eval"
   ]
  },
  {
   "cell_type": "code",
   "execution_count": 35,
   "id": "99a90911-57df-4b2e-b7a8-11863a877c2c",
   "metadata": {},
   "outputs": [],
   "source": [
    "# utility function\n",
    "def make_confusion_matrix( cfm, title):\n",
    "    group_names = ['TN','FP','FN','TP']\n",
    "\n",
    "    group_counts = [\"{0:0.0f}\".format(value) for value in\n",
    "                cfm.flatten()]\n",
    "\n",
    "    group_percentages = [\"{0:.2%}\".format(value) for value in\n",
    "                     cfm.flatten()/np.sum(cfm)]\n",
    "\n",
    "    labels = [f\"{v1}\\n{v2}\\n{v3}\" for v1, v2, v3 in\n",
    "          zip(group_names,group_counts,group_percentages)]\n",
    "\n",
    "    labels = np.asarray(labels).reshape(2,2)\n",
    "    plt.title(title)\n",
    "    \n",
    "    sns.heatmap(cfm, annot=labels, fmt=\"\", cmap='Blues')\n",
    "    plt.ylabel('True Label', fontsize=12)\n",
    "    plt.xlabel('Predicted',fontsize=12)"
   ]
  },
  {
   "cell_type": "code",
   "execution_count": 36,
   "id": "b81b835c-c187-48ff-a7a8-ab331b6be500",
   "metadata": {},
   "outputs": [],
   "source": [
    "from sklearn.metrics import roc_curve,auc\n",
    "\n",
    "def plot_roc_curve(y_test, prediction, name_model):\n",
    "    test_fpr, test_tpr, te_thresholds = roc_curve(y_test, prediction)\n",
    "\n",
    "    plt.grid()\n",
    "    auc_score = round(auc(test_fpr, test_tpr),2)\n",
    "    plt.plot(test_fpr, test_tpr, label=f\"{name_model} - AUC =\"+ str(auc_score))\n",
    "    plt.plot([0,1],[0,1],'r--')\n",
    "    plt.legend()\n",
    "    plt.xlabel(\"True Positive Rate\")\n",
    "    plt.ylabel(\"False Positive Rate\")\n",
    "    plt.title(f\" AUC(ROC curve) - {name_model}\")\n",
    "    plt.grid(color='black', linestyle='', linewidth=0.5)\n",
    "    plt.show()"
   ]
  },
  {
   "cell_type": "code",
   "execution_count": 37,
   "id": "0e4623a6-3adf-46b7-a45d-c085c7a37aa5",
   "metadata": {},
   "outputs": [],
   "source": [
    "df = pd.read_csv('../data/alldata-balanced-cleaned.zip', compression='zip')\n",
    "data = 'tokenized_stemmed'\n",
    "target = 'toxicity'"
   ]
  },
  {
   "cell_type": "code",
   "execution_count": 38,
   "id": "d8a30064-ffdc-44a1-83aa-073d04fb1fa0",
   "metadata": {},
   "outputs": [
    {
     "data": {
      "text/html": [
       "<div>\n",
       "<style scoped>\n",
       "    .dataframe tbody tr th:only-of-type {\n",
       "        vertical-align: middle;\n",
       "    }\n",
       "\n",
       "    .dataframe tbody tr th {\n",
       "        vertical-align: top;\n",
       "    }\n",
       "\n",
       "    .dataframe thead th {\n",
       "        text-align: right;\n",
       "    }\n",
       "</style>\n",
       "<table border=\"1\" class=\"dataframe\">\n",
       "  <thead>\n",
       "    <tr style=\"text-align: right;\">\n",
       "      <th></th>\n",
       "      <th>id</th>\n",
       "      <th>comment_text</th>\n",
       "      <th>toxic</th>\n",
       "      <th>severe_toxic</th>\n",
       "      <th>obscene</th>\n",
       "      <th>threat</th>\n",
       "      <th>insult</th>\n",
       "      <th>identity_hate</th>\n",
       "      <th>clean_text</th>\n",
       "      <th>tokenized</th>\n",
       "      <th>tokenized_no_stopwords</th>\n",
       "      <th>tokenized_stemmed</th>\n",
       "      <th>tokenized_pos</th>\n",
       "      <th>tokenized_lemmatized</th>\n",
       "      <th>tokenized_lemmatized_pos</th>\n",
       "      <th>tokenized_bigram</th>\n",
       "      <th>toxicity</th>\n",
       "    </tr>\n",
       "  </thead>\n",
       "  <tbody>\n",
       "    <tr>\n",
       "      <th>0</th>\n",
       "      <td>144abb9156acc835</td>\n",
       "      <td>\"\\nFor what it's worth, I suggest you refrain ...</td>\n",
       "      <td>0</td>\n",
       "      <td>0</td>\n",
       "      <td>0</td>\n",
       "      <td>0</td>\n",
       "      <td>0</td>\n",
       "      <td>0</td>\n",
       "      <td>for what it is worth i suggest you refrain fr...</td>\n",
       "      <td>['for', 'what', 'it', 'is', 'worth', 'i', 'sug...</td>\n",
       "      <td>['worth', 'suggest', 'refrain', 'pushing', 'so...</td>\n",
       "      <td>['worth', 'suggest', 'refrain', 'push', 'sock'...</td>\n",
       "      <td>[('worth', 'JJ'), ('suggest', 'JJS'), ('refrai...</td>\n",
       "      <td>['worth', 'suggest', 'refrain', 'pushing', 'so...</td>\n",
       "      <td>['worth', 'suggest', 'refrain', 'push', 'sock'...</td>\n",
       "      <td>[('worth', 'suggest'), ('suggest', 'refrain'),...</td>\n",
       "      <td>0</td>\n",
       "    </tr>\n",
       "    <tr>\n",
       "      <th>1</th>\n",
       "      <td>d4d3e9ee9facbe91</td>\n",
       "      <td>I have noticed you STILL haven't responded? I ...</td>\n",
       "      <td>0</td>\n",
       "      <td>0</td>\n",
       "      <td>0</td>\n",
       "      <td>0</td>\n",
       "      <td>0</td>\n",
       "      <td>0</td>\n",
       "      <td>i have noticed you still have not responded i ...</td>\n",
       "      <td>['i', 'have', 'noticed', 'you', 'still', 'have...</td>\n",
       "      <td>['noticed', 'still', 'responded', 'file', 'for...</td>\n",
       "      <td>['notic', 'still', 'respond', 'file', 'formal'...</td>\n",
       "      <td>[('noticed', 'VBN'), ('still', 'RB'), ('respon...</td>\n",
       "      <td>['noticed', 'still', 'responded', 'file', 'for...</td>\n",
       "      <td>['notice', 'still', 'respond', 'file', 'formal...</td>\n",
       "      <td>[('noticed', 'still'), ('still', 'responded'),...</td>\n",
       "      <td>0</td>\n",
       "    </tr>\n",
       "    <tr>\n",
       "      <th>2</th>\n",
       "      <td>da223e53f7097ea6</td>\n",
       "      <td>::The statement at the lead of the article, 'T...</td>\n",
       "      <td>0</td>\n",
       "      <td>0</td>\n",
       "      <td>0</td>\n",
       "      <td>0</td>\n",
       "      <td>0</td>\n",
       "      <td>0</td>\n",
       "      <td>the statement at the lead of the article the b...</td>\n",
       "      <td>['the', 'statement', 'at', 'the', 'lead', 'of'...</td>\n",
       "      <td>['statement', 'lead', 'article', 'bedrock', 'c...</td>\n",
       "      <td>['statement', 'lead', 'articl', 'bedrock', 'ce...</td>\n",
       "      <td>[('statement', 'NN'), ('lead', 'NN'), ('articl...</td>\n",
       "      <td>['statement', 'lead', 'article', 'bedrock', 'c...</td>\n",
       "      <td>['statement', 'lead', 'article', 'bedrock', 'c...</td>\n",
       "      <td>[('statement', 'lead'), ('lead', 'article'), (...</td>\n",
       "      <td>0</td>\n",
       "    </tr>\n",
       "    <tr>\n",
       "      <th>3</th>\n",
       "      <td>53d465a2cca996d7</td>\n",
       "      <td>\"\\n\\nan FYI\\nI understand completely why you d...</td>\n",
       "      <td>0</td>\n",
       "      <td>0</td>\n",
       "      <td>0</td>\n",
       "      <td>0</td>\n",
       "      <td>0</td>\n",
       "      <td>0</td>\n",
       "      <td>an fyi i understand completely why you delete...</td>\n",
       "      <td>['an', 'fyi', 'i', 'understand', 'completely',...</td>\n",
       "      <td>['fyi', 'understand', 'completely', 'deleted',...</td>\n",
       "      <td>['fyi', 'understand', 'complet', 'delet', 'sec...</td>\n",
       "      <td>[('fyi', 'NN'), ('understand', 'VBP'), ('compl...</td>\n",
       "      <td>['fyi', 'understand', 'completely', 'deleted',...</td>\n",
       "      <td>['fyi', 'understand', 'completely', 'delete', ...</td>\n",
       "      <td>[('fyi', 'understand'), ('understand', 'comple...</td>\n",
       "      <td>0</td>\n",
       "    </tr>\n",
       "    <tr>\n",
       "      <th>4</th>\n",
       "      <td>96c840eda4dc9ee7</td>\n",
       "      <td>interestingly, if you go look at Eek's talk pa...</td>\n",
       "      <td>0</td>\n",
       "      <td>0</td>\n",
       "      <td>0</td>\n",
       "      <td>0</td>\n",
       "      <td>0</td>\n",
       "      <td>0</td>\n",
       "      <td>interestingly if you go look at eeks talk page...</td>\n",
       "      <td>['interestingly', 'if', 'you', 'go', 'look', '...</td>\n",
       "      <td>['interestingly', 'go', 'look', 'eeks', 'talk'...</td>\n",
       "      <td>['interestingli', 'go', 'look', 'eek', 'talk',...</td>\n",
       "      <td>[('interestingly', 'RB'), ('go', 'VB'), ('look...</td>\n",
       "      <td>['interestingly', 'go', 'look', 'eeks', 'talk'...</td>\n",
       "      <td>['interestingly', 'go', 'look', 'eeks', 'talk'...</td>\n",
       "      <td>[('interestingly', 'go'), ('go', 'look'), ('lo...</td>\n",
       "      <td>0</td>\n",
       "    </tr>\n",
       "  </tbody>\n",
       "</table>\n",
       "</div>"
      ],
      "text/plain": [
       "                 id                                       comment_text  toxic  \\\n",
       "0  144abb9156acc835  \"\\nFor what it's worth, I suggest you refrain ...      0   \n",
       "1  d4d3e9ee9facbe91  I have noticed you STILL haven't responded? I ...      0   \n",
       "2  da223e53f7097ea6  ::The statement at the lead of the article, 'T...      0   \n",
       "3  53d465a2cca996d7  \"\\n\\nan FYI\\nI understand completely why you d...      0   \n",
       "4  96c840eda4dc9ee7  interestingly, if you go look at Eek's talk pa...      0   \n",
       "\n",
       "   severe_toxic  obscene  threat  insult  identity_hate  \\\n",
       "0             0        0       0       0              0   \n",
       "1             0        0       0       0              0   \n",
       "2             0        0       0       0              0   \n",
       "3             0        0       0       0              0   \n",
       "4             0        0       0       0              0   \n",
       "\n",
       "                                          clean_text  \\\n",
       "0   for what it is worth i suggest you refrain fr...   \n",
       "1  i have noticed you still have not responded i ...   \n",
       "2  the statement at the lead of the article the b...   \n",
       "3   an fyi i understand completely why you delete...   \n",
       "4  interestingly if you go look at eeks talk page...   \n",
       "\n",
       "                                           tokenized  \\\n",
       "0  ['for', 'what', 'it', 'is', 'worth', 'i', 'sug...   \n",
       "1  ['i', 'have', 'noticed', 'you', 'still', 'have...   \n",
       "2  ['the', 'statement', 'at', 'the', 'lead', 'of'...   \n",
       "3  ['an', 'fyi', 'i', 'understand', 'completely',...   \n",
       "4  ['interestingly', 'if', 'you', 'go', 'look', '...   \n",
       "\n",
       "                              tokenized_no_stopwords  \\\n",
       "0  ['worth', 'suggest', 'refrain', 'pushing', 'so...   \n",
       "1  ['noticed', 'still', 'responded', 'file', 'for...   \n",
       "2  ['statement', 'lead', 'article', 'bedrock', 'c...   \n",
       "3  ['fyi', 'understand', 'completely', 'deleted',...   \n",
       "4  ['interestingly', 'go', 'look', 'eeks', 'talk'...   \n",
       "\n",
       "                                   tokenized_stemmed  \\\n",
       "0  ['worth', 'suggest', 'refrain', 'push', 'sock'...   \n",
       "1  ['notic', 'still', 'respond', 'file', 'formal'...   \n",
       "2  ['statement', 'lead', 'articl', 'bedrock', 'ce...   \n",
       "3  ['fyi', 'understand', 'complet', 'delet', 'sec...   \n",
       "4  ['interestingli', 'go', 'look', 'eek', 'talk',...   \n",
       "\n",
       "                                       tokenized_pos  \\\n",
       "0  [('worth', 'JJ'), ('suggest', 'JJS'), ('refrai...   \n",
       "1  [('noticed', 'VBN'), ('still', 'RB'), ('respon...   \n",
       "2  [('statement', 'NN'), ('lead', 'NN'), ('articl...   \n",
       "3  [('fyi', 'NN'), ('understand', 'VBP'), ('compl...   \n",
       "4  [('interestingly', 'RB'), ('go', 'VB'), ('look...   \n",
       "\n",
       "                                tokenized_lemmatized  \\\n",
       "0  ['worth', 'suggest', 'refrain', 'pushing', 'so...   \n",
       "1  ['noticed', 'still', 'responded', 'file', 'for...   \n",
       "2  ['statement', 'lead', 'article', 'bedrock', 'c...   \n",
       "3  ['fyi', 'understand', 'completely', 'deleted',...   \n",
       "4  ['interestingly', 'go', 'look', 'eeks', 'talk'...   \n",
       "\n",
       "                            tokenized_lemmatized_pos  \\\n",
       "0  ['worth', 'suggest', 'refrain', 'push', 'sock'...   \n",
       "1  ['notice', 'still', 'respond', 'file', 'formal...   \n",
       "2  ['statement', 'lead', 'article', 'bedrock', 'c...   \n",
       "3  ['fyi', 'understand', 'completely', 'delete', ...   \n",
       "4  ['interestingly', 'go', 'look', 'eeks', 'talk'...   \n",
       "\n",
       "                                    tokenized_bigram  toxicity  \n",
       "0  [('worth', 'suggest'), ('suggest', 'refrain'),...         0  \n",
       "1  [('noticed', 'still'), ('still', 'responded'),...         0  \n",
       "2  [('statement', 'lead'), ('lead', 'article'), (...         0  \n",
       "3  [('fyi', 'understand'), ('understand', 'comple...         0  \n",
       "4  [('interestingly', 'go'), ('go', 'look'), ('lo...         0  "
      ]
     },
     "execution_count": 38,
     "metadata": {},
     "output_type": "execute_result"
    }
   ],
   "source": [
    "df.head()"
   ]
  },
  {
   "cell_type": "code",
   "execution_count": 39,
   "id": "75db4eda-4f06-469d-b48c-e7107e6ad954",
   "metadata": {},
   "outputs": [
    {
     "data": {
      "text/plain": [
       "0    22468\n",
       "1    22468\n",
       "Name: toxicity, dtype: int64"
      ]
     },
     "execution_count": 39,
     "metadata": {},
     "output_type": "execute_result"
    }
   ],
   "source": [
    "df[target].value_counts()"
   ]
  },
  {
   "cell_type": "markdown",
   "id": "0dcfe3ee-dcb8-4fa9-a7cb-36b075460132",
   "metadata": {},
   "source": [
    "## Split Data"
   ]
  },
  {
   "cell_type": "code",
   "execution_count": 40,
   "id": "42f4e902-6f42-4bed-b058-a60ebba1bccc",
   "metadata": {},
   "outputs": [],
   "source": [
    "X_train, X_test, y_train, y_test = train_test_split(df[data], df[target], test_size=0.30, random_state=42, stratify=df[target]) \n",
    "X_train = X_train.apply(lambda x: literal_eval(x))\n",
    "X_test = X_test.apply(lambda x: literal_eval(x))"
   ]
  },
  {
   "cell_type": "code",
   "execution_count": 41,
   "id": "0beceb52-11e3-472a-aff0-a705787bdea8",
   "metadata": {},
   "outputs": [
    {
     "name": "stdout",
     "output_type": "stream",
     "text": [
      "Training set\n",
      "1    15728\n",
      "0    15727\n",
      "Name: toxicity, dtype: int64\n",
      "\n",
      "Test set\n",
      "0    6741\n",
      "1    6740\n",
      "Name: toxicity, dtype: int64\n",
      "\n"
     ]
    }
   ],
   "source": [
    "print(f\"Training set\\n{y_train.value_counts()}\\n\")\n",
    "print(f\"Test set\\n{y_test.value_counts()}\\n\")"
   ]
  },
  {
   "cell_type": "markdown",
   "id": "1deaa2a2-14c2-4fd4-9874-c5b0ba62815c",
   "metadata": {},
   "source": [
    "## Support Vector Machine Classifiers - Hard Margin"
   ]
  },
  {
   "cell_type": "code",
   "execution_count": 42,
   "id": "85598508-7dca-4c42-9aa6-db4038e85d1b",
   "metadata": {},
   "outputs": [],
   "source": [
    "#help(LinearSVC)"
   ]
  },
  {
   "cell_type": "code",
   "execution_count": 45,
   "id": "7f1307a8-ca4e-42aa-b472-d4823f044b57",
   "metadata": {},
   "outputs": [],
   "source": [
    "lsvc_pipeline = Pipeline([\n",
    "    ('vect', CountVectorizer(min_df=5, max_features=15000, analyzer=lambda x: x)),  \n",
    "    ('tfidf', TfidfTransformer()),  \n",
    "    ('clf-svc', LinearSVC(dual=False,class_weight='balanced', random_state=42))])"
   ]
  },
  {
   "cell_type": "code",
   "execution_count": 46,
   "id": "b4680aff-7687-48ac-8ec7-c9aedcec0670",
   "metadata": {},
   "outputs": [
    {
     "data": {
      "text/plain": [
       "Pipeline(steps=[('vect',\n",
       "                 CountVectorizer(analyzer=<function <lambda> at 0x7fc5167c6310>,\n",
       "                                 max_features=15000, min_df=5)),\n",
       "                ('tfidf', TfidfTransformer()),\n",
       "                ('clf-svc',\n",
       "                 LinearSVC(class_weight='balanced', dual=False,\n",
       "                           random_state=42))])"
      ]
     },
     "execution_count": 46,
     "metadata": {},
     "output_type": "execute_result"
    }
   ],
   "source": [
    "lsvc_pipeline.fit(X_train,y_train)"
   ]
  },
  {
   "cell_type": "code",
   "execution_count": 47,
   "id": "6a8c6adb-fac9-490f-947f-057d3b8f39ed",
   "metadata": {},
   "outputs": [
    {
     "name": "stdout",
     "output_type": "stream",
     "text": [
      "              precision    recall  f1-score   support\n",
      "\n",
      "           0       0.88      0.91      0.89      6741\n",
      "           1       0.91      0.87      0.89      6740\n",
      "\n",
      "    accuracy                           0.89     13481\n",
      "   macro avg       0.89      0.89      0.89     13481\n",
      "weighted avg       0.89      0.89      0.89     13481\n",
      "\n"
     ]
    }
   ],
   "source": [
    "y_pred = lsvc_pipeline.predict(X_test)\n",
    "print(classification_report(y_test,y_pred ))"
   ]
  },
  {
   "cell_type": "code",
   "execution_count": 48,
   "id": "25f94e31-af5e-4d39-80c2-09fcd3f1a1ff",
   "metadata": {},
   "outputs": [
    {
     "data": {
      "image/png": "[encoded data removed]",
      "text/plain": [
       "<Figure size 432x288 with 2 Axes>"
      ]
     },
     "metadata": {
      "needs_background": "light"
     },
     "output_type": "display_data"
    }
   ],
   "source": [
    "cf_matrix = confusion_matrix(y_test, y_pred)\n",
    "make_confusion_matrix(cf_matrix, 'Linear SVM Hard Margin - Confusion Matrix')"
   ]
  },
  {
   "cell_type": "code",
   "execution_count": 49,
   "id": "1cc8eb52-3198-48c1-a2ab-3e168804fd15",
   "metadata": {},
   "outputs": [
    {
     "data": {
      "image/png": "[encoded data removed]",
      "text/plain": [
       "<Figure size 432x288 with 1 Axes>"
      ]
     },
     "metadata": {
      "needs_background": "light"
     },
     "output_type": "display_data"
    }
   ],
   "source": [
    "plot_roc_curve(y_test, y_pred, 'Linear SVM')"
   ]
  },
  {
   "cell_type": "markdown",
   "id": "c201d868-d56d-48dd-a49a-8aa94d210e46",
   "metadata": {},
   "source": [
    "### SVM: Coarse GridSearch"
   ]
  },
  {
   "cell_type": "code",
   "execution_count": 50,
   "id": "d7892de8-d940-47be-8b0f-9dc6b603f718",
   "metadata": {},
   "outputs": [],
   "source": [
    "lsvc_pipeline = Pipeline([\n",
    "    ('vect', CountVectorizer(min_df=5, max_features=15000, analyzer=lambda x: x)),   \n",
    "    ('tfidf', TfidfTransformer()),  \n",
    "    ('clf-svc', LinearSVC(dual=False,class_weight='balanced', random_state=42))])"
   ]
  },
  {
   "cell_type": "code",
   "execution_count": 51,
   "id": "e252cf48-d2de-4c11-b321-4ee512e58dc0",
   "metadata": {},
   "outputs": [],
   "source": [
    "params = {'vect__ngram_range': [(1, 1), (1, 2)],\n",
    "          'tfidf__use_idf': (True, False),\n",
    "          'clf-svc__C': [0.2, 0.5, 1, 2, 3, 5, 10, 100],\n",
    "         }"
   ]
  },
  {
   "cell_type": "code",
   "execution_count": 52,
   "id": "af247d03-833d-42c9-9fe7-a7839fdcd9d5",
   "metadata": {},
   "outputs": [],
   "source": [
    "gs = GridSearchCV(estimator=lsvc_pipeline, param_grid=params, n_jobs=-1, cv=4)\n",
    "gs_results = gs.fit(X_train, y_train)"
   ]
  },
  {
   "cell_type": "code",
   "execution_count": 53,
   "id": "28e9236d-a704-463c-a7ce-35a68fd6d0c8",
   "metadata": {},
   "outputs": [
    {
     "name": "stdout",
     "output_type": "stream",
     "text": [
      "best parameters:\n",
      "{'clf-svc__C': 0.5, 'tfidf__use_idf': False, 'vect__ngram_range': (1, 1)}\n",
      "accuracy: 0.895342491890305\n"
     ]
    }
   ],
   "source": [
    "print(f\"best parameters:\\n{gs_results.best_params_}\\naccuracy: {gs_results.best_score_}\")"
   ]
  },
  {
   "cell_type": "markdown",
   "id": "eabe4dc2-d3ac-401b-8674-d01068326480",
   "metadata": {
    "tags": []
   },
   "source": [
    "### SVM: Fine GrideSearch"
   ]
  },
  {
   "cell_type": "code",
   "execution_count": 54,
   "id": "10394943-5ede-4fe4-a8d0-7803ce0f62c6",
   "metadata": {},
   "outputs": [],
   "source": [
    "# Fine Random search for C parameter in Linear SVM\n",
    "params = {'vect__ngram_range': [(1,1),(1, 2)],\n",
    "          'tfidf__use_idf': (True, False),\n",
    "          'clf-svc__C': list(np.arange(0.3,0.8,0.01)),\n",
    "         }"
   ]
  },
  {
   "cell_type": "code",
   "execution_count": 55,
   "id": "afea8b82-919a-4bcd-a4b9-eac469292c62",
   "metadata": {},
   "outputs": [],
   "source": [
    "gs = GridSearchCV(estimator=lsvc_pipeline, param_grid=params, n_jobs=-1, cv=4)\n",
    "gs_results = gs.fit(X_train, y_train)"
   ]
  },
  {
   "cell_type": "code",
   "execution_count": 56,
   "id": "dc6996ee-b2b7-4dd6-aa96-d790e6ce7406",
   "metadata": {},
   "outputs": [
    {
     "name": "stdout",
     "output_type": "stream",
     "text": [
      "best parameters:\n",
      "{'clf-svc__C': 0.4300000000000001, 'tfidf__use_idf': False, 'vect__ngram_range': (1, 1)}\n",
      "accuracy: 0.8959783248972841\n"
     ]
    }
   ],
   "source": [
    "print(f\"best parameters:\\n{gs_results.best_params_}\\naccuracy: {gs_results.best_score_}\")"
   ]
  },
  {
   "cell_type": "markdown",
   "id": "2a086d4e-6a00-4329-a8e7-8182585dad13",
   "metadata": {},
   "source": [
    "### Retrain and test the model"
   ]
  },
  {
   "cell_type": "code",
   "execution_count": 58,
   "id": "1ed24bc7-7b80-43f8-8f5d-9b0d5d4e19e8",
   "metadata": {},
   "outputs": [],
   "source": [
    "lsvc_pipeline = Pipeline([\n",
    "    ('vect', CountVectorizer(min_df=5, max_features=15000, analyzer=lambda x: x, ngram_range=(1, 2))),\n",
    "    ('tfidf', TfidfTransformer(use_idf=False)),  \n",
    "    ('clf-svc', LinearSVC(C=0.43 ,class_weight='balanced', random_state=42))])"
   ]
  },
  {
   "cell_type": "code",
   "execution_count": 59,
   "id": "9d357726-6dc6-4155-b65c-5ed7a6a7a1cf",
   "metadata": {},
   "outputs": [
    {
     "data": {
      "text/plain": [
       "Pipeline(steps=[('vect',\n",
       "                 CountVectorizer(analyzer=<function <lambda> at 0x7fc4e5b098b0>,\n",
       "                                 max_features=15000, min_df=5,\n",
       "                                 ngram_range=(1, 2))),\n",
       "                ('tfidf', TfidfTransformer(use_idf=False)),\n",
       "                ('clf-svc',\n",
       "                 LinearSVC(C=0.43, class_weight='balanced', random_state=42))])"
      ]
     },
     "execution_count": 59,
     "metadata": {},
     "output_type": "execute_result"
    }
   ],
   "source": [
    "lsvc_pipeline.fit(X_train,y_train)"
   ]
  },
  {
   "cell_type": "code",
   "execution_count": 60,
   "id": "03b3ac6d-a244-4f20-a12b-a67de5118196",
   "metadata": {},
   "outputs": [
    {
     "name": "stdout",
     "output_type": "stream",
     "text": [
      "              precision    recall  f1-score   support\n",
      "\n",
      "           0       0.88      0.92      0.90      6741\n",
      "           1       0.92      0.87      0.89      6740\n",
      "\n",
      "    accuracy                           0.90     13481\n",
      "   macro avg       0.90      0.90      0.90     13481\n",
      "weighted avg       0.90      0.90      0.90     13481\n",
      "\n"
     ]
    }
   ],
   "source": [
    "y_pred = lsvc_pipeline.predict(X_test)\n",
    "print(classification_report(y_test, y_pred))"
   ]
  },
  {
   "cell_type": "code",
   "execution_count": 61,
   "id": "1f7fdc51-00a8-4a5d-99aa-716fa57310cc",
   "metadata": {},
   "outputs": [
    {
     "data": {
      "image/png": "[encoded data removed]",
      "text/plain": [
       "<Figure size 432x288 with 2 Axes>"
      ]
     },
     "metadata": {
      "needs_background": "light"
     },
     "output_type": "display_data"
    }
   ],
   "source": [
    "cf_matrix_soft = confusion_matrix(y_test, y_pred)\n",
    "make_confusion_matrix(cf_matrix_soft, 'Linear SVM Soft Margin - Confusion Matrix')"
   ]
  },
  {
   "cell_type": "code",
   "execution_count": 62,
   "id": "2e114ebd-52f5-44ad-9a36-9c8d34e52b7a",
   "metadata": {},
   "outputs": [
    {
     "data": {
      "image/png": "[encoded data removed]",
      "text/plain": [
       "<Figure size 432x288 with 1 Axes>"
      ]
     },
     "metadata": {
      "needs_background": "light"
     },
     "output_type": "display_data"
    }
   ],
   "source": [
    "plot_roc_curve(y_test, y_pred, 'Linear SVM')"
   ]
  },
  {
   "cell_type": "code",
   "execution_count": null,
   "id": "bd278820-7aa1-4c37-a644-7337f920e676",
   "metadata": {},
   "outputs": [],
   "source": []
  },
  {
   "cell_type": "code",
   "execution_count": null,
   "id": "089798eb-3805-4c76-a114-14ac57eaaeef",
   "metadata": {},
   "outputs": [],
   "source": []
  }
 ],
 "metadata": {
  "kernelspec": {
   "display_name": "Python 3 (ipykernel)",
   "language": "python",
   "name": "python3"
  },
  "language_info": {
   "codemirror_mode": {
    "name": "ipython",
    "version": 3
   },
   "file_extension": ".py",
   "mimetype": "text/x-python",
   "name": "python",
   "nbconvert_exporter": "python",
   "pygments_lexer": "ipython3",
   "version": "3.9.7"
  }
 },
 "nbformat": 4,
 "nbformat_minor": 5
}
