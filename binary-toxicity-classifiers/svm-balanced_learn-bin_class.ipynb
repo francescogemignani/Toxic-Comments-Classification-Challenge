{
 "cells": [
  {
   "cell_type": "markdown",
   "id": "e74718ff-fbf3-4e90-9c2a-d32a49a22d81",
   "metadata": {},
   "source": [
    "## SVM Binary Toxic Classifier - Balanced learning"
   ]
  },
  {
   "cell_type": "code",
   "execution_count": 1,
   "id": "c64dc395-db77-4db8-9fbe-949c34967b5a",
   "metadata": {},
   "outputs": [],
   "source": [
    "import pandas as pd\n",
    "import numpy as np\n",
    "import seaborn as sns\n",
    "import matplotlib.pyplot as plt\n",
    "\n",
    "from sklearn.model_selection import train_test_split\n",
    "from imblearn.under_sampling import RandomUnderSampler\n",
    "from sklearn.feature_extraction.text import TfidfVectorizer\n",
    "from sklearn.svm import LinearSVC\n",
    "from sklearn.model_selection import GridSearchCV\n",
    "from sklearn.feature_extraction.text import CountVectorizer, TfidfTransformer\n",
    "from sklearn.pipeline import Pipeline\n",
    "from sklearn.metrics import confusion_matrix, classification_report"
   ]
  },
  {
   "cell_type": "code",
   "execution_count": 2,
   "id": "99a90911-57df-4b2e-b7a8-11863a877c2c",
   "metadata": {},
   "outputs": [],
   "source": [
    "# utility function\n",
    "def make_confusion_matrix( cfm, title):\n",
    "    group_names = ['TN','FP','FN','TP']\n",
    "\n",
    "    group_counts = [\"{0:0.0f}\".format(value) for value in\n",
    "                cfm.flatten()]\n",
    "\n",
    "    group_percentages = [\"{0:.2%}\".format(value) for value in\n",
    "                     cfm.flatten()/np.sum(cfm)]\n",
    "\n",
    "    labels = [f\"{v1}\\n{v2}\\n{v3}\" for v1, v2, v3 in\n",
    "          zip(group_names,group_counts,group_percentages)]\n",
    "\n",
    "    labels = np.asarray(labels).reshape(2,2)\n",
    "    plt.title(title)\n",
    "    \n",
    "    sns.heatmap(cfm, annot=labels, fmt=\"\", cmap='Blues')\n",
    "    plt.ylabel('True Label', fontsize=12)\n",
    "    plt.xlabel('Predicted',fontsize=12)"
   ]
  },
  {
   "cell_type": "code",
   "execution_count": 3,
   "id": "b81b835c-c187-48ff-a7a8-ab331b6be500",
   "metadata": {},
   "outputs": [],
   "source": [
    "from sklearn.metrics import roc_curve,auc\n",
    "\n",
    "def plot_roc_curve(y_test, prediction, name_model):\n",
    "    test_fpr, test_tpr, te_thresholds = roc_curve(y_test, prediction)\n",
    "\n",
    "    plt.grid()\n",
    "    auc_score = round(auc(test_fpr, test_tpr),2)\n",
    "    plt.plot(test_fpr, test_tpr, label=f\"{name_model} - AUC =\"+ str(auc_score))\n",
    "    plt.plot([0,1],[0,1],'r--')\n",
    "    plt.legend()\n",
    "    plt.xlabel(\"True Positive Rate\")\n",
    "    plt.ylabel(\"False Positive Rate\")\n",
    "    plt.title(f\" AUC(ROC curve) - {name_model}\")\n",
    "    plt.grid(color='black', linestyle='', linewidth=0.5)\n",
    "    plt.show()"
   ]
  },
  {
   "cell_type": "code",
   "execution_count": 4,
   "id": "0e4623a6-3adf-46b7-a45d-c085c7a37aa5",
   "metadata": {},
   "outputs": [],
   "source": [
    "df = pd.read_csv('../data/alldata-balanced-cleaned.zip', compression='zip')\n",
    "data = 'tokenized_stemmed'\n",
    "target = 'toxicity'"
   ]
  },
  {
   "cell_type": "code",
   "execution_count": 5,
   "id": "d8a30064-ffdc-44a1-83aa-073d04fb1fa0",
   "metadata": {},
   "outputs": [
    {
     "data": {
      "text/html": [
       "<div>\n",
       "<style scoped>\n",
       "    .dataframe tbody tr th:only-of-type {\n",
       "        vertical-align: middle;\n",
       "    }\n",
       "\n",
       "    .dataframe tbody tr th {\n",
       "        vertical-align: top;\n",
       "    }\n",
       "\n",
       "    .dataframe thead th {\n",
       "        text-align: right;\n",
       "    }\n",
       "</style>\n",
       "<table border=\"1\" class=\"dataframe\">\n",
       "  <thead>\n",
       "    <tr style=\"text-align: right;\">\n",
       "      <th></th>\n",
       "      <th>id</th>\n",
       "      <th>comment_text</th>\n",
       "      <th>clean_text</th>\n",
       "      <th>tokenized</th>\n",
       "      <th>tokenized_no_stopwords</th>\n",
       "      <th>tokenized_stemmed</th>\n",
       "      <th>tokenized_pos</th>\n",
       "      <th>tokenized_lemmatized</th>\n",
       "      <th>tokenized_lemmatized_pos</th>\n",
       "      <th>tokenized_bigram</th>\n",
       "      <th>toxicity</th>\n",
       "    </tr>\n",
       "  </thead>\n",
       "  <tbody>\n",
       "    <tr>\n",
       "      <th>0</th>\n",
       "      <td>c0946290dc76ce60</td>\n",
       "      <td>your buddy tyto alba is much more friendly, pe...</td>\n",
       "      <td>your buddy tyto alba is much more friendly peh...</td>\n",
       "      <td>['your', 'buddy', 'tyto', 'alba', 'is', 'much'...</td>\n",
       "      <td>['buddy', 'tyto', 'alba', 'much', 'friendly', ...</td>\n",
       "      <td>['buddi', 'tyto', 'alba', 'much', 'friendli', ...</td>\n",
       "      <td>[('buddy', 'NN'), ('tyto', 'NN'), ('alba', 'RB...</td>\n",
       "      <td>['buddy', 'tyto', 'alba', 'much', 'friendly', ...</td>\n",
       "      <td>['buddy', 'tyto', 'alba', 'much', 'friendly', ...</td>\n",
       "      <td>[('buddy', 'tyto'), ('tyto', 'alba'), ('alba',...</td>\n",
       "      <td>0</td>\n",
       "    </tr>\n",
       "    <tr>\n",
       "      <th>1</th>\n",
       "      <td>9f7132cdba6829e6</td>\n",
       "      <td>\" \\n\\n == \"\"Reception\"\" 6 June 2013 == \\n\\n I'...</td>\n",
       "      <td>reception 6 june 2013    i have added back...</td>\n",
       "      <td>['reception', '6', 'june', '2013', 'i', 'have'...</td>\n",
       "      <td>['reception', '6', 'june', '2013', 'added', 'b...</td>\n",
       "      <td>['recept', '6', 'june', '2013', 'ad', 'back', ...</td>\n",
       "      <td>[('reception', 'NN'), ('6', 'CD'), ('june', 'N...</td>\n",
       "      <td>['reception', '6', 'june', '2013', 'added', 'b...</td>\n",
       "      <td>['reception', '6', 'june', '2013', 'add', 'bac...</td>\n",
       "      <td>[('reception', '6'), ('6', 'june'), ('june', '...</td>\n",
       "      <td>0</td>\n",
       "    </tr>\n",
       "    <tr>\n",
       "      <th>2</th>\n",
       "      <td>92ce6baadfc370c8</td>\n",
       "      <td>In an older interview, Ogre described the musi...</td>\n",
       "      <td>in an older interview ogre described the music...</td>\n",
       "      <td>['in', 'an', 'older', 'interview', 'ogre', 'de...</td>\n",
       "      <td>['older', 'interview', 'ogre', 'described', 'm...</td>\n",
       "      <td>['older', 'interview', 'ogr', 'describ', 'musi...</td>\n",
       "      <td>[('older', 'JJR'), ('interview', 'NN'), ('ogre...</td>\n",
       "      <td>['older', 'interview', 'ogre', 'described', 'm...</td>\n",
       "      <td>['old', 'interview', 'ogre', 'described', 'mus...</td>\n",
       "      <td>[('older', 'interview'), ('interview', 'ogre')...</td>\n",
       "      <td>0</td>\n",
       "    </tr>\n",
       "    <tr>\n",
       "      <th>3</th>\n",
       "      <td>d5115e451e7bd281</td>\n",
       "      <td>== TFM == \\n\\n Good thinking. Gosh this is a m...</td>\n",
       "      <td>tfm    good thinking gosh this is a mess do n...</td>\n",
       "      <td>['tfm', 'good', 'thinking', 'gosh', 'this', 'i...</td>\n",
       "      <td>['tfm', 'good', 'thinking', 'gosh', 'mess', 'a...</td>\n",
       "      <td>['tfm', 'good', 'think', 'gosh', 'mess', 'arti...</td>\n",
       "      <td>[('tfm', 'RB'), ('good', 'JJ'), ('thinking', '...</td>\n",
       "      <td>['tfm', 'good', 'thinking', 'gosh', 'mess', 'a...</td>\n",
       "      <td>['tfm', 'good', 'thinking', 'gosh', 'mess', 'a...</td>\n",
       "      <td>[('tfm', 'good'), ('good', 'thinking'), ('thin...</td>\n",
       "      <td>0</td>\n",
       "    </tr>\n",
       "    <tr>\n",
       "      <th>4</th>\n",
       "      <td>71407371449cfe87</td>\n",
       "      <td>== The real reason detainees should be left in...</td>\n",
       "      <td>the real reason detainees should be left in g...</td>\n",
       "      <td>['the', 'real', 'reason', 'detainees', 'should...</td>\n",
       "      <td>['real', 'reason', 'detainees', 'left', 'gitmo...</td>\n",
       "      <td>['real', 'reason', 'detaine', 'left', 'gitmo',...</td>\n",
       "      <td>[('real', 'JJ'), ('reason', 'NN'), ('detainees...</td>\n",
       "      <td>['real', 'reason', 'detainee', 'left', 'gitmo'...</td>\n",
       "      <td>['real', 'reason', 'detainee', 'leave', 'gitmo...</td>\n",
       "      <td>[('real', 'reason'), ('reason', 'detainees'), ...</td>\n",
       "      <td>0</td>\n",
       "    </tr>\n",
       "  </tbody>\n",
       "</table>\n",
       "</div>"
      ],
      "text/plain": [
       "                 id                                       comment_text  \\\n",
       "0  c0946290dc76ce60  your buddy tyto alba is much more friendly, pe...   \n",
       "1  9f7132cdba6829e6  \" \\n\\n == \"\"Reception\"\" 6 June 2013 == \\n\\n I'...   \n",
       "2  92ce6baadfc370c8  In an older interview, Ogre described the musi...   \n",
       "3  d5115e451e7bd281  == TFM == \\n\\n Good thinking. Gosh this is a m...   \n",
       "4  71407371449cfe87  == The real reason detainees should be left in...   \n",
       "\n",
       "                                          clean_text  \\\n",
       "0  your buddy tyto alba is much more friendly peh...   \n",
       "1      reception 6 june 2013    i have added back...   \n",
       "2  in an older interview ogre described the music...   \n",
       "3   tfm    good thinking gosh this is a mess do n...   \n",
       "4   the real reason detainees should be left in g...   \n",
       "\n",
       "                                           tokenized  \\\n",
       "0  ['your', 'buddy', 'tyto', 'alba', 'is', 'much'...   \n",
       "1  ['reception', '6', 'june', '2013', 'i', 'have'...   \n",
       "2  ['in', 'an', 'older', 'interview', 'ogre', 'de...   \n",
       "3  ['tfm', 'good', 'thinking', 'gosh', 'this', 'i...   \n",
       "4  ['the', 'real', 'reason', 'detainees', 'should...   \n",
       "\n",
       "                              tokenized_no_stopwords  \\\n",
       "0  ['buddy', 'tyto', 'alba', 'much', 'friendly', ...   \n",
       "1  ['reception', '6', 'june', '2013', 'added', 'b...   \n",
       "2  ['older', 'interview', 'ogre', 'described', 'm...   \n",
       "3  ['tfm', 'good', 'thinking', 'gosh', 'mess', 'a...   \n",
       "4  ['real', 'reason', 'detainees', 'left', 'gitmo...   \n",
       "\n",
       "                                   tokenized_stemmed  \\\n",
       "0  ['buddi', 'tyto', 'alba', 'much', 'friendli', ...   \n",
       "1  ['recept', '6', 'june', '2013', 'ad', 'back', ...   \n",
       "2  ['older', 'interview', 'ogr', 'describ', 'musi...   \n",
       "3  ['tfm', 'good', 'think', 'gosh', 'mess', 'arti...   \n",
       "4  ['real', 'reason', 'detaine', 'left', 'gitmo',...   \n",
       "\n",
       "                                       tokenized_pos  \\\n",
       "0  [('buddy', 'NN'), ('tyto', 'NN'), ('alba', 'RB...   \n",
       "1  [('reception', 'NN'), ('6', 'CD'), ('june', 'N...   \n",
       "2  [('older', 'JJR'), ('interview', 'NN'), ('ogre...   \n",
       "3  [('tfm', 'RB'), ('good', 'JJ'), ('thinking', '...   \n",
       "4  [('real', 'JJ'), ('reason', 'NN'), ('detainees...   \n",
       "\n",
       "                                tokenized_lemmatized  \\\n",
       "0  ['buddy', 'tyto', 'alba', 'much', 'friendly', ...   \n",
       "1  ['reception', '6', 'june', '2013', 'added', 'b...   \n",
       "2  ['older', 'interview', 'ogre', 'described', 'm...   \n",
       "3  ['tfm', 'good', 'thinking', 'gosh', 'mess', 'a...   \n",
       "4  ['real', 'reason', 'detainee', 'left', 'gitmo'...   \n",
       "\n",
       "                            tokenized_lemmatized_pos  \\\n",
       "0  ['buddy', 'tyto', 'alba', 'much', 'friendly', ...   \n",
       "1  ['reception', '6', 'june', '2013', 'add', 'bac...   \n",
       "2  ['old', 'interview', 'ogre', 'described', 'mus...   \n",
       "3  ['tfm', 'good', 'thinking', 'gosh', 'mess', 'a...   \n",
       "4  ['real', 'reason', 'detainee', 'leave', 'gitmo...   \n",
       "\n",
       "                                    tokenized_bigram  toxicity  \n",
       "0  [('buddy', 'tyto'), ('tyto', 'alba'), ('alba',...         0  \n",
       "1  [('reception', '6'), ('6', 'june'), ('june', '...         0  \n",
       "2  [('older', 'interview'), ('interview', 'ogre')...         0  \n",
       "3  [('tfm', 'good'), ('good', 'thinking'), ('thin...         0  \n",
       "4  [('real', 'reason'), ('reason', 'detainees'), ...         0  "
      ]
     },
     "execution_count": 5,
     "metadata": {},
     "output_type": "execute_result"
    }
   ],
   "source": [
    "df.head()"
   ]
  },
  {
   "cell_type": "code",
   "execution_count": 6,
   "id": "75db4eda-4f06-469d-b48c-e7107e6ad954",
   "metadata": {},
   "outputs": [
    {
     "data": {
      "text/plain": [
       "0    22468\n",
       "1    22468\n",
       "Name: toxicity, dtype: int64"
      ]
     },
     "execution_count": 6,
     "metadata": {},
     "output_type": "execute_result"
    }
   ],
   "source": [
    "df[target].value_counts()"
   ]
  },
  {
   "cell_type": "markdown",
   "id": "0dcfe3ee-dcb8-4fa9-a7cb-36b075460132",
   "metadata": {},
   "source": [
    "## Split Data"
   ]
  },
  {
   "cell_type": "code",
   "execution_count": 7,
   "id": "42f4e902-6f42-4bed-b058-a60ebba1bccc",
   "metadata": {},
   "outputs": [],
   "source": [
    "X_train, X_test, y_train, y_test = train_test_split(df[data], df[target], test_size=0.30, random_state=42, stratify=df[target]) \n"
   ]
  },
  {
   "cell_type": "code",
   "execution_count": 8,
   "id": "0beceb52-11e3-472a-aff0-a705787bdea8",
   "metadata": {},
   "outputs": [
    {
     "name": "stdout",
     "output_type": "stream",
     "text": [
      "Training set\n",
      "1    15728\n",
      "0    15727\n",
      "Name: toxicity, dtype: int64\n",
      "\n",
      "Test set\n",
      "0    6741\n",
      "1    6740\n",
      "Name: toxicity, dtype: int64\n",
      "\n"
     ]
    }
   ],
   "source": [
    "print(f\"Training set\\n{y_train.value_counts()}\\n\")\n",
    "print(f\"Test set\\n{y_test.value_counts()}\\n\")"
   ]
  },
  {
   "cell_type": "markdown",
   "id": "1deaa2a2-14c2-4fd4-9874-c5b0ba62815c",
   "metadata": {},
   "source": [
    "## Support Vector Machine Classifiers - Hard Margin"
   ]
  },
  {
   "cell_type": "code",
   "execution_count": 9,
   "id": "85598508-7dca-4c42-9aa6-db4038e85d1b",
   "metadata": {},
   "outputs": [],
   "source": [
    "#help(LinearSVC)"
   ]
  },
  {
   "cell_type": "code",
   "execution_count": 10,
   "id": "7f1307a8-ca4e-42aa-b472-d4823f044b57",
   "metadata": {},
   "outputs": [
    {
     "name": "stdout",
     "output_type": "stream",
     "text": [
      "[LibLinear]"
     ]
    },
    {
     "data": {
      "text/plain": [
       "Pipeline(steps=[('vect', CountVectorizer()), ('tfidf', TfidfTransformer()),\n",
       "                ('clf-svc',\n",
       "                 LinearSVC(class_weight='balanced', random_state=42,\n",
       "                           verbose=1))])"
      ]
     },
     "execution_count": 10,
     "metadata": {},
     "output_type": "execute_result"
    }
   ],
   "source": [
    "lsvc_pipeline = Pipeline([\n",
    "    ('vect', CountVectorizer()),  \n",
    "    ('tfidf', TfidfTransformer()),  \n",
    "    ('clf-svc', LinearSVC(class_weight='balanced', verbose=1, random_state=42))])\n",
    "\n",
    "lsvc_pipeline.fit(X_train,y_train)"
   ]
  },
  {
   "cell_type": "code",
   "execution_count": 11,
   "id": "6a8c6adb-fac9-490f-947f-057d3b8f39ed",
   "metadata": {},
   "outputs": [
    {
     "name": "stdout",
     "output_type": "stream",
     "text": [
      "              precision    recall  f1-score   support\n",
      "\n",
      "           0       0.89      0.91      0.90      6741\n",
      "           1       0.90      0.88      0.89      6740\n",
      "\n",
      "    accuracy                           0.89     13481\n",
      "   macro avg       0.89      0.89      0.89     13481\n",
      "weighted avg       0.89      0.89      0.89     13481\n",
      "\n"
     ]
    }
   ],
   "source": [
    "y_pred = lsvc_pipeline.predict(X_test)\n",
    "print(classification_report(y_test,y_pred ))"
   ]
  },
  {
   "cell_type": "code",
   "execution_count": 12,
   "id": "25f94e31-af5e-4d39-80c2-09fcd3f1a1ff",
   "metadata": {},
   "outputs": [
    {
     "data": {
      "image/png": "[encoded data removed]",
      "text/plain": [
       "<Figure size 432x288 with 2 Axes>"
      ]
     },
     "metadata": {
      "needs_background": "light"
     },
     "output_type": "display_data"
    }
   ],
   "source": [
    "cf_matrix = confusion_matrix(y_test, y_pred)\n",
    "make_confusion_matrix(cf_matrix, 'Linear SVM Hard Margin - Confusion Matrix')"
   ]
  },
  {
   "cell_type": "code",
   "execution_count": 13,
   "id": "1cc8eb52-3198-48c1-a2ab-3e168804fd15",
   "metadata": {},
   "outputs": [
    {
     "data": {
      "image/png": "[encoded data removed]",
      "text/plain": [
       "<Figure size 432x288 with 1 Axes>"
      ]
     },
     "metadata": {
      "needs_background": "light"
     },
     "output_type": "display_data"
    }
   ],
   "source": [
    "plot_roc_curve(y_test, y_pred, 'Linear SVM')"
   ]
  },
  {
   "cell_type": "markdown",
   "id": "c201d868-d56d-48dd-a49a-8aa94d210e46",
   "metadata": {},
   "source": [
    "### SVM: Coarse GridSearch"
   ]
  },
  {
   "cell_type": "code",
   "execution_count": 14,
   "id": "d7892de8-d940-47be-8b0f-9dc6b603f718",
   "metadata": {},
   "outputs": [],
   "source": [
    "lsvc_pipeline = Pipeline([\n",
    "    ('vect', CountVectorizer()),  \n",
    "    ('tfidf', TfidfTransformer()),  \n",
    "    ('clf-svc', LinearSVC(class_weight='balanced', verbose=1, random_state=42))])"
   ]
  },
  {
   "cell_type": "code",
   "execution_count": 15,
   "id": "e252cf48-d2de-4c11-b321-4ee512e58dc0",
   "metadata": {},
   "outputs": [],
   "source": [
    "params = {'vect__ngram_range': [(1, 1), (1, 2)],\n",
    "          'tfidf__use_idf': (True, False),\n",
    "          'clf-svc__C': [0.2, 0.5, 1, 2, 3, 5, 10, 100],\n",
    "         }"
   ]
  },
  {
   "cell_type": "code",
   "execution_count": 16,
   "id": "af247d03-833d-42c9-9fe7-a7839fdcd9d5",
   "metadata": {},
   "outputs": [
    {
     "name": "stdout",
     "output_type": "stream",
     "text": [
      "[LibLinear]"
     ]
    }
   ],
   "source": [
    "gs = GridSearchCV(estimator=lsvc_pipeline, param_grid=params, n_jobs=-1, cv=3)\n",
    "gs_results = gs.fit(X_train, y_train)"
   ]
  },
  {
   "cell_type": "code",
   "execution_count": 17,
   "id": "28e9236d-a704-463c-a7ce-35a68fd6d0c8",
   "metadata": {},
   "outputs": [
    {
     "name": "stdout",
     "output_type": "stream",
     "text": [
      "best parameters:\n",
      "{'clf-svc__C': 1, 'tfidf__use_idf': False, 'vect__ngram_range': (1, 2)}\n",
      "accuracy: 0.8951518041646797\n"
     ]
    }
   ],
   "source": [
    "print(f\"best parameters:\\n{gs_results.best_params_}\\naccuracy: {gs_results.best_score_}\")"
   ]
  },
  {
   "cell_type": "markdown",
   "id": "eabe4dc2-d3ac-401b-8674-d01068326480",
   "metadata": {
    "tags": []
   },
   "source": [
    "### SVM: Fine GrideSearch"
   ]
  },
  {
   "cell_type": "code",
   "execution_count": 18,
   "id": "10394943-5ede-4fe4-a8d0-7803ce0f62c6",
   "metadata": {},
   "outputs": [],
   "source": [
    "# Fine Random search for C parameter in Linear SVM\n",
    "params = {'vect__ngram_range': [(1, 1), (1, 2), (1,3)],\n",
    "          'tfidf__use_idf': (True, False),\n",
    "          'clf-svc__C': list(np.arange(0.5,1.5,0.05)),\n",
    "         }"
   ]
  },
  {
   "cell_type": "code",
   "execution_count": 19,
   "id": "afea8b82-919a-4bcd-a4b9-eac469292c62",
   "metadata": {},
   "outputs": [
    {
     "name": "stdout",
     "output_type": "stream",
     "text": [
      "[LibLinear]"
     ]
    }
   ],
   "source": [
    "gs = GridSearchCV(estimator=lsvc_pipeline, param_grid=params, n_jobs=-1, cv=3)\n",
    "gs_results = gs.fit(X_train, y_train)"
   ]
  },
  {
   "cell_type": "code",
   "execution_count": 20,
   "id": "dc6996ee-b2b7-4dd6-aa96-d790e6ce7406",
   "metadata": {},
   "outputs": [
    {
     "name": "stdout",
     "output_type": "stream",
     "text": [
      "best parameters:\n",
      "{'clf-svc__C': 0.9000000000000004, 'tfidf__use_idf': False, 'vect__ngram_range': (1, 2)}\n",
      "accuracy: 0.8954379271975839\n"
     ]
    }
   ],
   "source": [
    "print(f\"best parameters:\\n{gs_results.best_params_}\\naccuracy: {gs_results.best_score_}\")"
   ]
  },
  {
   "cell_type": "markdown",
   "id": "2a086d4e-6a00-4329-a8e7-8182585dad13",
   "metadata": {},
   "source": [
    "### Retrain and test the model"
   ]
  },
  {
   "cell_type": "code",
   "execution_count": 21,
   "id": "1ed24bc7-7b80-43f8-8f5d-9b0d5d4e19e8",
   "metadata": {},
   "outputs": [],
   "source": [
    "lsvc_pipeline = Pipeline([\n",
    "    ('vect', CountVectorizer(ngram_range=(1, 2))),  \n",
    "    ('tfidf', TfidfTransformer(use_idf=False)),  \n",
    "    ('clf-svc', LinearSVC(C=0.9000000000000004 ,class_weight='balanced', verbose=1, random_state=42))])"
   ]
  },
  {
   "cell_type": "code",
   "execution_count": 22,
   "id": "9d357726-6dc6-4155-b65c-5ed7a6a7a1cf",
   "metadata": {},
   "outputs": [
    {
     "name": "stdout",
     "output_type": "stream",
     "text": [
      "[LibLinear]"
     ]
    },
    {
     "data": {
      "text/plain": [
       "Pipeline(steps=[('vect', CountVectorizer(ngram_range=(1, 2))),\n",
       "                ('tfidf', TfidfTransformer(use_idf=False)),\n",
       "                ('clf-svc',\n",
       "                 LinearSVC(C=0.9000000000000004, class_weight='balanced',\n",
       "                           random_state=42, verbose=1))])"
      ]
     },
     "execution_count": 22,
     "metadata": {},
     "output_type": "execute_result"
    }
   ],
   "source": [
    "lsvc_pipeline.fit(X_train,y_train)"
   ]
  },
  {
   "cell_type": "code",
   "execution_count": 23,
   "id": "03b3ac6d-a244-4f20-a12b-a67de5118196",
   "metadata": {},
   "outputs": [
    {
     "name": "stdout",
     "output_type": "stream",
     "text": [
      "              precision    recall  f1-score   support\n",
      "\n",
      "           0       0.89      0.91      0.90      6741\n",
      "           1       0.91      0.89      0.90      6740\n",
      "\n",
      "    accuracy                           0.90     13481\n",
      "   macro avg       0.90      0.90      0.90     13481\n",
      "weighted avg       0.90      0.90      0.90     13481\n",
      "\n"
     ]
    }
   ],
   "source": [
    "y_pred = lsvc_pipeline.predict(X_test)\n",
    "print(classification_report(y_test, y_pred))"
   ]
  },
  {
   "cell_type": "code",
   "execution_count": 24,
   "id": "1f7fdc51-00a8-4a5d-99aa-716fa57310cc",
   "metadata": {},
   "outputs": [
    {
     "data": {
      "image/png": "[encoded data removed]",
      "text/plain": [
       "<Figure size 432x288 with 2 Axes>"
      ]
     },
     "metadata": {
      "needs_background": "light"
     },
     "output_type": "display_data"
    }
   ],
   "source": [
    "cf_matrix_soft = confusion_matrix(y_test, y_pred)\n",
    "make_confusion_matrix(cf_matrix_soft, 'Linear SVM Soft Margin - Confusion Matrix')"
   ]
  },
  {
   "cell_type": "code",
   "execution_count": 25,
   "id": "2e114ebd-52f5-44ad-9a36-9c8d34e52b7a",
   "metadata": {},
   "outputs": [
    {
     "data": {
      "image/png": "[encoded data removed]",
      "text/plain": [
       "<Figure size 432x288 with 1 Axes>"
      ]
     },
     "metadata": {
      "needs_background": "light"
     },
     "output_type": "display_data"
    }
   ],
   "source": [
    "plot_roc_curve(y_test, y_pred, 'Linear SVM')"
   ]
  },
  {
   "cell_type": "code",
   "execution_count": null,
   "id": "bd278820-7aa1-4c37-a644-7337f920e676",
   "metadata": {},
   "outputs": [],
   "source": []
  },
  {
   "cell_type": "code",
   "execution_count": null,
   "id": "089798eb-3805-4c76-a114-14ac57eaaeef",
   "metadata": {},
   "outputs": [],
   "source": []
  }
 ],
 "metadata": {
  "kernelspec": {
   "display_name": "Python 3",
   "language": "python",
   "name": "python3"
  },
  "language_info": {
   "codemirror_mode": {
    "name": "ipython",
    "version": 3
   },
   "file_extension": ".py",
   "mimetype": "text/x-python",
   "name": "python",
   "nbconvert_exporter": "python",
   "pygments_lexer": "ipython3",
   "version": "3.8.8"
  }
 },
 "nbformat": 4,
 "nbformat_minor": 5
}
