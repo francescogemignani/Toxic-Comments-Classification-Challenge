{
 "cells": [
  {
   "cell_type": "code",
   "execution_count": 1,
   "metadata": {
    "executionInfo": {
     "elapsed": 1968,
     "status": "ok",
     "timestamp": 1605684712127,
     "user": {
      "displayName": "Andrea Esuli",
      "photoUrl": "https://lh3.googleusercontent.com/a-/AOh14GjnhIEj3sHKSCLyrF914-V1YqXGRyV99nICp57ZiA=s64",
      "userId": "15085130152686293719"
     },
     "user_tz": -60
    },
    "id": "PSVe0sjlIN_k"
   },
   "outputs": [
    {
     "name": "stdout",
     "output_type": "stream",
     "text": [
      "Num GPUs Available:  1\n"
     ]
    }
   ],
   "source": [
    "import warnings\n",
    "warnings.filterwarnings(\"ignore\")\n",
    "\n",
    "import os\n",
    "os.environ['TF_CPP_MIN_LOG_LEVEL'] = '3' #Suppress Info,Warning\n",
    "\n",
    "import numpy as np\n",
    "import pandas as pd\n",
    "import tensorflow as tf\n",
    "from tensorflow import keras\n",
    "from keras.preprocessing.sequence import pad_sequences\n",
    "from keras.preprocessing.text import Tokenizer\n",
    "from keras.models import Sequential\n",
    "from keras.layers import Dense, Dropout, Activation, Input\n",
    "from keras.layers import Embedding\n",
    "from keras.layers import Conv1D, MaxPooling1D, GlobalMaxPooling1D, Flatten\n",
    "\n",
    "from sklearn.model_selection import train_test_split\n",
    "from sklearn.metrics import classification_report, multilabel_confusion_matrix, confusion_matrix, \\\n",
    "                    accuracy_score\n",
    "\n",
    "import matplotlib.pyplot as plt\n",
    "%matplotlib inline\n",
    "import seaborn as sns\n",
    "\n",
    "print(\"Num GPUs Available: \", len(tf.config.list_physical_devices('GPU')))"
   ]
  },
  {
   "cell_type": "code",
   "execution_count": 2,
   "metadata": {},
   "outputs": [],
   "source": [
    "# utility function\n",
    "def make_confusion_matrix( cfm, title):\n",
    "    group_names = ['TN','FP','FN','TP']\n",
    "\n",
    "    group_counts = [\"{0:0.0f}\".format(value) for value in\n",
    "                cfm.flatten()]\n",
    "\n",
    "    group_percentages = [\"{0:.2%}\".format(value) for value in\n",
    "                     cfm.flatten()/np.sum(cfm)]\n",
    "\n",
    "    labels = [f\"{v1}\\n{v2}\\n{v3}\" for v1, v2, v3 in\n",
    "          zip(group_names,group_counts,group_percentages)]\n",
    "\n",
    "    labels = np.asarray(labels).reshape(2,2)\n",
    "    plt.title(title)\n",
    "    \n",
    "    sns.heatmap(cfm, annot=labels, fmt=\"\", cmap='Blues')\n",
    "    plt.ylabel('True Label', fontsize=12)\n",
    "    plt.xlabel('Predicted',fontsize=12)"
   ]
  },
  {
   "cell_type": "code",
   "execution_count": 3,
   "metadata": {},
   "outputs": [],
   "source": [
    "from sklearn.metrics import roc_curve,auc\n",
    "\n",
    "def plot_roc_curve(y_test, prediction, name_model):\n",
    "    test_fpr, test_tpr, te_thresholds = roc_curve(y_test, prediction)\n",
    "\n",
    "    plt.grid()\n",
    "    auc_score = round(auc(test_fpr, test_tpr),2)\n",
    "    plt.plot(test_fpr, test_tpr, label=f\"{name_model} - AUC =\"+ str(auc_score))\n",
    "    plt.plot([0,1],[0,1],'r--')\n",
    "    plt.legend()\n",
    "    plt.xlabel(\"True Positive Rate\")\n",
    "    plt.ylabel(\"False Positive Rate\")\n",
    "    plt.title(f\" AUC(ROC curve) - {name_model}\")\n",
    "    plt.grid(color='black', linestyle='', linewidth=0.5)\n",
    "    plt.show()"
   ]
  },
  {
   "cell_type": "code",
   "execution_count": 4,
   "metadata": {},
   "outputs": [],
   "source": [
    "#return dictionary with word: embedding_vector\n",
    "def load_embedding(fname):\n",
    "    embeddings_index = {}\n",
    "    f = open(fname, encoding=\"utf8\")\n",
    "    for line in f:\n",
    "        values = line.split()\n",
    "        word = values[0]\n",
    "        try:\n",
    "            embedding_vector = np.asarray(values[1:], dtype='float32')\n",
    "        except:\n",
    "            pass\n",
    "        \n",
    "        embeddings_index[word] = embedding_vector\n",
    "    f.close()\n",
    "\n",
    "    return embeddings_index"
   ]
  },
  {
   "cell_type": "code",
   "execution_count": 5,
   "metadata": {
    "colab": {
     "base_uri": "https://localhost:8080/"
    },
    "executionInfo": {
     "elapsed": 7097,
     "status": "ok",
     "timestamp": 1605684719382,
     "user": {
      "displayName": "Andrea Esuli",
      "photoUrl": "https://lh3.googleusercontent.com/a-/AOh14GjnhIEj3sHKSCLyrF914-V1YqXGRyV99nICp57ZiA=s64",
      "userId": "15085130152686293719"
     },
     "user_tz": -60
    },
    "id": "gAs8XWymIN_m",
    "outputId": "9bde56f4-9797-4d02-d8fd-4b089c435b17"
   },
   "outputs": [
    {
     "data": {
      "text/html": [
       "<div>\n",
       "<style scoped>\n",
       "    .dataframe tbody tr th:only-of-type {\n",
       "        vertical-align: middle;\n",
       "    }\n",
       "\n",
       "    .dataframe tbody tr th {\n",
       "        vertical-align: top;\n",
       "    }\n",
       "\n",
       "    .dataframe thead th {\n",
       "        text-align: right;\n",
       "    }\n",
       "</style>\n",
       "<table border=\"1\" class=\"dataframe\">\n",
       "  <thead>\n",
       "    <tr style=\"text-align: right;\">\n",
       "      <th></th>\n",
       "      <th>id</th>\n",
       "      <th>comment_text</th>\n",
       "      <th>toxic</th>\n",
       "      <th>severe_toxic</th>\n",
       "      <th>obscene</th>\n",
       "      <th>threat</th>\n",
       "      <th>insult</th>\n",
       "      <th>identity_hate</th>\n",
       "      <th>clean_text</th>\n",
       "      <th>tokenized</th>\n",
       "      <th>tokenized_no_stopwords</th>\n",
       "      <th>tokenized_stemmed</th>\n",
       "      <th>tokenized_pos</th>\n",
       "      <th>tokenized_lemmatized</th>\n",
       "      <th>tokenized_lemmatized_pos</th>\n",
       "      <th>tokenized_bigram</th>\n",
       "      <th>toxicity</th>\n",
       "    </tr>\n",
       "  </thead>\n",
       "  <tbody>\n",
       "    <tr>\n",
       "      <th>0</th>\n",
       "      <td>144abb9156acc835</td>\n",
       "      <td>\"\\nFor what it's worth, I suggest you refrain ...</td>\n",
       "      <td>0</td>\n",
       "      <td>0</td>\n",
       "      <td>0</td>\n",
       "      <td>0</td>\n",
       "      <td>0</td>\n",
       "      <td>0</td>\n",
       "      <td>for what it is worth i suggest you refrain fr...</td>\n",
       "      <td>['for', 'what', 'it', 'is', 'worth', 'i', 'sug...</td>\n",
       "      <td>['worth', 'suggest', 'refrain', 'pushing', 'so...</td>\n",
       "      <td>['worth', 'suggest', 'refrain', 'push', 'sock'...</td>\n",
       "      <td>[('worth', 'JJ'), ('suggest', 'JJS'), ('refrai...</td>\n",
       "      <td>['worth', 'suggest', 'refrain', 'pushing', 'so...</td>\n",
       "      <td>['worth', 'suggest', 'refrain', 'push', 'sock'...</td>\n",
       "      <td>[('worth', 'suggest'), ('suggest', 'refrain'),...</td>\n",
       "      <td>0</td>\n",
       "    </tr>\n",
       "  </tbody>\n",
       "</table>\n",
       "</div>"
      ],
      "text/plain": [
       "                 id                                       comment_text  toxic  \\\n",
       "0  144abb9156acc835  \"\\nFor what it's worth, I suggest you refrain ...      0   \n",
       "\n",
       "   severe_toxic  obscene  threat  insult  identity_hate  \\\n",
       "0             0        0       0       0              0   \n",
       "\n",
       "                                          clean_text  \\\n",
       "0   for what it is worth i suggest you refrain fr...   \n",
       "\n",
       "                                           tokenized  \\\n",
       "0  ['for', 'what', 'it', 'is', 'worth', 'i', 'sug...   \n",
       "\n",
       "                              tokenized_no_stopwords  \\\n",
       "0  ['worth', 'suggest', 'refrain', 'pushing', 'so...   \n",
       "\n",
       "                                   tokenized_stemmed  \\\n",
       "0  ['worth', 'suggest', 'refrain', 'push', 'sock'...   \n",
       "\n",
       "                                       tokenized_pos  \\\n",
       "0  [('worth', 'JJ'), ('suggest', 'JJS'), ('refrai...   \n",
       "\n",
       "                                tokenized_lemmatized  \\\n",
       "0  ['worth', 'suggest', 'refrain', 'pushing', 'so...   \n",
       "\n",
       "                            tokenized_lemmatized_pos  \\\n",
       "0  ['worth', 'suggest', 'refrain', 'push', 'sock'...   \n",
       "\n",
       "                                    tokenized_bigram  toxicity  \n",
       "0  [('worth', 'suggest'), ('suggest', 'refrain'),...         0  "
      ]
     },
     "execution_count": 5,
     "metadata": {},
     "output_type": "execute_result"
    }
   ],
   "source": [
    "df = pd.read_csv('../data/alldata-balanced-cleaned.zip', compression='zip')\n",
    "df.head(1)"
   ]
  },
  {
   "cell_type": "code",
   "execution_count": 6,
   "metadata": {},
   "outputs": [],
   "source": [
    "df['clean_text'] = df['clean_text'].apply(lambda x: str(x))"
   ]
  },
  {
   "cell_type": "code",
   "execution_count": 7,
   "metadata": {},
   "outputs": [
    {
     "data": {
      "text/plain": [
       "('\"\\nFor what it\\'s worth, I suggest you refrain from pushing the \"\"socks\"\" remarks around, as it only seems to add fuel to the matter. Given that an SPI has been opened and Checkuser denied due to Stale accounts and behaviour evidence alone, it serves no purpose to accuse him further, just as it serves no purpose for him to accuse you of stalking. No one is going to win that type of argument. Also, I suggest you stop calling cowboy \"\"Jake\"\" from now on, as it also implies that he is someone he claims not to be. Clearly he is determined to push his case, and the only way to make it go away is that you ignore him altogether. Socks are a complex issue as they come in different forms. But if you give them enough rope, they\\'ll eventually hang themselves with it. Challenging suspected socks non-stop is sometimes considered uncivil and may seem like a personal attack without confirmation. SPI does not support the claim at present, and baiting cowboy will not look good on your behalf, whatever the outcome. I\\'m sure, by \"\"rotating IP\"\" he probably means proxies. It isn\\'t important though. Cheers, \\xa0[Chat\\xa0•\\xa0RFF] \"',\n",
       " ' for what it is worth i suggest you refrain from pushing the socks remarks around as it only seems to add fuel to the matter given that an spi has been opened and checkuser denied due to stale accounts and behaviour evidence alone it serves no purpose to accuse him further just as it serves no purpose for him to accuse you of stalking no one is going to win that type of argument also i suggest you stop calling cowboy jake from now on as it also implies that he is someone he claims not to be clearly he is determined to push his case and the only way to make it go away is that you ignore him altogether socks are a complex issue as they come in different forms but if you give them enough rope they will eventually hang themselves with it challenging suspected socks nonstop is sometimes considered uncivil and may seem like a personal attack without confirmation spi does not support the claim at present and baiting cowboy will not look good on your behalf whatever the outcome i am sure by rotating ip he probably means proxies it is not important though cheers chatrff')"
      ]
     },
     "execution_count": 7,
     "metadata": {},
     "output_type": "execute_result"
    }
   ],
   "source": [
    "df['comment_text'][0], df['clean_text'][0]"
   ]
  },
  {
   "cell_type": "markdown",
   "metadata": {},
   "source": [
    "# Binary Task (toxic vs no_toxic)"
   ]
  },
  {
   "cell_type": "code",
   "execution_count": 8,
   "metadata": {},
   "outputs": [
    {
     "name": "stdout",
     "output_type": "stream",
     "text": [
      "train sequences 35948\n",
      "test sequences 35948\n",
      "x_train shape: (35948, 200)\n",
      "x_test shape: (35948, 200)\n"
     ]
    }
   ],
   "source": [
    "text = df.clean_text.values\n",
    "target = df.toxicity.values\n",
    "\n",
    "#Parameters\n",
    "n_classes=1\n",
    "max_words=50000\n",
    "max_sequence_length=200\n",
    "embedding_dims = 50\n",
    "\n",
    "tokenizer = Tokenizer(num_words=max_words) \n",
    "tokenizer.fit_on_texts(text)\n",
    "sequences = tokenizer.texts_to_sequences(text) \n",
    "sequences = pad_sequences(sequences, maxlen=max_sequence_length)\n",
    "\n",
    "word_index = tokenizer.word_index\n",
    "embeddings_index = load_embedding(\"../glove.6B.50d.txt\")\n",
    "#embeddings_index = load_embedding(\"./wiki.simple.vec\")\n",
    "\n",
    "X_train, X_test, y_train, y_test = train_test_split(sequences, target, test_size=0.2, random_state=100)\n",
    "\n",
    "print(f'train sequences {len(X_train)}')\n",
    "print(f'test sequences {len(X_train)}')\n",
    "print(f'x_train shape: {X_train.shape}')\n",
    "print(f'x_test shape: {X_train.shape}')"
   ]
  },
  {
   "cell_type": "code",
   "execution_count": 9,
   "metadata": {
    "colab": {
     "base_uri": "https://localhost:8080/"
    },
    "executionInfo": {
     "elapsed": 5224,
     "status": "ok",
     "timestamp": 1605684719383,
     "user": {
      "displayName": "Andrea Esuli",
      "photoUrl": "https://lh3.googleusercontent.com/a-/AOh14GjnhIEj3sHKSCLyrF914-V1YqXGRyV99nICp57ZiA=s64",
      "userId": "15085130152686293719"
     },
     "user_tz": -60
    },
    "id": "PNj-xVawIN_o",
    "outputId": "d19358b9-9c1d-4628-9cc7-13eaf8af72a3"
   },
   "outputs": [
    {
     "data": {
      "text/plain": [
       "array([    0,     0,     0,     0,     0,     0,     0,     0,     0,\n",
       "           0,     0,     0,     0,     0,     0,     0,     0,     0,\n",
       "           0,     0,     0,     0,     0,     0,     0,     0,     0,\n",
       "           0,     0,     0,     0,     0,     0,     0,     0,     0,\n",
       "           0,     0,     0,     0,     0,     0,     0,     0,     0,\n",
       "           0,     0,     0,     0,     0,     0,     0,     0,     0,\n",
       "           0,     0,     0,     0,     0,     0,     0,     0,     0,\n",
       "           0,     0,     0,     0,     0,     0,     0,     0,     0,\n",
       "           0,     0,     0,     0,     0,     0,     0,     0,     0,\n",
       "           0,     0,     0,     0,     0,     0,     0,     0,     0,\n",
       "           0,     0,     0,     0,     0,     0,     0,     0,     0,\n",
       "           0,     0,     0,     0,     0,     0,     0,     0,     0,\n",
       "           0,     0,     0,     0,     0,     0,     0,     0,     0,\n",
       "           0,     0,     0,     0,     0,     0,     0,     0,     0,\n",
       "           0,     0,     0,     0,     0,     0,     0,     0,     0,\n",
       "           0,     0,     0,     0,     0,     0,     0,     0,     0,\n",
       "           0,     0,     0,     0,     0,     0,     0,     0,     0,\n",
       "           0,     0,     0,     0,     0,     0,     0,     0,     0,\n",
       "           0,     0,     0,     0,  1099, 33440,    18,   807,    80,\n",
       "           9,   105,    64,   469,  1099, 33440,    18,   130,    45,\n",
       "        1100,    40,    32,  1099,  6705,     2,   259,    18,   130,\n",
       "         559,     3,    14,   157,    43,    18,  1818,  3180,   979,\n",
       "        2158,  3530], dtype=int32)"
      ]
     },
     "execution_count": 9,
     "metadata": {},
     "output_type": "execute_result"
    }
   ],
   "source": [
    "X_train[0]"
   ]
  },
  {
   "cell_type": "code",
   "execution_count": 30,
   "metadata": {},
   "outputs": [],
   "source": [
    "filters=16\n",
    "kernel_size=3\n",
    "\n",
    "model = Sequential()\n",
    "embedding_matrix = np.random.random((len(word_index) + 1, embedding_dims))\n",
    "\n",
    "for word, i in word_index.items():\n",
    "    embedding_vector = embeddings_index.get(word)\n",
    "    if embedding_vector is not None:\n",
    "        embedding_matrix[i] = embedding_vector\n",
    "\n",
    "model.add(Embedding(len(word_index) + 1,\n",
    "                    embedding_dims,\n",
    "                    weights=[embedding_matrix],\n",
    "                    input_length=max_sequence_length,\n",
    "                    trainable=True))\n",
    "\n",
    "model.add(Conv1D(filters, kernel_size, activation='relu'))\n",
    "model.add(MaxPooling1D())\n",
    "model.add(Conv1D(filters, kernel_size, activation='relu'))\n",
    "model.add(GlobalMaxPooling1D())\n",
    "model.add(Dropout(0.5))\n",
    "model.add(Dense(128, activation='relu', name='pre-classifier'))\n",
    "model.add(Dropout(0.5))\n",
    "model.add(Dense(n_classes, activation='sigmoid', name='classifier'))"
   ]
  },
  {
   "cell_type": "code",
   "execution_count": 31,
   "metadata": {},
   "outputs": [
    {
     "name": "stdout",
     "output_type": "stream",
     "text": [
      "Model: \"sequential_2\"\n",
      "_________________________________________________________________\n",
      " Layer (type)                Output Shape              Param #   \n",
      "=================================================================\n",
      " embedding_2 (Embedding)     (None, 200, 50)           4747950   \n",
      "                                                                 \n",
      " conv1d_4 (Conv1D)           (None, 198, 16)           2416      \n",
      "                                                                 \n",
      " max_pooling1d_2 (MaxPooling  (None, 99, 16)           0         \n",
      " 1D)                                                             \n",
      "                                                                 \n",
      " conv1d_5 (Conv1D)           (None, 97, 16)            784       \n",
      "                                                                 \n",
      " global_max_pooling1d_2 (Glo  (None, 16)               0         \n",
      " balMaxPooling1D)                                                \n",
      "                                                                 \n",
      " dropout_4 (Dropout)         (None, 16)                0         \n",
      "                                                                 \n",
      " pre-classifier (Dense)      (None, 128)               2176      \n",
      "                                                                 \n",
      " dropout_5 (Dropout)         (None, 128)               0         \n",
      "                                                                 \n",
      " classifier (Dense)          (None, 1)                 129       \n",
      "                                                                 \n",
      "=================================================================\n",
      "Total params: 4,753,455\n",
      "Trainable params: 4,753,455\n",
      "Non-trainable params: 0\n",
      "_________________________________________________________________\n"
     ]
    }
   ],
   "source": [
    "model.compile(loss='binary_crossentropy',\n",
    "                optimizer='adam',\n",
    "                metrics=['accuracy'])\n",
    "model.summary()"
   ]
  },
  {
   "cell_type": "code",
   "execution_count": 32,
   "metadata": {},
   "outputs": [
    {
     "data": {
      "image/png": "[encoded data removed]",
      "text/plain": [
       "<IPython.core.display.Image object>"
      ]
     },
     "execution_count": 32,
     "metadata": {},
     "output_type": "execute_result"
    }
   ],
   "source": [
    "tf.keras.utils.plot_model(model)"
   ]
  },
  {
   "cell_type": "code",
   "execution_count": 33,
   "metadata": {
    "colab": {
     "base_uri": "https://localhost:8080/"
    },
    "executionInfo": {
     "elapsed": 9065,
     "status": "ok",
     "timestamp": 1605688432001,
     "user": {
      "displayName": "Andrea Esuli",
      "photoUrl": "https://lh3.googleusercontent.com/a-/AOh14GjnhIEj3sHKSCLyrF914-V1YqXGRyV99nICp57ZiA=s64",
      "userId": "15085130152686293719"
     },
     "user_tz": -60
    },
    "id": "9U22RpWoIN_s",
    "outputId": "1c963538-9d47-439d-cb98-5a111d6232df"
   },
   "outputs": [
    {
     "name": "stdout",
     "output_type": "stream",
     "text": [
      "Epoch 1/50\n",
      "64/64 [==============================] - 2s 19ms/step - loss: 0.6786 - accuracy: 0.5742 - val_loss: 0.5364 - val_accuracy: 0.7669\n",
      "Epoch 2/50\n",
      "64/64 [==============================] - 1s 17ms/step - loss: 0.4842 - accuracy: 0.7774 - val_loss: 0.3779 - val_accuracy: 0.8459\n",
      "Epoch 3/50\n",
      "64/64 [==============================] - 1s 17ms/step - loss: 0.3806 - accuracy: 0.8443 - val_loss: 0.3232 - val_accuracy: 0.8648\n",
      "Epoch 4/50\n",
      "64/64 [==============================] - 1s 17ms/step - loss: 0.3249 - accuracy: 0.8717 - val_loss: 0.2959 - val_accuracy: 0.8768\n",
      "Epoch 5/50\n",
      "64/64 [==============================] - 1s 16ms/step - loss: 0.2875 - accuracy: 0.8871 - val_loss: 0.2818 - val_accuracy: 0.8798\n",
      "Epoch 6/50\n",
      "64/64 [==============================] - 1s 17ms/step - loss: 0.2588 - accuracy: 0.8999 - val_loss: 0.2759 - val_accuracy: 0.8815\n",
      "Epoch 7/50\n",
      "64/64 [==============================] - 1s 17ms/step - loss: 0.2382 - accuracy: 0.9093 - val_loss: 0.2684 - val_accuracy: 0.8904\n",
      "Epoch 8/50\n",
      "64/64 [==============================] - 1s 17ms/step - loss: 0.2223 - accuracy: 0.9166 - val_loss: 0.2624 - val_accuracy: 0.8932\n",
      "Epoch 9/50\n",
      "64/64 [==============================] - 1s 17ms/step - loss: 0.2051 - accuracy: 0.9257 - val_loss: 0.2669 - val_accuracy: 0.8982\n",
      "Epoch 10/50\n",
      "64/64 [==============================] - 1s 17ms/step - loss: 0.1894 - accuracy: 0.9317 - val_loss: 0.2583 - val_accuracy: 0.8946\n",
      "Epoch 11/50\n",
      "64/64 [==============================] - 1s 17ms/step - loss: 0.1802 - accuracy: 0.9376 - val_loss: 0.2620 - val_accuracy: 0.8949\n",
      "Epoch 12/50\n",
      "64/64 [==============================] - 1s 16ms/step - loss: 0.1667 - accuracy: 0.9418 - val_loss: 0.2543 - val_accuracy: 0.8949\n",
      "Epoch 13/50\n",
      "64/64 [==============================] - 1s 17ms/step - loss: 0.1545 - accuracy: 0.9470 - val_loss: 0.2600 - val_accuracy: 0.8926\n",
      "Epoch 14/50\n",
      "64/64 [==============================] - 1s 17ms/step - loss: 0.1443 - accuracy: 0.9517 - val_loss: 0.2595 - val_accuracy: 0.8951\n",
      "Epoch 15/50\n",
      "64/64 [==============================] - 1s 17ms/step - loss: 0.1356 - accuracy: 0.9543 - val_loss: 0.2625 - val_accuracy: 0.8949\n",
      "Epoch 16/50\n",
      "64/64 [==============================] - 1s 16ms/step - loss: 0.1264 - accuracy: 0.9587 - val_loss: 0.2721 - val_accuracy: 0.8912\n",
      "Epoch 17/50\n",
      "64/64 [==============================] - 1s 17ms/step - loss: 0.1157 - accuracy: 0.9630 - val_loss: 0.2744 - val_accuracy: 0.8943\n",
      "Epoch 18/50\n",
      "64/64 [==============================] - 1s 17ms/step - loss: 0.1101 - accuracy: 0.9658 - val_loss: 0.2782 - val_accuracy: 0.8924\n",
      "Epoch 19/50\n",
      "64/64 [==============================] - 1s 17ms/step - loss: 0.1038 - accuracy: 0.9676 - val_loss: 0.2878 - val_accuracy: 0.8893\n",
      "Epoch 20/50\n",
      "64/64 [==============================] - 1s 17ms/step - loss: 0.1001 - accuracy: 0.9689 - val_loss: 0.2862 - val_accuracy: 0.8926\n",
      "Epoch 21/50\n",
      "64/64 [==============================] - 1s 17ms/step - loss: 0.0889 - accuracy: 0.9722 - val_loss: 0.2942 - val_accuracy: 0.8887\n",
      "Epoch 22/50\n",
      "64/64 [==============================] - 1s 17ms/step - loss: 0.0839 - accuracy: 0.9736 - val_loss: 0.3056 - val_accuracy: 0.8873\n"
     ]
    }
   ],
   "source": [
    "epochs = 50\n",
    "batch_size=512\n",
    "\n",
    "es = tf.keras.callbacks.EarlyStopping(monitor='val_loss', patience=10)\n",
    "\n",
    "history = model.fit(X_train, y_train,\n",
    "          validation_split=0.1,\n",
    "          batch_size=batch_size,\n",
    "          epochs=epochs, callbacks=[es])"
   ]
  },
  {
   "cell_type": "code",
   "execution_count": 34,
   "metadata": {},
   "outputs": [
    {
     "data": {
      "text/plain": [
       "{'loss': [0.6786044239997864,\n",
       "  0.48416727781295776,\n",
       "  0.3806013762950897,\n",
       "  0.32486510276794434,\n",
       "  0.28745535016059875,\n",
       "  0.25884029269218445,\n",
       "  0.23816515505313873,\n",
       "  0.22231608629226685,\n",
       "  0.2051437944173813,\n",
       "  0.18941636383533478,\n",
       "  0.18022705614566803,\n",
       "  0.16665348410606384,\n",
       "  0.15452609956264496,\n",
       "  0.14430008828639984,\n",
       "  0.13556356728076935,\n",
       "  0.1263769567012787,\n",
       "  0.11569184809923172,\n",
       "  0.11008520424365997,\n",
       "  0.1037881076335907,\n",
       "  0.10010606050491333,\n",
       "  0.0889401063323021,\n",
       "  0.08394049853086472],\n",
       " 'accuracy': [0.5741971135139465,\n",
       "  0.7773622274398804,\n",
       "  0.8443111777305603,\n",
       "  0.8717275261878967,\n",
       "  0.8871201872825623,\n",
       "  0.8998856544494629,\n",
       "  0.9092819690704346,\n",
       "  0.9165765047073364,\n",
       "  0.9256637692451477,\n",
       "  0.9316601157188416,\n",
       "  0.9375946521759033,\n",
       "  0.9418292045593262,\n",
       "  0.9469910264015198,\n",
       "  0.9516891837120056,\n",
       "  0.9542855620384216,\n",
       "  0.9587364196777344,\n",
       "  0.9630019068717957,\n",
       "  0.9658145904541016,\n",
       "  0.9675764441490173,\n",
       "  0.968905508518219,\n",
       "  0.9722127914428711,\n",
       "  0.9736346006393433],\n",
       " 'val_loss': [0.5364184379577637,\n",
       "  0.3778891861438751,\n",
       "  0.3232126533985138,\n",
       "  0.29590702056884766,\n",
       "  0.2818126976490021,\n",
       "  0.2759384512901306,\n",
       "  0.2683865427970886,\n",
       "  0.2623569071292877,\n",
       "  0.2669443190097809,\n",
       "  0.25833559036254883,\n",
       "  0.26201462745666504,\n",
       "  0.25432413816452026,\n",
       "  0.26002737879753113,\n",
       "  0.25945529341697693,\n",
       "  0.2624645233154297,\n",
       "  0.27212828397750854,\n",
       "  0.27436232566833496,\n",
       "  0.27817726135253906,\n",
       "  0.2877929210662842,\n",
       "  0.28620144724845886,\n",
       "  0.2942393720149994,\n",
       "  0.30558380484580994],\n",
       " 'val_accuracy': [0.7668984532356262,\n",
       "  0.8458970785140991,\n",
       "  0.8648122549057007,\n",
       "  0.8767732977867126,\n",
       "  0.8798331022262573,\n",
       "  0.881502091884613,\n",
       "  0.8904033303260803,\n",
       "  0.8931849598884583,\n",
       "  0.8981919288635254,\n",
       "  0.8945757746696472,\n",
       "  0.894853949546814,\n",
       "  0.894853949546814,\n",
       "  0.8926286697387695,\n",
       "  0.8951321244239807,\n",
       "  0.894853949546814,\n",
       "  0.8912378549575806,\n",
       "  0.8942976593971252,\n",
       "  0.8923504948616028,\n",
       "  0.8892906904220581,\n",
       "  0.8926286697387695,\n",
       "  0.8887343406677246,\n",
       "  0.8873435258865356]}"
      ]
     },
     "execution_count": 34,
     "metadata": {},
     "output_type": "execute_result"
    }
   ],
   "source": [
    "history.history"
   ]
  },
  {
   "cell_type": "code",
   "execution_count": 35,
   "metadata": {},
   "outputs": [
    {
     "data": {
      "image/png": "[encoded data removed]",
      "text/plain": [
       "<Figure size 432x288 with 1 Axes>"
      ]
     },
     "metadata": {
      "needs_background": "light"
     },
     "output_type": "display_data"
    }
   ],
   "source": [
    "plt.plot(history.history['loss'], label='train')\n",
    "plt.plot(history.history['val_loss'], label='test')\n",
    "plt.xlabel('Epochs')\n",
    "plt.ylabel('Loss')\n",
    "plt.legend()\n",
    "plt.show()"
   ]
  },
  {
   "cell_type": "code",
   "execution_count": 36,
   "metadata": {},
   "outputs": [
    {
     "data": {
      "image/png": "[encoded data removed]",
      "text/plain": [
       "<Figure size 432x288 with 1 Axes>"
      ]
     },
     "metadata": {
      "needs_background": "light"
     },
     "output_type": "display_data"
    }
   ],
   "source": [
    "plt.plot(history.history['accuracy'], label='train')\n",
    "plt.plot(history.history['val_accuracy'], label='test')\n",
    "plt.xlabel('Epochs')\n",
    "plt.ylabel('Accuracy')\n",
    "plt.legend()\n",
    "plt.show()"
   ]
  },
  {
   "cell_type": "code",
   "execution_count": 37,
   "metadata": {},
   "outputs": [],
   "source": [
    "y_prob = model.predict(X_test)\n",
    "y_pred = y_prob.round()"
   ]
  },
  {
   "cell_type": "code",
   "execution_count": 38,
   "metadata": {
    "id": "QRlQSdFuIN_6"
   },
   "outputs": [
    {
     "name": "stdout",
     "output_type": "stream",
     "text": [
      "              precision    recall  f1-score   support\n",
      "\n",
      "           0       0.89      0.90      0.90      4513\n",
      "           1       0.90      0.89      0.89      4475\n",
      "\n",
      "    accuracy                           0.90      8988\n",
      "   macro avg       0.90      0.90      0.90      8988\n",
      "weighted avg       0.90      0.90      0.90      8988\n",
      "\n"
     ]
    },
    {
     "data": {
      "text/plain": [
       "array([[4075,  438],\n",
       "       [ 505, 3970]])"
      ]
     },
     "execution_count": 38,
     "metadata": {},
     "output_type": "execute_result"
    }
   ],
   "source": [
    "print(classification_report(y_test, y_pred))\n",
    "confusion_matrix(y_test, y_pred)"
   ]
  },
  {
   "cell_type": "code",
   "execution_count": 39,
   "metadata": {},
   "outputs": [
    {
     "data": {
      "image/png": "[encoded data removed]",
      "text/plain": [
       "<Figure size 432x288 with 2 Axes>"
      ]
     },
     "metadata": {
      "needs_background": "light"
     },
     "output_type": "display_data"
    }
   ],
   "source": [
    "cf_matrix = confusion_matrix(y_test, y_pred)\n",
    "make_confusion_matrix(cf_matrix, 'CNN-net - Confusion Matrix')"
   ]
  },
  {
   "cell_type": "code",
   "execution_count": 40,
   "metadata": {},
   "outputs": [
    {
     "data": {
      "image/png": "[encoded data removed]",
      "text/plain": [
       "<Figure size 432x288 with 1 Axes>"
      ]
     },
     "metadata": {
      "needs_background": "light"
     },
     "output_type": "display_data"
    }
   ],
   "source": [
    "plot_roc_curve(y_test, y_pred, 'CNN-net')"
   ]
  },
  {
   "cell_type": "code",
   "execution_count": null,
   "metadata": {},
   "outputs": [],
   "source": []
  }
 ],
 "metadata": {
  "accelerator": "GPU",
  "colab": {
   "collapsed_sections": [],
   "name": "10.3 - Classification - cnnNet.ipynb",
   "provenance": []
  },
  "kernelspec": {
   "display_name": "Python 3 (ipykernel)",
   "language": "python",
   "name": "python3"
  },
  "language_info": {
   "codemirror_mode": {
    "name": "ipython",
    "version": 3
   },
   "file_extension": ".py",
   "mimetype": "text/x-python",
   "name": "python",
   "nbconvert_exporter": "python",
   "pygments_lexer": "ipython3",
   "version": "3.10.2"
  }
 },
 "nbformat": 4,
 "nbformat_minor": 1
}
