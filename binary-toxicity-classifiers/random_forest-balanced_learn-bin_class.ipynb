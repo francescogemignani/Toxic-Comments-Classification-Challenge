{
 "cells": [
  {
   "cell_type": "markdown",
   "id": "1399b11d",
   "metadata": {},
   "source": [
    "## Random Forest Classifier - Balanced Learning"
   ]
  },
  {
   "cell_type": "markdown",
   "id": "c092a08f",
   "metadata": {},
   "source": [
    "### Setup & Utilities"
   ]
  },
  {
   "cell_type": "code",
   "execution_count": 1,
   "id": "c90dfb7f",
   "metadata": {},
   "outputs": [],
   "source": [
    "import pandas as pd\n",
    "import seaborn as sns\n",
    "import numpy as np\n",
    "import matplotlib.pyplot as plt\n",
    "\n",
    "from sklearn.model_selection import train_test_split\n",
    "from sklearn.feature_extraction.text import TfidfVectorizer\n",
    "from sklearn.ensemble import RandomForestClassifier\n",
    "from sklearn.svm import SVC, LinearSVC\n",
    "from sklearn.model_selection import GridSearchCV\n",
    "from sklearn.feature_extraction.text import CountVectorizer, TfidfTransformer\n",
    "from sklearn.pipeline import Pipeline\n",
    "from sklearn.metrics import confusion_matrix, classification_report\n",
    "\n",
    "import warnings \n",
    "warnings.filterwarnings(\"ignore\")\n",
    "\n",
    "from ast import literal_eval"
   ]
  },
  {
   "cell_type": "code",
   "execution_count": 2,
   "id": "2c8fd540",
   "metadata": {},
   "outputs": [],
   "source": [
    "# utility function\n",
    "def make_confusion_matrix( cfm, title):\n",
    "    group_names = ['TN','FP','FN','TP']\n",
    "\n",
    "    group_counts = [\"{0:0.0f}\".format(value) for value in\n",
    "                cfm.flatten()]\n",
    "\n",
    "    group_percentages = [\"{0:.2%}\".format(value) for value in\n",
    "                     cfm.flatten()/np.sum(cfm)]\n",
    "\n",
    "    labels = [f\"{v1}\\n{v2}\\n{v3}\" for v1, v2, v3 in\n",
    "          zip(group_names,group_counts,group_percentages)]\n",
    "\n",
    "    labels = np.asarray(labels).reshape(2,2)\n",
    "    plt.title(title)\n",
    "    \n",
    "    sns.heatmap(cfm, annot=labels, fmt=\"\", cmap='Blues')\n",
    "    plt.ylabel('True Label', fontsize=12)\n",
    "    plt.xlabel('Predicted',fontsize=12)"
   ]
  },
  {
   "cell_type": "code",
   "execution_count": 3,
   "id": "ef88e25b",
   "metadata": {},
   "outputs": [],
   "source": [
    "from sklearn.metrics import roc_curve,auc\n",
    "\n",
    "def plot_roc_curve(y_test, prediction, name_model):\n",
    "    test_fpr, test_tpr, te_thresholds = roc_curve(y_test, prediction)\n",
    "\n",
    "    plt.grid()\n",
    "    auc_score = round(auc(test_fpr, test_tpr),2)\n",
    "    plt.plot(test_fpr, test_tpr, label=f\"{name_model} - AUC =\"+ str(auc_score))\n",
    "    plt.plot([0,1],[0,1],'r--')\n",
    "    plt.legend()\n",
    "    plt.xlabel(\"True Positive Rate\")\n",
    "    plt.ylabel(\"False Positive Rate\")\n",
    "    plt.title(f\" AUC(ROC curve) - {name_model}\")\n",
    "    plt.grid(color='black', linestyle='', linewidth=0.5)\n",
    "    plt.show()"
   ]
  },
  {
   "cell_type": "markdown",
   "id": "77646f92",
   "metadata": {},
   "source": [
    "## Import Dataset"
   ]
  },
  {
   "cell_type": "code",
   "execution_count": 4,
   "id": "e416ad4a-b423-4772-b004-e2856f52dd2d",
   "metadata": {},
   "outputs": [],
   "source": [
    "df = pd.read_csv('../data/alldata-balanced-cleaned.zip', compression='zip')\n",
    "data = 'tokenized_stemmed'\n",
    "target = 'toxicity'"
   ]
  },
  {
   "cell_type": "code",
   "execution_count": 5,
   "id": "b64652d5",
   "metadata": {},
   "outputs": [
    {
     "data": {
      "text/html": [
       "<div>\n",
       "<style scoped>\n",
       "    .dataframe tbody tr th:only-of-type {\n",
       "        vertical-align: middle;\n",
       "    }\n",
       "\n",
       "    .dataframe tbody tr th {\n",
       "        vertical-align: top;\n",
       "    }\n",
       "\n",
       "    .dataframe thead th {\n",
       "        text-align: right;\n",
       "    }\n",
       "</style>\n",
       "<table border=\"1\" class=\"dataframe\">\n",
       "  <thead>\n",
       "    <tr style=\"text-align: right;\">\n",
       "      <th></th>\n",
       "      <th>id</th>\n",
       "      <th>comment_text</th>\n",
       "      <th>toxic</th>\n",
       "      <th>severe_toxic</th>\n",
       "      <th>obscene</th>\n",
       "      <th>threat</th>\n",
       "      <th>insult</th>\n",
       "      <th>identity_hate</th>\n",
       "      <th>clean_text</th>\n",
       "      <th>tokenized</th>\n",
       "      <th>tokenized_no_stopwords</th>\n",
       "      <th>tokenized_stemmed</th>\n",
       "      <th>tokenized_pos</th>\n",
       "      <th>tokenized_lemmatized</th>\n",
       "      <th>tokenized_lemmatized_pos</th>\n",
       "      <th>tokenized_bigram</th>\n",
       "      <th>toxicity</th>\n",
       "    </tr>\n",
       "  </thead>\n",
       "  <tbody>\n",
       "    <tr>\n",
       "      <th>0</th>\n",
       "      <td>144abb9156acc835</td>\n",
       "      <td>\"\\nFor what it's worth, I suggest you refrain ...</td>\n",
       "      <td>0</td>\n",
       "      <td>0</td>\n",
       "      <td>0</td>\n",
       "      <td>0</td>\n",
       "      <td>0</td>\n",
       "      <td>0</td>\n",
       "      <td>for what it is worth i suggest you refrain fr...</td>\n",
       "      <td>['for', 'what', 'it', 'is', 'worth', 'i', 'sug...</td>\n",
       "      <td>['worth', 'suggest', 'refrain', 'pushing', 'so...</td>\n",
       "      <td>['worth', 'suggest', 'refrain', 'push', 'sock'...</td>\n",
       "      <td>[('worth', 'JJ'), ('suggest', 'JJS'), ('refrai...</td>\n",
       "      <td>['worth', 'suggest', 'refrain', 'pushing', 'so...</td>\n",
       "      <td>['worth', 'suggest', 'refrain', 'push', 'sock'...</td>\n",
       "      <td>[('worth', 'suggest'), ('suggest', 'refrain'),...</td>\n",
       "      <td>0</td>\n",
       "    </tr>\n",
       "    <tr>\n",
       "      <th>1</th>\n",
       "      <td>d4d3e9ee9facbe91</td>\n",
       "      <td>I have noticed you STILL haven't responded? I ...</td>\n",
       "      <td>0</td>\n",
       "      <td>0</td>\n",
       "      <td>0</td>\n",
       "      <td>0</td>\n",
       "      <td>0</td>\n",
       "      <td>0</td>\n",
       "      <td>i have noticed you still have not responded i ...</td>\n",
       "      <td>['i', 'have', 'noticed', 'you', 'still', 'have...</td>\n",
       "      <td>['noticed', 'still', 'responded', 'file', 'for...</td>\n",
       "      <td>['notic', 'still', 'respond', 'file', 'formal'...</td>\n",
       "      <td>[('noticed', 'VBN'), ('still', 'RB'), ('respon...</td>\n",
       "      <td>['noticed', 'still', 'responded', 'file', 'for...</td>\n",
       "      <td>['notice', 'still', 'respond', 'file', 'formal...</td>\n",
       "      <td>[('noticed', 'still'), ('still', 'responded'),...</td>\n",
       "      <td>0</td>\n",
       "    </tr>\n",
       "    <tr>\n",
       "      <th>2</th>\n",
       "      <td>da223e53f7097ea6</td>\n",
       "      <td>::The statement at the lead of the article, 'T...</td>\n",
       "      <td>0</td>\n",
       "      <td>0</td>\n",
       "      <td>0</td>\n",
       "      <td>0</td>\n",
       "      <td>0</td>\n",
       "      <td>0</td>\n",
       "      <td>the statement at the lead of the article the b...</td>\n",
       "      <td>['the', 'statement', 'at', 'the', 'lead', 'of'...</td>\n",
       "      <td>['statement', 'lead', 'article', 'bedrock', 'c...</td>\n",
       "      <td>['statement', 'lead', 'articl', 'bedrock', 'ce...</td>\n",
       "      <td>[('statement', 'NN'), ('lead', 'NN'), ('articl...</td>\n",
       "      <td>['statement', 'lead', 'article', 'bedrock', 'c...</td>\n",
       "      <td>['statement', 'lead', 'article', 'bedrock', 'c...</td>\n",
       "      <td>[('statement', 'lead'), ('lead', 'article'), (...</td>\n",
       "      <td>0</td>\n",
       "    </tr>\n",
       "    <tr>\n",
       "      <th>3</th>\n",
       "      <td>53d465a2cca996d7</td>\n",
       "      <td>\"\\n\\nan FYI\\nI understand completely why you d...</td>\n",
       "      <td>0</td>\n",
       "      <td>0</td>\n",
       "      <td>0</td>\n",
       "      <td>0</td>\n",
       "      <td>0</td>\n",
       "      <td>0</td>\n",
       "      <td>an fyi i understand completely why you delete...</td>\n",
       "      <td>['an', 'fyi', 'i', 'understand', 'completely',...</td>\n",
       "      <td>['fyi', 'understand', 'completely', 'deleted',...</td>\n",
       "      <td>['fyi', 'understand', 'complet', 'delet', 'sec...</td>\n",
       "      <td>[('fyi', 'NN'), ('understand', 'VBP'), ('compl...</td>\n",
       "      <td>['fyi', 'understand', 'completely', 'deleted',...</td>\n",
       "      <td>['fyi', 'understand', 'completely', 'delete', ...</td>\n",
       "      <td>[('fyi', 'understand'), ('understand', 'comple...</td>\n",
       "      <td>0</td>\n",
       "    </tr>\n",
       "    <tr>\n",
       "      <th>4</th>\n",
       "      <td>96c840eda4dc9ee7</td>\n",
       "      <td>interestingly, if you go look at Eek's talk pa...</td>\n",
       "      <td>0</td>\n",
       "      <td>0</td>\n",
       "      <td>0</td>\n",
       "      <td>0</td>\n",
       "      <td>0</td>\n",
       "      <td>0</td>\n",
       "      <td>interestingly if you go look at eeks talk page...</td>\n",
       "      <td>['interestingly', 'if', 'you', 'go', 'look', '...</td>\n",
       "      <td>['interestingly', 'go', 'look', 'eeks', 'talk'...</td>\n",
       "      <td>['interestingli', 'go', 'look', 'eek', 'talk',...</td>\n",
       "      <td>[('interestingly', 'RB'), ('go', 'VB'), ('look...</td>\n",
       "      <td>['interestingly', 'go', 'look', 'eeks', 'talk'...</td>\n",
       "      <td>['interestingly', 'go', 'look', 'eeks', 'talk'...</td>\n",
       "      <td>[('interestingly', 'go'), ('go', 'look'), ('lo...</td>\n",
       "      <td>0</td>\n",
       "    </tr>\n",
       "  </tbody>\n",
       "</table>\n",
       "</div>"
      ],
      "text/plain": [
       "                 id                                       comment_text  toxic  \\\n",
       "0  144abb9156acc835  \"\\nFor what it's worth, I suggest you refrain ...      0   \n",
       "1  d4d3e9ee9facbe91  I have noticed you STILL haven't responded? I ...      0   \n",
       "2  da223e53f7097ea6  ::The statement at the lead of the article, 'T...      0   \n",
       "3  53d465a2cca996d7  \"\\n\\nan FYI\\nI understand completely why you d...      0   \n",
       "4  96c840eda4dc9ee7  interestingly, if you go look at Eek's talk pa...      0   \n",
       "\n",
       "   severe_toxic  obscene  threat  insult  identity_hate  \\\n",
       "0             0        0       0       0              0   \n",
       "1             0        0       0       0              0   \n",
       "2             0        0       0       0              0   \n",
       "3             0        0       0       0              0   \n",
       "4             0        0       0       0              0   \n",
       "\n",
       "                                          clean_text  \\\n",
       "0   for what it is worth i suggest you refrain fr...   \n",
       "1  i have noticed you still have not responded i ...   \n",
       "2  the statement at the lead of the article the b...   \n",
       "3   an fyi i understand completely why you delete...   \n",
       "4  interestingly if you go look at eeks talk page...   \n",
       "\n",
       "                                           tokenized  \\\n",
       "0  ['for', 'what', 'it', 'is', 'worth', 'i', 'sug...   \n",
       "1  ['i', 'have', 'noticed', 'you', 'still', 'have...   \n",
       "2  ['the', 'statement', 'at', 'the', 'lead', 'of'...   \n",
       "3  ['an', 'fyi', 'i', 'understand', 'completely',...   \n",
       "4  ['interestingly', 'if', 'you', 'go', 'look', '...   \n",
       "\n",
       "                              tokenized_no_stopwords  \\\n",
       "0  ['worth', 'suggest', 'refrain', 'pushing', 'so...   \n",
       "1  ['noticed', 'still', 'responded', 'file', 'for...   \n",
       "2  ['statement', 'lead', 'article', 'bedrock', 'c...   \n",
       "3  ['fyi', 'understand', 'completely', 'deleted',...   \n",
       "4  ['interestingly', 'go', 'look', 'eeks', 'talk'...   \n",
       "\n",
       "                                   tokenized_stemmed  \\\n",
       "0  ['worth', 'suggest', 'refrain', 'push', 'sock'...   \n",
       "1  ['notic', 'still', 'respond', 'file', 'formal'...   \n",
       "2  ['statement', 'lead', 'articl', 'bedrock', 'ce...   \n",
       "3  ['fyi', 'understand', 'complet', 'delet', 'sec...   \n",
       "4  ['interestingli', 'go', 'look', 'eek', 'talk',...   \n",
       "\n",
       "                                       tokenized_pos  \\\n",
       "0  [('worth', 'JJ'), ('suggest', 'JJS'), ('refrai...   \n",
       "1  [('noticed', 'VBN'), ('still', 'RB'), ('respon...   \n",
       "2  [('statement', 'NN'), ('lead', 'NN'), ('articl...   \n",
       "3  [('fyi', 'NN'), ('understand', 'VBP'), ('compl...   \n",
       "4  [('interestingly', 'RB'), ('go', 'VB'), ('look...   \n",
       "\n",
       "                                tokenized_lemmatized  \\\n",
       "0  ['worth', 'suggest', 'refrain', 'pushing', 'so...   \n",
       "1  ['noticed', 'still', 'responded', 'file', 'for...   \n",
       "2  ['statement', 'lead', 'article', 'bedrock', 'c...   \n",
       "3  ['fyi', 'understand', 'completely', 'deleted',...   \n",
       "4  ['interestingly', 'go', 'look', 'eeks', 'talk'...   \n",
       "\n",
       "                            tokenized_lemmatized_pos  \\\n",
       "0  ['worth', 'suggest', 'refrain', 'push', 'sock'...   \n",
       "1  ['notice', 'still', 'respond', 'file', 'formal...   \n",
       "2  ['statement', 'lead', 'article', 'bedrock', 'c...   \n",
       "3  ['fyi', 'understand', 'completely', 'delete', ...   \n",
       "4  ['interestingly', 'go', 'look', 'eeks', 'talk'...   \n",
       "\n",
       "                                    tokenized_bigram  toxicity  \n",
       "0  [('worth', 'suggest'), ('suggest', 'refrain'),...         0  \n",
       "1  [('noticed', 'still'), ('still', 'responded'),...         0  \n",
       "2  [('statement', 'lead'), ('lead', 'article'), (...         0  \n",
       "3  [('fyi', 'understand'), ('understand', 'comple...         0  \n",
       "4  [('interestingly', 'go'), ('go', 'look'), ('lo...         0  "
      ]
     },
     "execution_count": 5,
     "metadata": {},
     "output_type": "execute_result"
    }
   ],
   "source": [
    "df.head()"
   ]
  },
  {
   "cell_type": "code",
   "execution_count": 6,
   "id": "951469b3-84de-4d9d-bc71-1c8e644b1fa0",
   "metadata": {},
   "outputs": [
    {
     "data": {
      "text/plain": [
       "0    22468\n",
       "1    22468\n",
       "Name: toxicity, dtype: int64"
      ]
     },
     "execution_count": 6,
     "metadata": {},
     "output_type": "execute_result"
    }
   ],
   "source": [
    "df[target].value_counts()"
   ]
  },
  {
   "cell_type": "code",
   "execution_count": null,
   "id": "40f46d65-a8a5-4db3-87d0-16c748601b15",
   "metadata": {},
   "outputs": [],
   "source": []
  },
  {
   "cell_type": "markdown",
   "id": "6103aa8d",
   "metadata": {},
   "source": [
    "## Split Data"
   ]
  },
  {
   "cell_type": "code",
   "execution_count": 7,
   "id": "2de1ed22-a608-4404-b0c7-72572f0112a0",
   "metadata": {},
   "outputs": [],
   "source": [
    "X_train, X_test, y_train, y_test = train_test_split(df[data], df[target], test_size=0.30, random_state=42, stratify=df[target]) \n",
    "X_train = X_train.apply(lambda x: literal_eval(x))\n",
    "X_test = X_test.apply(lambda x: literal_eval(x))"
   ]
  },
  {
   "cell_type": "code",
   "execution_count": 8,
   "id": "2071f173-8865-4ab9-8157-bc4262b589ce",
   "metadata": {},
   "outputs": [
    {
     "name": "stdout",
     "output_type": "stream",
     "text": [
      "Training set\n",
      "1    15728\n",
      "0    15727\n",
      "Name: toxicity, dtype: int64\n",
      "\n",
      "Test set\n",
      "0    6741\n",
      "1    6740\n",
      "Name: toxicity, dtype: int64\n",
      "\n"
     ]
    }
   ],
   "source": [
    "print(f\"Training set\\n{y_train.value_counts()}\\n\")\n",
    "print(f\"Test set\\n{y_test.value_counts()}\\n\")"
   ]
  },
  {
   "cell_type": "markdown",
   "id": "309271f5",
   "metadata": {},
   "source": [
    "## Random Forest Classifier"
   ]
  },
  {
   "cell_type": "markdown",
   "id": "7201737e",
   "metadata": {},
   "source": [
    "#### No Parameters Tuning"
   ]
  },
  {
   "cell_type": "code",
   "execution_count": 11,
   "id": "898f3aaa",
   "metadata": {},
   "outputs": [
    {
     "data": {
      "text/plain": [
       "Pipeline(steps=[('vect',\n",
       "                 CountVectorizer(analyzer=<function <lambda> at 0x7f7c550c2820>,\n",
       "                                 max_features=15000, min_df=5)),\n",
       "                ('tfidf', TfidfTransformer()),\n",
       "                ('clf', RandomForestClassifier())])"
      ]
     },
     "execution_count": 11,
     "metadata": {},
     "output_type": "execute_result"
    }
   ],
   "source": [
    "rf_pipeline = Pipeline([\n",
    "    ('vect', CountVectorizer(min_df=5, max_features=15000, analyzer=lambda x: x)),  \n",
    "    ('tfidf', TfidfTransformer()),\n",
    "    ('clf', RandomForestClassifier()) ])\n",
    "\n",
    "rf_pipeline.fit(X_train,y_train)"
   ]
  },
  {
   "cell_type": "code",
   "execution_count": 12,
   "id": "8dac68b5",
   "metadata": {},
   "outputs": [
    {
     "name": "stdout",
     "output_type": "stream",
     "text": [
      "              precision    recall  f1-score   support\n",
      "\n",
      "           0       0.84      0.92      0.88      6741\n",
      "           1       0.91      0.83      0.87      6740\n",
      "\n",
      "    accuracy                           0.87     13481\n",
      "   macro avg       0.88      0.87      0.87     13481\n",
      "weighted avg       0.88      0.87      0.87     13481\n",
      "\n"
     ]
    }
   ],
   "source": [
    "y_pred = rf_pipeline.predict(X_test)\n",
    "print(classification_report(y_test, y_pred))"
   ]
  },
  {
   "cell_type": "code",
   "execution_count": 13,
   "id": "b4a50593",
   "metadata": {},
   "outputs": [
    {
     "data": {
      "image/png": "[encoded data removed]",
      "text/plain": [
       "<Figure size 432x288 with 2 Axes>"
      ]
     },
     "metadata": {
      "needs_background": "light"
     },
     "output_type": "display_data"
    }
   ],
   "source": [
    "cf_matrix = confusion_matrix(y_test, y_pred)\n",
    "make_confusion_matrix(cf_matrix, 'Random Forest - Confusion Matrix')"
   ]
  },
  {
   "cell_type": "code",
   "execution_count": 14,
   "id": "eeb66edd",
   "metadata": {},
   "outputs": [
    {
     "data": {
      "image/png": "[encoded data removed]",
      "text/plain": [
       "<Figure size 432x288 with 1 Axes>"
      ]
     },
     "metadata": {
      "needs_background": "light"
     },
     "output_type": "display_data"
    }
   ],
   "source": [
    "plot_roc_curve(y_test, y_pred, 'Random Forest')"
   ]
  },
  {
   "cell_type": "markdown",
   "id": "d4d634cd",
   "metadata": {},
   "source": [
    "#### Parameters Tuning"
   ]
  },
  {
   "cell_type": "code",
   "execution_count": 18,
   "id": "075a77c8",
   "metadata": {},
   "outputs": [],
   "source": [
    "rf_pipeline = Pipeline([\n",
    "    ('vect', CountVectorizer(min_df=5, max_features=15000, analyzer=lambda x: x)),  \n",
    "    ('tfidf', TfidfTransformer()),\n",
    "    ('clf', RandomForestClassifier()) ])"
   ]
  },
  {
   "cell_type": "code",
   "execution_count": 19,
   "id": "6710f9de-6ce6-4946-9cad-a9ed694e10af",
   "metadata": {},
   "outputs": [
    {
     "data": {
      "text/plain": [
       "dict_keys(['memory', 'steps', 'verbose', 'vect', 'tfidf', 'clf', 'vect__analyzer', 'vect__binary', 'vect__decode_error', 'vect__dtype', 'vect__encoding', 'vect__input', 'vect__lowercase', 'vect__max_df', 'vect__max_features', 'vect__min_df', 'vect__ngram_range', 'vect__preprocessor', 'vect__stop_words', 'vect__strip_accents', 'vect__token_pattern', 'vect__tokenizer', 'vect__vocabulary', 'tfidf__norm', 'tfidf__smooth_idf', 'tfidf__sublinear_tf', 'tfidf__use_idf', 'clf__bootstrap', 'clf__ccp_alpha', 'clf__class_weight', 'clf__criterion', 'clf__max_depth', 'clf__max_features', 'clf__max_leaf_nodes', 'clf__max_samples', 'clf__min_impurity_decrease', 'clf__min_impurity_split', 'clf__min_samples_leaf', 'clf__min_samples_split', 'clf__min_weight_fraction_leaf', 'clf__n_estimators', 'clf__n_jobs', 'clf__oob_score', 'clf__random_state', 'clf__verbose', 'clf__warm_start'])"
      ]
     },
     "execution_count": 19,
     "metadata": {},
     "output_type": "execute_result"
    }
   ],
   "source": [
    "rf_pipeline.get_params().keys()"
   ]
  },
  {
   "cell_type": "code",
   "execution_count": 20,
   "id": "0c53ec8a",
   "metadata": {},
   "outputs": [],
   "source": [
    "params = {'vect__ngram_range': [(1, 1), (1, 2)],\n",
    "          'tfidf__use_idf': (True, False),\n",
    "          'clf__criterion': [\"gini\",\"entropy\"],\n",
    "          'clf__min_samples_split':[2,3,5,7,10]\n",
    "         }"
   ]
  },
  {
   "cell_type": "code",
   "execution_count": 21,
   "id": "d9dfbeb3",
   "metadata": {},
   "outputs": [],
   "source": [
    "gs = GridSearchCV(estimator=rf_pipeline, param_grid=params, n_jobs=-1, cv=4)\n",
    "gs_results = gs.fit(X_train, y_train)"
   ]
  },
  {
   "cell_type": "code",
   "execution_count": 22,
   "id": "aaf8026c",
   "metadata": {},
   "outputs": [
    {
     "name": "stdout",
     "output_type": "stream",
     "text": [
      "best parameters:\n",
      "{'clf__criterion': 'gini', 'clf__min_samples_split': 5, 'tfidf__use_idf': False, 'vect__ngram_range': (1, 1)}\n",
      "accuracy: 0.8714035924336353\n"
     ]
    }
   ],
   "source": [
    "print(f\"best parameters:\\n{gs_results.best_params_}\\naccuracy: {gs_results.best_score_}\")"
   ]
  },
  {
   "cell_type": "markdown",
   "id": "6234a886",
   "metadata": {},
   "source": [
    "#### Retrain and test the model"
   ]
  },
  {
   "cell_type": "code",
   "execution_count": 23,
   "id": "470902cd",
   "metadata": {},
   "outputs": [],
   "source": [
    "rf_pipeline = Pipeline([\n",
    "    ('vect', CountVectorizer(min_df=5, max_features=15000, analyzer=lambda x: x,ngram_range=(1, 1))),  \n",
    "    ('tfidf', TfidfTransformer(use_idf=False)),  \n",
    "    ('clf', RandomForestClassifier(criterion=\"gini\",min_samples_split=5 )) ])"
   ]
  },
  {
   "cell_type": "code",
   "execution_count": 24,
   "id": "ebe723c1",
   "metadata": {},
   "outputs": [
    {
     "data": {
      "text/plain": [
       "Pipeline(steps=[('vect',\n",
       "                 CountVectorizer(analyzer=<function <lambda> at 0x7f7c567df040>,\n",
       "                                 max_features=15000, min_df=5)),\n",
       "                ('tfidf', TfidfTransformer(use_idf=False)),\n",
       "                ('clf', RandomForestClassifier(min_samples_split=5))])"
      ]
     },
     "execution_count": 24,
     "metadata": {},
     "output_type": "execute_result"
    }
   ],
   "source": [
    "rf_pipeline.fit(X_train,y_train)"
   ]
  },
  {
   "cell_type": "code",
   "execution_count": 25,
   "id": "a60b0267",
   "metadata": {},
   "outputs": [
    {
     "name": "stdout",
     "output_type": "stream",
     "text": [
      "              precision    recall  f1-score   support\n",
      "\n",
      "           0       0.85      0.92      0.88      6741\n",
      "           1       0.91      0.83      0.87      6740\n",
      "\n",
      "    accuracy                           0.88     13481\n",
      "   macro avg       0.88      0.88      0.88     13481\n",
      "weighted avg       0.88      0.88      0.88     13481\n",
      "\n"
     ]
    }
   ],
   "source": [
    "y_pred = rf_pipeline.predict(X_test)\n",
    "print(classification_report(y_test, y_pred))"
   ]
  },
  {
   "cell_type": "code",
   "execution_count": 26,
   "id": "fc21cc75",
   "metadata": {},
   "outputs": [
    {
     "data": {
      "image/png": "[encoded data removed]",
      "text/plain": [
       "<Figure size 432x288 with 2 Axes>"
      ]
     },
     "metadata": {
      "needs_background": "light"
     },
     "output_type": "display_data"
    }
   ],
   "source": [
    "cf_matrix = confusion_matrix(y_test, y_pred)\n",
    "make_confusion_matrix(cf_matrix, 'Random Forest - Confusion Matrix')"
   ]
  },
  {
   "cell_type": "code",
   "execution_count": 27,
   "id": "3ef2cdf3",
   "metadata": {},
   "outputs": [
    {
     "data": {
      "image/png": "[encoded data removed]",
      "text/plain": [
       "<Figure size 432x288 with 1 Axes>"
      ]
     },
     "metadata": {
      "needs_background": "light"
     },
     "output_type": "display_data"
    }
   ],
   "source": [
    "plot_roc_curve(y_test, y_pred, 'Random Forest')"
   ]
  },
  {
   "cell_type": "code",
   "execution_count": null,
   "id": "48ca7a68",
   "metadata": {},
   "outputs": [],
   "source": []
  }
 ],
 "metadata": {
  "kernelspec": {
   "display_name": "Python 3 (ipykernel)",
   "language": "python",
   "name": "python3"
  },
  "language_info": {
   "codemirror_mode": {
    "name": "ipython",
    "version": 3
   },
   "file_extension": ".py",
   "mimetype": "text/x-python",
   "name": "python",
   "nbconvert_exporter": "python",
   "pygments_lexer": "ipython3",
   "version": "3.9.7"
  }
 },
 "nbformat": 4,
 "nbformat_minor": 5
}
