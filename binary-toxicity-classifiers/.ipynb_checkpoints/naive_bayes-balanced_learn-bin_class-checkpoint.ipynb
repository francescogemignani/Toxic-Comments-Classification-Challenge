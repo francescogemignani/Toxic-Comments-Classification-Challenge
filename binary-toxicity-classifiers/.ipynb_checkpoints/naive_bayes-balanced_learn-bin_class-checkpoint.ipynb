{
 "cells": [
  {
   "cell_type": "markdown",
   "id": "1399b11d",
   "metadata": {},
   "source": [
    "## Naive Bayes Classifier - Balanced Learning"
   ]
  },
  {
   "cell_type": "markdown",
   "id": "c092a08f",
   "metadata": {},
   "source": [
    "### Setup & Utilities"
   ]
  },
  {
   "cell_type": "code",
   "execution_count": 16,
   "id": "c90dfb7f",
   "metadata": {},
   "outputs": [],
   "source": [
    "import pandas as pd\n",
    "import seaborn as sns\n",
    "import numpy as np\n",
    "import matplotlib.pyplot as plt\n",
    "\n",
    "from sklearn.model_selection import train_test_split\n",
    "from sklearn.feature_extraction.text import TfidfVectorizer\n",
    "from sklearn.naive_bayes import MultinomialNB\n",
    "from sklearn.svm import SVC, LinearSVC\n",
    "from sklearn.model_selection import GridSearchCV\n",
    "from sklearn.feature_extraction.text import CountVectorizer, TfidfTransformer\n",
    "from sklearn.pipeline import Pipeline\n",
    "from sklearn.metrics import confusion_matrix, classification_report"
   ]
  },
  {
   "cell_type": "code",
   "execution_count": 9,
   "id": "2c8fd540",
   "metadata": {},
   "outputs": [],
   "source": [
    "# utility function\n",
    "def make_confusion_matrix( cfm, title):\n",
    "    group_names = ['TN','FP','FN','TP']\n",
    "\n",
    "    group_counts = [\"{0:0.0f}\".format(value) for value in\n",
    "                cfm.flatten()]\n",
    "\n",
    "    group_percentages = [\"{0:.2%}\".format(value) for value in\n",
    "                     cfm.flatten()/np.sum(cfm)]\n",
    "\n",
    "    labels = [f\"{v1}\\n{v2}\\n{v3}\" for v1, v2, v3 in\n",
    "          zip(group_names,group_counts,group_percentages)]\n",
    "\n",
    "    labels = np.asarray(labels).reshape(2,2)\n",
    "    plt.title(title)\n",
    "    \n",
    "    sns.heatmap(cfm, annot=labels, fmt=\"\", cmap='Blues')\n",
    "    plt.ylabel('True Label', fontsize=12)\n",
    "    plt.xlabel('Predicted',fontsize=12)"
   ]
  },
  {
   "cell_type": "code",
   "execution_count": 10,
   "id": "ef88e25b",
   "metadata": {},
   "outputs": [],
   "source": [
    "from sklearn.metrics import roc_curve,auc\n",
    "\n",
    "def plot_roc_curve(y_test, prediction, name_model):\n",
    "    test_fpr, test_tpr, te_thresholds = roc_curve(y_test, prediction)\n",
    "\n",
    "    plt.grid()\n",
    "    auc_score = round(auc(test_fpr, test_tpr),2)\n",
    "    plt.plot(test_fpr, test_tpr, label=f\"{name_model} - AUC =\"+ str(auc_score))\n",
    "    plt.plot([0,1],[0,1],'r--')\n",
    "    plt.legend()\n",
    "    plt.xlabel(\"True Positive Rate\")\n",
    "    plt.ylabel(\"False Positive Rate\")\n",
    "    plt.title(f\" AUC(ROC curve) - {name_model}\")\n",
    "    plt.grid(color='black', linestyle='', linewidth=0.5)\n",
    "    plt.show()"
   ]
  },
  {
   "cell_type": "markdown",
   "id": "77646f92",
   "metadata": {},
   "source": [
    "## Import Dataset"
   ]
  },
  {
   "cell_type": "code",
   "execution_count": 11,
   "id": "e416ad4a-b423-4772-b004-e2856f52dd2d",
   "metadata": {},
   "outputs": [],
   "source": [
    "df = pd.read_csv('../data/alldata-balanced-cleaned.zip', compression='zip')\n",
    "data = 'tokenized_stemmed'\n",
    "target = 'toxicity'"
   ]
  },
  {
   "cell_type": "code",
   "execution_count": 12,
   "id": "b64652d5",
   "metadata": {},
   "outputs": [
    {
     "data": {
      "text/html": [
       "<div>\n",
       "<style scoped>\n",
       "    .dataframe tbody tr th:only-of-type {\n",
       "        vertical-align: middle;\n",
       "    }\n",
       "\n",
       "    .dataframe tbody tr th {\n",
       "        vertical-align: top;\n",
       "    }\n",
       "\n",
       "    .dataframe thead th {\n",
       "        text-align: right;\n",
       "    }\n",
       "</style>\n",
       "<table border=\"1\" class=\"dataframe\">\n",
       "  <thead>\n",
       "    <tr style=\"text-align: right;\">\n",
       "      <th></th>\n",
       "      <th>id</th>\n",
       "      <th>comment_text</th>\n",
       "      <th>clean_text</th>\n",
       "      <th>tokenized</th>\n",
       "      <th>tokenized_no_stopwords</th>\n",
       "      <th>tokenized_stemmed</th>\n",
       "      <th>tokenized_pos</th>\n",
       "      <th>tokenized_lemmatized</th>\n",
       "      <th>tokenized_lemmatized_pos</th>\n",
       "      <th>tokenized_bigram</th>\n",
       "      <th>toxicity</th>\n",
       "    </tr>\n",
       "  </thead>\n",
       "  <tbody>\n",
       "    <tr>\n",
       "      <th>0</th>\n",
       "      <td>c0946290dc76ce60</td>\n",
       "      <td>your buddy tyto alba is much more friendly, pe...</td>\n",
       "      <td>your buddy tyto alba is much more friendly peh...</td>\n",
       "      <td>['your', 'buddy', 'tyto', 'alba', 'is', 'much'...</td>\n",
       "      <td>['buddy', 'tyto', 'alba', 'much', 'friendly', ...</td>\n",
       "      <td>['buddi', 'tyto', 'alba', 'much', 'friendli', ...</td>\n",
       "      <td>[('buddy', 'NN'), ('tyto', 'NN'), ('alba', 'RB...</td>\n",
       "      <td>['buddy', 'tyto', 'alba', 'much', 'friendly', ...</td>\n",
       "      <td>['buddy', 'tyto', 'alba', 'much', 'friendly', ...</td>\n",
       "      <td>[('buddy', 'tyto'), ('tyto', 'alba'), ('alba',...</td>\n",
       "      <td>0</td>\n",
       "    </tr>\n",
       "    <tr>\n",
       "      <th>1</th>\n",
       "      <td>9f7132cdba6829e6</td>\n",
       "      <td>\" \\n\\n == \"\"Reception\"\" 6 June 2013 == \\n\\n I'...</td>\n",
       "      <td>reception 6 june 2013    i have added back...</td>\n",
       "      <td>['reception', '6', 'june', '2013', 'i', 'have'...</td>\n",
       "      <td>['reception', '6', 'june', '2013', 'added', 'b...</td>\n",
       "      <td>['recept', '6', 'june', '2013', 'ad', 'back', ...</td>\n",
       "      <td>[('reception', 'NN'), ('6', 'CD'), ('june', 'N...</td>\n",
       "      <td>['reception', '6', 'june', '2013', 'added', 'b...</td>\n",
       "      <td>['reception', '6', 'june', '2013', 'add', 'bac...</td>\n",
       "      <td>[('reception', '6'), ('6', 'june'), ('june', '...</td>\n",
       "      <td>0</td>\n",
       "    </tr>\n",
       "    <tr>\n",
       "      <th>2</th>\n",
       "      <td>92ce6baadfc370c8</td>\n",
       "      <td>In an older interview, Ogre described the musi...</td>\n",
       "      <td>in an older interview ogre described the music...</td>\n",
       "      <td>['in', 'an', 'older', 'interview', 'ogre', 'de...</td>\n",
       "      <td>['older', 'interview', 'ogre', 'described', 'm...</td>\n",
       "      <td>['older', 'interview', 'ogr', 'describ', 'musi...</td>\n",
       "      <td>[('older', 'JJR'), ('interview', 'NN'), ('ogre...</td>\n",
       "      <td>['older', 'interview', 'ogre', 'described', 'm...</td>\n",
       "      <td>['old', 'interview', 'ogre', 'described', 'mus...</td>\n",
       "      <td>[('older', 'interview'), ('interview', 'ogre')...</td>\n",
       "      <td>0</td>\n",
       "    </tr>\n",
       "    <tr>\n",
       "      <th>3</th>\n",
       "      <td>d5115e451e7bd281</td>\n",
       "      <td>== TFM == \\n\\n Good thinking. Gosh this is a m...</td>\n",
       "      <td>tfm    good thinking gosh this is a mess do n...</td>\n",
       "      <td>['tfm', 'good', 'thinking', 'gosh', 'this', 'i...</td>\n",
       "      <td>['tfm', 'good', 'thinking', 'gosh', 'mess', 'a...</td>\n",
       "      <td>['tfm', 'good', 'think', 'gosh', 'mess', 'arti...</td>\n",
       "      <td>[('tfm', 'RB'), ('good', 'JJ'), ('thinking', '...</td>\n",
       "      <td>['tfm', 'good', 'thinking', 'gosh', 'mess', 'a...</td>\n",
       "      <td>['tfm', 'good', 'thinking', 'gosh', 'mess', 'a...</td>\n",
       "      <td>[('tfm', 'good'), ('good', 'thinking'), ('thin...</td>\n",
       "      <td>0</td>\n",
       "    </tr>\n",
       "    <tr>\n",
       "      <th>4</th>\n",
       "      <td>71407371449cfe87</td>\n",
       "      <td>== The real reason detainees should be left in...</td>\n",
       "      <td>the real reason detainees should be left in g...</td>\n",
       "      <td>['the', 'real', 'reason', 'detainees', 'should...</td>\n",
       "      <td>['real', 'reason', 'detainees', 'left', 'gitmo...</td>\n",
       "      <td>['real', 'reason', 'detaine', 'left', 'gitmo',...</td>\n",
       "      <td>[('real', 'JJ'), ('reason', 'NN'), ('detainees...</td>\n",
       "      <td>['real', 'reason', 'detainee', 'left', 'gitmo'...</td>\n",
       "      <td>['real', 'reason', 'detainee', 'leave', 'gitmo...</td>\n",
       "      <td>[('real', 'reason'), ('reason', 'detainees'), ...</td>\n",
       "      <td>0</td>\n",
       "    </tr>\n",
       "  </tbody>\n",
       "</table>\n",
       "</div>"
      ],
      "text/plain": [
       "                 id                                       comment_text  \\\n",
       "0  c0946290dc76ce60  your buddy tyto alba is much more friendly, pe...   \n",
       "1  9f7132cdba6829e6  \" \\n\\n == \"\"Reception\"\" 6 June 2013 == \\n\\n I'...   \n",
       "2  92ce6baadfc370c8  In an older interview, Ogre described the musi...   \n",
       "3  d5115e451e7bd281  == TFM == \\n\\n Good thinking. Gosh this is a m...   \n",
       "4  71407371449cfe87  == The real reason detainees should be left in...   \n",
       "\n",
       "                                          clean_text  \\\n",
       "0  your buddy tyto alba is much more friendly peh...   \n",
       "1      reception 6 june 2013    i have added back...   \n",
       "2  in an older interview ogre described the music...   \n",
       "3   tfm    good thinking gosh this is a mess do n...   \n",
       "4   the real reason detainees should be left in g...   \n",
       "\n",
       "                                           tokenized  \\\n",
       "0  ['your', 'buddy', 'tyto', 'alba', 'is', 'much'...   \n",
       "1  ['reception', '6', 'june', '2013', 'i', 'have'...   \n",
       "2  ['in', 'an', 'older', 'interview', 'ogre', 'de...   \n",
       "3  ['tfm', 'good', 'thinking', 'gosh', 'this', 'i...   \n",
       "4  ['the', 'real', 'reason', 'detainees', 'should...   \n",
       "\n",
       "                              tokenized_no_stopwords  \\\n",
       "0  ['buddy', 'tyto', 'alba', 'much', 'friendly', ...   \n",
       "1  ['reception', '6', 'june', '2013', 'added', 'b...   \n",
       "2  ['older', 'interview', 'ogre', 'described', 'm...   \n",
       "3  ['tfm', 'good', 'thinking', 'gosh', 'mess', 'a...   \n",
       "4  ['real', 'reason', 'detainees', 'left', 'gitmo...   \n",
       "\n",
       "                                   tokenized_stemmed  \\\n",
       "0  ['buddi', 'tyto', 'alba', 'much', 'friendli', ...   \n",
       "1  ['recept', '6', 'june', '2013', 'ad', 'back', ...   \n",
       "2  ['older', 'interview', 'ogr', 'describ', 'musi...   \n",
       "3  ['tfm', 'good', 'think', 'gosh', 'mess', 'arti...   \n",
       "4  ['real', 'reason', 'detaine', 'left', 'gitmo',...   \n",
       "\n",
       "                                       tokenized_pos  \\\n",
       "0  [('buddy', 'NN'), ('tyto', 'NN'), ('alba', 'RB...   \n",
       "1  [('reception', 'NN'), ('6', 'CD'), ('june', 'N...   \n",
       "2  [('older', 'JJR'), ('interview', 'NN'), ('ogre...   \n",
       "3  [('tfm', 'RB'), ('good', 'JJ'), ('thinking', '...   \n",
       "4  [('real', 'JJ'), ('reason', 'NN'), ('detainees...   \n",
       "\n",
       "                                tokenized_lemmatized  \\\n",
       "0  ['buddy', 'tyto', 'alba', 'much', 'friendly', ...   \n",
       "1  ['reception', '6', 'june', '2013', 'added', 'b...   \n",
       "2  ['older', 'interview', 'ogre', 'described', 'm...   \n",
       "3  ['tfm', 'good', 'thinking', 'gosh', 'mess', 'a...   \n",
       "4  ['real', 'reason', 'detainee', 'left', 'gitmo'...   \n",
       "\n",
       "                            tokenized_lemmatized_pos  \\\n",
       "0  ['buddy', 'tyto', 'alba', 'much', 'friendly', ...   \n",
       "1  ['reception', '6', 'june', '2013', 'add', 'bac...   \n",
       "2  ['old', 'interview', 'ogre', 'described', 'mus...   \n",
       "3  ['tfm', 'good', 'thinking', 'gosh', 'mess', 'a...   \n",
       "4  ['real', 'reason', 'detainee', 'leave', 'gitmo...   \n",
       "\n",
       "                                    tokenized_bigram  toxicity  \n",
       "0  [('buddy', 'tyto'), ('tyto', 'alba'), ('alba',...         0  \n",
       "1  [('reception', '6'), ('6', 'june'), ('june', '...         0  \n",
       "2  [('older', 'interview'), ('interview', 'ogre')...         0  \n",
       "3  [('tfm', 'good'), ('good', 'thinking'), ('thin...         0  \n",
       "4  [('real', 'reason'), ('reason', 'detainees'), ...         0  "
      ]
     },
     "execution_count": 12,
     "metadata": {},
     "output_type": "execute_result"
    }
   ],
   "source": [
    "df.head()"
   ]
  },
  {
   "cell_type": "code",
   "execution_count": 19,
   "id": "951469b3-84de-4d9d-bc71-1c8e644b1fa0",
   "metadata": {},
   "outputs": [
    {
     "data": {
      "text/plain": [
       "0    22468\n",
       "1    22468\n",
       "Name: toxicity, dtype: int64"
      ]
     },
     "execution_count": 19,
     "metadata": {},
     "output_type": "execute_result"
    }
   ],
   "source": [
    "df[target].value_counts()"
   ]
  },
  {
   "cell_type": "code",
   "execution_count": null,
   "id": "40f46d65-a8a5-4db3-87d0-16c748601b15",
   "metadata": {},
   "outputs": [],
   "source": []
  },
  {
   "cell_type": "markdown",
   "id": "6103aa8d",
   "metadata": {},
   "source": [
    "## Split Data"
   ]
  },
  {
   "cell_type": "code",
   "execution_count": 21,
   "id": "2de1ed22-a608-4404-b0c7-72572f0112a0",
   "metadata": {},
   "outputs": [],
   "source": [
    "X_train, X_test, y_train, y_test = train_test_split(df[data], df[target], test_size=0.30, random_state=42, stratify=df[target]) "
   ]
  },
  {
   "cell_type": "code",
   "execution_count": 22,
   "id": "2071f173-8865-4ab9-8157-bc4262b589ce",
   "metadata": {},
   "outputs": [
    {
     "name": "stdout",
     "output_type": "stream",
     "text": [
      "Training set\n",
      "1    15728\n",
      "0    15727\n",
      "Name: toxicity, dtype: int64\n",
      "\n",
      "Test set\n",
      "0    6741\n",
      "1    6740\n",
      "Name: toxicity, dtype: int64\n",
      "\n"
     ]
    }
   ],
   "source": [
    "print(f\"Training set\\n{y_train.value_counts()}\\n\")\n",
    "print(f\"Test set\\n{y_test.value_counts()}\\n\")"
   ]
  },
  {
   "cell_type": "markdown",
   "id": "309271f5",
   "metadata": {},
   "source": [
    "## Naive Bayes Classifier"
   ]
  },
  {
   "cell_type": "markdown",
   "id": "7201737e",
   "metadata": {},
   "source": [
    "#### No Parameters Tuning"
   ]
  },
  {
   "cell_type": "code",
   "execution_count": 23,
   "id": "898f3aaa",
   "metadata": {},
   "outputs": [
    {
     "data": {
      "text/plain": [
       "Pipeline(steps=[('vect', CountVectorizer()), ('tfidf', TfidfTransformer()),\n",
       "                ('clf', MultinomialNB())])"
      ]
     },
     "execution_count": 23,
     "metadata": {},
     "output_type": "execute_result"
    }
   ],
   "source": [
    "nb_pipeline = Pipeline([\n",
    "    ('vect', CountVectorizer()),  \n",
    "    ('tfidf', TfidfTransformer()),\n",
    "    ('clf', MultinomialNB()) ])\n",
    "\n",
    "nb_pipeline.fit(X_train,y_train)"
   ]
  },
  {
   "cell_type": "code",
   "execution_count": 24,
   "id": "8dac68b5",
   "metadata": {},
   "outputs": [
    {
     "name": "stdout",
     "output_type": "stream",
     "text": [
      "              precision    recall  f1-score   support\n",
      "\n",
      "           0       0.85      0.88      0.87      6741\n",
      "           1       0.88      0.85      0.86      6740\n",
      "\n",
      "    accuracy                           0.87     13481\n",
      "   macro avg       0.87      0.87      0.87     13481\n",
      "weighted avg       0.87      0.87      0.87     13481\n",
      "\n"
     ]
    }
   ],
   "source": [
    "y_pred = nb_pipeline.predict(X_test)\n",
    "print(classification_report(y_test, y_pred))"
   ]
  },
  {
   "cell_type": "code",
   "execution_count": 25,
   "id": "b4a50593",
   "metadata": {},
   "outputs": [
    {
     "data": {
      "image/png": "[encoded data removed]",
      "text/plain": [
       "<Figure size 432x288 with 2 Axes>"
      ]
     },
     "metadata": {
      "needs_background": "light"
     },
     "output_type": "display_data"
    }
   ],
   "source": [
    "cf_matrix = confusion_matrix(y_test, y_pred)\n",
    "make_confusion_matrix(cf_matrix, 'Naive Bayes - Confusion Matrix')"
   ]
  },
  {
   "cell_type": "code",
   "execution_count": 26,
   "id": "eeb66edd",
   "metadata": {},
   "outputs": [
    {
     "data": {
      "image/png": "[encoded data removed]",
      "text/plain": [
       "<Figure size 432x288 with 1 Axes>"
      ]
     },
     "metadata": {
      "needs_background": "light"
     },
     "output_type": "display_data"
    }
   ],
   "source": [
    "plot_roc_curve(y_test, y_pred, 'Naive Bayes')"
   ]
  },
  {
   "cell_type": "markdown",
   "id": "d4d634cd",
   "metadata": {},
   "source": [
    "#### Parameters Tuning"
   ]
  },
  {
   "cell_type": "code",
   "execution_count": 27,
   "id": "075a77c8",
   "metadata": {},
   "outputs": [],
   "source": [
    "nb_pipeline = Pipeline([\n",
    "    ('vect', CountVectorizer()),  \n",
    "    ('tfidf', TfidfTransformer()),\n",
    "    ('clf', MultinomialNB()) ])"
   ]
  },
  {
   "cell_type": "code",
   "execution_count": 28,
   "id": "0c53ec8a",
   "metadata": {},
   "outputs": [],
   "source": [
    "params = {'vect__ngram_range': [(1, 1), (1, 2)],\n",
    "          'tfidf__use_idf': (True, False),\n",
    "          'clf__alpha': (1,1e-1,1e-2, 1e-3)}"
   ]
  },
  {
   "cell_type": "code",
   "execution_count": 29,
   "id": "d9dfbeb3",
   "metadata": {},
   "outputs": [],
   "source": [
    "gs = GridSearchCV(estimator=nb_pipeline, param_grid=params, n_jobs=-1, cv=3)\n",
    "gs_results = gs.fit(X_train, y_train)"
   ]
  },
  {
   "cell_type": "code",
   "execution_count": 30,
   "id": "aaf8026c",
   "metadata": {},
   "outputs": [
    {
     "name": "stdout",
     "output_type": "stream",
     "text": [
      "best parameters:\n",
      "{'clf__alpha': 0.1, 'tfidf__use_idf': False, 'vect__ngram_range': (1, 1)}\n",
      "accuracy: 0.8741694484183755\n"
     ]
    }
   ],
   "source": [
    "print(f\"best parameters:\\n{gs_results.best_params_}\\naccuracy: {gs_results.best_score_}\")"
   ]
  },
  {
   "cell_type": "markdown",
   "id": "6234a886",
   "metadata": {},
   "source": [
    "#### Retrain and test the model"
   ]
  },
  {
   "cell_type": "code",
   "execution_count": 31,
   "id": "470902cd",
   "metadata": {},
   "outputs": [],
   "source": [
    "nb_pipeline = Pipeline([\n",
    "    ('vect', CountVectorizer(ngram_range=(1, 1))),  \n",
    "    ('tfidf', TfidfTransformer(use_idf=False)),  \n",
    "    ('clf', MultinomialNB(alpha=0.1 )) ])"
   ]
  },
  {
   "cell_type": "code",
   "execution_count": 32,
   "id": "ebe723c1",
   "metadata": {},
   "outputs": [
    {
     "data": {
      "text/plain": [
       "Pipeline(steps=[('vect', CountVectorizer()),\n",
       "                ('tfidf', TfidfTransformer(use_idf=False)),\n",
       "                ('clf', MultinomialNB(alpha=0.1))])"
      ]
     },
     "execution_count": 32,
     "metadata": {},
     "output_type": "execute_result"
    }
   ],
   "source": [
    "nb_pipeline.fit(X_train,y_train)"
   ]
  },
  {
   "cell_type": "code",
   "execution_count": 33,
   "id": "a60b0267",
   "metadata": {},
   "outputs": [
    {
     "name": "stdout",
     "output_type": "stream",
     "text": [
      "              precision    recall  f1-score   support\n",
      "\n",
      "           0       0.87      0.87      0.87      6741\n",
      "           1       0.87      0.87      0.87      6740\n",
      "\n",
      "    accuracy                           0.87     13481\n",
      "   macro avg       0.87      0.87      0.87     13481\n",
      "weighted avg       0.87      0.87      0.87     13481\n",
      "\n"
     ]
    }
   ],
   "source": [
    "y_pred = nb_pipeline.predict(X_test)\n",
    "print(classification_report(y_test, y_pred))"
   ]
  },
  {
   "cell_type": "code",
   "execution_count": 34,
   "id": "fc21cc75",
   "metadata": {},
   "outputs": [
    {
     "data": {
      "image/png": "[encoded data removed]",
      "text/plain": [
       "<Figure size 432x288 with 2 Axes>"
      ]
     },
     "metadata": {
      "needs_background": "light"
     },
     "output_type": "display_data"
    }
   ],
   "source": [
    "cf_matrix = confusion_matrix(y_test, y_pred)\n",
    "make_confusion_matrix(cf_matrix, 'Naive Bayes - Confusion Matrix')"
   ]
  },
  {
   "cell_type": "code",
   "execution_count": 35,
   "id": "3ef2cdf3",
   "metadata": {},
   "outputs": [
    {
     "data": {
      "image/png": "[encoded data removed]",
      "text/plain": [
       "<Figure size 432x288 with 1 Axes>"
      ]
     },
     "metadata": {
      "needs_background": "light"
     },
     "output_type": "display_data"
    }
   ],
   "source": [
    "plot_roc_curve(y_test, y_pred, 'Naive Bayes')"
   ]
  },
  {
   "cell_type": "code",
   "execution_count": null,
   "id": "48ca7a68",
   "metadata": {},
   "outputs": [],
   "source": []
  }
 ],
 "metadata": {
  "kernelspec": {
   "display_name": "Python 3",
   "language": "python",
   "name": "python3"
  },
  "language_info": {
   "codemirror_mode": {
    "name": "ipython",
    "version": 3
   },
   "file_extension": ".py",
   "mimetype": "text/x-python",
   "name": "python",
   "nbconvert_exporter": "python",
   "pygments_lexer": "ipython3",
   "version": "3.8.8"
  }
 },
 "nbformat": 4,
 "nbformat_minor": 5
}
