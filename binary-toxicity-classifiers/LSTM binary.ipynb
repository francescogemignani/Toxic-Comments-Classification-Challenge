{
 "cells": [
  {
   "cell_type": "code",
   "execution_count": 10,
   "metadata": {
    "colab": {
     "base_uri": "https://localhost:8080/"
    },
    "id": "4-P4Cuq3hH1W",
    "outputId": "1ded99b5-a08e-4a92-990d-edcf8a5cd581"
   },
   "outputs": [
    {
     "name": "stdout",
     "output_type": "stream",
     "text": [
      "Num GPUs Available:  1\n"
     ]
    }
   ],
   "source": [
    "import warnings\n",
    "warnings.filterwarnings(\"ignore\")\n",
    "\n",
    "import os\n",
    "os.environ['TF_CPP_MIN_LOG_LEVEL'] = '3'\n",
    "\n",
    "import pandas as pd\n",
    "import numpy as np\n",
    "import tensorflow as tf\n",
    "from tensorflow import keras\n",
    "from keras.layers import Dropout, Dense, LSTM, CuDNNLSTM, Embedding, Bidirectional\n",
    "from keras.preprocessing.text import Tokenizer\n",
    "from keras.preprocessing.sequence import pad_sequences\n",
    "from keras.models import Sequential\n",
    "from sklearn.model_selection import train_test_split\n",
    "from sklearn.metrics import classification_report, multilabel_confusion_matrix, confusion_matrix, \\\n",
    "                                        accuracy_score\n",
    "import matplotlib.pyplot as plt\n",
    "%matplotlib inline\n",
    "import seaborn as sns\n",
    "\n",
    "print(\"Num GPUs Available: \", len(tf.config.list_physical_devices('GPU')))"
   ]
  },
  {
   "cell_type": "code",
   "execution_count": 11,
   "metadata": {},
   "outputs": [],
   "source": [
    "# utility function\n",
    "def make_confusion_matrix( cfm, title):\n",
    "    group_names = ['TN','FP','FN','TP']\n",
    "\n",
    "    group_counts = [\"{0:0.0f}\".format(value) for value in\n",
    "                cfm.flatten()]\n",
    "\n",
    "    group_percentages = [\"{0:.2%}\".format(value) for value in\n",
    "                     cfm.flatten()/np.sum(cfm)]\n",
    "\n",
    "    labels = [f\"{v1}\\n{v2}\\n{v3}\" for v1, v2, v3 in\n",
    "          zip(group_names,group_counts,group_percentages)]\n",
    "\n",
    "    labels = np.asarray(labels).reshape(2,2)\n",
    "    plt.title(title)\n",
    "    \n",
    "    sns.heatmap(cfm, annot=labels, fmt=\"\", cmap='Blues')\n",
    "    plt.ylabel('True Label', fontsize=12)\n",
    "    plt.xlabel('Predicted',fontsize=12)"
   ]
  },
  {
   "cell_type": "code",
   "execution_count": 12,
   "metadata": {},
   "outputs": [],
   "source": [
    "from sklearn.metrics import roc_curve,auc\n",
    "\n",
    "def plot_roc_curve(y_test, prediction, name_model):\n",
    "    test_fpr, test_tpr, te_thresholds = roc_curve(y_test, prediction)\n",
    "\n",
    "    plt.grid()\n",
    "    auc_score = round(auc(test_fpr, test_tpr),2)\n",
    "    plt.plot(test_fpr, test_tpr, label=f\"{name_model} - AUC =\"+ str(auc_score))\n",
    "    plt.plot([0,1],[0,1],'r--')\n",
    "    plt.legend()\n",
    "    plt.xlabel(\"True Positive Rate\")\n",
    "    plt.ylabel(\"False Positive Rate\")\n",
    "    plt.title(f\" AUC(ROC curve) - {name_model}\")\n",
    "    plt.grid(color='black', linestyle='', linewidth=0.5)\n",
    "    plt.show()"
   ]
  },
  {
   "cell_type": "code",
   "execution_count": 13,
   "metadata": {
    "id": "Z9GYX_xdTlUt"
   },
   "outputs": [],
   "source": [
    "#return dictionary with word: embedding_vector\n",
    "def load_embedding(fname):\n",
    "    embeddings_index = {}\n",
    "    f = open(fname, encoding=\"utf8\")\n",
    "    for line in f:\n",
    "        values = line.split()\n",
    "        word = values[0]\n",
    "        try:\n",
    "            embedding_vector = np.asarray(values[1:], dtype='float32')\n",
    "        except:\n",
    "            pass\n",
    "        embeddings_index[word] = embedding_vector\n",
    "    f.close()\n",
    "\n",
    "    return embeddings_index"
   ]
  },
  {
   "cell_type": "code",
   "execution_count": 14,
   "metadata": {
    "id": "wGyNJrLSWApK"
   },
   "outputs": [
    {
     "data": {
      "text/html": [
       "<div>\n",
       "<style scoped>\n",
       "    .dataframe tbody tr th:only-of-type {\n",
       "        vertical-align: middle;\n",
       "    }\n",
       "\n",
       "    .dataframe tbody tr th {\n",
       "        vertical-align: top;\n",
       "    }\n",
       "\n",
       "    .dataframe thead th {\n",
       "        text-align: right;\n",
       "    }\n",
       "</style>\n",
       "<table border=\"1\" class=\"dataframe\">\n",
       "  <thead>\n",
       "    <tr style=\"text-align: right;\">\n",
       "      <th></th>\n",
       "      <th>id</th>\n",
       "      <th>comment_text</th>\n",
       "      <th>toxic</th>\n",
       "      <th>severe_toxic</th>\n",
       "      <th>obscene</th>\n",
       "      <th>threat</th>\n",
       "      <th>insult</th>\n",
       "      <th>identity_hate</th>\n",
       "      <th>clean_text</th>\n",
       "      <th>tokenized</th>\n",
       "      <th>tokenized_no_stopwords</th>\n",
       "      <th>tokenized_stemmed</th>\n",
       "      <th>tokenized_pos</th>\n",
       "      <th>tokenized_lemmatized</th>\n",
       "      <th>tokenized_lemmatized_pos</th>\n",
       "      <th>tokenized_bigram</th>\n",
       "      <th>toxicity</th>\n",
       "    </tr>\n",
       "  </thead>\n",
       "  <tbody>\n",
       "    <tr>\n",
       "      <th>0</th>\n",
       "      <td>144abb9156acc835</td>\n",
       "      <td>\"\\nFor what it's worth, I suggest you refrain ...</td>\n",
       "      <td>0</td>\n",
       "      <td>0</td>\n",
       "      <td>0</td>\n",
       "      <td>0</td>\n",
       "      <td>0</td>\n",
       "      <td>0</td>\n",
       "      <td>for what it is worth i suggest you refrain fr...</td>\n",
       "      <td>['for', 'what', 'it', 'is', 'worth', 'i', 'sug...</td>\n",
       "      <td>['worth', 'suggest', 'refrain', 'pushing', 'so...</td>\n",
       "      <td>['worth', 'suggest', 'refrain', 'push', 'sock'...</td>\n",
       "      <td>[('worth', 'JJ'), ('suggest', 'JJS'), ('refrai...</td>\n",
       "      <td>['worth', 'suggest', 'refrain', 'pushing', 'so...</td>\n",
       "      <td>['worth', 'suggest', 'refrain', 'push', 'sock'...</td>\n",
       "      <td>[('worth', 'suggest'), ('suggest', 'refrain'),...</td>\n",
       "      <td>0</td>\n",
       "    </tr>\n",
       "  </tbody>\n",
       "</table>\n",
       "</div>"
      ],
      "text/plain": [
       "                 id                                       comment_text  toxic  \\\n",
       "0  144abb9156acc835  \"\\nFor what it's worth, I suggest you refrain ...      0   \n",
       "\n",
       "   severe_toxic  obscene  threat  insult  identity_hate  \\\n",
       "0             0        0       0       0              0   \n",
       "\n",
       "                                          clean_text  \\\n",
       "0   for what it is worth i suggest you refrain fr...   \n",
       "\n",
       "                                           tokenized  \\\n",
       "0  ['for', 'what', 'it', 'is', 'worth', 'i', 'sug...   \n",
       "\n",
       "                              tokenized_no_stopwords  \\\n",
       "0  ['worth', 'suggest', 'refrain', 'pushing', 'so...   \n",
       "\n",
       "                                   tokenized_stemmed  \\\n",
       "0  ['worth', 'suggest', 'refrain', 'push', 'sock'...   \n",
       "\n",
       "                                       tokenized_pos  \\\n",
       "0  [('worth', 'JJ'), ('suggest', 'JJS'), ('refrai...   \n",
       "\n",
       "                                tokenized_lemmatized  \\\n",
       "0  ['worth', 'suggest', 'refrain', 'pushing', 'so...   \n",
       "\n",
       "                            tokenized_lemmatized_pos  \\\n",
       "0  ['worth', 'suggest', 'refrain', 'push', 'sock'...   \n",
       "\n",
       "                                    tokenized_bigram  toxicity  \n",
       "0  [('worth', 'suggest'), ('suggest', 'refrain'),...         0  "
      ]
     },
     "execution_count": 14,
     "metadata": {},
     "output_type": "execute_result"
    }
   ],
   "source": [
    "df = pd.read_csv('../data/alldata-balanced-cleaned.zip', compression='zip')\n",
    "df.head(1)"
   ]
  },
  {
   "cell_type": "code",
   "execution_count": 15,
   "metadata": {
    "colab": {
     "base_uri": "https://localhost:8080/"
    },
    "id": "Nv8uhTgEa-pA",
    "outputId": "6672f414-e157-4c32-fa49-80efc338ca66"
   },
   "outputs": [
    {
     "data": {
      "text/plain": [
       "('\"\\nFor what it\\'s worth, I suggest you refrain from pushing the \"\"socks\"\" remarks around, as it only seems to add fuel to the matter. Given that an SPI has been opened and Checkuser denied due to Stale accounts and behaviour evidence alone, it serves no purpose to accuse him further, just as it serves no purpose for him to accuse you of stalking. No one is going to win that type of argument. Also, I suggest you stop calling cowboy \"\"Jake\"\" from now on, as it also implies that he is someone he claims not to be. Clearly he is determined to push his case, and the only way to make it go away is that you ignore him altogether. Socks are a complex issue as they come in different forms. But if you give them enough rope, they\\'ll eventually hang themselves with it. Challenging suspected socks non-stop is sometimes considered uncivil and may seem like a personal attack without confirmation. SPI does not support the claim at present, and baiting cowboy will not look good on your behalf, whatever the outcome. I\\'m sure, by \"\"rotating IP\"\" he probably means proxies. It isn\\'t important though. Cheers, \\xa0[Chat\\xa0•\\xa0RFF] \"',\n",
       " ' for what it is worth i suggest you refrain from pushing the socks remarks around as it only seems to add fuel to the matter given that an spi has been opened and checkuser denied due to stale accounts and behaviour evidence alone it serves no purpose to accuse him further just as it serves no purpose for him to accuse you of stalking no one is going to win that type of argument also i suggest you stop calling cowboy jake from now on as it also implies that he is someone he claims not to be clearly he is determined to push his case and the only way to make it go away is that you ignore him altogether socks are a complex issue as they come in different forms but if you give them enough rope they will eventually hang themselves with it challenging suspected socks nonstop is sometimes considered uncivil and may seem like a personal attack without confirmation spi does not support the claim at present and baiting cowboy will not look good on your behalf whatever the outcome i am sure by rotating ip he probably means proxies it is not important though cheers chatrff')"
      ]
     },
     "execution_count": 15,
     "metadata": {},
     "output_type": "execute_result"
    }
   ],
   "source": [
    "df['comment_text'][0], df['clean_text'][0]"
   ]
  },
  {
   "cell_type": "code",
   "execution_count": 16,
   "metadata": {},
   "outputs": [],
   "source": [
    "# Ci sono commenti che sono solo numeri\n",
    "df['clean_text'] = df['clean_text'].apply(lambda x: str(x))"
   ]
  },
  {
   "cell_type": "markdown",
   "metadata": {
    "id": "zieb9j1KiaTr"
   },
   "source": [
    "# Binary Task (toxic vs no_toxic)"
   ]
  },
  {
   "cell_type": "code",
   "execution_count": 28,
   "metadata": {},
   "outputs": [
    {
     "name": "stdout",
     "output_type": "stream",
     "text": [
      "train sequences 35948\n",
      "test sequences 8988\n",
      "x_train shape: (35948, 200)\n",
      "x_test shape: (8988, 200)\n"
     ]
    }
   ],
   "source": [
    "text = df.clean_text.values\n",
    "target = df.toxicity.values\n",
    "\n",
    "#Parameters\n",
    "n_classes=1\n",
    "max_words=50000\n",
    "max_sequence_length=200\n",
    "embedding_dims = 50\n",
    "hidden_units=16\n",
    "\n",
    "tokenizer = Tokenizer(num_words=max_words) \n",
    "tokenizer.fit_on_texts(text)\n",
    "sequences = tokenizer.texts_to_sequences(text) \n",
    "sequences = pad_sequences(sequences, maxlen=max_sequence_length)\n",
    "\n",
    "word_index = tokenizer.word_index\n",
    "embeddings_index = load_embedding(\"../glove.6B.50d.txt\")\n",
    "#embeddings_index = load_embedding(\"./wiki.simple.vec\")\n",
    "\n",
    "X_train, X_test, y_train, y_test = train_test_split(sequences, target, test_size=0.2, random_state=100)\n",
    "\n",
    "print(f'train sequences {len(X_train)}')\n",
    "print(f'test sequences {len(X_test)}')\n",
    "print(f'x_train shape: {X_train.shape}')\n",
    "print(f'x_test shape: {X_test.shape}')"
   ]
  },
  {
   "cell_type": "code",
   "execution_count": 29,
   "metadata": {},
   "outputs": [],
   "source": [
    "model = Sequential()\n",
    "embedding_matrix = np.random.random((len(word_index) + 1, embedding_dims))\n",
    "\n",
    "for word, i in word_index.items():\n",
    "    embedding_vector = embeddings_index.get(word)\n",
    "    if embedding_vector is not None:\n",
    "        embedding_matrix[i] = embedding_vector\n",
    "\n",
    "model.add(Embedding(len(word_index) + 1,\n",
    "                          embedding_dims,\n",
    "                          weights=[embedding_matrix],\n",
    "                          input_length=max_sequence_length,\n",
    "                          trainable=True))\n",
    "\n",
    "model.add(CuDNNLSTM(hidden_units))\n",
    "model.add(Dropout(0.5))\n",
    "model.add(Dense(64, activation='relu', name='pre-classifier'))\n",
    "model.add(Dense(n_classes, activation='sigmoid', name='classifier'))"
   ]
  },
  {
   "cell_type": "code",
   "execution_count": 30,
   "metadata": {
    "colab": {
     "base_uri": "https://localhost:8080/"
    },
    "id": "kl4IaFLujFPH",
    "outputId": "881dd5ee-e776-432b-ce98-352312c9ad4c",
    "scrolled": false
   },
   "outputs": [
    {
     "name": "stdout",
     "output_type": "stream",
     "text": [
      "Model: \"sequential_2\"\n",
      "_________________________________________________________________\n",
      " Layer (type)                Output Shape              Param #   \n",
      "=================================================================\n",
      " embedding_2 (Embedding)     (None, 200, 50)           4747950   \n",
      "                                                                 \n",
      " cu_dnnlstm_2 (CuDNNLSTM)    (None, 16)                4352      \n",
      "                                                                 \n",
      " dropout_2 (Dropout)         (None, 16)                0         \n",
      "                                                                 \n",
      " pre-classifier (Dense)      (None, 64)                1088      \n",
      "                                                                 \n",
      " classifier (Dense)          (None, 1)                 65        \n",
      "                                                                 \n",
      "=================================================================\n",
      "Total params: 4,753,455\n",
      "Trainable params: 4,753,455\n",
      "Non-trainable params: 0\n",
      "_________________________________________________________________\n"
     ]
    }
   ],
   "source": [
    "model.compile(loss='binary_crossentropy',\n",
    "                optimizer='adam',\n",
    "                metrics=['acc']\n",
    ")\n",
    "model.summary()"
   ]
  },
  {
   "cell_type": "code",
   "execution_count": 31,
   "metadata": {
    "colab": {
     "base_uri": "https://localhost:8080/",
     "height": 754
    },
    "id": "BRzojKKrjlaT",
    "outputId": "59c07e2c-3f98-445a-cfc7-e705ebb6740f"
   },
   "outputs": [
    {
     "data": {
      "image/png": "[encoded data removed]",
      "text/plain": [
       "<IPython.core.display.Image object>"
      ]
     },
     "execution_count": 31,
     "metadata": {},
     "output_type": "execute_result"
    }
   ],
   "source": [
    "tf.keras.utils.plot_model(model)"
   ]
  },
  {
   "cell_type": "code",
   "execution_count": 32,
   "metadata": {
    "colab": {
     "base_uri": "https://localhost:8080/",
     "height": 380
    },
    "id": "_VtZ3JxQjldQ",
    "outputId": "6d7b190c-1616-4189-b918-6b4e809adfea"
   },
   "outputs": [
    {
     "name": "stdout",
     "output_type": "stream",
     "text": [
      "Epoch 1/20\n",
      "1012/1012 [==============================] - 13s 13ms/step - loss: 0.3752 - acc: 0.8426 - val_loss: 0.2634 - val_acc: 0.8896\n",
      "Epoch 2/20\n",
      "1012/1012 [==============================] - 13s 13ms/step - loss: 0.2437 - acc: 0.9086 - val_loss: 0.2522 - val_acc: 0.8951\n",
      "Epoch 3/20\n",
      "1012/1012 [==============================] - 13s 13ms/step - loss: 0.1874 - acc: 0.9303 - val_loss: 0.2385 - val_acc: 0.8965\n",
      "Epoch 4/20\n",
      "1012/1012 [==============================] - 13s 13ms/step - loss: 0.1466 - acc: 0.9468 - val_loss: 0.2534 - val_acc: 0.8974\n",
      "Epoch 5/20\n",
      "1012/1012 [==============================] - 13s 12ms/step - loss: 0.1114 - acc: 0.9615 - val_loss: 0.3108 - val_acc: 0.8926\n",
      "Epoch 6/20\n",
      "1012/1012 [==============================] - 13s 13ms/step - loss: 0.0852 - acc: 0.9714 - val_loss: 0.3663 - val_acc: 0.8798\n",
      "Epoch 7/20\n",
      "1012/1012 [==============================] - 13s 12ms/step - loss: 0.0674 - acc: 0.9780 - val_loss: 0.4101 - val_acc: 0.8901\n",
      "Epoch 8/20\n",
      "1012/1012 [==============================] - 13s 13ms/step - loss: 0.0512 - acc: 0.9832 - val_loss: 0.4653 - val_acc: 0.8882\n"
     ]
    }
   ],
   "source": [
    "epochs=20\n",
    "batch_size=32\n",
    "\n",
    "es = tf.keras.callbacks.EarlyStopping(monitor='val_loss', patience=5)\n",
    "\n",
    "history = model.fit(X_train, y_train,\n",
    "              validation_split=0.1,\n",
    "              epochs=epochs,\n",
    "              batch_size=batch_size,\n",
    "              callbacks=[es])"
   ]
  },
  {
   "cell_type": "code",
   "execution_count": 36,
   "metadata": {
    "id": "qi1V7D6jjlgE"
   },
   "outputs": [
    {
     "data": {
      "text/plain": [
       "{'loss': [0.3751772940158844,\n",
       "  0.24369779229164124,\n",
       "  0.18736803531646729,\n",
       "  0.1465599536895752,\n",
       "  0.11140795797109604,\n",
       "  0.08522891253232956,\n",
       "  0.06742904335260391,\n",
       "  0.051237523555755615],\n",
       " 'acc': [0.8426111936569214,\n",
       "  0.9086019992828369,\n",
       "  0.9302692413330078,\n",
       "  0.9468055367469788,\n",
       "  0.9614564180374146,\n",
       "  0.9713782072067261,\n",
       "  0.9779927730560303,\n",
       "  0.9831854701042175],\n",
       " 'val_loss': [0.2634388506412506,\n",
       "  0.25215694308280945,\n",
       "  0.23854511976242065,\n",
       "  0.25338199734687805,\n",
       "  0.31077152490615845,\n",
       "  0.36626139283180237,\n",
       "  0.4100551903247833,\n",
       "  0.46527987718582153],\n",
       " 'val_acc': [0.8895688652992249,\n",
       "  0.8951321244239807,\n",
       "  0.8965229392051697,\n",
       "  0.8973574638366699,\n",
       "  0.8926286697387695,\n",
       "  0.8798331022262573,\n",
       "  0.8901251554489136,\n",
       "  0.8881780505180359]}"
      ]
     },
     "execution_count": 36,
     "metadata": {},
     "output_type": "execute_result"
    }
   ],
   "source": [
    "history.history"
   ]
  },
  {
   "cell_type": "code",
   "execution_count": 37,
   "metadata": {
    "id": "mZ8WNn0gjlif"
   },
   "outputs": [
    {
     "data": {
      "image/png": "[encoded data removed]",
      "text/plain": [
       "<Figure size 432x288 with 1 Axes>"
      ]
     },
     "metadata": {
      "needs_background": "light"
     },
     "output_type": "display_data"
    }
   ],
   "source": [
    "plt.plot(history.history['loss'], label='train')\n",
    "plt.plot(history.history['val_loss'], label='test')\n",
    "plt.xlabel('Epochs')\n",
    "plt.ylabel('Loss')\n",
    "plt.legend()\n",
    "plt.show()"
   ]
  },
  {
   "cell_type": "code",
   "execution_count": 38,
   "metadata": {},
   "outputs": [
    {
     "data": {
      "image/png": "[encoded data removed]",
      "text/plain": [
       "<Figure size 432x288 with 1 Axes>"
      ]
     },
     "metadata": {
      "needs_background": "light"
     },
     "output_type": "display_data"
    }
   ],
   "source": [
    "plt.plot(history.history['acc'], label='train')\n",
    "plt.plot(history.history['val_acc'], label='test')\n",
    "plt.xlabel('Epochs')\n",
    "plt.ylabel('Accuracy')\n",
    "plt.legend()\n",
    "plt.show()"
   ]
  },
  {
   "cell_type": "code",
   "execution_count": 39,
   "metadata": {},
   "outputs": [],
   "source": [
    "y_prob = model.predict(X_test)\n",
    "y_pred = y_prob.round()"
   ]
  },
  {
   "cell_type": "code",
   "execution_count": 40,
   "metadata": {},
   "outputs": [
    {
     "name": "stdout",
     "output_type": "stream",
     "text": [
      "              precision    recall  f1-score   support\n",
      "\n",
      "           0       0.90      0.89      0.90      4513\n",
      "           1       0.89      0.90      0.90      4475\n",
      "\n",
      "    accuracy                           0.90      8988\n",
      "   macro avg       0.90      0.90      0.90      8988\n",
      "weighted avg       0.90      0.90      0.90      8988\n",
      "\n"
     ]
    },
    {
     "data": {
      "text/plain": [
       "array([[4023,  490],\n",
       "       [ 438, 4037]])"
      ]
     },
     "execution_count": 40,
     "metadata": {},
     "output_type": "execute_result"
    }
   ],
   "source": [
    "print(classification_report(y_test, y_pred))\n",
    "confusion_matrix(y_test, y_pred)"
   ]
  },
  {
   "cell_type": "code",
   "execution_count": 41,
   "metadata": {},
   "outputs": [
    {
     "data": {
      "image/png": "[encoded data removed]",
      "text/plain": [
       "<Figure size 432x288 with 2 Axes>"
      ]
     },
     "metadata": {
      "needs_background": "light"
     },
     "output_type": "display_data"
    }
   ],
   "source": [
    "cf_matrix = confusion_matrix(y_test, y_pred)\n",
    "make_confusion_matrix(cf_matrix, 'LSTM - Confusion Matrix')"
   ]
  },
  {
   "cell_type": "code",
   "execution_count": 42,
   "metadata": {},
   "outputs": [
    {
     "data": {
      "image/png": "[encoded data removed]",
      "text/plain": [
       "<Figure size 432x288 with 1 Axes>"
      ]
     },
     "metadata": {
      "needs_background": "light"
     },
     "output_type": "display_data"
    }
   ],
   "source": [
    "plot_roc_curve(y_test, y_pred, 'LSTM')"
   ]
  },
  {
   "cell_type": "code",
   "execution_count": null,
   "metadata": {},
   "outputs": [],
   "source": []
  }
 ],
 "metadata": {
  "accelerator": "GPU",
  "colab": {
   "collapsed_sections": [],
   "name": "LSTM.ipynb",
   "provenance": []
  },
  "kernelspec": {
   "display_name": "Python 3 (ipykernel)",
   "language": "python",
   "name": "python3"
  },
  "language_info": {
   "codemirror_mode": {
    "name": "ipython",
    "version": 3
   },
   "file_extension": ".py",
   "mimetype": "text/x-python",
   "name": "python",
   "nbconvert_exporter": "python",
   "pygments_lexer": "ipython3",
   "version": "3.10.2"
  }
 },
 "nbformat": 4,
 "nbformat_minor": 1
}
