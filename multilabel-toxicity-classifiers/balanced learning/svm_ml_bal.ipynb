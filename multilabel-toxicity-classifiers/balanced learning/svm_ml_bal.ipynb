{
 "cells": [
  {
   "cell_type": "markdown",
   "id": "f7804b1d-a05f-4d48-a038-77427995bf40",
   "metadata": {
    "id": "f7804b1d-a05f-4d48-a038-77427995bf40"
   },
   "source": [
    "## SVM Multilabel Classifier"
   ]
  },
  {
   "cell_type": "code",
   "execution_count": 21,
   "id": "422b3982-66f9-464d-8d84-e9b76f0e6651",
   "metadata": {
    "id": "422b3982-66f9-464d-8d84-e9b76f0e6651"
   },
   "outputs": [],
   "source": [
    "import pandas as pd\n",
    "import numpy as np\n",
    "import seaborn as sns\n",
    "import matplotlib.pyplot as plt\n",
    "\n",
    "from sklearn.svm import LinearSVC\n",
    "from sklearn.multiclass import OneVsRestClassifier\n",
    "from sklearn.pipeline import Pipeline\n",
    "from sklearn.model_selection import GridSearchCV, RandomizedSearchCV\n",
    "from sklearn.feature_extraction.text import CountVectorizer, TfidfTransformer\n",
    "from sklearn.metrics import confusion_matrix, classification_report\n",
    "from imblearn.over_sampling import RandomOverSampler\n",
    "from imblearn.under_sampling import RandomUnderSampler\n",
    "from collections import Counter\n",
    "\n",
    "import warnings \n",
    "warnings.filterwarnings(\"ignore\")\n",
    "\n",
    "from ast import literal_eval"
   ]
  },
  {
   "cell_type": "code",
   "execution_count": 22,
   "id": "a67bc6f4-355a-4398-ad06-3f301d4ff31f",
   "metadata": {
    "id": "a67bc6f4-355a-4398-ad06-3f301d4ff31f"
   },
   "outputs": [],
   "source": [
    "pd.options.display.max_colwidth = 63"
   ]
  },
  {
   "cell_type": "markdown",
   "id": "c08155ac-0d73-4a29-a982-5493c0607559",
   "metadata": {
    "id": "c08155ac-0d73-4a29-a982-5493c0607559"
   },
   "source": [
    "### Import Training/Test Set "
   ]
  },
  {
   "cell_type": "code",
   "execution_count": 23,
   "id": "dcab28e3-454d-474f-b44d-0e3847a65b9e",
   "metadata": {
    "colab": {
     "base_uri": "https://localhost:8080/"
    },
    "id": "dcab28e3-454d-474f-b44d-0e3847a65b9e",
    "outputId": "e7aae40f-d3f6-465d-9725-7f55aa1d413d"
   },
   "outputs": [
    {
     "data": {
      "text/plain": [
       "(159571, 16)"
      ]
     },
     "execution_count": 23,
     "metadata": {},
     "output_type": "execute_result"
    }
   ],
   "source": [
    "df_train = pd.read_csv('../train_cleaned.zip', compression='zip')\n",
    "df_train.shape"
   ]
  },
  {
   "cell_type": "code",
   "execution_count": 24,
   "id": "4442f78c-4670-43c5-bb10-4b7b9676517f",
   "metadata": {
    "colab": {
     "base_uri": "https://localhost:8080/",
     "height": 249
    },
    "id": "4442f78c-4670-43c5-bb10-4b7b9676517f",
    "outputId": "bf0463a1-a245-4d78-a208-21ba55bff075"
   },
   "outputs": [
    {
     "data": {
      "text/html": [
       "<div>\n",
       "<style scoped>\n",
       "    .dataframe tbody tr th:only-of-type {\n",
       "        vertical-align: middle;\n",
       "    }\n",
       "\n",
       "    .dataframe tbody tr th {\n",
       "        vertical-align: top;\n",
       "    }\n",
       "\n",
       "    .dataframe thead th {\n",
       "        text-align: right;\n",
       "    }\n",
       "</style>\n",
       "<table border=\"1\" class=\"dataframe\">\n",
       "  <thead>\n",
       "    <tr style=\"text-align: right;\">\n",
       "      <th></th>\n",
       "      <th>id</th>\n",
       "      <th>comment_text</th>\n",
       "      <th>toxic</th>\n",
       "      <th>severe_toxic</th>\n",
       "      <th>obscene</th>\n",
       "      <th>threat</th>\n",
       "      <th>insult</th>\n",
       "      <th>identity_hate</th>\n",
       "      <th>clean_text</th>\n",
       "      <th>tokenized</th>\n",
       "      <th>tokenized_no_stopwords</th>\n",
       "      <th>tokenized_stemmed</th>\n",
       "      <th>tokenized_pos</th>\n",
       "      <th>tokenized_lemmatized</th>\n",
       "      <th>tokenized_lemmatized_pos</th>\n",
       "      <th>tokenized_bigram</th>\n",
       "    </tr>\n",
       "  </thead>\n",
       "  <tbody>\n",
       "    <tr>\n",
       "      <th>1</th>\n",
       "      <td>000103f0d9cfb60f</td>\n",
       "      <td>D'aww! He matches this background colour I'm seemingly stuc...</td>\n",
       "      <td>0</td>\n",
       "      <td>0</td>\n",
       "      <td>0</td>\n",
       "      <td>0</td>\n",
       "      <td>0</td>\n",
       "      <td>0</td>\n",
       "      <td>daww he matches this background colour i am seemingly stuck...</td>\n",
       "      <td>['daww', 'he', 'matches', 'this', 'background', 'colour', '...</td>\n",
       "      <td>['daww', 'matches', 'background', 'colour', 'seemingly', 's...</td>\n",
       "      <td>['daww', 'match', 'background', 'colour', 'seemingli', 'stu...</td>\n",
       "      <td>[('daww', 'NN'), ('matches', 'NNS'), ('background', 'IN'), ...</td>\n",
       "      <td>['daww', 'match', 'background', 'colour', 'seemingly', 'stu...</td>\n",
       "      <td>['daww', 'match', 'background', 'colour', 'seemingly', 'stu...</td>\n",
       "      <td>[('daww', 'matches'), ('matches', 'background'), ('backgrou...</td>\n",
       "    </tr>\n",
       "  </tbody>\n",
       "</table>\n",
       "</div>"
      ],
      "text/plain": [
       "                 id  \\\n",
       "1  000103f0d9cfb60f   \n",
       "\n",
       "                                                     comment_text  toxic  \\\n",
       "1  D'aww! He matches this background colour I'm seemingly stuc...      0   \n",
       "\n",
       "   severe_toxic  obscene  threat  insult  identity_hate  \\\n",
       "1             0        0       0       0              0   \n",
       "\n",
       "                                                       clean_text  \\\n",
       "1  daww he matches this background colour i am seemingly stuck...   \n",
       "\n",
       "                                                        tokenized  \\\n",
       "1  ['daww', 'he', 'matches', 'this', 'background', 'colour', '...   \n",
       "\n",
       "                                           tokenized_no_stopwords  \\\n",
       "1  ['daww', 'matches', 'background', 'colour', 'seemingly', 's...   \n",
       "\n",
       "                                                tokenized_stemmed  \\\n",
       "1  ['daww', 'match', 'background', 'colour', 'seemingli', 'stu...   \n",
       "\n",
       "                                                    tokenized_pos  \\\n",
       "1  [('daww', 'NN'), ('matches', 'NNS'), ('background', 'IN'), ...   \n",
       "\n",
       "                                             tokenized_lemmatized  \\\n",
       "1  ['daww', 'match', 'background', 'colour', 'seemingly', 'stu...   \n",
       "\n",
       "                                         tokenized_lemmatized_pos  \\\n",
       "1  ['daww', 'match', 'background', 'colour', 'seemingly', 'stu...   \n",
       "\n",
       "                                                 tokenized_bigram  \n",
       "1  [('daww', 'matches'), ('matches', 'background'), ('backgrou...  "
      ]
     },
     "execution_count": 24,
     "metadata": {},
     "output_type": "execute_result"
    }
   ],
   "source": [
    "df_train.iloc[[1]]"
   ]
  },
  {
   "cell_type": "code",
   "execution_count": 25,
   "id": "65ba048f-d7ad-45a8-b88a-f6a6b54822c0",
   "metadata": {
    "colab": {
     "base_uri": "https://localhost:8080/"
    },
    "id": "65ba048f-d7ad-45a8-b88a-f6a6b54822c0",
    "outputId": "a48ec664-3f12-4403-fe9c-0b6a57944a52"
   },
   "outputs": [
    {
     "data": {
      "text/plain": [
       "(63978, 16)"
      ]
     },
     "execution_count": 25,
     "metadata": {},
     "output_type": "execute_result"
    }
   ],
   "source": [
    "df_test = pd.read_csv('../test_cleaned.zip', compression='zip')\n",
    "df_test.shape"
   ]
  },
  {
   "cell_type": "markdown",
   "id": "ab1137f7-978b-438f-8de6-336f4c771c2d",
   "metadata": {
    "id": "ab1137f7-978b-438f-8de6-336f4c771c2d"
   },
   "source": [
    "## Text Encoding"
   ]
  },
  {
   "cell_type": "code",
   "execution_count": 26,
   "id": "6e370fed-2e4b-4185-b6a4-51c189c6dc0d",
   "metadata": {
    "id": "6e370fed-2e4b-4185-b6a4-51c189c6dc0d"
   },
   "outputs": [],
   "source": [
    "feature = 'tokenized_stemmed'\n",
    "labels = ['toxic', 'severe_toxic', 'obscene', 'threat','insult', 'identity_hate']"
   ]
  },
  {
   "cell_type": "markdown",
   "id": "0627a2c7-f255-43c1-97db-da5185b7e088",
   "metadata": {
    "id": "0627a2c7-f255-43c1-97db-da5185b7e088"
   },
   "source": [
    "##### Encoding Training Data"
   ]
  },
  {
   "cell_type": "code",
   "execution_count": 27,
   "id": "457d9966-984f-4632-8e02-0cd135223ff0",
   "metadata": {
    "id": "457d9966-984f-4632-8e02-0cd135223ff0"
   },
   "outputs": [],
   "source": [
    "X_train = df_train[feature].apply(lambda x: literal_eval(x))\n",
    "y_train = df_train[labels]"
   ]
  },
  {
   "cell_type": "code",
   "execution_count": 28,
   "id": "62684ec8-34d6-41a4-bda7-e6ee2e3469c4",
   "metadata": {
    "colab": {
     "base_uri": "https://localhost:8080/"
    },
    "id": "62684ec8-34d6-41a4-bda7-e6ee2e3469c4",
    "outputId": "2033aab7-9408-4d65-d551-cade7f7d1acd"
   },
   "outputs": [
    {
     "data": {
      "text/plain": [
       "['daww',\n",
       " 'match',\n",
       " 'background',\n",
       " 'colour',\n",
       " 'seemingli',\n",
       " 'stuck',\n",
       " 'thank',\n",
       " 'talk',\n",
       " '2151',\n",
       " 'januari',\n",
       " '11',\n",
       " '2016',\n",
       " 'utc']"
      ]
     },
     "execution_count": 28,
     "metadata": {},
     "output_type": "execute_result"
    }
   ],
   "source": [
    "X_train[1]"
   ]
  },
  {
   "cell_type": "code",
   "execution_count": 29,
   "id": "b7e93d87-a22c-4892-b1db-f1321e3ecc30",
   "metadata": {
    "colab": {
     "base_uri": "https://localhost:8080/"
    },
    "id": "b7e93d87-a22c-4892-b1db-f1321e3ecc30",
    "outputId": "9c6d7955-5fcd-45f4-e2ed-3d5f65d33a11"
   },
   "outputs": [
    {
     "data": {
      "text/plain": [
       "toxic            0\n",
       "severe_toxic     0\n",
       "obscene          0\n",
       "threat           0\n",
       "insult           0\n",
       "identity_hate    0\n",
       "Name: 1, dtype: int64"
      ]
     },
     "execution_count": 29,
     "metadata": {},
     "output_type": "execute_result"
    }
   ],
   "source": [
    "y_train.loc[1,:]"
   ]
  },
  {
   "cell_type": "markdown",
   "id": "019d7b08-3388-4fbd-8055-4ef6c3b6a9a8",
   "metadata": {
    "id": "019d7b08-3388-4fbd-8055-4ef6c3b6a9a8"
   },
   "source": [
    "##### Encoding Test Data"
   ]
  },
  {
   "cell_type": "code",
   "execution_count": 30,
   "id": "ca77ca0b-6a44-494a-82f9-65774da55e4c",
   "metadata": {
    "id": "ca77ca0b-6a44-494a-82f9-65774da55e4c"
   },
   "outputs": [],
   "source": [
    "X_test = df_test[feature].apply(lambda x: literal_eval(x))\n",
    "y_test = df_test[labels]"
   ]
  },
  {
   "cell_type": "code",
   "execution_count": 31,
   "id": "AcSHbDlTQjUh",
   "metadata": {
    "id": "AcSHbDlTQjUh"
   },
   "outputs": [],
   "source": [
    "df_train[\"tags\"] = \"\" \n",
    "\n",
    "for label in labels:\n",
    "    df_train.loc[df_train[label]==1, 'tags'] = df_train['tags']+' '+label"
   ]
  },
  {
   "cell_type": "code",
   "execution_count": 32,
   "id": "pWqRZBqcST0D",
   "metadata": {
    "colab": {
     "base_uri": "https://localhost:8080/"
    },
    "id": "pWqRZBqcST0D",
    "outputId": "0330b597-d7d2-48af-d998-0ccb660802a5"
   },
   "outputs": [
    {
     "data": {
      "text/plain": [
       "{'': 143346,\n",
       " ' toxic': 5666,\n",
       " ' toxic obscene insult': 3800,\n",
       " ' toxic obscene': 1758,\n",
       " ' toxic insult': 1215,\n",
       " ' toxic severe_toxic obscene insult': 989,\n",
       " ' toxic obscene insult identity_hate': 618,\n",
       " ' obscene': 317,\n",
       " ' insult': 301,\n",
       " ' toxic severe_toxic obscene insult identity_hate': 265,\n",
       " ' obscene insult': 181,\n",
       " ' toxic severe_toxic obscene': 158,\n",
       " ' toxic identity_hate': 136,\n",
       " ' toxic insult identity_hate': 134,\n",
       " ' toxic obscene threat insult': 131,\n",
       " ' toxic threat': 113,\n",
       " ' toxic severe_toxic obscene threat insult': 64,\n",
       " ' toxic obscene threat insult identity_hate': 56,\n",
       " ' identity_hate': 54,\n",
       " ' toxic severe_toxic': 41,\n",
       " ' toxic obscene identity_hate': 35,\n",
       " ' toxic severe_toxic obscene threat insult identity_hate': 31,\n",
       " ' insult identity_hate': 28,\n",
       " ' threat': 22,\n",
       " ' obscene insult identity_hate': 18,\n",
       " ' toxic threat insult': 16,\n",
       " ' toxic severe_toxic insult': 14,\n",
       " ' toxic obscene threat': 11,\n",
       " ' toxic severe_toxic threat': 11,\n",
       " ' toxic threat identity_hate': 7,\n",
       " ' toxic severe_toxic insult identity_hate': 7,\n",
       " ' toxic severe_toxic obscene identity_hate': 6,\n",
       " ' toxic severe_toxic obscene threat': 4,\n",
       " ' threat insult': 3,\n",
       " ' toxic threat insult identity_hate': 3,\n",
       " ' toxic severe_toxic identity_hate': 3,\n",
       " ' obscene identity_hate': 3,\n",
       " ' obscene threat': 2,\n",
       " ' obscene threat insult': 2,\n",
       " ' toxic severe_toxic threat insult': 1,\n",
       " ' toxic severe_toxic threat identity_hate': 1}"
      ]
     },
     "execution_count": 32,
     "metadata": {},
     "output_type": "execute_result"
    }
   ],
   "source": [
    "tags = dict(df_train.tags.value_counts())\n",
    "tags"
   ]
  },
  {
   "cell_type": "markdown",
   "id": "29f6a6a8-cb7c-4b0e-84e8-73d30eaebb82",
   "metadata": {
    "id": "29f6a6a8-cb7c-4b0e-84e8-73d30eaebb82"
   },
   "source": [
    "## LinearSVC with OneVsRest"
   ]
  },
  {
   "cell_type": "code",
   "execution_count": 33,
   "id": "ljy3bducWyUe",
   "metadata": {
    "id": "ljy3bducWyUe"
   },
   "outputs": [],
   "source": [
    "#Classi di minoranza -> si cerca di agire solo su queste\n",
    "to_resample = ['severe_toxic', 'threat', 'identity_hate']"
   ]
  },
  {
   "cell_type": "code",
   "execution_count": 34,
   "id": "ekm6NLd7MrNJ",
   "metadata": {
    "id": "ekm6NLd7MrNJ"
   },
   "outputs": [],
   "source": [
    "vect = CountVectorizer(min_df=5, analyzer=lambda x: x, ngram_range=(1, 2)) \n",
    "X_train_tok = vect.fit_transform(X_train)\n",
    "X_test_tok = vect.transform(X_test)\n",
    "\n",
    "tfidf = TfidfTransformer() \n",
    "X_train_vec = tfidf. fit_transform(X_train_tok)\n",
    "X_test_vec = tfidf. fit_transform(X_test_tok)"
   ]
  },
  {
   "cell_type": "code",
   "execution_count": 35,
   "id": "m55e5slt9Fjh",
   "metadata": {
    "colab": {
     "base_uri": "https://localhost:8080/"
    },
    "id": "m55e5slt9Fjh",
    "outputId": "49d16e93-5aff-4818-cf94-2bb73a2084c0"
   },
   "outputs": [
    {
     "name": "stdout",
     "output_type": "stream",
     "text": [
      "toxic\n",
      "[(0, 144277), (1, 15294)]\n",
      "severe_toxic\n",
      "[(0, 157976), (1, 47392)]\n",
      "obscene\n",
      "[(0, 151122), (1, 8449)]\n",
      "threat\n",
      "[(0, 159093), (1, 47727)]\n",
      "insult\n",
      "[(0, 151694), (1, 7877)]\n",
      "identity_hate\n",
      "[(0, 158166), (1, 47449)]\n"
     ]
    }
   ],
   "source": [
    "preds = list()\n",
    "\n",
    "for label in labels:\n",
    "    print(label)\n",
    "    y_train = df_train[label].values\n",
    "\n",
    "    if label in to_resample:\n",
    "        ros = RandomOverSampler(random_state=42, sampling_strategy=0.3)\n",
    "        X_resampled, y_resampled = ros.fit_resample(X_train_vec, y_train)\n",
    "    else:\n",
    "        #rus = RandomUnderSampler(random_state=42)\n",
    "        #X_resampled, y_resampled = rus.fit_resample(X_train_vec, y_train)\n",
    "        \n",
    "        X_resampled, y_resampled = X_train_vec, y_train\n",
    "\n",
    "    print(sorted(Counter(y_resampled).items()))\n",
    "    \n",
    "  svm = LinearSVC(C=0.5, random_state=42)\n",
    "    svm.fit(X_resampled, y_resampled)\n",
    "    \n",
    "    preds.append(svm.predict(X_test_vec))"
   ]
  },
  {
   "cell_type": "code",
   "execution_count": 18,
   "id": "6ecMS6FCOwjz",
   "metadata": {
    "colab": {
     "base_uri": "https://localhost:8080/"
    },
    "id": "6ecMS6FCOwjz",
    "outputId": "ca034220-29a0-48f1-b96f-3557d55750ef"
   },
   "outputs": [
    {
     "data": {
      "text/plain": [
       "(array([0, 0, 0, ..., 1, 1, 0]),\n",
       " array([0, 0, 0, ..., 0, 1, 0]),\n",
       " array([0, 0, 0, ..., 0, 1, 0]),\n",
       " array([0, 0, 0, ..., 0, 0, 0]),\n",
       " array([0, 0, 0, ..., 0, 1, 0]),\n",
       " array([0, 0, 0, ..., 1, 1, 0]))"
      ]
     },
     "execution_count": 18,
     "metadata": {},
     "output_type": "execute_result"
    }
   ],
   "source": [
    "preds[0], preds[1], preds[2], preds[3], preds[4], preds[5]"
   ]
  },
  {
   "cell_type": "code",
   "execution_count": 19,
   "id": "0xta_XwnOHsl",
   "metadata": {
    "id": "0xta_XwnOHsl"
   },
   "outputs": [
    {
     "data": {
      "text/plain": [
       "array([[0, 0, 0, 0, 0, 0],\n",
       "       [0, 0, 0, 0, 0, 0],\n",
       "       [0, 0, 0, 0, 0, 0],\n",
       "       ...,\n",
       "       [1, 0, 0, 0, 0, 1],\n",
       "       [1, 1, 1, 0, 1, 1],\n",
       "       [0, 0, 0, 0, 0, 0]])"
      ]
     },
     "execution_count": 19,
     "metadata": {},
     "output_type": "execute_result"
    }
   ],
   "source": [
    "y_pred = np.column_stack([preds[0], preds[1], preds[2], preds[3], preds[4], preds[5]])\n",
    "y_pred"
   ]
  },
  {
   "cell_type": "code",
   "execution_count": 20,
   "id": "a2c34d0d-8d40-4343-a015-d8c9aa8219f4",
   "metadata": {
    "colab": {
     "base_uri": "https://localhost:8080/"
    },
    "id": "a2c34d0d-8d40-4343-a015-d8c9aa8219f4",
    "outputId": "c373a52c-79bf-4792-a1b4-98abf1aa967e"
   },
   "outputs": [
    {
     "name": "stdout",
     "output_type": "stream",
     "text": [
      "              precision    recall  f1-score   support\n",
      "\n",
      "           0       0.62      0.76      0.68      6090\n",
      "           1       0.16      0.76      0.26       367\n",
      "           2       0.71      0.66      0.69      3691\n",
      "           3       0.24      0.56      0.34       211\n",
      "           4       0.71      0.53      0.61      3427\n",
      "           5       0.29      0.62      0.40       712\n",
      "\n",
      "   micro avg       0.57      0.67      0.61     14498\n",
      "   macro avg       0.46      0.65      0.50     14498\n",
      "weighted avg       0.63      0.67      0.64     14498\n",
      " samples avg       0.06      0.06      0.06     14498\n",
      "\n"
     ]
    }
   ],
   "source": [
    "print(classification_report(y_test, y_pred))"
   ]
  },
  {
   "cell_type": "code",
   "execution_count": null,
   "id": "f9618496-1cea-4fbc-9900-5c2e2fb8f966",
   "metadata": {
    "id": "f9618496-1cea-4fbc-9900-5c2e2fb8f966"
   },
   "outputs": [],
   "source": []
  },
  {
   "cell_type": "code",
   "execution_count": null,
   "id": "82bfe17e",
   "metadata": {},
   "outputs": [],
   "source": []
  }
 ],
 "metadata": {
  "colab": {
   "collapsed_sections": [],
   "name": "svm-ml-bal.ipynb",
   "provenance": []
  },
  "kernelspec": {
   "display_name": "Python 3 (ipykernel)",
   "language": "python",
   "name": "python3"
  },
  "language_info": {
   "codemirror_mode": {
    "name": "ipython",
    "version": 3
   },
   "file_extension": ".py",
   "mimetype": "text/x-python",
   "name": "python",
   "nbconvert_exporter": "python",
   "pygments_lexer": "ipython3",
   "version": "3.9.7"
  }
 },
 "nbformat": 4,
 "nbformat_minor": 5
}
