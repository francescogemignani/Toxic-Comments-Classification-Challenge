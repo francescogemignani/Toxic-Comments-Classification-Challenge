{
 "cells": [
  {
   "cell_type": "markdown",
   "id": "f7804b1d-a05f-4d48-a038-77427995bf40",
   "metadata": {},
   "source": [
    "## SVM Multilabel Classifier - Balanced Learning"
   ]
  },
  {
   "cell_type": "code",
   "execution_count": 11,
   "id": "422b3982-66f9-464d-8d84-e9b76f0e6651",
   "metadata": {},
   "outputs": [],
   "source": [
    "import pandas as pd\n",
    "import numpy as np\n",
    "import seaborn as sns\n",
    "import matplotlib.pyplot as plt\n",
    "\n",
    "from sklearn.svm import LinearSVC\n",
    "from sklearn.multiclass import OneVsRestClassifier\n",
    "from sklearn.pipeline import Pipeline\n",
    "from sklearn.model_selection import GridSearchCV, RandomizedSearchCV\n",
    "from sklearn.feature_extraction.text import CountVectorizer, TfidfTransformer\n",
    "from sklearn.metrics import confusion_matrix, classification_report\n",
    "\n",
    "import warnings \n",
    "warnings.filterwarnings(\"ignore\")\n",
    "\n",
    "from ast import literal_eval"
   ]
  },
  {
   "cell_type": "code",
   "execution_count": 12,
   "id": "a67bc6f4-355a-4398-ad06-3f301d4ff31f",
   "metadata": {},
   "outputs": [],
   "source": [
    "pd.options.display.max_colwidth = 63"
   ]
  },
  {
   "cell_type": "markdown",
   "id": "c08155ac-0d73-4a29-a982-5493c0607559",
   "metadata": {},
   "source": [
    "### Import Training/Test Set "
   ]
  },
  {
   "cell_type": "code",
   "execution_count": 13,
   "id": "dcab28e3-454d-474f-b44d-0e3847a65b9e",
   "metadata": {},
   "outputs": [
    {
     "data": {
      "text/plain": [
       "(159571, 16)"
      ]
     },
     "execution_count": 13,
     "metadata": {},
     "output_type": "execute_result"
    }
   ],
   "source": [
    "df_train = pd.read_csv('../train_cleaned.zip', compression='zip')\n",
    "df_train.shape"
   ]
  },
  {
   "cell_type": "code",
   "execution_count": 14,
   "id": "4442f78c-4670-43c5-bb10-4b7b9676517f",
   "metadata": {},
   "outputs": [
    {
     "data": {
      "text/html": [
       "<div>\n",
       "<style scoped>\n",
       "    .dataframe tbody tr th:only-of-type {\n",
       "        vertical-align: middle;\n",
       "    }\n",
       "\n",
       "    .dataframe tbody tr th {\n",
       "        vertical-align: top;\n",
       "    }\n",
       "\n",
       "    .dataframe thead th {\n",
       "        text-align: right;\n",
       "    }\n",
       "</style>\n",
       "<table border=\"1\" class=\"dataframe\">\n",
       "  <thead>\n",
       "    <tr style=\"text-align: right;\">\n",
       "      <th></th>\n",
       "      <th>id</th>\n",
       "      <th>comment_text</th>\n",
       "      <th>toxic</th>\n",
       "      <th>severe_toxic</th>\n",
       "      <th>obscene</th>\n",
       "      <th>threat</th>\n",
       "      <th>insult</th>\n",
       "      <th>identity_hate</th>\n",
       "      <th>clean_text</th>\n",
       "      <th>tokenized</th>\n",
       "      <th>tokenized_no_stopwords</th>\n",
       "      <th>tokenized_stemmed</th>\n",
       "      <th>tokenized_pos</th>\n",
       "      <th>tokenized_lemmatized</th>\n",
       "      <th>tokenized_lemmatized_pos</th>\n",
       "      <th>tokenized_bigram</th>\n",
       "    </tr>\n",
       "  </thead>\n",
       "  <tbody>\n",
       "    <tr>\n",
       "      <th>1</th>\n",
       "      <td>000103f0d9cfb60f</td>\n",
       "      <td>D'aww! He matches this background colour I'm seemingly stuc...</td>\n",
       "      <td>0</td>\n",
       "      <td>0</td>\n",
       "      <td>0</td>\n",
       "      <td>0</td>\n",
       "      <td>0</td>\n",
       "      <td>0</td>\n",
       "      <td>daww he matches this background colour i am seemingly stuck...</td>\n",
       "      <td>['daww', 'he', 'matches', 'this', 'background', 'colour', '...</td>\n",
       "      <td>['daww', 'matches', 'background', 'colour', 'seemingly', 's...</td>\n",
       "      <td>['daww', 'match', 'background', 'colour', 'seemingli', 'stu...</td>\n",
       "      <td>[('daww', 'NN'), ('matches', 'NNS'), ('background', 'IN'), ...</td>\n",
       "      <td>['daww', 'match', 'background', 'colour', 'seemingly', 'stu...</td>\n",
       "      <td>['daww', 'match', 'background', 'colour', 'seemingly', 'stu...</td>\n",
       "      <td>[('daww', 'matches'), ('matches', 'background'), ('backgrou...</td>\n",
       "    </tr>\n",
       "  </tbody>\n",
       "</table>\n",
       "</div>"
      ],
      "text/plain": [
       "                 id  \\\n",
       "1  000103f0d9cfb60f   \n",
       "\n",
       "                                                     comment_text  toxic  \\\n",
       "1  D'aww! He matches this background colour I'm seemingly stuc...      0   \n",
       "\n",
       "   severe_toxic  obscene  threat  insult  identity_hate  \\\n",
       "1             0        0       0       0              0   \n",
       "\n",
       "                                                       clean_text  \\\n",
       "1  daww he matches this background colour i am seemingly stuck...   \n",
       "\n",
       "                                                        tokenized  \\\n",
       "1  ['daww', 'he', 'matches', 'this', 'background', 'colour', '...   \n",
       "\n",
       "                                           tokenized_no_stopwords  \\\n",
       "1  ['daww', 'matches', 'background', 'colour', 'seemingly', 's...   \n",
       "\n",
       "                                                tokenized_stemmed  \\\n",
       "1  ['daww', 'match', 'background', 'colour', 'seemingli', 'stu...   \n",
       "\n",
       "                                                    tokenized_pos  \\\n",
       "1  [('daww', 'NN'), ('matches', 'NNS'), ('background', 'IN'), ...   \n",
       "\n",
       "                                             tokenized_lemmatized  \\\n",
       "1  ['daww', 'match', 'background', 'colour', 'seemingly', 'stu...   \n",
       "\n",
       "                                         tokenized_lemmatized_pos  \\\n",
       "1  ['daww', 'match', 'background', 'colour', 'seemingly', 'stu...   \n",
       "\n",
       "                                                 tokenized_bigram  \n",
       "1  [('daww', 'matches'), ('matches', 'background'), ('backgrou...  "
      ]
     },
     "execution_count": 14,
     "metadata": {},
     "output_type": "execute_result"
    }
   ],
   "source": [
    "df_train.iloc[[1]]"
   ]
  },
  {
   "cell_type": "code",
   "execution_count": 15,
   "id": "65ba048f-d7ad-45a8-b88a-f6a6b54822c0",
   "metadata": {},
   "outputs": [
    {
     "data": {
      "text/plain": [
       "(63978, 16)"
      ]
     },
     "execution_count": 15,
     "metadata": {},
     "output_type": "execute_result"
    }
   ],
   "source": [
    "df_test = pd.read_csv('../test_cleaned.zip', compression='zip')\n",
    "df_test.shape"
   ]
  },
  {
   "cell_type": "markdown",
   "id": "2c0a9ed0",
   "metadata": {},
   "source": [
    "## Training Set Resampling"
   ]
  },
  {
   "cell_type": "code",
   "execution_count": 16,
   "id": "dcdaaeba",
   "metadata": {},
   "outputs": [],
   "source": [
    "np.random.seed(42)"
   ]
  },
  {
   "cell_type": "code",
   "execution_count": 17,
   "id": "e98a2a49",
   "metadata": {},
   "outputs": [],
   "source": [
    "temp_df = df_train.iloc[np.random.choice(np.where(df_train['severe_toxic']==1)[0], size=12000)]\n",
    "df_resampled = df_train.append(temp_df, ignore_index=True)\n",
    "\n",
    "temp_df = df_train.iloc[np.random.choice(np.where(df_train['threat']==1)[0], size=12000)]\n",
    "df_resampled = df_resampled.append(temp_df, ignore_index=True)\n",
    "\n",
    "temp_df = df_train.iloc[np.random.choice(np.where(df_train['identity_hate']==1)[0], size=12000)]\n",
    "df_resampled = df_resampled.append(temp_df, ignore_index=True)"
   ]
  },
  {
   "cell_type": "code",
   "execution_count": 18,
   "id": "bc9f9469-5c94-4191-9c4f-817150b3479c",
   "metadata": {},
   "outputs": [
    {
     "data": {
      "image/png": "[encoded data removed]",
      "text/plain": [
       "<Figure size 720x504 with 1 Axes>"
      ]
     },
     "metadata": {},
     "output_type": "display_data"
    }
   ],
   "source": [
    "categories = ['toxic', 'severe_toxic', 'obscene', 'threat', 'insult', 'identity_hate']\n",
    "\n",
    "sns.set(font_scale = 1)\n",
    "plt.figure(figsize=(10,7))\n",
    "\n",
    "ax= sns.barplot(categories, df_resampled.iloc[:,2:8].sum().values)\n",
    "plt.title(\"Comments in each toxic category\")\n",
    "plt.ylabel('Number of comments')\n",
    "plt.xlabel('Comment Type')\n",
    "\n",
    "#adding the text labels\n",
    "rects = ax.patches\n",
    "labels = df_resampled.iloc[:,2:8].sum().values\n",
    "\n",
    "for rect, label in zip(rects, labels):\n",
    "    height = rect.get_height()\n",
    "    ax.text(rect.get_x() + rect.get_width()/2, height + 5, label, ha='center', va='bottom')\n",
    "    \n",
    "plt.show()"
   ]
  },
  {
   "cell_type": "markdown",
   "id": "ab1137f7-978b-438f-8de6-336f4c771c2d",
   "metadata": {},
   "source": [
    "## Text Encoding"
   ]
  },
  {
   "cell_type": "code",
   "execution_count": 19,
   "id": "6e370fed-2e4b-4185-b6a4-51c189c6dc0d",
   "metadata": {},
   "outputs": [],
   "source": [
    "data = 'tokenized_stemmed'\n",
    "labels = ['toxic', 'severe_toxic', 'obscene', 'threat','insult', 'identity_hate']"
   ]
  },
  {
   "cell_type": "markdown",
   "id": "0627a2c7-f255-43c1-97db-da5185b7e088",
   "metadata": {},
   "source": [
    "##### Encoding Training Data"
   ]
  },
  {
   "cell_type": "code",
   "execution_count": 20,
   "id": "457d9966-984f-4632-8e02-0cd135223ff0",
   "metadata": {},
   "outputs": [],
   "source": [
    "X_train = df_resampled[data].apply(lambda x: literal_eval(x))\n",
    "y_train = df_resampled[labels]"
   ]
  },
  {
   "cell_type": "code",
   "execution_count": 21,
   "id": "62684ec8-34d6-41a4-bda7-e6ee2e3469c4",
   "metadata": {},
   "outputs": [
    {
     "data": {
      "text/plain": [
       "['daww',\n",
       " 'match',\n",
       " 'background',\n",
       " 'colour',\n",
       " 'seemingli',\n",
       " 'stuck',\n",
       " 'thank',\n",
       " 'talk',\n",
       " '2151',\n",
       " 'januari',\n",
       " '11',\n",
       " '2016',\n",
       " 'utc']"
      ]
     },
     "execution_count": 21,
     "metadata": {},
     "output_type": "execute_result"
    }
   ],
   "source": [
    "X_train[1]"
   ]
  },
  {
   "cell_type": "code",
   "execution_count": 22,
   "id": "b7e93d87-a22c-4892-b1db-f1321e3ecc30",
   "metadata": {},
   "outputs": [
    {
     "data": {
      "text/plain": [
       "toxic            0\n",
       "severe_toxic     0\n",
       "obscene          0\n",
       "threat           0\n",
       "insult           0\n",
       "identity_hate    0\n",
       "Name: 1, dtype: int64"
      ]
     },
     "execution_count": 22,
     "metadata": {},
     "output_type": "execute_result"
    }
   ],
   "source": [
    "y_train.loc[1,:]"
   ]
  },
  {
   "cell_type": "markdown",
   "id": "019d7b08-3388-4fbd-8055-4ef6c3b6a9a8",
   "metadata": {},
   "source": [
    "##### Encoding Test Data"
   ]
  },
  {
   "cell_type": "code",
   "execution_count": 31,
   "id": "ca77ca0b-6a44-494a-82f9-65774da55e4c",
   "metadata": {},
   "outputs": [],
   "source": [
    "X_test = df_test[data].apply(lambda x: literal_eval(x))\n",
    "y_test = df_test[labels]"
   ]
  },
  {
   "cell_type": "markdown",
   "id": "29f6a6a8-cb7c-4b0e-84e8-73d30eaebb82",
   "metadata": {},
   "source": [
    "## LinearSVC with OneVsRest"
   ]
  },
  {
   "cell_type": "code",
   "execution_count": 32,
   "id": "519af8a2-de1b-42b2-9980-eace6b4a8e07",
   "metadata": {},
   "outputs": [],
   "source": [
    "lsvc_pipeline = Pipeline([\n",
    "    ('vect', CountVectorizer(min_df=5, analyzer=lambda x: x)), \n",
    "    ('tfidf', TfidfTransformer()),  \n",
    "    ('ovr-svc', OneVsRestClassifier(LinearSVC(random_state=42))) ])"
   ]
  },
  {
   "cell_type": "code",
   "execution_count": 33,
   "id": "8e24a866-e67a-4fef-86a9-dc457c55889a",
   "metadata": {},
   "outputs": [
    {
     "data": {
      "text/plain": [
       "Pipeline(steps=[('vect',\n",
       "                 CountVectorizer(analyzer=<function <lambda> at 0x7fa8bba30f70>,\n",
       "                                 min_df=5)),\n",
       "                ('tfidf', TfidfTransformer()),\n",
       "                ('ovr-svc',\n",
       "                 OneVsRestClassifier(estimator=LinearSVC(random_state=42)))])"
      ]
     },
     "execution_count": 33,
     "metadata": {},
     "output_type": "execute_result"
    }
   ],
   "source": [
    "lsvc_pipeline.fit(X_train,y_train)"
   ]
  },
  {
   "cell_type": "code",
   "execution_count": 34,
   "id": "a2c34d0d-8d40-4343-a015-d8c9aa8219f4",
   "metadata": {},
   "outputs": [
    {
     "name": "stdout",
     "output_type": "stream",
     "text": [
      "              precision    recall  f1-score   support\n",
      "\n",
      "           0       0.57      0.79      0.66      6090\n",
      "           1       0.20      0.53      0.29       367\n",
      "           2       0.66      0.69      0.67      3691\n",
      "           3       0.27      0.42      0.33       211\n",
      "           4       0.60      0.55      0.57      3427\n",
      "           5       0.38      0.48      0.43       712\n",
      "\n",
      "   micro avg       0.56      0.68      0.61     14498\n",
      "   macro avg       0.45      0.58      0.49     14498\n",
      "weighted avg       0.58      0.68      0.62     14498\n",
      " samples avg       0.07      0.06      0.06     14498\n",
      "\n"
     ]
    }
   ],
   "source": [
    "y_pred = lsvc_pipeline.predict(X_test)\n",
    "print(classification_report(y_test,y_pred ))"
   ]
  },
  {
   "cell_type": "markdown",
   "id": "9030f05d-8bac-4a7f-9e9b-a2f60e7c821a",
   "metadata": {},
   "source": [
    "## Hyper-Parameters tuning (coarse+fine gridsearch)"
   ]
  },
  {
   "cell_type": "markdown",
   "id": "0eed342b-7432-45b5-8c2f-5d136d6509b1",
   "metadata": {},
   "source": [
    "#### Coarse Search"
   ]
  },
  {
   "cell_type": "code",
   "execution_count": 40,
   "id": "c8c80958-1f6a-4234-992e-f663233360d6",
   "metadata": {},
   "outputs": [],
   "source": [
    "lsvc_pipeline = Pipeline([\n",
    "    ('vect', CountVectorizer(min_df=5, analyzer=lambda x: x)), \n",
    "    ('tfidf', TfidfTransformer()),  \n",
    "    ('ovr-svc', OneVsRestClassifier(LinearSVC(random_state=42))) ])"
   ]
  },
  {
   "cell_type": "code",
   "execution_count": 41,
   "id": "14a1a51b-8234-446e-b24d-fa1ef310d5f7",
   "metadata": {},
   "outputs": [
    {
     "data": {
      "text/plain": [
       "dict_keys(['memory', 'steps', 'verbose', 'vect', 'tfidf', 'ovr-svc', 'vect__analyzer', 'vect__binary', 'vect__decode_error', 'vect__dtype', 'vect__encoding', 'vect__input', 'vect__lowercase', 'vect__max_df', 'vect__max_features', 'vect__min_df', 'vect__ngram_range', 'vect__preprocessor', 'vect__stop_words', 'vect__strip_accents', 'vect__token_pattern', 'vect__tokenizer', 'vect__vocabulary', 'tfidf__norm', 'tfidf__smooth_idf', 'tfidf__sublinear_tf', 'tfidf__use_idf', 'ovr-svc__estimator__C', 'ovr-svc__estimator__class_weight', 'ovr-svc__estimator__dual', 'ovr-svc__estimator__fit_intercept', 'ovr-svc__estimator__intercept_scaling', 'ovr-svc__estimator__loss', 'ovr-svc__estimator__max_iter', 'ovr-svc__estimator__multi_class', 'ovr-svc__estimator__penalty', 'ovr-svc__estimator__random_state', 'ovr-svc__estimator__tol', 'ovr-svc__estimator__verbose', 'ovr-svc__estimator', 'ovr-svc__n_jobs'])"
      ]
     },
     "execution_count": 41,
     "metadata": {},
     "output_type": "execute_result"
    }
   ],
   "source": [
    "lsvc_pipeline.get_params().keys()"
   ]
  },
  {
   "cell_type": "code",
   "execution_count": 42,
   "id": "da7348e8-871c-4002-856c-7b2593478c50",
   "metadata": {},
   "outputs": [],
   "source": [
    "params = {\n",
    "    'vect__ngram_range': [(1, 1), (1, 2), (1,3)],\n",
    "    'tfidf__use_idf': (True, False),\n",
    "    'ovr-svc__estimator__C': [0.0001, 00.1, 0.1, 1.0],\n",
    "}"
   ]
  },
  {
   "cell_type": "code",
   "execution_count": 43,
   "id": "4b1f648f-e7ad-47df-89d3-426f523a11c4",
   "metadata": {
    "scrolled": true
   },
   "outputs": [
    {
     "name": "stdout",
     "output_type": "stream",
     "text": [
      "Fitting 3 folds for each of 10 candidates, totalling 30 fits\n"
     ]
    }
   ],
   "source": [
    "rs = RandomizedSearchCV(estimator=lsvc_pipeline, param_distributions=params, scoring='f1_weighted',\n",
    "                            n_jobs=-1, cv=3, verbose=4)\n",
    "rs_results = rs.fit(X_train, y_train)"
   ]
  },
  {
   "cell_type": "code",
   "execution_count": 44,
   "id": "501fad4f-dad1-4cbd-adc2-65f400b7fc09",
   "metadata": {},
   "outputs": [
    {
     "name": "stdout",
     "output_type": "stream",
     "text": [
      "Best parameters:\n",
      "{'vect__ngram_range': (1, 2), 'tfidf__use_idf': True, 'ovr-svc__estimator__C': 1.0}\n",
      "f1_weighted (training set): 0.78213596608567\n"
     ]
    }
   ],
   "source": [
    "print(f\"Best parameters:\\n{rs_results.best_params_}\\nf1_weighted (training set): {rs_results.best_score_}\")"
   ]
  },
  {
   "cell_type": "markdown",
   "id": "b7f34ca7-8721-44aa-8c04-6cc5c11c1169",
   "metadata": {},
   "source": [
    "#### Fine GrideSearchCV"
   ]
  },
  {
   "cell_type": "code",
   "execution_count": 48,
   "id": "ac539885-182c-42d0-9776-2ddccaa12f32",
   "metadata": {},
   "outputs": [],
   "source": [
    "params = {'vect__ngram_range': [(1, 1), (1, 2),(1,3)],\n",
    "          'tfidf__use_idf': (True, False),\n",
    "          'ovr-svc__estimator__C': list(np.arange(0.5,3,0.05)),\n",
    "         }"
   ]
  },
  {
   "cell_type": "code",
   "execution_count": 53,
   "id": "227c0e53-ef06-45c4-b599-e66aca2eb1c0",
   "metadata": {},
   "outputs": [],
   "source": [
    "rs = RandomizedSearchCV(estimator=lsvc_pipeline, param_distributions=params, n_jobs=-1, cv=4)\n",
    "rs_results = rs.fit(X_train, y_train)"
   ]
  },
  {
   "cell_type": "code",
   "execution_count": 54,
   "id": "8dd6793f-09f3-4366-a2af-22ba98a76c2d",
   "metadata": {},
   "outputs": [
    {
     "name": "stdout",
     "output_type": "stream",
     "text": [
      "Best parameters:\n",
      "{'vect__ngram_range': (1, 3), 'tfidf__use_idf': True, 'ovr-svc__estimator__C': 2.3000000000000016}\n",
      "f1 weighted avg(training set): 0.8499818126850518\n"
     ]
    }
   ],
   "source": [
    "print(f\"Best parameters:\\n{rs_results.best_params_}\\nf1 weighted avg(training set): {rs_results.best_score_}\")"
   ]
  },
  {
   "cell_type": "markdown",
   "id": "953e7d00-203f-4516-8748-dc1e619050ca",
   "metadata": {},
   "source": [
    "### Retrain and test the model"
   ]
  },
  {
   "cell_type": "code",
   "execution_count": 55,
   "id": "b5bf0700-d218-4edd-b485-992231f0cce6",
   "metadata": {},
   "outputs": [],
   "source": [
    "lsvc_pipeline = Pipeline([\n",
    "    ('vect', CountVectorizer(min_df=5, analyzer=lambda x: x, ngram_range=(1, 3))),\n",
    "    ('tfidf', TfidfTransformer(use_idf=True)), \n",
    "    ('ovr-svc', OneVsRestClassifier(LinearSVC(C=2.3, random_state=42))) ]) "
   ]
  },
  {
   "cell_type": "code",
   "execution_count": 56,
   "id": "debc6230-b97f-42fa-b49f-88e7b465855f",
   "metadata": {},
   "outputs": [
    {
     "data": {
      "text/plain": [
       "Pipeline(steps=[('vect',\n",
       "                 CountVectorizer(analyzer=<function <lambda> at 0x7fa8bcfe90d0>,\n",
       "                                 min_df=5, ngram_range=(1, 3))),\n",
       "                ('tfidf', TfidfTransformer()),\n",
       "                ('ovr-svc',\n",
       "                 OneVsRestClassifier(estimator=LinearSVC(C=2.3,\n",
       "                                                         random_state=42)))])"
      ]
     },
     "execution_count": 56,
     "metadata": {},
     "output_type": "execute_result"
    }
   ],
   "source": [
    "lsvc_pipeline.fit(X_train,y_train)"
   ]
  },
  {
   "cell_type": "code",
   "execution_count": 57,
   "id": "ec735d7b-ad36-485a-965a-6bf71a84faa5",
   "metadata": {
    "scrolled": true
   },
   "outputs": [
    {
     "name": "stdout",
     "output_type": "stream",
     "text": [
      "              precision    recall  f1-score   support\n",
      "\n",
      "           0       0.56      0.79      0.65      6090\n",
      "           1       0.19      0.50      0.28       367\n",
      "           2       0.64      0.68      0.66      3691\n",
      "           3       0.27      0.38      0.32       211\n",
      "           4       0.58      0.54      0.56      3427\n",
      "           5       0.38      0.43      0.41       712\n",
      "\n",
      "   micro avg       0.55      0.67      0.60     14498\n",
      "   macro avg       0.44      0.55      0.48     14498\n",
      "weighted avg       0.56      0.67      0.61     14498\n",
      " samples avg       0.07      0.06      0.06     14498\n",
      "\n"
     ]
    }
   ],
   "source": [
    "y_pred = lsvc_pipeline.predict(X_test)\n",
    "print(classification_report(y_test, y_pred))"
   ]
  },
  {
   "cell_type": "code",
   "execution_count": 60,
   "id": "67704ca7",
   "metadata": {},
   "outputs": [
    {
     "data": {
      "text/plain": [
       "0.86392197317828"
      ]
     },
     "execution_count": 60,
     "metadata": {},
     "output_type": "execute_result"
    },
    {
     "name": "stdout",
     "output_type": "stream",
     "text": [
      "[CV 2/3] END ovr-svc__estimator__C=0.0001, tfidf__use_idf=False, vect__ngram_range=(1, 3);, score=0.259 total time=   8.1s\n",
      "[CV 3/3] END ovr-svc__estimator__C=0.0001, tfidf__use_idf=True, vect__ngram_range=(1, 1);, score=0.000 total time=   8.1s\n",
      "[CV 2/3] END ovr-svc__estimator__C=0.1, tfidf__use_idf=True, vect__ngram_range=(1, 2);, score=0.754 total time=   7.4s\n",
      "[CV 3/3] END ovr-svc__estimator__C=0.1, tfidf__use_idf=False, vect__ngram_range=(1, 1);, score=0.646 total time=   7.0s\n",
      "[CV 1/3] END ovr-svc__estimator__C=0.1, tfidf__use_idf=True, vect__ngram_range=(1, 1);, score=0.746 total time=   8.4s\n",
      "[CV 2/3] END ovr-svc__estimator__C=1.0, tfidf__use_idf=False, vect__ngram_range=(1, 2);, score=0.764 total time=  10.7s\n",
      "[CV 2/3] END ovr-svc__estimator__C=0.1, tfidf__use_idf=False, vect__ngram_range=(1, 2);, score=0.750 total time=   7.3s\n",
      "[CV 2/3] END ovr-svc__estimator__C=0.0001, tfidf__use_idf=False, vect__ngram_range=(1, 3);, score=0.259 total time=   6.4s\n",
      "[CV 3/3] END ovr-svc__estimator__C=0.1, tfidf__use_idf=False, vect__ngram_range=(1, 1);, score=0.646 total time=   9.6s\n",
      "[CV 1/3] END ovr-svc__estimator__C=0.0001, tfidf__use_idf=True, vect__ngram_range=(1, 1);, score=0.071 total time=   8.3s\n",
      "[CV 3/3] END ovr-svc__estimator__C=0.1, tfidf__use_idf=True, vect__ngram_range=(1, 2);, score=0.655 total time=   7.2s\n",
      "[CV 2/3] END ovr-svc__estimator__C=0.1, tfidf__use_idf=False, vect__ngram_range=(1, 3);, score=0.750 total time=   7.4s\n",
      "[CV 2/3] END ovr-svc__estimator__C=0.0001, tfidf__use_idf=False, vect__ngram_range=(1, 1);, score=0.259 total time=   7.4s\n",
      "[CV 1/3] END ovr-svc__estimator__C=0.0001, tfidf__use_idf=True, vect__ngram_range=(1, 2);, score=0.071 total time=   7.6s\n",
      "[CV 3/3] END ovr-svc__estimator__C=1.0, tfidf__use_idf=False, vect__ngram_range=(1, 2);, score=0.801 total time=  10.8s\n",
      "[CV 2/3] END ovr-svc__estimator__C=0.1, tfidf__use_idf=False, vect__ngram_range=(1, 1);, score=0.750 total time=   8.3s\n",
      "[CV 3/3] END ovr-svc__estimator__C=0.1, tfidf__use_idf=True, vect__ngram_range=(1, 1);, score=0.655 total time=   8.9s\n",
      "[CV 2/3] END ovr-svc__estimator__C=1.0, tfidf__use_idf=True, vect__ngram_range=(1, 2);, score=0.759 total time=  10.0s\n",
      "[CV 2/3] END ovr-svc__estimator__C=0.1, tfidf__use_idf=True, vect__ngram_range=(1, 3);, score=0.754 total time=   8.9s\n",
      "[CV 2/3] END ovr-svc__estimator__C=1.0, tfidf__use_idf=False, vect__ngram_range=(1, 3);, score=0.764 total time=   9.8s\n",
      "[CV 3/3] END ovr-svc__estimator__C=1.0, tfidf__use_idf=True, vect__ngram_range=(1, 2);, score=0.833 total time=   9.6s\n",
      "[CV 2/3] END ovr-svc__estimator__C=0.0001, tfidf__use_idf=False, vect__ngram_range=(1, 2);, score=0.259 total time=   9.2s\n",
      "[CV 2/3] END ovr-svc__estimator__C=0.1, tfidf__use_idf=True, vect__ngram_range=(1, 2);, score=0.754 total time=   7.8s\n",
      "[CV 1/3] END ovr-svc__estimator__C=0.1, tfidf__use_idf=False, vect__ngram_range=(1, 1);, score=0.743 total time=   7.3s\n",
      "[CV 3/3] END ovr-svc__estimator__C=0.0001, tfidf__use_idf=False, vect__ngram_range=(1, 2);, score=0.000 total time=  10.9s\n",
      "[CV 3/3] END ovr-svc__estimator__C=0.0001, tfidf__use_idf=False, vect__ngram_range=(1, 3);, score=0.000 total time=   7.7s\n",
      "[CV 3/3] END ovr-svc__estimator__C=0.1, tfidf__use_idf=True, vect__ngram_range=(1, 3);, score=0.655 total time=   8.6s\n",
      "[CV 3/3] END ovr-svc__estimator__C=0.1, tfidf__use_idf=False, vect__ngram_range=(1, 3);, score=0.646 total time=   5.7s\n",
      "[CV 2/3] END ovr-svc__estimator__C=0.1, tfidf__use_idf=False, vect__ngram_range=(1, 1);, score=0.750 total time=   6.8s\n",
      "[CV 1/3] END ovr-svc__estimator__C=1.0, tfidf__use_idf=True, vect__ngram_range=(1, 2);, score=0.755 total time=   9.2s\n",
      "[CV 2/3] END ovr-svc__estimator__C=0.0001, tfidf__use_idf=True, vect__ngram_range=(1, 2);, score=0.072 total time=   7.5s\n",
      "[CV 1/3] END ovr-svc__estimator__C=0.1, tfidf__use_idf=False, vect__ngram_range=(1, 2);, score=0.743 total time=   7.6s\n",
      "[CV 3/3] END ovr-svc__estimator__C=0.0001, tfidf__use_idf=False, vect__ngram_range=(1, 3);, score=0.000 total time=   5.9s\n",
      "[CV 1/3] END ovr-svc__estimator__C=0.1, tfidf__use_idf=True, vect__ngram_range=(1, 1);, score=0.746 total time=   9.9s\n",
      "[CV 1/3] END ovr-svc__estimator__C=1.0, tfidf__use_idf=True, vect__ngram_range=(1, 2);, score=0.755 total time=   9.9s\n",
      "[CV 1/3] END ovr-svc__estimator__C=0.1, tfidf__use_idf=True, vect__ngram_range=(1, 3);, score=0.746 total time=   8.7s\n",
      "[CV 1/3] END ovr-svc__estimator__C=1.0, tfidf__use_idf=False, vect__ngram_range=(1, 3);, score=0.759 total time=   9.4s\n",
      "[CV 3/3] END ovr-svc__estimator__C=0.0001, tfidf__use_idf=False, vect__ngram_range=(1, 1);, score=0.000 total time=   7.4s\n",
      "[CV 3/3] END ovr-svc__estimator__C=0.1, tfidf__use_idf=True, vect__ngram_range=(1, 1);, score=0.655 total time=   8.0s\n",
      "[CV 3/3] END ovr-svc__estimator__C=0.0001, tfidf__use_idf=False, vect__ngram_range=(1, 2);, score=0.000 total time=   8.5s\n",
      "[CV 1/3] END ovr-svc__estimator__C=0.0001, tfidf__use_idf=False, vect__ngram_range=(1, 3);, score=0.260 total time=   7.2s\n",
      "[CV 1/3] END ovr-svc__estimator__C=0.0001, tfidf__use_idf=False, vect__ngram_range=(1, 2);, score=0.260 total time=  10.6s\n",
      "[CV 1/3] END ovr-svc__estimator__C=0.0001, tfidf__use_idf=False, vect__ngram_range=(1, 3);, score=0.260 total time=   8.5s\n",
      "[CV 1/3] END ovr-svc__estimator__C=0.1, tfidf__use_idf=False, vect__ngram_range=(1, 1);, score=0.743 total time=   5.9s\n",
      "[CV 2/3] END ovr-svc__estimator__C=0.1, tfidf__use_idf=True, vect__ngram_range=(1, 1);, score=0.754 total time=   8.5s\n",
      "[CV 1/3] END ovr-svc__estimator__C=0.0001, tfidf__use_idf=False, vect__ngram_range=(1, 2);, score=0.260 total time=   9.4s\n",
      "[CV 1/3] END ovr-svc__estimator__C=0.1, tfidf__use_idf=True, vect__ngram_range=(1, 2);, score=0.746 total time=   7.7s\n",
      "[CV 2/3] END ovr-svc__estimator__C=0.1, tfidf__use_idf=True, vect__ngram_range=(1, 1);, score=0.754 total time=   9.1s\n",
      "[CV 3/3] END ovr-svc__estimator__C=1.0, tfidf__use_idf=True, vect__ngram_range=(1, 2);, score=0.833 total time=   9.6s\n",
      "[CV 1/3] END ovr-svc__estimator__C=0.1, tfidf__use_idf=False, vect__ngram_range=(1, 3);, score=0.743 total time=   7.8s\n",
      "[CV 2/3] END ovr-svc__estimator__C=1.0, tfidf__use_idf=True, vect__ngram_range=(1, 2);, score=0.759 total time=  10.3s\n",
      "[CV 3/3] END ovr-svc__estimator__C=0.0001, tfidf__use_idf=True, vect__ngram_range=(1, 2);, score=0.000 total time=   7.3s\n",
      "[CV 3/3] END ovr-svc__estimator__C=0.1, tfidf__use_idf=True, vect__ngram_range=(1, 2);, score=0.655 total time=   7.7s\n",
      "[CV 2/3] END ovr-svc__estimator__C=0.0001, tfidf__use_idf=False, vect__ngram_range=(1, 2);, score=0.259 total time=  11.5s\n",
      "[CV 2/3] END ovr-svc__estimator__C=0.0001, tfidf__use_idf=True, vect__ngram_range=(1, 1);, score=0.072 total time=   8.5s\n",
      "[CV 1/3] END ovr-svc__estimator__C=0.1, tfidf__use_idf=True, vect__ngram_range=(1, 2);, score=0.746 total time=   7.6s\n",
      "[CV 3/3] END ovr-svc__estimator__C=1.0, tfidf__use_idf=False, vect__ngram_range=(1, 3);, score=0.801 total time=   9.7s\n",
      "[CV 1/3] END ovr-svc__estimator__C=0.0001, tfidf__use_idf=False, vect__ngram_range=(1, 1);, score=0.260 total time=   7.4s\n",
      "[CV 1/3] END ovr-svc__estimator__C=1.0, tfidf__use_idf=False, vect__ngram_range=(1, 2);, score=0.759 total time=  10.1s\n",
      "[CV 3/3] END ovr-svc__estimator__C=0.1, tfidf__use_idf=False, vect__ngram_range=(1, 2);, score=0.646 total time=   7.2s\n"
     ]
    }
   ],
   "source": [
    "from sklearn.metrics import accuracy_score\n",
    "accuracy_score(y_test, y_pred)"
   ]
  },
  {
   "cell_type": "code",
   "execution_count": null,
   "id": "11e66743-4ba8-4281-8f2a-b7242e715f8e",
   "metadata": {},
   "outputs": [],
   "source": []
  }
 ],
 "metadata": {
  "kernelspec": {
   "display_name": "Python 3 (ipykernel)",
   "language": "python",
   "name": "python3"
  },
  "language_info": {
   "codemirror_mode": {
    "name": "ipython",
    "version": 3
   },
   "file_extension": ".py",
   "mimetype": "text/x-python",
   "name": "python",
   "nbconvert_exporter": "python",
   "pygments_lexer": "ipython3",
   "version": "3.9.7"
  }
 },
 "nbformat": 4,
 "nbformat_minor": 5
}
