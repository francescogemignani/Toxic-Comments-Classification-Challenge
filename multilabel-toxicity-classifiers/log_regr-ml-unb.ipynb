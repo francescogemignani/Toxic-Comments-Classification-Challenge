{
 "cells": [
  {
   "cell_type": "markdown",
   "id": "f7804b1d-a05f-4d48-a038-77427995bf40",
   "metadata": {},
   "source": [
    "## Logistic Regression Multilabel Classifier"
   ]
  },
  {
   "cell_type": "code",
   "execution_count": 1,
   "id": "422b3982-66f9-464d-8d84-e9b76f0e6651",
   "metadata": {},
   "outputs": [],
   "source": [
    "import pandas as pd\n",
    "import numpy as np\n",
    "import seaborn as sns\n",
    "import matplotlib.pyplot as plt\n",
    "\n",
    "from sklearn.linear_model import LogisticRegression\n",
    "from sklearn.pipeline import Pipeline\n",
    "from sklearn.model_selection import GridSearchCV, RandomizedSearchCV\n",
    "from sklearn.multiclass import OneVsRestClassifier\n",
    "from sklearn.feature_extraction.text import CountVectorizer, TfidfTransformer\n",
    "from sklearn.metrics import confusion_matrix, classification_report\n",
    "from ast import literal_eval\n",
    "import warnings \n",
    "warnings.filterwarnings(\"ignore\")\n",
    "\n",
    "pd.options.display.max_colwidth = 63"
   ]
  },
  {
   "cell_type": "markdown",
   "id": "d84c7b70-9e74-4b94-ba3a-82679fa6f166",
   "metadata": {},
   "source": [
    "### Import Training/Test Set "
   ]
  },
  {
   "cell_type": "code",
   "execution_count": 2,
   "id": "dcab28e3-454d-474f-b44d-0e3847a65b9e",
   "metadata": {},
   "outputs": [
    {
     "data": {
      "text/plain": [
       "(159571, 17)"
      ]
     },
     "execution_count": 2,
     "metadata": {},
     "output_type": "execute_result"
    }
   ],
   "source": [
    "df_train = pd.read_csv('../data/train_cleaned.zip', compression='zip')\n",
    "df_train.shape"
   ]
  },
  {
   "cell_type": "code",
   "execution_count": 3,
   "id": "4442f78c-4670-43c5-bb10-4b7b9676517f",
   "metadata": {},
   "outputs": [
    {
     "data": {
      "text/html": [
       "<div>\n",
       "<style scoped>\n",
       "    .dataframe tbody tr th:only-of-type {\n",
       "        vertical-align: middle;\n",
       "    }\n",
       "\n",
       "    .dataframe tbody tr th {\n",
       "        vertical-align: top;\n",
       "    }\n",
       "\n",
       "    .dataframe thead th {\n",
       "        text-align: right;\n",
       "    }\n",
       "</style>\n",
       "<table border=\"1\" class=\"dataframe\">\n",
       "  <thead>\n",
       "    <tr style=\"text-align: right;\">\n",
       "      <th></th>\n",
       "      <th>id</th>\n",
       "      <th>comment_text</th>\n",
       "      <th>toxic</th>\n",
       "      <th>severe_toxic</th>\n",
       "      <th>obscene</th>\n",
       "      <th>threat</th>\n",
       "      <th>insult</th>\n",
       "      <th>identity_hate</th>\n",
       "      <th>toxicity</th>\n",
       "      <th>clean_text</th>\n",
       "      <th>tokenized</th>\n",
       "      <th>tokenized_no_stopwords</th>\n",
       "      <th>tokenized_stemmed</th>\n",
       "      <th>tokenized_pos</th>\n",
       "      <th>tokenized_lemmatized</th>\n",
       "      <th>tokenized_lemmatized_pos</th>\n",
       "      <th>tokenized_bigram</th>\n",
       "    </tr>\n",
       "  </thead>\n",
       "  <tbody>\n",
       "    <tr>\n",
       "      <th>1</th>\n",
       "      <td>000103f0d9cfb60f</td>\n",
       "      <td>D'aww! He matches this background colour I'm seemingly stuc...</td>\n",
       "      <td>0</td>\n",
       "      <td>0</td>\n",
       "      <td>0</td>\n",
       "      <td>0</td>\n",
       "      <td>0</td>\n",
       "      <td>0</td>\n",
       "      <td>0</td>\n",
       "      <td>daww he matches this background colour i am seemingly stuck...</td>\n",
       "      <td>['daww', 'he', 'matches', 'this', 'background', 'colour', '...</td>\n",
       "      <td>['daww', 'matches', 'background', 'colour', 'seemingly', 's...</td>\n",
       "      <td>['daww', 'match', 'background', 'colour', 'seemingli', 'stu...</td>\n",
       "      <td>[('daww', 'NN'), ('matches', 'NNS'), ('background', 'IN'), ...</td>\n",
       "      <td>['daww', 'match', 'background', 'colour', 'seemingly', 'stu...</td>\n",
       "      <td>['daww', 'match', 'background', 'colour', 'seemingly', 'stu...</td>\n",
       "      <td>[('daww', 'matches'), ('matches', 'background'), ('backgrou...</td>\n",
       "    </tr>\n",
       "  </tbody>\n",
       "</table>\n",
       "</div>"
      ],
      "text/plain": [
       "                 id  \\\n",
       "1  000103f0d9cfb60f   \n",
       "\n",
       "                                                     comment_text  toxic  \\\n",
       "1  D'aww! He matches this background colour I'm seemingly stuc...      0   \n",
       "\n",
       "   severe_toxic  obscene  threat  insult  identity_hate  toxicity  \\\n",
       "1             0        0       0       0              0         0   \n",
       "\n",
       "                                                       clean_text  \\\n",
       "1  daww he matches this background colour i am seemingly stuck...   \n",
       "\n",
       "                                                        tokenized  \\\n",
       "1  ['daww', 'he', 'matches', 'this', 'background', 'colour', '...   \n",
       "\n",
       "                                           tokenized_no_stopwords  \\\n",
       "1  ['daww', 'matches', 'background', 'colour', 'seemingly', 's...   \n",
       "\n",
       "                                                tokenized_stemmed  \\\n",
       "1  ['daww', 'match', 'background', 'colour', 'seemingli', 'stu...   \n",
       "\n",
       "                                                    tokenized_pos  \\\n",
       "1  [('daww', 'NN'), ('matches', 'NNS'), ('background', 'IN'), ...   \n",
       "\n",
       "                                             tokenized_lemmatized  \\\n",
       "1  ['daww', 'match', 'background', 'colour', 'seemingly', 'stu...   \n",
       "\n",
       "                                         tokenized_lemmatized_pos  \\\n",
       "1  ['daww', 'match', 'background', 'colour', 'seemingly', 'stu...   \n",
       "\n",
       "                                                 tokenized_bigram  \n",
       "1  [('daww', 'matches'), ('matches', 'background'), ('backgrou...  "
      ]
     },
     "execution_count": 3,
     "metadata": {},
     "output_type": "execute_result"
    }
   ],
   "source": [
    "df_train.iloc[[1]]"
   ]
  },
  {
   "cell_type": "code",
   "execution_count": 4,
   "id": "65ba048f-d7ad-45a8-b88a-f6a6b54822c0",
   "metadata": {},
   "outputs": [
    {
     "data": {
      "text/plain": [
       "(63978, 17)"
      ]
     },
     "execution_count": 4,
     "metadata": {},
     "output_type": "execute_result"
    }
   ],
   "source": [
    "df_test = pd.read_csv('../data/test_cleaned.zip', compression='zip')\n",
    "df_test.shape"
   ]
  },
  {
   "cell_type": "markdown",
   "id": "ab1137f7-978b-438f-8de6-336f4c771c2d",
   "metadata": {},
   "source": [
    "## Text Encoding"
   ]
  },
  {
   "cell_type": "code",
   "execution_count": 5,
   "id": "6e370fed-2e4b-4185-b6a4-51c189c6dc0d",
   "metadata": {},
   "outputs": [],
   "source": [
    "data = 'tokenized_stemmed'\n",
    "labels = ['toxic', 'severe_toxic', 'obscene', 'threat','insult', 'identity_hate']"
   ]
  },
  {
   "cell_type": "markdown",
   "id": "0627a2c7-f255-43c1-97db-da5185b7e088",
   "metadata": {},
   "source": [
    "#### Encoding Training Data"
   ]
  },
  {
   "cell_type": "code",
   "execution_count": 6,
   "id": "457d9966-984f-4632-8e02-0cd135223ff0",
   "metadata": {},
   "outputs": [],
   "source": [
    "X_train = df_train[data].apply(lambda x: literal_eval(x))\n",
    "y_train = df_train[labels]"
   ]
  },
  {
   "cell_type": "code",
   "execution_count": 7,
   "id": "62684ec8-34d6-41a4-bda7-e6ee2e3469c4",
   "metadata": {},
   "outputs": [
    {
     "data": {
      "text/plain": [
       "['daww',\n",
       " 'match',\n",
       " 'background',\n",
       " 'colour',\n",
       " 'seemingli',\n",
       " 'stuck',\n",
       " 'thank',\n",
       " 'talk',\n",
       " '2151',\n",
       " 'januari',\n",
       " '11',\n",
       " '2016',\n",
       " 'utc']"
      ]
     },
     "execution_count": 7,
     "metadata": {},
     "output_type": "execute_result"
    }
   ],
   "source": [
    "X_train[1]"
   ]
  },
  {
   "cell_type": "code",
   "execution_count": 8,
   "id": "b7e93d87-a22c-4892-b1db-f1321e3ecc30",
   "metadata": {},
   "outputs": [
    {
     "data": {
      "text/plain": [
       "toxic            0\n",
       "severe_toxic     0\n",
       "obscene          0\n",
       "threat           0\n",
       "insult           0\n",
       "identity_hate    0\n",
       "Name: 1, dtype: int64"
      ]
     },
     "execution_count": 8,
     "metadata": {},
     "output_type": "execute_result"
    }
   ],
   "source": [
    "y_train.iloc[1,:]"
   ]
  },
  {
   "cell_type": "markdown",
   "id": "019d7b08-3388-4fbd-8055-4ef6c3b6a9a8",
   "metadata": {},
   "source": [
    "#### Encoding Training Data"
   ]
  },
  {
   "cell_type": "code",
   "execution_count": 9,
   "id": "ca77ca0b-6a44-494a-82f9-65774da55e4c",
   "metadata": {},
   "outputs": [],
   "source": [
    "X_test = df_test[data].apply(lambda x: literal_eval(x))\n",
    "y_test = df_test[labels]"
   ]
  },
  {
   "cell_type": "markdown",
   "id": "29f6a6a8-cb7c-4b0e-84e8-73d30eaebb82",
   "metadata": {},
   "source": [
    "## Logistic Regression with OneVsRest"
   ]
  },
  {
   "cell_type": "code",
   "execution_count": 10,
   "id": "519af8a2-de1b-42b2-9980-eace6b4a8e07",
   "metadata": {},
   "outputs": [],
   "source": [
    "lr_pipeline = Pipeline([\n",
    "    ('vect', CountVectorizer(min_df=5, max_features=15000, analyzer=lambda x: x)), \n",
    "    ('tfidf', TfidfTransformer()),  \n",
    "    ('ovr-lr', OneVsRestClassifier(LogisticRegression(random_state=42))) ])"
   ]
  },
  {
   "cell_type": "code",
   "execution_count": 11,
   "id": "8e24a866-e67a-4fef-86a9-dc457c55889a",
   "metadata": {},
   "outputs": [
    {
     "data": {
      "text/plain": [
       "Pipeline(steps=[('vect',\n",
       "                 CountVectorizer(analyzer=<function <lambda> at 0x7fd7038beaf0>,\n",
       "                                 max_features=15000, min_df=5)),\n",
       "                ('tfidf', TfidfTransformer()),\n",
       "                ('ovr-lr',\n",
       "                 OneVsRestClassifier(estimator=LogisticRegression(random_state=42)))])"
      ]
     },
     "execution_count": 11,
     "metadata": {},
     "output_type": "execute_result"
    }
   ],
   "source": [
    "lr_pipeline.fit(X_train,y_train)"
   ]
  },
  {
   "cell_type": "code",
   "execution_count": 12,
   "id": "a2c34d0d-8d40-4343-a015-d8c9aa8219f4",
   "metadata": {},
   "outputs": [
    {
     "name": "stdout",
     "output_type": "stream",
     "text": [
      "              precision    recall  f1-score   support\n",
      "\n",
      "           0       0.65      0.73      0.68      6090\n",
      "           1       0.39      0.31      0.34       367\n",
      "           2       0.75      0.64      0.69      3691\n",
      "           3       0.40      0.15      0.22       211\n",
      "           4       0.73      0.53      0.61      3427\n",
      "           5       0.68      0.26      0.38       712\n",
      "\n",
      "   micro avg       0.68      0.61      0.65     14498\n",
      "   macro avg       0.60      0.43      0.49     14498\n",
      "weighted avg       0.68      0.61      0.64     14498\n",
      " samples avg       0.07      0.06      0.06     14498\n",
      "\n"
     ]
    }
   ],
   "source": [
    "y_pred = lr_pipeline.predict(X_test)\n",
    "print(classification_report(y_test,y_pred ))"
   ]
  },
  {
   "cell_type": "code",
   "execution_count": null,
   "id": "aa64f936-8872-425f-a520-9fa505617277",
   "metadata": {},
   "outputs": [],
   "source": []
  },
  {
   "cell_type": "markdown",
   "id": "b2ad9567-0d7b-4972-bcb3-3f27a88abd9d",
   "metadata": {},
   "source": [
    "## Hyper-Parameters tuning"
   ]
  },
  {
   "cell_type": "markdown",
   "id": "db382502-2316-48c0-ba65-af29666d642e",
   "metadata": {},
   "source": [
    "#### Coarse RandomizedSearch"
   ]
  },
  {
   "cell_type": "code",
   "execution_count": 20,
   "id": "c8c80958-1f6a-4234-992e-f663233360d6",
   "metadata": {},
   "outputs": [],
   "source": [
    "lr_pipeline = Pipeline([\n",
    "    ('vect', CountVectorizer(min_df=5, max_features=15000, analyzer=lambda x: x)), \n",
    "    ('tfidf', TfidfTransformer()),  \n",
    "    ('ovr-lr', OneVsRestClassifier(LogisticRegression(solver='newton-cg',max_iter=100,random_state=42))) ])"
   ]
  },
  {
   "cell_type": "code",
   "execution_count": 21,
   "id": "6e4d29ef-64b3-43c3-b3b2-a43ce65db8e4",
   "metadata": {},
   "outputs": [
    {
     "data": {
      "text/plain": [
       "dict_keys(['memory', 'steps', 'verbose', 'vect', 'tfidf', 'ovr-lr', 'vect__analyzer', 'vect__binary', 'vect__decode_error', 'vect__dtype', 'vect__encoding', 'vect__input', 'vect__lowercase', 'vect__max_df', 'vect__max_features', 'vect__min_df', 'vect__ngram_range', 'vect__preprocessor', 'vect__stop_words', 'vect__strip_accents', 'vect__token_pattern', 'vect__tokenizer', 'vect__vocabulary', 'tfidf__norm', 'tfidf__smooth_idf', 'tfidf__sublinear_tf', 'tfidf__use_idf', 'ovr-lr__estimator__C', 'ovr-lr__estimator__class_weight', 'ovr-lr__estimator__dual', 'ovr-lr__estimator__fit_intercept', 'ovr-lr__estimator__intercept_scaling', 'ovr-lr__estimator__l1_ratio', 'ovr-lr__estimator__max_iter', 'ovr-lr__estimator__multi_class', 'ovr-lr__estimator__n_jobs', 'ovr-lr__estimator__penalty', 'ovr-lr__estimator__random_state', 'ovr-lr__estimator__solver', 'ovr-lr__estimator__tol', 'ovr-lr__estimator__verbose', 'ovr-lr__estimator__warm_start', 'ovr-lr__estimator', 'ovr-lr__n_jobs'])"
      ]
     },
     "execution_count": 21,
     "metadata": {},
     "output_type": "execute_result"
    }
   ],
   "source": [
    "lr_pipeline.get_params().keys()"
   ]
  },
  {
   "cell_type": "code",
   "execution_count": 22,
   "id": "48d26813-ad96-42d2-b38c-f5ec5ea8ef57",
   "metadata": {},
   "outputs": [],
   "source": [
    "params = {\n",
    "          'ovr-lr__estimator__C': [1, 2, 3, 5],\n",
    "         }"
   ]
  },
  {
   "cell_type": "code",
   "execution_count": 23,
   "id": "d419e423-459b-4e6c-bff5-479edc1aaf95",
   "metadata": {},
   "outputs": [],
   "source": [
    "rs = RandomizedSearchCV(estimator=lr_pipeline, param_distributions=params, n_jobs=-1, cv=4)\n",
    "rs_results = rs.fit(X_train, y_train)"
   ]
  },
  {
   "cell_type": "code",
   "execution_count": 24,
   "id": "501fad4f-dad1-4cbd-adc2-65f400b7fc09",
   "metadata": {},
   "outputs": [
    {
     "name": "stdout",
     "output_type": "stream",
     "text": [
      "best parameters:\n",
      "{'ovr-lr__estimator__C': 2}\n",
      "accuracy: 0.9205557415218367\n"
     ]
    }
   ],
   "source": [
    "print(f\"best parameters:\\n{rs_results.best_params_}\\naccuracy: {rs_results.best_score_}\")"
   ]
  },
  {
   "cell_type": "markdown",
   "id": "f62307c7-460c-41cf-98b7-1c909a22efd1",
   "metadata": {},
   "source": [
    "#### Fine RandomizedSearch"
   ]
  },
  {
   "cell_type": "code",
   "execution_count": 25,
   "id": "c5611741-c07a-4cf0-8612-3302fe3674b9",
   "metadata": {},
   "outputs": [],
   "source": [
    "params = {'ovr-lr__estimator__C': list(np.arange(1.8,2.4,0.01)),}"
   ]
  },
  {
   "cell_type": "code",
   "execution_count": 26,
   "id": "64137ba0-3f3e-454e-ba90-73f63ce49cf1",
   "metadata": {},
   "outputs": [],
   "source": [
    "rs = RandomizedSearchCV(estimator=lr_pipeline, param_distributions=params, n_jobs=-1, cv=4)\n",
    "rs_results = rs.fit(X_train, y_train)"
   ]
  },
  {
   "cell_type": "code",
   "execution_count": 27,
   "id": "e40b356f-13f1-40e0-bada-76f0e2304ce8",
   "metadata": {},
   "outputs": [
    {
     "name": "stdout",
     "output_type": "stream",
     "text": [
      "Best parameters:\n",
      "{'ovr-lr__estimator__C': 2.3100000000000005}\n",
      "accuracy (training set): 0.9205808074765545\n"
     ]
    }
   ],
   "source": [
    "print(f\"Best parameters:\\n{rs_results.best_params_}\\naccuracy (training set): {rs_results.best_score_}\")"
   ]
  },
  {
   "cell_type": "markdown",
   "id": "5ff94ac4-415c-4346-93a1-def05018a5c3",
   "metadata": {},
   "source": [
    "### Retrain and test the model"
   ]
  },
  {
   "cell_type": "code",
   "execution_count": 28,
   "id": "b5bf0700-d218-4edd-b485-992231f0cce6",
   "metadata": {},
   "outputs": [],
   "source": [
    "lr_pipeline = Pipeline([\n",
    "    ('vect', CountVectorizer(min_df=5, max_features=15000, analyzer=lambda x: x)), \n",
    "    ('tfidf', TfidfTransformer()),  \n",
    "    ('ovr-lr', OneVsRestClassifier(LogisticRegression(C=2.31, random_state=42))) ])"
   ]
  },
  {
   "cell_type": "code",
   "execution_count": 29,
   "id": "debc6230-b97f-42fa-b49f-88e7b465855f",
   "metadata": {},
   "outputs": [
    {
     "data": {
      "text/plain": [
       "Pipeline(steps=[('vect',\n",
       "                 CountVectorizer(analyzer=<function <lambda> at 0x7fd7038beca0>,\n",
       "                                 max_features=15000, min_df=5)),\n",
       "                ('tfidf', TfidfTransformer()),\n",
       "                ('ovr-lr',\n",
       "                 OneVsRestClassifier(estimator=LogisticRegression(C=2.31,\n",
       "                                                                  random_state=42)))])"
      ]
     },
     "execution_count": 29,
     "metadata": {},
     "output_type": "execute_result"
    }
   ],
   "source": [
    "lr_pipeline.fit(X_train,y_train)"
   ]
  },
  {
   "cell_type": "code",
   "execution_count": 30,
   "id": "ec735d7b-ad36-485a-965a-6bf71a84faa5",
   "metadata": {},
   "outputs": [
    {
     "name": "stdout",
     "output_type": "stream",
     "text": [
      "              precision    recall  f1-score   support\n",
      "\n",
      "           0       0.62      0.76      0.68      6090\n",
      "           1       0.38      0.34      0.36       367\n",
      "           2       0.72      0.67      0.69      3691\n",
      "           3       0.42      0.21      0.28       211\n",
      "           4       0.71      0.55      0.62      3427\n",
      "           5       0.65      0.31      0.42       712\n",
      "\n",
      "   micro avg       0.65      0.65      0.65     14498\n",
      "   macro avg       0.58      0.47      0.51     14498\n",
      "weighted avg       0.66      0.65      0.64     14498\n",
      " samples avg       0.07      0.06      0.06     14498\n",
      "\n"
     ]
    }
   ],
   "source": [
    "y_pred = lr_pipeline.predict(X_test)\n",
    "print(classification_report(y_test, y_pred))"
   ]
  },
  {
   "cell_type": "code",
   "execution_count": null,
   "id": "2e47e522-26ed-4cce-bc22-720be4beb45b",
   "metadata": {},
   "outputs": [],
   "source": []
  }
 ],
 "metadata": {
  "kernelspec": {
   "display_name": "Python 3 (ipykernel)",
   "language": "python",
   "name": "python3"
  },
  "language_info": {
   "codemirror_mode": {
    "name": "ipython",
    "version": 3
   },
   "file_extension": ".py",
   "mimetype": "text/x-python",
   "name": "python",
   "nbconvert_exporter": "python",
   "pygments_lexer": "ipython3",
   "version": "3.9.7"
  }
 },
 "nbformat": 4,
 "nbformat_minor": 5
}
