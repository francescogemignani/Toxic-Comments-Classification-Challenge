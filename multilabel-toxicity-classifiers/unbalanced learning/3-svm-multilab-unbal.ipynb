{
 "cells": [
  {
   "cell_type": "markdown",
   "id": "f7804b1d-a05f-4d48-a038-77427995bf40",
   "metadata": {},
   "source": [
    "## SVM Multilabel Classifier"
   ]
  },
  {
   "cell_type": "code",
   "execution_count": 2,
   "id": "422b3982-66f9-464d-8d84-e9b76f0e6651",
   "metadata": {},
   "outputs": [],
   "source": [
    "import pandas as pd\n",
    "import numpy as np\n",
    "import seaborn as sns\n",
    "import matplotlib.pyplot as plt\n",
    "\n",
    "from sklearn.svm import LinearSVC\n",
    "from sklearn.multiclass import OneVsRestClassifier\n",
    "from sklearn.pipeline import Pipeline\n",
    "from sklearn.model_selection import GridSearchCV, RandomizedSearchCV\n",
    "from sklearn.feature_extraction.text import CountVectorizer, TfidfTransformer\n",
    "from sklearn.metrics import confusion_matrix, classification_report\n",
    "\n",
    "import warnings \n",
    "warnings.filterwarnings(\"ignore\")\n",
    "\n",
    "from ast import literal_eval"
   ]
  },
  {
   "cell_type": "code",
   "execution_count": 3,
   "id": "a67bc6f4-355a-4398-ad06-3f301d4ff31f",
   "metadata": {},
   "outputs": [],
   "source": [
    "pd.options.display.max_colwidth = 63"
   ]
  },
  {
   "cell_type": "markdown",
   "id": "c08155ac-0d73-4a29-a982-5493c0607559",
   "metadata": {},
   "source": [
    "### Import Training/Test Set "
   ]
  },
  {
   "cell_type": "code",
   "execution_count": 4,
   "id": "dcab28e3-454d-474f-b44d-0e3847a65b9e",
   "metadata": {},
   "outputs": [
    {
     "data": {
      "text/plain": [
       "(159571, 16)"
      ]
     },
     "execution_count": 4,
     "metadata": {},
     "output_type": "execute_result"
    }
   ],
   "source": [
    "df_train = pd.read_csv('../train_cleaned.zip', compression='zip')\n",
    "df_train.shape"
   ]
  },
  {
   "cell_type": "code",
   "execution_count": 5,
   "id": "4442f78c-4670-43c5-bb10-4b7b9676517f",
   "metadata": {},
   "outputs": [
    {
     "data": {
      "text/html": [
       "<div>\n",
       "<style scoped>\n",
       "    .dataframe tbody tr th:only-of-type {\n",
       "        vertical-align: middle;\n",
       "    }\n",
       "\n",
       "    .dataframe tbody tr th {\n",
       "        vertical-align: top;\n",
       "    }\n",
       "\n",
       "    .dataframe thead th {\n",
       "        text-align: right;\n",
       "    }\n",
       "</style>\n",
       "<table border=\"1\" class=\"dataframe\">\n",
       "  <thead>\n",
       "    <tr style=\"text-align: right;\">\n",
       "      <th></th>\n",
       "      <th>id</th>\n",
       "      <th>comment_text</th>\n",
       "      <th>toxic</th>\n",
       "      <th>severe_toxic</th>\n",
       "      <th>obscene</th>\n",
       "      <th>threat</th>\n",
       "      <th>insult</th>\n",
       "      <th>identity_hate</th>\n",
       "      <th>clean_text</th>\n",
       "      <th>tokenized</th>\n",
       "      <th>tokenized_no_stopwords</th>\n",
       "      <th>tokenized_stemmed</th>\n",
       "      <th>tokenized_pos</th>\n",
       "      <th>tokenized_lemmatized</th>\n",
       "      <th>tokenized_lemmatized_pos</th>\n",
       "      <th>tokenized_bigram</th>\n",
       "    </tr>\n",
       "  </thead>\n",
       "  <tbody>\n",
       "    <tr>\n",
       "      <th>1</th>\n",
       "      <td>000103f0d9cfb60f</td>\n",
       "      <td>D'aww! He matches this background colour I'm seemingly stuc...</td>\n",
       "      <td>0</td>\n",
       "      <td>0</td>\n",
       "      <td>0</td>\n",
       "      <td>0</td>\n",
       "      <td>0</td>\n",
       "      <td>0</td>\n",
       "      <td>daww he matches this background colour i am seemingly stuck...</td>\n",
       "      <td>['daww', 'he', 'matches', 'this', 'background', 'colour', '...</td>\n",
       "      <td>['daww', 'matches', 'background', 'colour', 'seemingly', 's...</td>\n",
       "      <td>['daww', 'match', 'background', 'colour', 'seemingli', 'stu...</td>\n",
       "      <td>[('daww', 'NN'), ('matches', 'NNS'), ('background', 'IN'), ...</td>\n",
       "      <td>['daww', 'match', 'background', 'colour', 'seemingly', 'stu...</td>\n",
       "      <td>['daww', 'match', 'background', 'colour', 'seemingly', 'stu...</td>\n",
       "      <td>[('daww', 'matches'), ('matches', 'background'), ('backgrou...</td>\n",
       "    </tr>\n",
       "  </tbody>\n",
       "</table>\n",
       "</div>"
      ],
      "text/plain": [
       "                 id  \\\n",
       "1  000103f0d9cfb60f   \n",
       "\n",
       "                                                     comment_text  toxic  \\\n",
       "1  D'aww! He matches this background colour I'm seemingly stuc...      0   \n",
       "\n",
       "   severe_toxic  obscene  threat  insult  identity_hate  \\\n",
       "1             0        0       0       0              0   \n",
       "\n",
       "                                                       clean_text  \\\n",
       "1  daww he matches this background colour i am seemingly stuck...   \n",
       "\n",
       "                                                        tokenized  \\\n",
       "1  ['daww', 'he', 'matches', 'this', 'background', 'colour', '...   \n",
       "\n",
       "                                           tokenized_no_stopwords  \\\n",
       "1  ['daww', 'matches', 'background', 'colour', 'seemingly', 's...   \n",
       "\n",
       "                                                tokenized_stemmed  \\\n",
       "1  ['daww', 'match', 'background', 'colour', 'seemingli', 'stu...   \n",
       "\n",
       "                                                    tokenized_pos  \\\n",
       "1  [('daww', 'NN'), ('matches', 'NNS'), ('background', 'IN'), ...   \n",
       "\n",
       "                                             tokenized_lemmatized  \\\n",
       "1  ['daww', 'match', 'background', 'colour', 'seemingly', 'stu...   \n",
       "\n",
       "                                         tokenized_lemmatized_pos  \\\n",
       "1  ['daww', 'match', 'background', 'colour', 'seemingly', 'stu...   \n",
       "\n",
       "                                                 tokenized_bigram  \n",
       "1  [('daww', 'matches'), ('matches', 'background'), ('backgrou...  "
      ]
     },
     "execution_count": 5,
     "metadata": {},
     "output_type": "execute_result"
    }
   ],
   "source": [
    "df_train.iloc[[1]]"
   ]
  },
  {
   "cell_type": "code",
   "execution_count": 6,
   "id": "65ba048f-d7ad-45a8-b88a-f6a6b54822c0",
   "metadata": {},
   "outputs": [
    {
     "data": {
      "text/plain": [
       "(63978, 16)"
      ]
     },
     "execution_count": 6,
     "metadata": {},
     "output_type": "execute_result"
    }
   ],
   "source": [
    "df_test = pd.read_csv('../test_cleaned.zip', compression='zip')\n",
    "df_test.shape"
   ]
  },
  {
   "cell_type": "markdown",
   "id": "ab1137f7-978b-438f-8de6-336f4c771c2d",
   "metadata": {},
   "source": [
    "## Text Encoding"
   ]
  },
  {
   "cell_type": "code",
   "execution_count": 7,
   "id": "6e370fed-2e4b-4185-b6a4-51c189c6dc0d",
   "metadata": {},
   "outputs": [],
   "source": [
    "data = 'tokenized_stemmed'\n",
    "labels = ['toxic', 'severe_toxic', 'obscene', 'threat','insult', 'identity_hate']"
   ]
  },
  {
   "cell_type": "markdown",
   "id": "0627a2c7-f255-43c1-97db-da5185b7e088",
   "metadata": {},
   "source": [
    "##### Encoding Training Data"
   ]
  },
  {
   "cell_type": "code",
   "execution_count": 8,
   "id": "457d9966-984f-4632-8e02-0cd135223ff0",
   "metadata": {},
   "outputs": [],
   "source": [
    "X_train = df_train[data].apply(lambda x: literal_eval(x))\n",
    "y_train = df_train[labels]"
   ]
  },
  {
   "cell_type": "code",
   "execution_count": 9,
   "id": "62684ec8-34d6-41a4-bda7-e6ee2e3469c4",
   "metadata": {},
   "outputs": [
    {
     "data": {
      "text/plain": [
       "['daww',\n",
       " 'match',\n",
       " 'background',\n",
       " 'colour',\n",
       " 'seemingli',\n",
       " 'stuck',\n",
       " 'thank',\n",
       " 'talk',\n",
       " '2151',\n",
       " 'januari',\n",
       " '11',\n",
       " '2016',\n",
       " 'utc']"
      ]
     },
     "execution_count": 9,
     "metadata": {},
     "output_type": "execute_result"
    }
   ],
   "source": [
    "X_train[1]"
   ]
  },
  {
   "cell_type": "code",
   "execution_count": 10,
   "id": "b7e93d87-a22c-4892-b1db-f1321e3ecc30",
   "metadata": {},
   "outputs": [
    {
     "data": {
      "text/plain": [
       "toxic            0\n",
       "severe_toxic     0\n",
       "obscene          0\n",
       "threat           0\n",
       "insult           0\n",
       "identity_hate    0\n",
       "Name: 1, dtype: int64"
      ]
     },
     "execution_count": 10,
     "metadata": {},
     "output_type": "execute_result"
    }
   ],
   "source": [
    "y_train.loc[1,:]"
   ]
  },
  {
   "cell_type": "markdown",
   "id": "019d7b08-3388-4fbd-8055-4ef6c3b6a9a8",
   "metadata": {},
   "source": [
    "##### Encoding Test Data"
   ]
  },
  {
   "cell_type": "code",
   "execution_count": 11,
   "id": "ca77ca0b-6a44-494a-82f9-65774da55e4c",
   "metadata": {},
   "outputs": [],
   "source": [
    "X_test = df_test[data].apply(lambda x: literal_eval(x))\n",
    "y_test = df_test[labels]"
   ]
  },
  {
   "cell_type": "markdown",
   "id": "29f6a6a8-cb7c-4b0e-84e8-73d30eaebb82",
   "metadata": {},
   "source": [
    "## LinearSVC with OneVsRest"
   ]
  },
  {
   "cell_type": "code",
   "execution_count": 12,
   "id": "519af8a2-de1b-42b2-9980-eace6b4a8e07",
   "metadata": {},
   "outputs": [],
   "source": [
    "lsvc_pipeline = Pipeline([\n",
    "    ('vect', CountVectorizer(min_df=5, max_features=15000, analyzer=lambda x: x)), \n",
    "    ('tfidf', TfidfTransformer()),  \n",
    "    ('ovr-svc', OneVsRestClassifier(LinearSVC(random_state=42))) ])"
   ]
  },
  {
   "cell_type": "code",
   "execution_count": 13,
   "id": "8e24a866-e67a-4fef-86a9-dc457c55889a",
   "metadata": {},
   "outputs": [
    {
     "data": {
      "text/plain": [
       "Pipeline(steps=[('vect',\n",
       "                 CountVectorizer(analyzer=<function <lambda> at 0x7f9a18e04430>,\n",
       "                                 max_features=15000, min_df=5)),\n",
       "                ('tfidf', TfidfTransformer()),\n",
       "                ('ovr-svc',\n",
       "                 OneVsRestClassifier(estimator=LinearSVC(random_state=42)))])"
      ]
     },
     "execution_count": 13,
     "metadata": {},
     "output_type": "execute_result"
    }
   ],
   "source": [
    "lsvc_pipeline.fit(X_train,y_train)"
   ]
  },
  {
   "cell_type": "code",
   "execution_count": 14,
   "id": "a2c34d0d-8d40-4343-a015-d8c9aa8219f4",
   "metadata": {},
   "outputs": [
    {
     "name": "stdout",
     "output_type": "stream",
     "text": [
      "              precision    recall  f1-score   support\n",
      "\n",
      "           0       0.58      0.79      0.67      6090\n",
      "           1       0.38      0.34      0.36       367\n",
      "           2       0.68      0.69      0.68      3691\n",
      "           3       0.39      0.25      0.30       211\n",
      "           4       0.67      0.57      0.62      3427\n",
      "           5       0.64      0.33      0.44       712\n",
      "\n",
      "   micro avg       0.62      0.67      0.64     14498\n",
      "   macro avg       0.56      0.49      0.51     14498\n",
      "weighted avg       0.62      0.67      0.64     14498\n",
      " samples avg       0.07      0.06      0.06     14498\n",
      "\n"
     ]
    }
   ],
   "source": [
    "y_pred = lsvc_pipeline.predict(X_test)\n",
    "print(classification_report(y_test,y_pred ))"
   ]
  },
  {
   "cell_type": "code",
   "execution_count": null,
   "id": "f9618496-1cea-4fbc-9900-5c2e2fb8f966",
   "metadata": {},
   "outputs": [],
   "source": []
  },
  {
   "cell_type": "markdown",
   "id": "9030f05d-8bac-4a7f-9e9b-a2f60e7c821a",
   "metadata": {},
   "source": [
    "## Hyper-Parameters tuning (coarse+fine gridsearch)"
   ]
  },
  {
   "cell_type": "markdown",
   "id": "0eed342b-7432-45b5-8c2f-5d136d6509b1",
   "metadata": {},
   "source": [
    "#### Coarse Search"
   ]
  },
  {
   "cell_type": "code",
   "execution_count": 15,
   "id": "c8c80958-1f6a-4234-992e-f663233360d6",
   "metadata": {},
   "outputs": [],
   "source": [
    "lsvc_pipeline = Pipeline([\n",
    "    ('vect', CountVectorizer(min_df=5, max_features=15000, analyzer=lambda x: x)), \n",
    "    ('tfidf', TfidfTransformer()),  \n",
    "    ('ovr-svc', OneVsRestClassifier(LinearSVC(random_state=42))) ])"
   ]
  },
  {
   "cell_type": "code",
   "execution_count": 74,
   "id": "14a1a51b-8234-446e-b24d-fa1ef310d5f7",
   "metadata": {},
   "outputs": [
    {
     "data": {
      "text/plain": [
       "dict_keys(['memory', 'steps', 'verbose', 'vect', 'tfidf', 'ovr-svc', 'vect__analyzer', 'vect__binary', 'vect__decode_error', 'vect__dtype', 'vect__encoding', 'vect__input', 'vect__lowercase', 'vect__max_df', 'vect__max_features', 'vect__min_df', 'vect__ngram_range', 'vect__preprocessor', 'vect__stop_words', 'vect__strip_accents', 'vect__token_pattern', 'vect__tokenizer', 'vect__vocabulary', 'tfidf__norm', 'tfidf__smooth_idf', 'tfidf__sublinear_tf', 'tfidf__use_idf', 'ovr-svc__estimator__C', 'ovr-svc__estimator__class_weight', 'ovr-svc__estimator__dual', 'ovr-svc__estimator__fit_intercept', 'ovr-svc__estimator__intercept_scaling', 'ovr-svc__estimator__loss', 'ovr-svc__estimator__max_iter', 'ovr-svc__estimator__multi_class', 'ovr-svc__estimator__penalty', 'ovr-svc__estimator__random_state', 'ovr-svc__estimator__tol', 'ovr-svc__estimator__verbose', 'ovr-svc__estimator', 'ovr-svc__n_jobs'])"
      ]
     },
     "execution_count": 74,
     "metadata": {},
     "output_type": "execute_result"
    }
   ],
   "source": [
    "lsvc_pipeline.get_params().keys()"
   ]
  },
  {
   "cell_type": "code",
   "execution_count": 75,
   "id": "da7348e8-871c-4002-856c-7b2593478c50",
   "metadata": {},
   "outputs": [],
   "source": [
    "params = {'vect__ngram_range': [(1, 1), (1, 2),(1,3)],\n",
    "          'tfidf__use_idf': (True, False),\n",
    "          'ovr-svc__estimator__C': [0.2, 0.5, 1, 2, 3, 5],\n",
    "         }"
   ]
  },
  {
   "cell_type": "code",
   "execution_count": 77,
   "id": "4b1f648f-e7ad-47df-89d3-426f523a11c4",
   "metadata": {},
   "outputs": [],
   "source": [
    "rs = RandomizedSearchCV(estimator=lsvc_pipeline, param_distributions=params, \n",
    "                        n_jobs=-1, cv=4, scoring='f1_micro')\n",
    "rs_results = rs.fit(X_train, y_train)"
   ]
  },
  {
   "cell_type": "code",
   "execution_count": 78,
   "id": "501fad4f-dad1-4cbd-adc2-65f400b7fc09",
   "metadata": {},
   "outputs": [
    {
     "name": "stdout",
     "output_type": "stream",
     "text": [
      "Best parameters:\n",
      "{'vect__ngram_range': (1, 3), 'tfidf__use_idf': False, 'ovr-svc__estimator__C': 2}\n",
      "f1 weighted avg(training set): 0.7179229165420002\n"
     ]
    }
   ],
   "source": [
    "print(f\"Best parameters:\\n{rs_results.best_params_}\\nf1 weighted avg(training set): {rs_results.best_score_}\")\n"
   ]
  },
  {
   "cell_type": "markdown",
   "id": "b7f34ca7-8721-44aa-8c04-6cc5c11c1169",
   "metadata": {},
   "source": [
    "#### Fine GrideSearchCV"
   ]
  },
  {
   "cell_type": "code",
   "execution_count": 53,
   "id": "44ae21d0-5410-4ac9-8b2a-6a64afa8e89f",
   "metadata": {},
   "outputs": [],
   "source": [
    "params = {'vect__ngram_range': [(1, 1), (1, 2),(1,3)],\n",
    "          'tfidf__use_idf': (True, False),\n",
    "          'ovr-svc__estimator__C': list(np.arange(0.5,3,0.05)),\n",
    "         }"
   ]
  },
  {
   "cell_type": "code",
   "execution_count": 54,
   "id": "cb30e70f-638c-4b0a-ad66-c995766b821f",
   "metadata": {},
   "outputs": [],
   "source": [
    "rs = RandomizedSearchCV(estimator=lsvc_pipeline, param_distributions=params, \n",
    "                        n_jobs=-1, cv=4, scoring='f1_weighted')\n",
    "rs_results = rs.fit(X_train, y_train)"
   ]
  },
  {
   "cell_type": "code",
   "execution_count": 55,
   "id": "c1aa1cc1-eb1f-4219-8a1b-603527e0244b",
   "metadata": {},
   "outputs": [
    {
     "name": "stdout",
     "output_type": "stream",
     "text": [
      "Best parameters:\n",
      "{'vect__ngram_range': (1, 2), 'tfidf__use_idf': False, 'ovr-svc__estimator__C': 1.750000000000001}\n",
      "f1 weighted avg(training set): 0.71128864681083\n"
     ]
    }
   ],
   "source": [
    "print(f\"Best parameters:\\n{rs_results.best_params_}\\nf1 weighted avg(training set): {rs_results.best_score_}\")"
   ]
  },
  {
   "cell_type": "markdown",
   "id": "953e7d00-203f-4516-8748-dc1e619050ca",
   "metadata": {},
   "source": [
    "### Retrain and test the model"
   ]
  },
  {
   "cell_type": "code",
   "execution_count": 57,
   "id": "b5bf0700-d218-4edd-b485-992231f0cce6",
   "metadata": {},
   "outputs": [],
   "source": [
    "lsvc_pipeline = Pipeline([\n",
    "    ('vect', CountVectorizer(min_df=5, max_features=15000, analyzer=lambda x: x,ngram_range=(1, 2))),\n",
    "    ('tfidf', TfidfTransformer(use_idf=False)), \n",
    "    ('ovr-svc', OneVsRestClassifier(LinearSVC(C=1.75, random_state=42))) ]) "
   ]
  },
  {
   "cell_type": "code",
   "execution_count": 58,
   "id": "debc6230-b97f-42fa-b49f-88e7b465855f",
   "metadata": {},
   "outputs": [
    {
     "data": {
      "text/plain": [
       "Pipeline(steps=[('vect',\n",
       "                 CountVectorizer(analyzer=<function <lambda> at 0x7fbb24f89f70>,\n",
       "                                 max_features=15000, min_df=5,\n",
       "                                 ngram_range=(1, 2))),\n",
       "                ('tfidf', TfidfTransformer(use_idf=False)),\n",
       "                ('ovr-svc',\n",
       "                 OneVsRestClassifier(estimator=LinearSVC(C=1.75,\n",
       "                                                         random_state=42)))])"
      ]
     },
     "execution_count": 58,
     "metadata": {},
     "output_type": "execute_result"
    }
   ],
   "source": [
    "lsvc_pipeline.fit(X_train,y_train)"
   ]
  },
  {
   "cell_type": "code",
   "execution_count": 59,
   "id": "ec735d7b-ad36-485a-965a-6bf71a84faa5",
   "metadata": {},
   "outputs": [
    {
     "name": "stdout",
     "output_type": "stream",
     "text": [
      "              precision    recall  f1-score   support\n",
      "\n",
      "           0       0.58      0.80      0.67      6090\n",
      "           1       0.38      0.35      0.36       367\n",
      "           2       0.67      0.69      0.68      3691\n",
      "           3       0.37      0.29      0.33       211\n",
      "           4       0.67      0.58      0.62      3427\n",
      "           5       0.62      0.36      0.46       712\n",
      "\n",
      "   micro avg       0.61      0.68      0.64     14498\n",
      "   macro avg       0.55      0.51      0.52     14498\n",
      "weighted avg       0.62      0.68      0.64     14498\n",
      " samples avg       0.07      0.06      0.06     14498\n",
      "\n"
     ]
    }
   ],
   "source": [
    "y_pred = lsvc_pipeline.predict(X_test)\n",
    "print(classification_report(y_test, y_pred))"
   ]
  },
  {
   "cell_type": "code",
   "execution_count": null,
   "id": "4b9cbb9d-bac4-4dcb-bd2b-9dfc9e27352c",
   "metadata": {},
   "outputs": [],
   "source": []
  }
 ],
 "metadata": {
  "kernelspec": {
   "display_name": "Python 3 (ipykernel)",
   "language": "python",
   "name": "python3"
  },
  "language_info": {
   "codemirror_mode": {
    "name": "ipython",
    "version": 3
   },
   "file_extension": ".py",
   "mimetype": "text/x-python",
   "name": "python",
   "nbconvert_exporter": "python",
   "pygments_lexer": "ipython3",
   "version": "3.9.7"
  }
 },
 "nbformat": 4,
 "nbformat_minor": 5
}
