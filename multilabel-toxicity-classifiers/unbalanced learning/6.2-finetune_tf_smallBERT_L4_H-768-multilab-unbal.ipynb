{
  "cells": [
    {
      "cell_type": "code",
      "execution_count": null,
      "metadata": {
        "colab": {
          "base_uri": "https://localhost:8080/"
        },
        "id": "y2Muvbt-qVN6",
        "outputId": "3552ea62-adac-4802-b894-3dfb07bf22c5"
      },
      "outputs": [
        {
          "output_type": "stream",
          "name": "stdout",
          "text": [
            "Collecting transformers\n",
            "  Downloading transformers-4.16.2-py3-none-any.whl (3.5 MB)\n",
            "\u001b[K     |████████████████████████████████| 3.5 MB 5.2 MB/s \n",
            "\u001b[?25hRequirement already satisfied: filelock in /usr/local/lib/python3.7/dist-packages (from transformers) (3.6.0)\n",
            "Collecting sacremoses\n",
            "  Downloading sacremoses-0.0.47-py2.py3-none-any.whl (895 kB)\n",
            "\u001b[K     |████████████████████████████████| 895 kB 39.9 MB/s \n",
            "\u001b[?25hRequirement already satisfied: regex!=2019.12.17 in /usr/local/lib/python3.7/dist-packages (from transformers) (2019.12.20)\n",
            "Requirement already satisfied: importlib-metadata in /usr/local/lib/python3.7/dist-packages (from transformers) (4.11.1)\n",
            "Collecting tokenizers!=0.11.3,>=0.10.1\n",
            "  Downloading tokenizers-0.11.6-cp37-cp37m-manylinux_2_12_x86_64.manylinux2010_x86_64.whl (6.5 MB)\n",
            "\u001b[K     |████████████████████████████████| 6.5 MB 32.7 MB/s \n",
            "\u001b[?25hCollecting pyyaml>=5.1\n",
            "  Downloading PyYAML-6.0-cp37-cp37m-manylinux_2_5_x86_64.manylinux1_x86_64.manylinux_2_12_x86_64.manylinux2010_x86_64.whl (596 kB)\n",
            "\u001b[K     |████████████████████████████████| 596 kB 41.3 MB/s \n",
            "\u001b[?25hCollecting huggingface-hub<1.0,>=0.1.0\n",
            "  Downloading huggingface_hub-0.4.0-py3-none-any.whl (67 kB)\n",
            "\u001b[K     |████████████████████████████████| 67 kB 5.0 MB/s \n",
            "\u001b[?25hRequirement already satisfied: requests in /usr/local/lib/python3.7/dist-packages (from transformers) (2.23.0)\n",
            "Requirement already satisfied: numpy>=1.17 in /usr/local/lib/python3.7/dist-packages (from transformers) (1.21.5)\n",
            "Requirement already satisfied: tqdm>=4.27 in /usr/local/lib/python3.7/dist-packages (from transformers) (4.62.3)\n",
            "Requirement already satisfied: packaging>=20.0 in /usr/local/lib/python3.7/dist-packages (from transformers) (21.3)\n",
            "Requirement already satisfied: typing-extensions>=3.7.4.3 in /usr/local/lib/python3.7/dist-packages (from huggingface-hub<1.0,>=0.1.0->transformers) (3.10.0.2)\n",
            "Requirement already satisfied: pyparsing!=3.0.5,>=2.0.2 in /usr/local/lib/python3.7/dist-packages (from packaging>=20.0->transformers) (3.0.7)\n",
            "Requirement already satisfied: zipp>=0.5 in /usr/local/lib/python3.7/dist-packages (from importlib-metadata->transformers) (3.7.0)\n",
            "Requirement already satisfied: idna<3,>=2.5 in /usr/local/lib/python3.7/dist-packages (from requests->transformers) (2.10)\n",
            "Requirement already satisfied: chardet<4,>=3.0.2 in /usr/local/lib/python3.7/dist-packages (from requests->transformers) (3.0.4)\n",
            "Requirement already satisfied: urllib3!=1.25.0,!=1.25.1,<1.26,>=1.21.1 in /usr/local/lib/python3.7/dist-packages (from requests->transformers) (1.24.3)\n",
            "Requirement already satisfied: certifi>=2017.4.17 in /usr/local/lib/python3.7/dist-packages (from requests->transformers) (2021.10.8)\n",
            "Requirement already satisfied: joblib in /usr/local/lib/python3.7/dist-packages (from sacremoses->transformers) (1.1.0)\n",
            "Requirement already satisfied: click in /usr/local/lib/python3.7/dist-packages (from sacremoses->transformers) (7.1.2)\n",
            "Requirement already satisfied: six in /usr/local/lib/python3.7/dist-packages (from sacremoses->transformers) (1.15.0)\n",
            "Installing collected packages: pyyaml, tokenizers, sacremoses, huggingface-hub, transformers\n",
            "  Attempting uninstall: pyyaml\n",
            "    Found existing installation: PyYAML 3.13\n",
            "    Uninstalling PyYAML-3.13:\n",
            "      Successfully uninstalled PyYAML-3.13\n",
            "Successfully installed huggingface-hub-0.4.0 pyyaml-6.0 sacremoses-0.0.47 tokenizers-0.11.6 transformers-4.16.2\n",
            "Collecting tensorflow-text\n",
            "  Downloading tensorflow_text-2.8.1-cp37-cp37m-manylinux_2_12_x86_64.manylinux2010_x86_64.whl (4.9 MB)\n",
            "\u001b[K     |████████████████████████████████| 4.9 MB 4.5 MB/s \n",
            "\u001b[?25hRequirement already satisfied: tensorflow<2.9,>=2.8.0 in /usr/local/lib/python3.7/dist-packages (from tensorflow-text) (2.8.0)\n",
            "Requirement already satisfied: tensorflow-hub>=0.8.0 in /usr/local/lib/python3.7/dist-packages (from tensorflow-text) (0.12.0)\n",
            "Requirement already satisfied: typing-extensions>=3.6.6 in /usr/local/lib/python3.7/dist-packages (from tensorflow<2.9,>=2.8.0->tensorflow-text) (3.10.0.2)\n",
            "Requirement already satisfied: wrapt>=1.11.0 in /usr/local/lib/python3.7/dist-packages (from tensorflow<2.9,>=2.8.0->tensorflow-text) (1.13.3)\n",
            "Requirement already satisfied: absl-py>=0.4.0 in /usr/local/lib/python3.7/dist-packages (from tensorflow<2.9,>=2.8.0->tensorflow-text) (1.0.0)\n",
            "Requirement already satisfied: grpcio<2.0,>=1.24.3 in /usr/local/lib/python3.7/dist-packages (from tensorflow<2.9,>=2.8.0->tensorflow-text) (1.44.0)\n",
            "Requirement already satisfied: h5py>=2.9.0 in /usr/local/lib/python3.7/dist-packages (from tensorflow<2.9,>=2.8.0->tensorflow-text) (3.1.0)\n",
            "Requirement already satisfied: tensorflow-io-gcs-filesystem>=0.23.1 in /usr/local/lib/python3.7/dist-packages (from tensorflow<2.9,>=2.8.0->tensorflow-text) (0.24.0)\n",
            "Requirement already satisfied: astunparse>=1.6.0 in /usr/local/lib/python3.7/dist-packages (from tensorflow<2.9,>=2.8.0->tensorflow-text) (1.6.3)\n",
            "Requirement already satisfied: termcolor>=1.1.0 in /usr/local/lib/python3.7/dist-packages (from tensorflow<2.9,>=2.8.0->tensorflow-text) (1.1.0)\n",
            "Requirement already satisfied: keras<2.9,>=2.8.0rc0 in /usr/local/lib/python3.7/dist-packages (from tensorflow<2.9,>=2.8.0->tensorflow-text) (2.8.0)\n",
            "Requirement already satisfied: protobuf>=3.9.2 in /usr/local/lib/python3.7/dist-packages (from tensorflow<2.9,>=2.8.0->tensorflow-text) (3.17.3)\n",
            "Requirement already satisfied: keras-preprocessing>=1.1.1 in /usr/local/lib/python3.7/dist-packages (from tensorflow<2.9,>=2.8.0->tensorflow-text) (1.1.2)\n",
            "Requirement already satisfied: gast>=0.2.1 in /usr/local/lib/python3.7/dist-packages (from tensorflow<2.9,>=2.8.0->tensorflow-text) (0.5.3)\n",
            "Requirement already satisfied: google-pasta>=0.1.1 in /usr/local/lib/python3.7/dist-packages (from tensorflow<2.9,>=2.8.0->tensorflow-text) (0.2.0)\n",
            "Requirement already satisfied: flatbuffers>=1.12 in /usr/local/lib/python3.7/dist-packages (from tensorflow<2.9,>=2.8.0->tensorflow-text) (2.0)\n",
            "Requirement already satisfied: numpy>=1.20 in /usr/local/lib/python3.7/dist-packages (from tensorflow<2.9,>=2.8.0->tensorflow-text) (1.21.5)\n",
            "Requirement already satisfied: tensorboard<2.9,>=2.8 in /usr/local/lib/python3.7/dist-packages (from tensorflow<2.9,>=2.8.0->tensorflow-text) (2.8.0)\n",
            "Requirement already satisfied: six>=1.12.0 in /usr/local/lib/python3.7/dist-packages (from tensorflow<2.9,>=2.8.0->tensorflow-text) (1.15.0)\n",
            "Collecting tf-estimator-nightly==2.8.0.dev2021122109\n",
            "  Downloading tf_estimator_nightly-2.8.0.dev2021122109-py2.py3-none-any.whl (462 kB)\n",
            "\u001b[K     |████████████████████████████████| 462 kB 33.1 MB/s \n",
            "\u001b[?25hRequirement already satisfied: libclang>=9.0.1 in /usr/local/lib/python3.7/dist-packages (from tensorflow<2.9,>=2.8.0->tensorflow-text) (13.0.0)\n",
            "Requirement already satisfied: opt-einsum>=2.3.2 in /usr/local/lib/python3.7/dist-packages (from tensorflow<2.9,>=2.8.0->tensorflow-text) (3.3.0)\n",
            "Requirement already satisfied: setuptools in /usr/local/lib/python3.7/dist-packages (from tensorflow<2.9,>=2.8.0->tensorflow-text) (57.4.0)\n",
            "Requirement already satisfied: wheel<1.0,>=0.23.0 in /usr/local/lib/python3.7/dist-packages (from astunparse>=1.6.0->tensorflow<2.9,>=2.8.0->tensorflow-text) (0.37.1)\n",
            "Requirement already satisfied: cached-property in /usr/local/lib/python3.7/dist-packages (from h5py>=2.9.0->tensorflow<2.9,>=2.8.0->tensorflow-text) (1.5.2)\n",
            "Requirement already satisfied: google-auth<3,>=1.6.3 in /usr/local/lib/python3.7/dist-packages (from tensorboard<2.9,>=2.8->tensorflow<2.9,>=2.8.0->tensorflow-text) (1.35.0)\n",
            "Requirement already satisfied: google-auth-oauthlib<0.5,>=0.4.1 in /usr/local/lib/python3.7/dist-packages (from tensorboard<2.9,>=2.8->tensorflow<2.9,>=2.8.0->tensorflow-text) (0.4.6)\n",
            "Requirement already satisfied: tensorboard-data-server<0.7.0,>=0.6.0 in /usr/local/lib/python3.7/dist-packages (from tensorboard<2.9,>=2.8->tensorflow<2.9,>=2.8.0->tensorflow-text) (0.6.1)\n",
            "Requirement already satisfied: tensorboard-plugin-wit>=1.6.0 in /usr/local/lib/python3.7/dist-packages (from tensorboard<2.9,>=2.8->tensorflow<2.9,>=2.8.0->tensorflow-text) (1.8.1)\n",
            "Requirement already satisfied: werkzeug>=0.11.15 in /usr/local/lib/python3.7/dist-packages (from tensorboard<2.9,>=2.8->tensorflow<2.9,>=2.8.0->tensorflow-text) (1.0.1)\n",
            "Requirement already satisfied: markdown>=2.6.8 in /usr/local/lib/python3.7/dist-packages (from tensorboard<2.9,>=2.8->tensorflow<2.9,>=2.8.0->tensorflow-text) (3.3.6)\n",
            "Requirement already satisfied: requests<3,>=2.21.0 in /usr/local/lib/python3.7/dist-packages (from tensorboard<2.9,>=2.8->tensorflow<2.9,>=2.8.0->tensorflow-text) (2.23.0)\n",
            "Requirement already satisfied: pyasn1-modules>=0.2.1 in /usr/local/lib/python3.7/dist-packages (from google-auth<3,>=1.6.3->tensorboard<2.9,>=2.8->tensorflow<2.9,>=2.8.0->tensorflow-text) (0.2.8)\n",
            "Requirement already satisfied: rsa<5,>=3.1.4 in /usr/local/lib/python3.7/dist-packages (from google-auth<3,>=1.6.3->tensorboard<2.9,>=2.8->tensorflow<2.9,>=2.8.0->tensorflow-text) (4.8)\n",
            "Requirement already satisfied: cachetools<5.0,>=2.0.0 in /usr/local/lib/python3.7/dist-packages (from google-auth<3,>=1.6.3->tensorboard<2.9,>=2.8->tensorflow<2.9,>=2.8.0->tensorflow-text) (4.2.4)\n",
            "Requirement already satisfied: requests-oauthlib>=0.7.0 in /usr/local/lib/python3.7/dist-packages (from google-auth-oauthlib<0.5,>=0.4.1->tensorboard<2.9,>=2.8->tensorflow<2.9,>=2.8.0->tensorflow-text) (1.3.1)\n",
            "Requirement already satisfied: importlib-metadata>=4.4 in /usr/local/lib/python3.7/dist-packages (from markdown>=2.6.8->tensorboard<2.9,>=2.8->tensorflow<2.9,>=2.8.0->tensorflow-text) (4.11.1)\n",
            "Requirement already satisfied: zipp>=0.5 in /usr/local/lib/python3.7/dist-packages (from importlib-metadata>=4.4->markdown>=2.6.8->tensorboard<2.9,>=2.8->tensorflow<2.9,>=2.8.0->tensorflow-text) (3.7.0)\n",
            "Requirement already satisfied: pyasn1<0.5.0,>=0.4.6 in /usr/local/lib/python3.7/dist-packages (from pyasn1-modules>=0.2.1->google-auth<3,>=1.6.3->tensorboard<2.9,>=2.8->tensorflow<2.9,>=2.8.0->tensorflow-text) (0.4.8)\n",
            "Requirement already satisfied: urllib3!=1.25.0,!=1.25.1,<1.26,>=1.21.1 in /usr/local/lib/python3.7/dist-packages (from requests<3,>=2.21.0->tensorboard<2.9,>=2.8->tensorflow<2.9,>=2.8.0->tensorflow-text) (1.24.3)\n",
            "Requirement already satisfied: chardet<4,>=3.0.2 in /usr/local/lib/python3.7/dist-packages (from requests<3,>=2.21.0->tensorboard<2.9,>=2.8->tensorflow<2.9,>=2.8.0->tensorflow-text) (3.0.4)\n",
            "Requirement already satisfied: idna<3,>=2.5 in /usr/local/lib/python3.7/dist-packages (from requests<3,>=2.21.0->tensorboard<2.9,>=2.8->tensorflow<2.9,>=2.8.0->tensorflow-text) (2.10)\n",
            "Requirement already satisfied: certifi>=2017.4.17 in /usr/local/lib/python3.7/dist-packages (from requests<3,>=2.21.0->tensorboard<2.9,>=2.8->tensorflow<2.9,>=2.8.0->tensorflow-text) (2021.10.8)\n",
            "Requirement already satisfied: oauthlib>=3.0.0 in /usr/local/lib/python3.7/dist-packages (from requests-oauthlib>=0.7.0->google-auth-oauthlib<0.5,>=0.4.1->tensorboard<2.9,>=2.8->tensorflow<2.9,>=2.8.0->tensorflow-text) (3.2.0)\n",
            "Installing collected packages: tf-estimator-nightly, tensorflow-text\n",
            "Successfully installed tensorflow-text-2.8.1 tf-estimator-nightly-2.8.0.dev2021122109\n"
          ]
        }
      ],
      "source": [
        "!pip install transformers\n",
        "!pip install tensorflow-text"
      ],
      "id": "y2Muvbt-qVN6"
    },
    {
      "cell_type": "markdown",
      "metadata": {
        "id": "72e44e0a"
      },
      "source": [
        "# Multi-label classification task\n",
        "  toxic, severe_toxic, obscene, threat, insult, identity_hate"
      ],
      "id": "72e44e0a"
    },
    {
      "cell_type": "code",
      "execution_count": null,
      "metadata": {
        "id": "e545c312"
      },
      "outputs": [],
      "source": [
        "import warnings\n",
        "warnings.filterwarnings(\"ignore\")\n",
        "\n",
        "import os\n",
        "os.environ['TF_CPP_MIN_LOG_LEVEL'] = '3'\n",
        "\n",
        "import pandas as pd\n",
        "import numpy as np\n",
        "\n",
        "import matplotlib.pyplot as plt\n",
        "%matplotlib inline\n",
        "\n",
        "import tensorflow as tf\n",
        "import tensorflow_hub as hub\n",
        "import tensorflow_text as text\n",
        "\n",
        "from sklearn.metrics import classification_report,  multilabel_confusion_matrix, accuracy_score, roc_curve, auc\n",
        "from sklearn.model_selection import train_test_split\n",
        "\n",
        "from transformers import create_optimizer"
      ],
      "id": "e545c312"
    },
    {
      "cell_type": "code",
      "execution_count": null,
      "metadata": {
        "colab": {
          "base_uri": "https://localhost:8080/"
        },
        "id": "B2SGsDR6qUQ9",
        "outputId": "37bb55ef-95d0-43be-c1b7-5bb7e0d0ebbf"
      },
      "outputs": [
        {
          "output_type": "stream",
          "name": "stdout",
          "text": [
            "Mounted at /content/drive\n"
          ]
        }
      ],
      "source": [
        "from google.colab import drive\n",
        "drive.mount('/content/drive')"
      ],
      "id": "B2SGsDR6qUQ9"
    },
    {
      "cell_type": "code",
      "execution_count": null,
      "metadata": {
        "colab": {
          "base_uri": "https://localhost:8080/"
        },
        "id": "a3446fc0",
        "outputId": "3ee803bf-b334-49b4-b59f-0c002cf1c62b"
      },
      "outputs": [
        {
          "output_type": "stream",
          "name": "stdout",
          "text": [
            "Num GPUs Available:  1\n"
          ]
        }
      ],
      "source": [
        "print(\"Num GPUs Available: \", len(tf.config.list_physical_devices('GPU')))"
      ],
      "id": "a3446fc0"
    },
    {
      "cell_type": "code",
      "execution_count": null,
      "metadata": {
        "id": "bca5949e",
        "colab": {
          "base_uri": "https://localhost:8080/",
          "height": 214
        },
        "outputId": "01af9d33-556d-4c5c-f987-f68e3a8cb3e5"
      },
      "outputs": [
        {
          "output_type": "execute_result",
          "data": {
            "text/html": [
              "\n",
              "  <div id=\"df-343a140e-9d12-4b94-ab74-c1c220ad93b9\">\n",
              "    <div class=\"colab-df-container\">\n",
              "      <div>\n",
              "<style scoped>\n",
              "    .dataframe tbody tr th:only-of-type {\n",
              "        vertical-align: middle;\n",
              "    }\n",
              "\n",
              "    .dataframe tbody tr th {\n",
              "        vertical-align: top;\n",
              "    }\n",
              "\n",
              "    .dataframe thead th {\n",
              "        text-align: right;\n",
              "    }\n",
              "</style>\n",
              "<table border=\"1\" class=\"dataframe\">\n",
              "  <thead>\n",
              "    <tr style=\"text-align: right;\">\n",
              "      <th></th>\n",
              "      <th>id</th>\n",
              "      <th>comment_text</th>\n",
              "      <th>toxic</th>\n",
              "      <th>severe_toxic</th>\n",
              "      <th>obscene</th>\n",
              "      <th>threat</th>\n",
              "      <th>insult</th>\n",
              "      <th>identity_hate</th>\n",
              "      <th>toxicity</th>\n",
              "      <th>clean_text</th>\n",
              "      <th>tokenized</th>\n",
              "      <th>tokenized_no_stopwords</th>\n",
              "      <th>tokenized_stemmed</th>\n",
              "      <th>tokenized_pos</th>\n",
              "      <th>tokenized_lemmatized</th>\n",
              "      <th>tokenized_lemmatized_pos</th>\n",
              "      <th>tokenized_bigram</th>\n",
              "    </tr>\n",
              "  </thead>\n",
              "  <tbody>\n",
              "    <tr>\n",
              "      <th>0</th>\n",
              "      <td>0000997932d777bf</td>\n",
              "      <td>Explanation\\nWhy the edits made under my usern...</td>\n",
              "      <td>0</td>\n",
              "      <td>0</td>\n",
              "      <td>0</td>\n",
              "      <td>0</td>\n",
              "      <td>0</td>\n",
              "      <td>0</td>\n",
              "      <td>0</td>\n",
              "      <td>explanation why the edits made under my userna...</td>\n",
              "      <td>['explanation', 'why', 'the', 'edits', 'made',...</td>\n",
              "      <td>['explanation', 'edits', 'made', 'username', '...</td>\n",
              "      <td>['explan', 'edit', 'made', 'usernam', 'hardcor...</td>\n",
              "      <td>[('explanation', 'NN'), ('edits', 'NNS'), ('ma...</td>\n",
              "      <td>['explanation', 'edits', 'made', 'username', '...</td>\n",
              "      <td>['explanation', 'edits', 'make', 'username', '...</td>\n",
              "      <td>[('explanation', 'edits'), ('edits', 'made'), ...</td>\n",
              "    </tr>\n",
              "  </tbody>\n",
              "</table>\n",
              "</div>\n",
              "      <button class=\"colab-df-convert\" onclick=\"convertToInteractive('df-343a140e-9d12-4b94-ab74-c1c220ad93b9')\"\n",
              "              title=\"Convert this dataframe to an interactive table.\"\n",
              "              style=\"display:none;\">\n",
              "        \n",
              "  <svg xmlns=\"http://www.w3.org/2000/svg\" height=\"24px\"viewBox=\"0 0 24 24\"\n",
              "       width=\"24px\">\n",
              "    <path d=\"M0 0h24v24H0V0z\" fill=\"none\"/>\n",
              "    <path d=\"M18.56 5.44l.94 2.06.94-2.06 2.06-.94-2.06-.94-.94-2.06-.94 2.06-2.06.94zm-11 1L8.5 8.5l.94-2.06 2.06-.94-2.06-.94L8.5 2.5l-.94 2.06-2.06.94zm10 10l.94 2.06.94-2.06 2.06-.94-2.06-.94-.94-2.06-.94 2.06-2.06.94z\"/><path d=\"M17.41 7.96l-1.37-1.37c-.4-.4-.92-.59-1.43-.59-.52 0-1.04.2-1.43.59L10.3 9.45l-7.72 7.72c-.78.78-.78 2.05 0 2.83L4 21.41c.39.39.9.59 1.41.59.51 0 1.02-.2 1.41-.59l7.78-7.78 2.81-2.81c.8-.78.8-2.07 0-2.86zM5.41 20L4 18.59l7.72-7.72 1.47 1.35L5.41 20z\"/>\n",
              "  </svg>\n",
              "      </button>\n",
              "      \n",
              "  <style>\n",
              "    .colab-df-container {\n",
              "      display:flex;\n",
              "      flex-wrap:wrap;\n",
              "      gap: 12px;\n",
              "    }\n",
              "\n",
              "    .colab-df-convert {\n",
              "      background-color: #E8F0FE;\n",
              "      border: none;\n",
              "      border-radius: 50%;\n",
              "      cursor: pointer;\n",
              "      display: none;\n",
              "      fill: #1967D2;\n",
              "      height: 32px;\n",
              "      padding: 0 0 0 0;\n",
              "      width: 32px;\n",
              "    }\n",
              "\n",
              "    .colab-df-convert:hover {\n",
              "      background-color: #E2EBFA;\n",
              "      box-shadow: 0px 1px 2px rgba(60, 64, 67, 0.3), 0px 1px 3px 1px rgba(60, 64, 67, 0.15);\n",
              "      fill: #174EA6;\n",
              "    }\n",
              "\n",
              "    [theme=dark] .colab-df-convert {\n",
              "      background-color: #3B4455;\n",
              "      fill: #D2E3FC;\n",
              "    }\n",
              "\n",
              "    [theme=dark] .colab-df-convert:hover {\n",
              "      background-color: #434B5C;\n",
              "      box-shadow: 0px 1px 3px 1px rgba(0, 0, 0, 0.15);\n",
              "      filter: drop-shadow(0px 1px 2px rgba(0, 0, 0, 0.3));\n",
              "      fill: #FFFFFF;\n",
              "    }\n",
              "  </style>\n",
              "\n",
              "      <script>\n",
              "        const buttonEl =\n",
              "          document.querySelector('#df-343a140e-9d12-4b94-ab74-c1c220ad93b9 button.colab-df-convert');\n",
              "        buttonEl.style.display =\n",
              "          google.colab.kernel.accessAllowed ? 'block' : 'none';\n",
              "\n",
              "        async function convertToInteractive(key) {\n",
              "          const element = document.querySelector('#df-343a140e-9d12-4b94-ab74-c1c220ad93b9');\n",
              "          const dataTable =\n",
              "            await google.colab.kernel.invokeFunction('convertToInteractive',\n",
              "                                                     [key], {});\n",
              "          if (!dataTable) return;\n",
              "\n",
              "          const docLinkHtml = 'Like what you see? Visit the ' +\n",
              "            '<a target=\"_blank\" href=https://colab.research.google.com/notebooks/data_table.ipynb>data table notebook</a>'\n",
              "            + ' to learn more about interactive tables.';\n",
              "          element.innerHTML = '';\n",
              "          dataTable['output_type'] = 'display_data';\n",
              "          await google.colab.output.renderOutput(dataTable, element);\n",
              "          const docLink = document.createElement('div');\n",
              "          docLink.innerHTML = docLinkHtml;\n",
              "          element.appendChild(docLink);\n",
              "        }\n",
              "      </script>\n",
              "    </div>\n",
              "  </div>\n",
              "  "
            ],
            "text/plain": [
              "                 id  ...                                   tokenized_bigram\n",
              "0  0000997932d777bf  ...  [('explanation', 'edits'), ('edits', 'made'), ...\n",
              "\n",
              "[1 rows x 17 columns]"
            ]
          },
          "metadata": {},
          "execution_count": 5
        }
      ],
      "source": [
        "#df_train = pd.read_csv('../data/train_cleaned.zip', compression='zip')\n",
        "df_train = pd.read_csv('/content/drive/My Drive/train_cleaned.zip', compression='zip', engine='python')\n",
        "df_train.head(1)"
      ],
      "id": "bca5949e"
    },
    {
      "cell_type": "code",
      "execution_count": null,
      "metadata": {
        "colab": {
          "base_uri": "https://localhost:8080/",
          "height": 197
        },
        "id": "912a2a4e",
        "outputId": "278702e5-f79f-447b-9f7e-be56652bde10"
      },
      "outputs": [
        {
          "output_type": "execute_result",
          "data": {
            "text/html": [
              "\n",
              "  <div id=\"df-a83b84c0-5797-4811-98cb-c64fd475a618\">\n",
              "    <div class=\"colab-df-container\">\n",
              "      <div>\n",
              "<style scoped>\n",
              "    .dataframe tbody tr th:only-of-type {\n",
              "        vertical-align: middle;\n",
              "    }\n",
              "\n",
              "    .dataframe tbody tr th {\n",
              "        vertical-align: top;\n",
              "    }\n",
              "\n",
              "    .dataframe thead th {\n",
              "        text-align: right;\n",
              "    }\n",
              "</style>\n",
              "<table border=\"1\" class=\"dataframe\">\n",
              "  <thead>\n",
              "    <tr style=\"text-align: right;\">\n",
              "      <th></th>\n",
              "      <th>id</th>\n",
              "      <th>comment_text</th>\n",
              "      <th>toxic</th>\n",
              "      <th>severe_toxic</th>\n",
              "      <th>obscene</th>\n",
              "      <th>threat</th>\n",
              "      <th>insult</th>\n",
              "      <th>identity_hate</th>\n",
              "      <th>toxicity</th>\n",
              "      <th>clean_text</th>\n",
              "      <th>tokenized</th>\n",
              "      <th>tokenized_no_stopwords</th>\n",
              "      <th>tokenized_stemmed</th>\n",
              "      <th>tokenized_pos</th>\n",
              "      <th>tokenized_lemmatized</th>\n",
              "      <th>tokenized_lemmatized_pos</th>\n",
              "      <th>tokenized_bigram</th>\n",
              "    </tr>\n",
              "  </thead>\n",
              "  <tbody>\n",
              "    <tr>\n",
              "      <th>0</th>\n",
              "      <td>0001ea8717f6de06</td>\n",
              "      <td>Thank you for understanding. I think very high...</td>\n",
              "      <td>0</td>\n",
              "      <td>0</td>\n",
              "      <td>0</td>\n",
              "      <td>0</td>\n",
              "      <td>0</td>\n",
              "      <td>0</td>\n",
              "      <td>0</td>\n",
              "      <td>thank you for understanding i think very highl...</td>\n",
              "      <td>['thank', 'you', 'for', 'understanding', 'i', ...</td>\n",
              "      <td>['thank', 'understanding', 'think', 'highly', ...</td>\n",
              "      <td>['thank', 'understand', 'think', 'highli', 'wo...</td>\n",
              "      <td>[('thank', 'NN'), ('understanding', 'VBG'), ('...</td>\n",
              "      <td>['thank', 'understanding', 'think', 'highly', ...</td>\n",
              "      <td>['thank', 'understand', 'think', 'highly', 'wo...</td>\n",
              "      <td>[('thank', 'understanding'), ('understanding',...</td>\n",
              "    </tr>\n",
              "  </tbody>\n",
              "</table>\n",
              "</div>\n",
              "      <button class=\"colab-df-convert\" onclick=\"convertToInteractive('df-a83b84c0-5797-4811-98cb-c64fd475a618')\"\n",
              "              title=\"Convert this dataframe to an interactive table.\"\n",
              "              style=\"display:none;\">\n",
              "        \n",
              "  <svg xmlns=\"http://www.w3.org/2000/svg\" height=\"24px\"viewBox=\"0 0 24 24\"\n",
              "       width=\"24px\">\n",
              "    <path d=\"M0 0h24v24H0V0z\" fill=\"none\"/>\n",
              "    <path d=\"M18.56 5.44l.94 2.06.94-2.06 2.06-.94-2.06-.94-.94-2.06-.94 2.06-2.06.94zm-11 1L8.5 8.5l.94-2.06 2.06-.94-2.06-.94L8.5 2.5l-.94 2.06-2.06.94zm10 10l.94 2.06.94-2.06 2.06-.94-2.06-.94-.94-2.06-.94 2.06-2.06.94z\"/><path d=\"M17.41 7.96l-1.37-1.37c-.4-.4-.92-.59-1.43-.59-.52 0-1.04.2-1.43.59L10.3 9.45l-7.72 7.72c-.78.78-.78 2.05 0 2.83L4 21.41c.39.39.9.59 1.41.59.51 0 1.02-.2 1.41-.59l7.78-7.78 2.81-2.81c.8-.78.8-2.07 0-2.86zM5.41 20L4 18.59l7.72-7.72 1.47 1.35L5.41 20z\"/>\n",
              "  </svg>\n",
              "      </button>\n",
              "      \n",
              "  <style>\n",
              "    .colab-df-container {\n",
              "      display:flex;\n",
              "      flex-wrap:wrap;\n",
              "      gap: 12px;\n",
              "    }\n",
              "\n",
              "    .colab-df-convert {\n",
              "      background-color: #E8F0FE;\n",
              "      border: none;\n",
              "      border-radius: 50%;\n",
              "      cursor: pointer;\n",
              "      display: none;\n",
              "      fill: #1967D2;\n",
              "      height: 32px;\n",
              "      padding: 0 0 0 0;\n",
              "      width: 32px;\n",
              "    }\n",
              "\n",
              "    .colab-df-convert:hover {\n",
              "      background-color: #E2EBFA;\n",
              "      box-shadow: 0px 1px 2px rgba(60, 64, 67, 0.3), 0px 1px 3px 1px rgba(60, 64, 67, 0.15);\n",
              "      fill: #174EA6;\n",
              "    }\n",
              "\n",
              "    [theme=dark] .colab-df-convert {\n",
              "      background-color: #3B4455;\n",
              "      fill: #D2E3FC;\n",
              "    }\n",
              "\n",
              "    [theme=dark] .colab-df-convert:hover {\n",
              "      background-color: #434B5C;\n",
              "      box-shadow: 0px 1px 3px 1px rgba(0, 0, 0, 0.15);\n",
              "      filter: drop-shadow(0px 1px 2px rgba(0, 0, 0, 0.3));\n",
              "      fill: #FFFFFF;\n",
              "    }\n",
              "  </style>\n",
              "\n",
              "      <script>\n",
              "        const buttonEl =\n",
              "          document.querySelector('#df-a83b84c0-5797-4811-98cb-c64fd475a618 button.colab-df-convert');\n",
              "        buttonEl.style.display =\n",
              "          google.colab.kernel.accessAllowed ? 'block' : 'none';\n",
              "\n",
              "        async function convertToInteractive(key) {\n",
              "          const element = document.querySelector('#df-a83b84c0-5797-4811-98cb-c64fd475a618');\n",
              "          const dataTable =\n",
              "            await google.colab.kernel.invokeFunction('convertToInteractive',\n",
              "                                                     [key], {});\n",
              "          if (!dataTable) return;\n",
              "\n",
              "          const docLinkHtml = 'Like what you see? Visit the ' +\n",
              "            '<a target=\"_blank\" href=https://colab.research.google.com/notebooks/data_table.ipynb>data table notebook</a>'\n",
              "            + ' to learn more about interactive tables.';\n",
              "          element.innerHTML = '';\n",
              "          dataTable['output_type'] = 'display_data';\n",
              "          await google.colab.output.renderOutput(dataTable, element);\n",
              "          const docLink = document.createElement('div');\n",
              "          docLink.innerHTML = docLinkHtml;\n",
              "          element.appendChild(docLink);\n",
              "        }\n",
              "      </script>\n",
              "    </div>\n",
              "  </div>\n",
              "  "
            ],
            "text/plain": [
              "                 id  ...                                   tokenized_bigram\n",
              "0  0001ea8717f6de06  ...  [('thank', 'understanding'), ('understanding',...\n",
              "\n",
              "[1 rows x 17 columns]"
            ]
          },
          "metadata": {},
          "execution_count": 6
        }
      ],
      "source": [
        "df_test = pd.read_csv('/content/drive/My Drive/test_cleaned.zip', compression='zip', engine='python')\n",
        "df_test.head(1)"
      ],
      "id": "912a2a4e"
    },
    {
      "cell_type": "code",
      "execution_count": null,
      "metadata": {
        "id": "787961df"
      },
      "outputs": [],
      "source": [
        "df_train['clean_text'] = df_train['clean_text'].apply(lambda x: str(x))\n",
        "df_test['clean_text'] = df_test['clean_text'].apply(lambda x: str(x))"
      ],
      "id": "787961df"
    },
    {
      "cell_type": "code",
      "execution_count": null,
      "metadata": {
        "id": "857422a6"
      },
      "outputs": [],
      "source": [
        "#https://tfhub.dev/google/collections/bert/1\n",
        "\n",
        "#Input Layer\n",
        "text_input = tf.keras.layers.Input(shape=(), dtype=tf.string, name='text')\n",
        "\n",
        "#Preprocessing Layer\n",
        "preprocessing_layer = hub.KerasLayer(\"https://tfhub.dev/tensorflow/bert_en_uncased_preprocess/3\", name='preprocessing')\n",
        "encoder_inputs = preprocessing_layer(text_input)\n",
        "\n",
        "#Encoder Layer\n",
        "encoder = hub.KerasLayer(\"https://tfhub.dev/tensorflow/small_bert/bert_en_uncased_L-4_H-768_A-12/2\", trainable=True, name='smallBERT_encoder')\n",
        "outputs = encoder(encoder_inputs)\n",
        "\n",
        "#Classification Layers\n",
        "net = outputs['pooled_output']\n",
        "net = tf.keras.layers.Dropout(0.5)(net)\n",
        "net = tf.keras.layers.Dense(768, activation='relu')(net)\n",
        "net = tf.keras.layers.Dense(6, activation='sigmoid', name='classifier')(net)\n",
        "\n",
        "model = tf.keras.Model(inputs=[text_input], outputs=[net])"
      ],
      "id": "857422a6"
    },
    {
      "cell_type": "code",
      "execution_count": null,
      "metadata": {
        "id": "8f5b3a2e",
        "outputId": "3245cc27-817d-4418-b1dc-903cac4efe4c",
        "colab": {
          "base_uri": "https://localhost:8080/"
        }
      },
      "outputs": [
        {
          "output_type": "stream",
          "name": "stdout",
          "text": [
            "Keys       : ['input_type_ids', 'input_mask', 'input_word_ids']\n",
            "Shape      : (1, 128)\n",
            "Word Ids   : [[  101  7526  2339  1996 10086  2015  2081  2104  2026  5310 18442 13076\n",
            "  12392  2050  5470  2020 16407  2027  2020  2025  3158  9305 22556  2074\n",
            "   8503  2006  2070  3806  2044  1045  5444  2012  2047  2259 14421  6904\n",
            "   2278  1998  3531  2079  2025  6366  1996 23561  2013  1996  2831  3931\n",
            "   2144  1045  2572  3394  2085   102     0     0     0     0     0     0\n",
            "      0     0     0     0     0     0     0     0     0     0     0     0\n",
            "      0     0     0     0     0     0     0     0     0     0     0     0\n",
            "      0     0     0     0     0     0     0     0     0     0     0     0\n",
            "      0     0     0     0     0     0     0     0     0     0     0     0\n",
            "      0     0     0     0     0     0     0     0     0     0     0     0\n",
            "      0     0     0     0     0     0     0     0]]\n",
            "Input Mask : [[1 1 1 1 1 1 1 1 1 1 1 1 1 1 1 1 1 1 1 1 1 1 1 1 1 1 1 1 1 1 1 1 1 1 1 1\n",
            "  1 1 1 1 1 1 1 1 1 1 1 1 1 1 1 1 1 1 0 0 0 0 0 0 0 0 0 0 0 0 0 0 0 0 0 0\n",
            "  0 0 0 0 0 0 0 0 0 0 0 0 0 0 0 0 0 0 0 0 0 0 0 0 0 0 0 0 0 0 0 0 0 0 0 0\n",
            "  0 0 0 0 0 0 0 0 0 0 0 0 0 0 0 0 0 0 0 0]]\n",
            "Type Ids   : [[0 0 0 0 0 0 0 0 0 0 0 0 0 0 0 0 0 0 0 0 0 0 0 0 0 0 0 0 0 0 0 0 0 0 0 0\n",
            "  0 0 0 0 0 0 0 0 0 0 0 0 0 0 0 0 0 0 0 0 0 0 0 0 0 0 0 0 0 0 0 0 0 0 0 0\n",
            "  0 0 0 0 0 0 0 0 0 0 0 0 0 0 0 0 0 0 0 0 0 0 0 0 0 0 0 0 0 0 0 0 0 0 0 0\n",
            "  0 0 0 0 0 0 0 0 0 0 0 0 0 0 0 0 0 0 0 0]]\n"
          ]
        }
      ],
      "source": [
        "text_test = [df_train.clean_text[0]]\n",
        "text_preprocessed = preprocessing_layer(text_test)\n",
        "\n",
        "print(f'Keys       : {list(text_preprocessed.keys())}')\n",
        "print(f'Shape      : {text_preprocessed[\"input_word_ids\"].shape}')\n",
        "print(f'Word Ids   : {text_preprocessed[\"input_word_ids\"]}')\n",
        "print(f'Input Mask : {text_preprocessed[\"input_mask\"]}')\n",
        "print(f'Type Ids   : {text_preprocessed[\"input_type_ids\"]}')"
      ],
      "id": "8f5b3a2e"
    },
    {
      "cell_type": "code",
      "execution_count": null,
      "metadata": {
        "id": "ed8f1d08",
        "outputId": "66658386-a639-4a1d-de1b-40dc35eed488",
        "colab": {
          "base_uri": "https://localhost:8080/"
        }
      },
      "outputs": [
        {
          "output_type": "stream",
          "name": "stdout",
          "text": [
            "Pooled Outputs Shape:(1, 768)\n",
            "Pooled Outputs Values:[[ 0.9998182   0.36561713 -0.06045711  0.9998913   0.55053735 -0.51977396\n",
            "   0.03203234 -0.99686605 -0.04788584  0.07592133 -0.08190849 -0.99396735\n",
            "  -0.4589937   0.5932564   0.05001172  0.38892004 -0.42809942  0.11761143\n",
            "   0.41652572  0.35130024 -0.9869586   0.91411865 -0.9109081   0.9934927\n",
            "  -0.9423563  -0.31576657  0.22837617 -0.38757426 -0.01363051  0.14295742\n",
            "   0.37431142 -0.02334367 -0.16945265 -0.4603301  -0.9999556  -0.06813609\n",
            "  -0.10186746  0.01416299 -0.10222375 -0.9383178  -0.24377531 -0.9995583\n",
            "   0.81198335 -0.28889677 -0.43811494 -0.42335576 -0.5356884   0.6370769\n",
            "   0.29279906  0.8053607  -0.63071495  0.51290536 -0.3375983   0.6425824\n",
            "   0.41347033  0.32926357 -0.77722913 -0.9800702  -0.40091726 -0.9944658\n",
            "  -0.9995405  -0.9835867  -0.95790476 -0.07734024  0.9889927   0.89004374\n",
            "  -0.3642538   0.38553897 -0.1116308   0.9994012   0.03150657  0.9635238\n",
            "  -0.99123955 -0.2977037   0.49742872  0.93888766 -0.46160275  0.5489727\n",
            "  -0.11475008  0.47163755  0.9914708  -0.1283429   0.7059952   0.41837442\n",
            "  -0.9876153  -0.08864187  0.40773737 -0.6325779   0.35821497 -0.0014033\n",
            "   0.1685855  -0.35509464  0.9925971  -0.00463604 -0.7675564  -0.62249917\n",
            "  -0.9162903  -0.4611973  -0.61424994  0.9902863  -0.1571782  -0.93531936\n",
            "   0.49429175 -0.206515   -0.4230051  -0.9911914  -0.3241896  -0.11676199\n",
            "   0.44670013 -0.98929495 -0.9989528  -0.03216917  0.96449494  0.27706027\n",
            "   0.91196656  0.01648837  0.95269126  0.9925344   0.9974858  -0.9926721\n",
            "  -0.86140156  0.95606256  0.35842833 -0.47052175  0.09658005  0.14801438\n",
            "  -0.7888287   0.36673543 -0.319295   -0.3034875   0.32290897  0.2537735\n",
            "  -0.916205   -0.5101114  -0.5856598  -0.97912604  0.98686665 -0.5899665\n",
            "   0.30196673 -0.16535388 -0.22181046  0.51393723  0.15526618  0.98433226\n",
            "   0.2472226   0.97004706 -0.6251855   0.11001218  0.18930429 -0.28938785\n",
            "   0.180873    0.10284201 -0.945058    0.61744666 -0.6876424   0.04444604\n",
            "  -0.2330799  -0.20596416  0.29894343  0.08416521 -0.02078502 -0.0376897\n",
            "  -0.44562477 -0.30891696 -0.96772915 -0.42981154  0.31937325  0.40227357\n",
            "  -0.04489102  0.70457137 -0.9545102  -0.31128517 -0.9793415   0.26337534\n",
            "  -0.4005286   0.16340947 -0.99320006 -0.10972498  0.31737927  0.9316002\n",
            "  -0.17264178 -0.22352922  0.663255    0.00990681 -0.09678169  0.34443328\n",
            "   0.06958378  0.9982862   0.1571297  -0.55971664  0.9695733  -0.99825925\n",
            "   0.19125807  0.34900063 -0.13922808 -0.4800311   0.40108752  0.38136292\n",
            "   0.9649078  -0.43515393  0.3539661  -0.42334834  0.31763303  0.97485924\n",
            "  -0.09651813 -0.8953303   0.3420784   0.9999861   0.19910075 -0.4162047\n",
            "  -0.9917435   0.33034113  0.99651146 -0.9997364   0.9988818  -0.4005506\n",
            "  -0.45778987 -0.6440849  -0.28435418  0.19956867  0.32918942  0.9997425\n",
            "  -0.12445652  0.56512713  0.6261327   0.9397866  -0.03745245 -0.31759098\n",
            "   0.31414992 -0.9422798  -0.23132664  0.24323872 -0.99979043 -0.1441333\n",
            "   0.15093404  0.03877906 -0.7219388   0.99288106 -0.5954432   0.31211007\n",
            "   0.97662234 -0.9953979  -0.68357277 -0.17989397 -0.8946296  -0.4891247\n",
            "   0.72250736  0.999618   -0.9934754  -0.20582037  0.05461461 -0.99544805\n",
            "  -0.9949937  -0.4579625   0.9973486  -0.9997138  -0.0207115   0.4571715\n",
            "  -0.05653626 -0.1837689   0.9994608  -0.12380314  0.21884754 -0.241215\n",
            "  -0.6093951   0.3198079  -0.4919002  -0.14237982  0.5026645  -0.9822668\n",
            "   0.06424545  0.98389316 -0.05033625  0.20215206  0.15304497 -0.3887744\n",
            "   0.29133952 -0.8506448   0.39120367  0.05638833 -0.9389575  -0.22357932\n",
            "  -0.24035998  0.05455404 -0.39015523 -0.8243032   0.997315    0.13433726\n",
            "   0.34964806  0.3014231   0.5237421   0.53136224 -0.9987764   0.6643204\n",
            "  -0.31962177  0.37737352 -0.9904806   0.00177961 -0.3033787   0.99005646\n",
            "   0.0158607   0.01380865 -0.99838275  0.35015947 -0.9954024  -0.21121289\n",
            "  -0.23707847 -0.64264524 -0.6198831   0.11186124  0.3143267   0.99614906\n",
            "  -0.10307248  0.9682223  -0.32025713 -0.4414403  -0.28264326 -0.48426\n",
            "  -0.9999592   0.33379918  0.05648889 -0.25251022  0.995776   -0.35048902\n",
            "   0.24629389  0.09966017 -0.09703184 -0.9763784   0.7172717  -0.36703172\n",
            "  -0.46485847 -0.9918644  -0.11959931 -0.40130603  0.18646514  0.06749867\n",
            "   0.0645922   0.05078741  0.9785513   0.05492232  0.28891724 -0.24639745\n",
            "  -0.33275226 -0.25675827 -0.16959363  0.08947214  0.17653872  0.9978913\n",
            "   0.4177937  -0.49555045  0.9568653  -0.37577564  0.14789407 -0.48094875\n",
            "  -0.6976516   0.5081073  -0.2552229   0.40632343 -0.85115296  0.47177985\n",
            "  -0.10782021 -0.1768576   0.43661767 -0.3915111  -0.99952734  0.11709207\n",
            "   0.36756113 -0.8706761   0.40929887  0.99941975 -0.9922834  -0.12416662\n",
            "   0.19706194 -0.37967554 -0.536057    0.23800376 -0.97601014 -0.48598546\n",
            "   0.6581444  -0.9077017  -0.99245256 -0.14062755 -0.99297744 -0.5290435\n",
            "   0.05843609 -0.22623685 -0.27017814  0.044874   -0.3786434  -0.49134532\n",
            "   0.98599267 -0.18442787  0.9998439  -0.9920154  -0.29186097  0.176581\n",
            "   0.63039374 -0.75289184 -0.1539391   0.57046145  0.1883431   0.43662047\n",
            "   0.08658583  0.48418093 -0.13745123 -0.18334043  0.6010715   0.20710269\n",
            "   0.90204114  0.17864032 -0.01246681 -0.98447835 -0.05085815 -0.40846124\n",
            "   0.5086381  -0.9956455   0.99487156 -0.55429345 -0.25008512 -0.01115712\n",
            "  -0.3498053  -0.99435174  0.51464826 -0.98454744 -0.9831319  -0.00443082\n",
            "   0.9938705  -0.23796807  0.3413234  -0.99877614 -0.42684323 -0.3249876\n",
            "   0.5683771   0.08110661 -0.41412726 -0.30395663 -0.98533404 -0.99978757\n",
            "  -0.99538636 -0.9997904   0.18121594  0.20639162  0.5377361   0.9992443\n",
            "  -0.99827635 -0.66159093 -0.57456785 -0.11511654  0.3247069   0.32375577\n",
            "   0.99932855 -0.28303397  0.1470223  -0.03216785  0.8819156  -0.15227154\n",
            "  -0.2735546   0.75736535  0.5874598  -0.62752366 -0.5039777   0.9992689\n",
            "  -0.32247424 -0.02107862 -0.16935715 -0.79726887  0.2594875   0.01970854\n",
            "  -0.65279543  0.11573106 -0.02052744 -0.14448121 -0.06122844  0.17442106\n",
            "   0.39065257 -0.5974396   0.9103827   0.23802501 -0.98662835  0.6079147\n",
            "  -0.9096915   0.4906156   0.16136788 -0.10637763 -0.86976945 -0.12310115\n",
            "  -0.21732356  0.76049834  0.30771658  0.23675077  0.02264952  0.07845914\n",
            "   0.976743   -0.09209298 -0.6356743   0.39266595 -0.34265342 -0.299111\n",
            "   0.585628   -0.9049773  -0.96927804 -0.9623664  -0.2032702  -0.2421515\n",
            "   0.28700113 -0.35503843  0.26547083  0.99839944  0.20469874 -0.0145463\n",
            "   0.40206936  0.9731221   0.48575467 -0.00356674  0.43781838 -0.18742873\n",
            "  -0.99261796  0.9768063   0.34307414 -0.98727405 -0.9881684  -0.8689711\n",
            "   0.42020857 -0.31437948  0.76579744  0.0198242   0.3981108   0.1144806\n",
            "   0.71618325  0.11747653  0.5347703   0.6124951   0.2160013  -0.99797547\n",
            "   0.48268127  0.9026311  -0.9979106  -0.0094451  -0.47088614 -0.05629465\n",
            "  -0.23605454  0.35219672  0.05018946 -0.34227183  0.94440395 -0.39621836\n",
            "  -0.4413668   0.39427707  0.99407357 -0.09516939  0.9989735   0.76288325\n",
            "  -0.9813699   0.9428781   0.01724904 -0.19261512 -0.1768039   0.166216\n",
            "   0.11968147  0.5907195   0.21056224 -0.10636977 -0.9996523  -0.9951666\n",
            "   0.19338094 -0.05636308  0.9860844   0.9988879  -0.76688904  0.97528654\n",
            "  -0.44612998 -0.35245976 -0.31076172 -0.10709645  0.109822    0.9347224\n",
            "   0.82402134  0.98206306  0.32185847 -0.3358527   0.966182   -0.54022497\n",
            "  -0.38021162  0.5327109   0.02612303 -0.01907329 -0.03748721  0.17751199\n",
            "  -0.58013755  0.99715453  0.3305904   0.41082707 -0.23368567 -0.9785614\n",
            "  -0.67865616 -0.6978108  -0.99938905 -0.03483554 -0.6443736   0.03905466\n",
            "   0.174833   -0.39272913 -0.57646835 -0.9997606  -0.27552116 -0.1219679\n",
            "  -0.89181954  0.1572276   0.07226867  0.01812456 -0.95690376 -0.9933403\n",
            "   0.9495657   0.9434725  -0.2973748  -0.3556736   0.298078    0.92984444\n",
            "   0.13383514  0.93444765  0.9921528   0.11263366  0.16992731  0.00955382\n",
            "   0.9966205   0.93977076  0.65450275  0.43343422 -0.60763025  0.99270135\n",
            "  -0.2800756  -0.321223   -0.16784613  0.19274566 -0.15188754  0.07465514\n",
            "  -0.37288597 -0.1334132   0.41016772 -0.2538605  -0.978416   -0.7835846\n",
            "   0.10014229 -0.4454747   0.15537061  0.12386163  0.7067227  -0.9970306\n",
            "  -0.04354342  0.14383826 -0.8961476   0.05694588 -0.5960429   0.584506\n",
            "   0.03232752 -0.76019174 -0.3542317  -0.15260498 -0.2488932   0.46289617\n",
            "  -0.18332864  0.17735824  0.39847758  0.99796855 -0.9340937  -0.5245618\n",
            "   0.9948364  -0.08170911  0.1482198   0.25868195 -0.97835636  0.56753963\n",
            "  -0.386198    0.9983078  -0.95420194 -0.70336145  0.9983793   0.14860979\n",
            "   0.6577405   0.19771616  0.9991254  -0.02643344 -0.36902264 -0.44204718\n",
            "   0.21266706 -0.8231944  -0.99998814  0.29602993  0.48452395 -0.64299846\n",
            "  -0.06655972  0.8633031  -0.39563948  0.42038316 -0.43899396 -0.38256276\n",
            "   0.02213226  0.98149     0.02209903 -0.21609247 -0.16406241 -0.568203\n",
            "  -0.09433562  0.08718943  0.99422294 -0.9954164  -0.6152172  -0.04370261\n",
            "   0.24781014 -0.975155   -0.837043    0.29452318 -0.45469972  0.9688485\n",
            "  -0.2098444  -0.36770046 -0.10301295  0.9951658   0.915462    0.04924688\n",
            "   0.00577941 -0.46443477  0.9866342  -0.91092557 -0.10983184  0.9897706\n",
            "  -0.26958248 -0.9858507  -0.49019554  0.24577779 -0.999553   -0.30939552\n",
            "   0.02145029  0.30784166  0.28393036 -0.09588895 -0.96915036 -0.12919387\n",
            "   0.9990167   0.07649799 -0.93043697 -0.3362076  -0.99975383 -0.14513266\n",
            "   0.5043239   0.40816617 -0.99711007  0.7508484   0.9992318  -0.53093594\n",
            "   0.9256779  -0.9635804   0.2686067  -0.7902592  -0.99611926 -0.3595627\n",
            "   0.87505925 -0.84524924  0.9784256  -0.9970248   0.28700408 -0.999642\n",
            "  -0.4645844  -0.15717791  0.8777826  -0.21532343  0.7650245   0.19830108]]\n",
            "Sequence Outputs Shape:(1, 128, 768)\n",
            "Sequence Outputs Values:[[[-0.2802138  -0.18066591 -0.44370902 ... -0.89154077 -0.7226671\n",
            "    0.20839351]\n",
            "  [ 0.15072991  0.00941741 -0.12126289 ... -0.03420737 -0.3042574\n",
            "    0.11117025]\n",
            "  [ 0.59408545  0.6029957  -0.20238361 ... -0.7231265   0.8030642\n",
            "    0.23992911]\n",
            "  ...\n",
            "  [-0.07169721  0.05867321  0.01065592 ... -0.15305322  0.51191\n",
            "    0.16502362]\n",
            "  [-0.26398116  0.14545858  0.3082724  ...  0.10443018  0.19588657\n",
            "   -0.06867644]\n",
            "  [ 0.11146459  0.04552473  0.31298617 ... -0.02860452 -0.08107807\n",
            "    0.5900755 ]]]\n"
          ]
        }
      ],
      "source": [
        "bert_results = encoder(text_preprocessed)\n",
        "\n",
        "print(f'Pooled Outputs Shape:{bert_results[\"pooled_output\"].shape}')\n",
        "print(f'Pooled Outputs Values:{bert_results[\"pooled_output\"]}')\n",
        "print(f'Sequence Outputs Shape:{bert_results[\"sequence_output\"].shape}')\n",
        "print(f'Sequence Outputs Values:{bert_results[\"sequence_output\"]}')"
      ],
      "id": "ed8f1d08"
    },
    {
      "cell_type": "code",
      "execution_count": null,
      "metadata": {
        "id": "19c25bd7",
        "outputId": "8db49d23-885b-4589-ed43-854b96ba036a",
        "colab": {
          "base_uri": "https://localhost:8080/",
          "height": 564
        }
      },
      "outputs": [
        {
          "output_type": "execute_result",
          "data": {
            "image/png": "[encoded data removed]",
            "text/plain": [
              "<IPython.core.display.Image object>"
            ]
          },
          "metadata": {},
          "execution_count": 11
        }
      ],
      "source": [
        "tf.keras.utils.plot_model(model, show_dtype=True)"
      ],
      "id": "19c25bd7"
    },
    {
      "cell_type": "code",
      "execution_count": null,
      "metadata": {
        "id": "9f406988",
        "colab": {
          "base_uri": "https://localhost:8080/"
        },
        "outputId": "67a54e8a-15ad-4ba8-a351-c9dc5d6ace8b"
      },
      "outputs": [
        {
          "output_type": "execute_result",
          "data": {
            "text/plain": [
              "((127656,), (31915,))"
            ]
          },
          "metadata": {},
          "execution_count": 12
        }
      ],
      "source": [
        "X = df_train.clean_text\n",
        "y = df_train[['toxic','severe_toxic','obscene','threat','insult','identity_hate']]\n",
        "\n",
        "X_train, X_val, y_train, y_val = train_test_split(X, y, test_size=0.2, random_state=42)\n",
        "X_train.shape, X_val.shape"
      ],
      "id": "9f406988"
    },
    {
      "cell_type": "code",
      "source": [
        "X_test = df_test.clean_text\n",
        "y_test = df_test[['toxic','severe_toxic','obscene','threat','insult','identity_hate']]\n",
        "X_test.shape"
      ],
      "metadata": {
        "colab": {
          "base_uri": "https://localhost:8080/"
        },
        "id": "9eB8jEF_99hr",
        "outputId": "db59161c-5381-4bc2-8e21-f5dc44d21fae"
      },
      "id": "9eB8jEF_99hr",
      "execution_count": null,
      "outputs": [
        {
          "output_type": "execute_result",
          "data": {
            "text/plain": [
              "(63978,)"
            ]
          },
          "metadata": {},
          "execution_count": 13
        }
      ]
    },
    {
      "cell_type": "code",
      "execution_count": null,
      "metadata": {
        "id": "6e4d1b9a"
      },
      "outputs": [],
      "source": [
        "batch_size = 32\n",
        "epochs  = 2\n",
        "batches_per_epoch = len(X_train) // batch_size\n",
        "total_train_steps = int(batches_per_epoch * epochs)\n",
        "\n",
        "optimizer, schedule = create_optimizer(\n",
        "    init_lr=2e-5, num_warmup_steps=0, num_train_steps=total_train_steps\n",
        ")\n",
        "\n",
        "model.compile(optimizer=optimizer, loss='binary_crossentropy', metrics='acc')"
      ],
      "id": "6e4d1b9a"
    },
    {
      "cell_type": "code",
      "execution_count": null,
      "metadata": {
        "id": "6864427e",
        "outputId": "74cfd598-186e-454c-9dcb-c61427f2ddb6",
        "colab": {
          "base_uri": "https://localhost:8080/"
        }
      },
      "outputs": [
        {
          "output_type": "execute_result",
          "data": {
            "text/plain": [
              "(3989, 7978)"
            ]
          },
          "metadata": {},
          "execution_count": 15
        }
      ],
      "source": [
        "batches_per_epoch, total_train_steps"
      ],
      "id": "6864427e"
    },
    {
      "cell_type": "code",
      "execution_count": null,
      "metadata": {
        "id": "63a73152",
        "outputId": "68c16459-1c34-47e3-a733-333c052f84c3",
        "colab": {
          "base_uri": "https://localhost:8080/"
        }
      },
      "outputs": [
        {
          "output_type": "stream",
          "name": "stdout",
          "text": [
            "Epoch 1/2\n",
            "3990/3990 [==============================] - 2836s 709ms/step - loss: 0.0516 - acc: 0.8087 - val_loss: 0.0405 - val_acc: 0.9940\n",
            "Epoch 2/2\n",
            "3990/3990 [==============================] - 2826s 708ms/step - loss: 0.0372 - acc: 0.8914 - val_loss: 0.0392 - val_acc: 0.9930\n"
          ]
        }
      ],
      "source": [
        "history = model.fit(X_train, y_train,\n",
        "                       validation_data=(X_val, y_val), \n",
        "                       epochs=epochs)"
      ],
      "id": "63a73152"
    },
    {
      "cell_type": "code",
      "execution_count": null,
      "metadata": {
        "id": "29a636ff",
        "outputId": "7ca0f275-b795-445e-edd0-9ec5e819d71a",
        "colab": {
          "base_uri": "https://localhost:8080/"
        }
      },
      "outputs": [
        {
          "output_type": "execute_result",
          "data": {
            "text/plain": [
              "{'acc': [0.8087359666824341, 0.891411304473877],\n",
              " 'loss': [0.05162466689944267, 0.037166718393564224],\n",
              " 'val_acc': [0.993984043598175, 0.9930126667022705],\n",
              " 'val_loss': [0.0405004657804966, 0.039248667657375336]}"
            ]
          },
          "metadata": {},
          "execution_count": 17
        }
      ],
      "source": [
        "history.history"
      ],
      "id": "29a636ff"
    },
    {
      "cell_type": "code",
      "execution_count": null,
      "metadata": {
        "id": "f15a2c69",
        "outputId": "403e51da-40fe-4c60-b953-42c37dbc6cb1",
        "colab": {
          "base_uri": "https://localhost:8080/",
          "height": 279
        }
      },
      "outputs": [
        {
          "output_type": "display_data",
          "data": {
            "image/png": "[encoded data removed]",
            "text/plain": [
              "<Figure size 432x288 with 1 Axes>"
            ]
          },
          "metadata": {
            "needs_background": "light"
          }
        }
      ],
      "source": [
        "plt.plot(history.history['loss'], label='train')\n",
        "plt.plot(history.history['val_loss'], label='test')\n",
        "plt.xlabel('Epochs')\n",
        "plt.ylabel('Loss')\n",
        "plt.legend()\n",
        "plt.show()"
      ],
      "id": "f15a2c69"
    },
    {
      "cell_type": "code",
      "execution_count": null,
      "metadata": {
        "id": "8733c1d8",
        "outputId": "b5c02d43-7430-4267-d35a-f0897334813c",
        "colab": {
          "base_uri": "https://localhost:8080/",
          "height": 280
        }
      },
      "outputs": [
        {
          "output_type": "display_data",
          "data": {
            "image/png": "[encoded data removed]",
            "text/plain": [
              "<Figure size 432x288 with 1 Axes>"
            ]
          },
          "metadata": {
            "needs_background": "light"
          }
        }
      ],
      "source": [
        "plt.plot(history.history['acc'], label='train')\n",
        "plt.plot(history.history['val_acc'], label='test')\n",
        "plt.xlabel('Epochs')\n",
        "plt.ylabel('Accuracy')\n",
        "plt.legend()\n",
        "plt.show()"
      ],
      "id": "8733c1d8"
    },
    {
      "cell_type": "code",
      "execution_count": null,
      "metadata": {
        "id": "b4825005"
      },
      "outputs": [],
      "source": [
        "predictions = model.predict(X_test)\n",
        "y_pred = np.round(predictions)"
      ],
      "id": "b4825005"
    },
    {
      "cell_type": "code",
      "execution_count": null,
      "metadata": {
        "id": "488417c3",
        "outputId": "d4f18a05-ed15-466e-8f74-30bc1c050df0",
        "colab": {
          "base_uri": "https://localhost:8080/"
        }
      },
      "outputs": [
        {
          "output_type": "stream",
          "name": "stdout",
          "text": [
            "               precision    recall  f1-score   support\n",
            "\n",
            "        toxic       0.52      0.91      0.66      6090\n",
            " severe_toxic       0.36      0.56      0.44       367\n",
            "      obscene       0.59      0.81      0.69      3691\n",
            "       threat       0.46      0.52      0.49       211\n",
            "       insult       0.62      0.78      0.69      3427\n",
            "identity_hate       0.62      0.64      0.63       712\n",
            "\n",
            "    micro avg       0.56      0.83      0.67     14498\n",
            "    macro avg       0.53      0.70      0.60     14498\n",
            " weighted avg       0.56      0.83      0.67     14498\n",
            "  samples avg       0.08      0.08      0.08     14498\n",
            "\n"
          ]
        }
      ],
      "source": [
        "print(classification_report(y_test, y_pred, target_names=['toxic','severe_toxic','obscene','threat','insult','identity_hate']))"
      ],
      "id": "488417c3"
    },
    {
      "cell_type": "code",
      "source": [
        "multilabel_confusion_matrix(y_test, y_pred)"
      ],
      "metadata": {
        "colab": {
          "base_uri": "https://localhost:8080/"
        },
        "id": "yGkPrA8IEOsm",
        "outputId": "959e0c1c-b88e-4f31-ef49-04af26b4a266"
      },
      "id": "yGkPrA8IEOsm",
      "execution_count": null,
      "outputs": [
        {
          "output_type": "execute_result",
          "data": {
            "text/plain": [
              "array([[[52765,  5123],\n",
              "        [  519,  5571]],\n",
              "\n",
              "       [[63252,   359],\n",
              "        [  163,   204]],\n",
              "\n",
              "       [[58226,  2061],\n",
              "        [  687,  3004]],\n",
              "\n",
              "       [[63639,   128],\n",
              "        [  101,   110]],\n",
              "\n",
              "       [[58899,  1652],\n",
              "        [  737,  2690]],\n",
              "\n",
              "       [[62993,   273],\n",
              "        [  259,   453]]])"
            ]
          },
          "metadata": {},
          "execution_count": 25
        }
      ]
    },
    {
      "cell_type": "code",
      "source": [
        "print(f'Accuracy score: {accuracy_score(y_test, y_pred)}')"
      ],
      "metadata": {
        "colab": {
          "base_uri": "https://localhost:8080/"
        },
        "id": "sM3Ry9TJFo1E",
        "outputId": "1952a073-f120-47f6-8368-0f53f7922f64"
      },
      "id": "sM3Ry9TJFo1E",
      "execution_count": null,
      "outputs": [
        {
          "output_type": "stream",
          "name": "stdout",
          "text": [
            "Accuracy score: 0.866672918815843\n"
          ]
        }
      ]
    },
    {
      "cell_type": "code",
      "source": [
        "# Compute ROC curve and ROC area for each class\n",
        "fpr = dict()\n",
        "tpr = dict()\n",
        "roc_auc = dict()\n",
        "\n",
        "for i in range(6):\n",
        "    fpr[i], tpr[i], _ = roc_curve(y_test.values[:, i], predictions[:, i])\n",
        "    roc_auc[i] = auc(fpr[i], tpr[i])"
      ],
      "metadata": {
        "id": "s6yLiKmtERDd"
      },
      "id": "s6yLiKmtERDd",
      "execution_count": null,
      "outputs": []
    },
    {
      "cell_type": "code",
      "source": [
        "# Compute micro-average ROC curve and ROC area\n",
        "fpr[\"micro\"], tpr[\"micro\"], _ = roc_curve(y_test.values.ravel(), predictions.ravel())\n",
        "roc_auc[\"micro\"] = auc(fpr[\"micro\"], tpr[\"micro\"])"
      ],
      "metadata": {
        "id": "D0kVLtI5FGeI"
      },
      "id": "D0kVLtI5FGeI",
      "execution_count": null,
      "outputs": []
    },
    {
      "cell_type": "code",
      "source": [
        "print(roc_auc[\"micro\"])"
      ],
      "metadata": {
        "colab": {
          "base_uri": "https://localhost:8080/"
        },
        "id": "R1IgifIBFLXi",
        "outputId": "124b83ae-12fc-4f5b-af41-373d4a7bc300"
      },
      "id": "R1IgifIBFLXi",
      "execution_count": null,
      "outputs": [
        {
          "output_type": "stream",
          "name": "stdout",
          "text": [
            "0.9845106365428627\n"
          ]
        }
      ]
    },
    {
      "cell_type": "code",
      "source": [
        "plt.figure(figsize=(15,10))\n",
        "for i in range(6):\n",
        "    plt.plot(\n",
        "        fpr[i],\n",
        "        tpr[i],\n",
        "        lw=2,\n",
        "        label=\"ROC curve of class {0} (area = {1:0.2f})\".format(i, roc_auc[i]),\n",
        "    )\n",
        "\n",
        "plt.plot([0, 1], [0, 1], \"k--\", lw=2)\n",
        "plt.xlim([0.0, 1.0])\n",
        "plt.ylim([0.0, 1.05])\n",
        "plt.xlabel(\"False Positive Rate\")\n",
        "plt.ylabel(\"True Positive Rate\")\n",
        "plt.legend(loc=\"lower right\")\n",
        "plt.show()"
      ],
      "metadata": {
        "colab": {
          "base_uri": "https://localhost:8080/",
          "height": 606
        },
        "id": "8Ey0XPcBFMc7",
        "outputId": "91478ec1-8345-46c5-a677-4f2b42c420ce"
      },
      "id": "8Ey0XPcBFMc7",
      "execution_count": null,
      "outputs": [
        {
          "output_type": "display_data",
          "data": {
            "image/png": "[encoded data removed]",
            "text/plain": [
              "<Figure size 1080x720 with 1 Axes>"
            ]
          },
          "metadata": {
            "needs_background": "light"
          }
        }
      ]
    },
    {
      "cell_type": "code",
      "source": [
        ""
      ],
      "metadata": {
        "id": "LuYZzSaLFPoO"
      },
      "id": "LuYZzSaLFPoO",
      "execution_count": null,
      "outputs": []
    }
  ],
  "metadata": {
    "colab": {
      "name": "Fine tune BERT tensorflow.ipynb",
      "provenance": [],
      "collapsed_sections": []
    },
    "kernelspec": {
      "display_name": "Python 3 (ipykernel)",
      "language": "python",
      "name": "python3"
    },
    "language_info": {
      "codemirror_mode": {
        "name": "ipython",
        "version": 3
      },
      "file_extension": ".py",
      "mimetype": "text/x-python",
      "name": "python",
      "nbconvert_exporter": "python",
      "pygments_lexer": "ipython3",
      "version": "3.10.2"
    },
    "accelerator": "GPU"
  },
  "nbformat": 4,
  "nbformat_minor": 5
}