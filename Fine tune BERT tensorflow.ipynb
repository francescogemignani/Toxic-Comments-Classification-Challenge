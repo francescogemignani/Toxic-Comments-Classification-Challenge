{
 "cells": [
  {
   "cell_type": "code",
   "execution_count": 23,
   "id": "e545c312",
   "metadata": {},
   "outputs": [],
   "source": [
    "import warnings\n",
    "warnings.filterwarnings(\"ignore\")\n",
    "\n",
    "import os\n",
    "os.environ['TF_CPP_MIN_LOG_LEVEL'] = '3'\n",
    "\n",
    "import pandas as pd\n",
    "import numpy as np\n",
    "\n",
    "import matplotlib.pyplot as plt\n",
    "%matplotlib inline\n",
    "\n",
    "import tensorflow as tf\n",
    "import tensorflow_hub as hub\n",
    "import tensorflow_text as text\n",
    "\n",
    "from sklearn.metrics import classification_report\n",
    "from sklearn.model_selection import train_test_split\n",
    "\n",
    "from transformers import create_optimizer"
   ]
  },
  {
   "cell_type": "code",
   "execution_count": 2,
   "id": "a3446fc0",
   "metadata": {},
   "outputs": [
    {
     "name": "stdout",
     "output_type": "stream",
     "text": [
      "Num GPUs Available:  1\n"
     ]
    }
   ],
   "source": [
    "print(\"Num GPUs Available: \", len(tf.config.list_physical_devices('GPU')))"
   ]
  },
  {
   "cell_type": "code",
   "execution_count": 6,
   "id": "bca5949e",
   "metadata": {},
   "outputs": [
    {
     "data": {
      "text/html": [
       "<div>\n",
       "<style scoped>\n",
       "    .dataframe tbody tr th:only-of-type {\n",
       "        vertical-align: middle;\n",
       "    }\n",
       "\n",
       "    .dataframe tbody tr th {\n",
       "        vertical-align: top;\n",
       "    }\n",
       "\n",
       "    .dataframe thead th {\n",
       "        text-align: right;\n",
       "    }\n",
       "</style>\n",
       "<table border=\"1\" class=\"dataframe\">\n",
       "  <thead>\n",
       "    <tr style=\"text-align: right;\">\n",
       "      <th></th>\n",
       "      <th>Unnamed: 0</th>\n",
       "      <th>id</th>\n",
       "      <th>comment_text</th>\n",
       "      <th>toxic</th>\n",
       "      <th>severe_toxic</th>\n",
       "      <th>obscene</th>\n",
       "      <th>threat</th>\n",
       "      <th>insult</th>\n",
       "      <th>identity_hate</th>\n",
       "      <th>TOXIC</th>\n",
       "      <th>...</th>\n",
       "      <th>word_counts</th>\n",
       "      <th>unique_word_counts</th>\n",
       "      <th>clean_text</th>\n",
       "      <th>tokenized</th>\n",
       "      <th>tokenized_no_stopwords</th>\n",
       "      <th>tokenized_stemmed</th>\n",
       "      <th>tokenized_pos</th>\n",
       "      <th>tokenized_lemmatized</th>\n",
       "      <th>tokenized_lemmatized_pos</th>\n",
       "      <th>tokenized_bigram</th>\n",
       "    </tr>\n",
       "  </thead>\n",
       "  <tbody>\n",
       "    <tr>\n",
       "      <th>0</th>\n",
       "      <td>0</td>\n",
       "      <td>0000997932d777bf</td>\n",
       "      <td>Explanation\\nWhy the edits made under my usern...</td>\n",
       "      <td>0</td>\n",
       "      <td>0</td>\n",
       "      <td>0</td>\n",
       "      <td>0</td>\n",
       "      <td>0</td>\n",
       "      <td>0</td>\n",
       "      <td>0</td>\n",
       "      <td>...</td>\n",
       "      <td>43</td>\n",
       "      <td>41</td>\n",
       "      <td>explanation why the edits made under my userna...</td>\n",
       "      <td>['explanation', 'why', 'the', 'edits', 'made',...</td>\n",
       "      <td>['explanation', 'edits', 'made', 'username', '...</td>\n",
       "      <td>['explan', 'edit', 'made', 'usernam', 'hardcor...</td>\n",
       "      <td>[('explanation', 'NN'), ('edits', 'NNS'), ('ma...</td>\n",
       "      <td>['explanation', 'edits', 'made', 'username', '...</td>\n",
       "      <td>['explanation', 'edits', 'make', 'username', '...</td>\n",
       "      <td>[('explanation', 'edits'), ('edits', 'made'), ...</td>\n",
       "    </tr>\n",
       "    <tr>\n",
       "      <th>1</th>\n",
       "      <td>1</td>\n",
       "      <td>000103f0d9cfb60f</td>\n",
       "      <td>D'aww! He matches this background colour I'm s...</td>\n",
       "      <td>0</td>\n",
       "      <td>0</td>\n",
       "      <td>0</td>\n",
       "      <td>0</td>\n",
       "      <td>0</td>\n",
       "      <td>0</td>\n",
       "      <td>0</td>\n",
       "      <td>...</td>\n",
       "      <td>17</td>\n",
       "      <td>17</td>\n",
       "      <td>daww he matches this background colour i am se...</td>\n",
       "      <td>['daww', 'he', 'matches', 'this', 'background'...</td>\n",
       "      <td>['daww', 'matches', 'background', 'colour', 's...</td>\n",
       "      <td>['daww', 'match', 'background', 'colour', 'see...</td>\n",
       "      <td>[('daww', 'NN'), ('matches', 'NNS'), ('backgro...</td>\n",
       "      <td>['daww', 'match', 'background', 'colour', 'see...</td>\n",
       "      <td>['daww', 'match', 'background', 'colour', 'see...</td>\n",
       "      <td>[('daww', 'matches'), ('matches', 'background'...</td>\n",
       "    </tr>\n",
       "    <tr>\n",
       "      <th>2</th>\n",
       "      <td>2</td>\n",
       "      <td>000113f07ec002fd</td>\n",
       "      <td>Hey man, I'm really not trying to edit war. It...</td>\n",
       "      <td>0</td>\n",
       "      <td>0</td>\n",
       "      <td>0</td>\n",
       "      <td>0</td>\n",
       "      <td>0</td>\n",
       "      <td>0</td>\n",
       "      <td>0</td>\n",
       "      <td>...</td>\n",
       "      <td>42</td>\n",
       "      <td>39</td>\n",
       "      <td>hey man i am really not trying to edit war it ...</td>\n",
       "      <td>['hey', 'man', 'i', 'am', 'really', 'not', 'tr...</td>\n",
       "      <td>['hey', 'man', 'really', 'trying', 'edit', 'wa...</td>\n",
       "      <td>['hey', 'man', 'realli', 'tri', 'edit', 'war',...</td>\n",
       "      <td>[('hey', 'NN'), ('man', 'NN'), ('really', 'RB'...</td>\n",
       "      <td>['hey', 'man', 'really', 'trying', 'edit', 'wa...</td>\n",
       "      <td>['hey', 'man', 'really', 'try', 'edit', 'war',...</td>\n",
       "      <td>[('hey', 'man'), ('man', 'really'), ('really',...</td>\n",
       "    </tr>\n",
       "    <tr>\n",
       "      <th>3</th>\n",
       "      <td>3</td>\n",
       "      <td>0001b41b1c6bb37e</td>\n",
       "      <td>\"\\nMore\\nI can't make any real suggestions on ...</td>\n",
       "      <td>0</td>\n",
       "      <td>0</td>\n",
       "      <td>0</td>\n",
       "      <td>0</td>\n",
       "      <td>0</td>\n",
       "      <td>0</td>\n",
       "      <td>0</td>\n",
       "      <td>...</td>\n",
       "      <td>113</td>\n",
       "      <td>82</td>\n",
       "      <td>more i cannot make any real suggestions on im...</td>\n",
       "      <td>['more', 'i', 'can', 'not', 'make', 'any', 're...</td>\n",
       "      <td>['make', 'real', 'suggestions', 'improvement',...</td>\n",
       "      <td>['make', 'real', 'suggest', 'improv', 'wonder'...</td>\n",
       "      <td>[('make', 'VB'), ('real', 'JJ'), ('suggestions...</td>\n",
       "      <td>['make', 'real', 'suggestion', 'improvement', ...</td>\n",
       "      <td>['make', 'real', 'suggestion', 'improvement', ...</td>\n",
       "      <td>[('make', 'real'), ('real', 'suggestions'), ('...</td>\n",
       "    </tr>\n",
       "    <tr>\n",
       "      <th>4</th>\n",
       "      <td>4</td>\n",
       "      <td>0001d958c54c6e35</td>\n",
       "      <td>You, sir, are my hero. Any chance you remember...</td>\n",
       "      <td>0</td>\n",
       "      <td>0</td>\n",
       "      <td>0</td>\n",
       "      <td>0</td>\n",
       "      <td>0</td>\n",
       "      <td>0</td>\n",
       "      <td>0</td>\n",
       "      <td>...</td>\n",
       "      <td>13</td>\n",
       "      <td>13</td>\n",
       "      <td>you sir are my hero any chance you remember wh...</td>\n",
       "      <td>['you', 'sir', 'are', 'my', 'hero', 'any', 'ch...</td>\n",
       "      <td>['sir', 'hero', 'chance', 'remember', 'page']</td>\n",
       "      <td>['sir', 'hero', 'chanc', 'rememb', 'page']</td>\n",
       "      <td>[('sir', 'NN'), ('hero', 'NN'), ('chance', 'NN...</td>\n",
       "      <td>['sir', 'hero', 'chance', 'remember', 'page']</td>\n",
       "      <td>['sir', 'hero', 'chance', 'remember', 'page']</td>\n",
       "      <td>[('sir', 'hero'), ('hero', 'chance'), ('chance...</td>\n",
       "    </tr>\n",
       "  </tbody>\n",
       "</table>\n",
       "<p>5 rows × 21 columns</p>\n",
       "</div>"
      ],
      "text/plain": [
       "   Unnamed: 0                id  \\\n",
       "0           0  0000997932d777bf   \n",
       "1           1  000103f0d9cfb60f   \n",
       "2           2  000113f07ec002fd   \n",
       "3           3  0001b41b1c6bb37e   \n",
       "4           4  0001d958c54c6e35   \n",
       "\n",
       "                                        comment_text  toxic  severe_toxic  \\\n",
       "0  Explanation\\nWhy the edits made under my usern...      0             0   \n",
       "1  D'aww! He matches this background colour I'm s...      0             0   \n",
       "2  Hey man, I'm really not trying to edit war. It...      0             0   \n",
       "3  \"\\nMore\\nI can't make any real suggestions on ...      0             0   \n",
       "4  You, sir, are my hero. Any chance you remember...      0             0   \n",
       "\n",
       "   obscene  threat  insult  identity_hate  TOXIC  ...  word_counts  \\\n",
       "0        0       0       0              0      0  ...           43   \n",
       "1        0       0       0              0      0  ...           17   \n",
       "2        0       0       0              0      0  ...           42   \n",
       "3        0       0       0              0      0  ...          113   \n",
       "4        0       0       0              0      0  ...           13   \n",
       "\n",
       "   unique_word_counts                                         clean_text  \\\n",
       "0                  41  explanation why the edits made under my userna...   \n",
       "1                  17  daww he matches this background colour i am se...   \n",
       "2                  39  hey man i am really not trying to edit war it ...   \n",
       "3                  82   more i cannot make any real suggestions on im...   \n",
       "4                  13  you sir are my hero any chance you remember wh...   \n",
       "\n",
       "                                           tokenized  \\\n",
       "0  ['explanation', 'why', 'the', 'edits', 'made',...   \n",
       "1  ['daww', 'he', 'matches', 'this', 'background'...   \n",
       "2  ['hey', 'man', 'i', 'am', 'really', 'not', 'tr...   \n",
       "3  ['more', 'i', 'can', 'not', 'make', 'any', 're...   \n",
       "4  ['you', 'sir', 'are', 'my', 'hero', 'any', 'ch...   \n",
       "\n",
       "                              tokenized_no_stopwords  \\\n",
       "0  ['explanation', 'edits', 'made', 'username', '...   \n",
       "1  ['daww', 'matches', 'background', 'colour', 's...   \n",
       "2  ['hey', 'man', 'really', 'trying', 'edit', 'wa...   \n",
       "3  ['make', 'real', 'suggestions', 'improvement',...   \n",
       "4      ['sir', 'hero', 'chance', 'remember', 'page']   \n",
       "\n",
       "                                   tokenized_stemmed  \\\n",
       "0  ['explan', 'edit', 'made', 'usernam', 'hardcor...   \n",
       "1  ['daww', 'match', 'background', 'colour', 'see...   \n",
       "2  ['hey', 'man', 'realli', 'tri', 'edit', 'war',...   \n",
       "3  ['make', 'real', 'suggest', 'improv', 'wonder'...   \n",
       "4         ['sir', 'hero', 'chanc', 'rememb', 'page']   \n",
       "\n",
       "                                       tokenized_pos  \\\n",
       "0  [('explanation', 'NN'), ('edits', 'NNS'), ('ma...   \n",
       "1  [('daww', 'NN'), ('matches', 'NNS'), ('backgro...   \n",
       "2  [('hey', 'NN'), ('man', 'NN'), ('really', 'RB'...   \n",
       "3  [('make', 'VB'), ('real', 'JJ'), ('suggestions...   \n",
       "4  [('sir', 'NN'), ('hero', 'NN'), ('chance', 'NN...   \n",
       "\n",
       "                                tokenized_lemmatized  \\\n",
       "0  ['explanation', 'edits', 'made', 'username', '...   \n",
       "1  ['daww', 'match', 'background', 'colour', 'see...   \n",
       "2  ['hey', 'man', 'really', 'trying', 'edit', 'wa...   \n",
       "3  ['make', 'real', 'suggestion', 'improvement', ...   \n",
       "4      ['sir', 'hero', 'chance', 'remember', 'page']   \n",
       "\n",
       "                            tokenized_lemmatized_pos  \\\n",
       "0  ['explanation', 'edits', 'make', 'username', '...   \n",
       "1  ['daww', 'match', 'background', 'colour', 'see...   \n",
       "2  ['hey', 'man', 'really', 'try', 'edit', 'war',...   \n",
       "3  ['make', 'real', 'suggestion', 'improvement', ...   \n",
       "4      ['sir', 'hero', 'chance', 'remember', 'page']   \n",
       "\n",
       "                                    tokenized_bigram  \n",
       "0  [('explanation', 'edits'), ('edits', 'made'), ...  \n",
       "1  [('daww', 'matches'), ('matches', 'background'...  \n",
       "2  [('hey', 'man'), ('man', 'really'), ('really',...  \n",
       "3  [('make', 'real'), ('real', 'suggestions'), ('...  \n",
       "4  [('sir', 'hero'), ('hero', 'chance'), ('chance...  \n",
       "\n",
       "[5 rows x 21 columns]"
      ]
     },
     "execution_count": 6,
     "metadata": {},
     "output_type": "execute_result"
    }
   ],
   "source": [
    "df = pd.read_csv('data/final.zip')\n",
    "df.head()"
   ]
  },
  {
   "cell_type": "code",
   "execution_count": 30,
   "id": "787961df",
   "metadata": {},
   "outputs": [],
   "source": [
    "df['clean_text'] = df['clean_text'].apply(lambda x: str(x).rstrip())"
   ]
  },
  {
   "cell_type": "markdown",
   "id": "c6fb7bd8",
   "metadata": {},
   "source": [
    "# Binary Task (toxic vs no_toxic)"
   ]
  },
  {
   "cell_type": "code",
   "execution_count": 11,
   "id": "857422a6",
   "metadata": {},
   "outputs": [],
   "source": [
    "#https://tfhub.dev/google/collections/bert/1\n",
    "\n",
    "#Input Layer\n",
    "text_input = tf.keras.layers.Input(shape=(), dtype=tf.string, name='text')\n",
    "\n",
    "#Preprocessing Layer\n",
    "preprocessing_layer = hub.KerasLayer(\"https://tfhub.dev/tensorflow/bert_en_uncased_preprocess/3\", name='preprocessing')\n",
    "encoder_inputs = preprocessing_layer(text_input)\n",
    "\n",
    "#Encoder Layer\n",
    "encoder = hub.KerasLayer(\"https://tfhub.dev/tensorflow/small_bert/bert_en_uncased_L-2_H-128_A-2/2\", trainable=True, name='BERT_encoder')\n",
    "outputs = encoder(encoder_inputs)\n",
    "\n",
    "#Classification Layers\n",
    "net = outputs['pooled_output']\n",
    "net = tf.keras.layers.Dropout(0.2)(net)\n",
    "net = tf.keras.layers.Dense(50, activation='relu')(net)\n",
    "net = tf.keras.layers.Dropout(0.2)(net)\n",
    "net = tf.keras.layers.Dense(1, activation='sigmoid', name='classifier')(net)\n",
    "\n",
    "model = tf.keras.Model(inputs=[text_input], outputs=[net])"
   ]
  },
  {
   "cell_type": "code",
   "execution_count": 19,
   "id": "8f5b3a2e",
   "metadata": {},
   "outputs": [
    {
     "name": "stdout",
     "output_type": "stream",
     "text": [
      "Keys       : ['input_word_ids', 'input_mask', 'input_type_ids']\n",
      "Shape      : (1, 128)\n",
      "Word Ids   : [[  101  7526  2339  1996 10086  2015  2081  2104  2026  5310 18442 13076\n",
      "  12392  2050  5470  2020 16407  2027  2020  2025  3158  9305 22556  2074\n",
      "   8503  2006  2070  3806  2044  1045  5444  2012  2047  2259 14421  6904\n",
      "   2278  1998  3531  2079  2025  6366  1996 23561  2013  1996  2831  3931\n",
      "   2144  1045  2572  3394  2085   102     0     0     0     0     0     0\n",
      "      0     0     0     0     0     0     0     0     0     0     0     0\n",
      "      0     0     0     0     0     0     0     0     0     0     0     0\n",
      "      0     0     0     0     0     0     0     0     0     0     0     0\n",
      "      0     0     0     0     0     0     0     0     0     0     0     0\n",
      "      0     0     0     0     0     0     0     0     0     0     0     0\n",
      "      0     0     0     0     0     0     0     0]]\n",
      "Input Mask : [[1 1 1 1 1 1 1 1 1 1 1 1 1 1 1 1 1 1 1 1 1 1 1 1 1 1 1 1 1 1 1 1 1 1 1 1\n",
      "  1 1 1 1 1 1 1 1 1 1 1 1 1 1 1 1 1 1 0 0 0 0 0 0 0 0 0 0 0 0 0 0 0 0 0 0\n",
      "  0 0 0 0 0 0 0 0 0 0 0 0 0 0 0 0 0 0 0 0 0 0 0 0 0 0 0 0 0 0 0 0 0 0 0 0\n",
      "  0 0 0 0 0 0 0 0 0 0 0 0 0 0 0 0 0 0 0 0]]\n",
      "Type Ids   : [[0 0 0 0 0 0 0 0 0 0 0 0 0 0 0 0 0 0 0 0 0 0 0 0 0 0 0 0 0 0 0 0 0 0 0 0\n",
      "  0 0 0 0 0 0 0 0 0 0 0 0 0 0 0 0 0 0 0 0 0 0 0 0 0 0 0 0 0 0 0 0 0 0 0 0\n",
      "  0 0 0 0 0 0 0 0 0 0 0 0 0 0 0 0 0 0 0 0 0 0 0 0 0 0 0 0 0 0 0 0 0 0 0 0\n",
      "  0 0 0 0 0 0 0 0 0 0 0 0 0 0 0 0 0 0 0 0]]\n"
     ]
    }
   ],
   "source": [
    "text_test = [df.clean_text[0]]\n",
    "text_preprocessed = preprocessing_layer(text_test)\n",
    "\n",
    "print(f'Keys       : {list(text_preprocessed.keys())}')\n",
    "print(f'Shape      : {text_preprocessed[\"input_word_ids\"].shape}')\n",
    "print(f'Word Ids   : {text_preprocessed[\"input_word_ids\"]}')\n",
    "print(f'Input Mask : {text_preprocessed[\"input_mask\"]}')\n",
    "print(f'Type Ids   : {text_preprocessed[\"input_type_ids\"]}')"
   ]
  },
  {
   "cell_type": "code",
   "execution_count": 21,
   "id": "ed8f1d08",
   "metadata": {},
   "outputs": [
    {
     "name": "stdout",
     "output_type": "stream",
     "text": [
      "Pooled Outputs Shape:(1, 128)\n",
      "Pooled Outputs Values:[[-0.9998054   0.06914964 -0.9957694   0.6163255  -0.9938086   0.9352441\n",
      "  -0.97151494  0.85577315  0.06584658  0.1345311  -0.79640377 -0.04678226\n",
      "   0.10051055  0.99395156  0.38214466 -0.8476348   0.9910549   0.03997683\n",
      "  -0.68362445  0.9549043   0.60204387  0.02319815  0.88109475 -0.1750285\n",
      "  -0.999985    0.04457276 -0.9885033   0.98921967  0.9868171   0.04439913\n",
      "   0.10091305  0.06540146 -0.9893608  -0.93263024  0.46841612  0.99760175\n",
      "  -0.8529614  -0.00429865 -0.12378181 -0.9813784   0.9413834   0.9587755\n",
      "  -0.99263495  0.923328   -0.863254   -0.2314541  -0.9921904   0.99281424\n",
      "   0.73514634  0.99877816  0.9548455  -0.95171887  0.07241374  0.9926621\n",
      "   0.9509622   0.6819752  -0.47093508 -0.10977381  0.7396386  -0.8638437\n",
      "   0.11524896  0.29072836 -0.0780286   0.9568176  -0.12766619 -0.9968939\n",
      "   0.80258715  0.8487483   0.71616995  0.93155074  0.99905974 -0.06146409\n",
      "  -0.9930612   0.1900095   0.7594273  -0.9935487  -0.38415343  0.02027967\n",
      "  -0.82049906  0.06012073  0.33499807 -0.05888383 -0.9960541  -0.9999758\n",
      "   0.99892294 -0.883795    0.8125874  -0.18446732 -0.7805533   0.9886859\n",
      "   0.23495212  0.78838485 -0.7459681   0.9904162   0.8154575   0.9368447\n",
      "  -0.98976415 -0.8213853  -0.99577826 -0.96752167 -0.9698963  -0.6112237\n",
      "  -0.9963511  -0.6611003  -0.9998412   0.93803316 -0.9937905  -0.95494777\n",
      "  -0.64819324  0.75747174  0.98647356  0.98818135 -0.6490499   0.9423265\n",
      "  -0.9630134   0.1259538   0.7565177   0.26797998  0.17915513 -0.91678125\n",
      "   0.20201918 -0.9994756  -0.93561625  0.9443644  -0.98791045  0.9619184\n",
      "   0.9946118   0.9727075 ]]\n",
      "Sequence Outputs Shape:(1, 128, 128)\n",
      "Sequence Outputs Values:[[[ 4.2987376e-01  7.7233762e-03 -3.9568734e+00 ... -1.2278062e+00\n",
      "   -2.0158808e+00  1.4075201e+00]\n",
      "  [-1.9636806e+00  1.2690455e+00  2.5422931e-01 ... -1.9277272e+00\n",
      "   -2.1624558e+00  4.9015534e-01]\n",
      "  [-7.8369689e-01  5.5024260e-01 -2.8487295e-02 ... -1.7220949e+00\n",
      "   -1.8621066e+00  8.2165605e-01]\n",
      "  ...\n",
      "  [-2.8450879e-01  5.0374889e-01 -1.4577806e-03 ... -1.3790767e+00\n",
      "   -1.3926861e+00  1.7894576e+00]\n",
      "  [-5.5370057e-01  7.8089803e-01 -2.7670991e-01 ... -1.1611711e+00\n",
      "   -1.7330936e+00  2.0236118e+00]\n",
      "  [-1.9758476e-01  1.0874915e+00 -6.5614957e-01 ... -1.0304518e+00\n",
      "   -1.7301743e+00  1.7882692e+00]]]\n"
     ]
    }
   ],
   "source": [
    "bert_results = encoder(text_preprocessed)\n",
    "\n",
    "print(f'Pooled Outputs Shape:{bert_results[\"pooled_output\"].shape}')\n",
    "print(f'Pooled Outputs Values:{bert_results[\"pooled_output\"]}')\n",
    "print(f'Sequence Outputs Shape:{bert_results[\"sequence_output\"].shape}')\n",
    "print(f'Sequence Outputs Values:{bert_results[\"sequence_output\"]}')"
   ]
  },
  {
   "cell_type": "code",
   "execution_count": 22,
   "id": "19c25bd7",
   "metadata": {},
   "outputs": [
    {
     "data": {
      "image/png": "[encoded data removed]",
      "text/plain": [
       "<IPython.core.display.Image object>"
      ]
     },
     "execution_count": 22,
     "metadata": {},
     "output_type": "execute_result"
    }
   ],
   "source": [
    "tf.keras.utils.plot_model(model, show_dtype=True)"
   ]
  },
  {
   "cell_type": "code",
   "execution_count": 144,
   "id": "9f406988",
   "metadata": {},
   "outputs": [],
   "source": [
    "X = df.clean_text\n",
    "y = df['TOXIC']\n",
    "\n",
    "X_train, X_val, y_train, y_val = train_test_split(X, y, test_size=0.2, random_state=42)"
   ]
  },
  {
   "cell_type": "code",
   "execution_count": 146,
   "id": "6e4d1b9a",
   "metadata": {},
   "outputs": [],
   "source": [
    "batch_size = 64\n",
    "epochs  = 4\n",
    "batches_per_epoch = len(X_train) // batch_size\n",
    "total_train_steps = int(batches_per_epoch * epochs)\n",
    "\n",
    "optimizer, schedule = create_optimizer(\n",
    "    init_lr=2e-5, num_warmup_steps=0, num_train_steps=total_train_steps\n",
    ")\n",
    "\n",
    "model.compile(optimizer=optimizer, loss='binary_crossentropy', metrics='acc')"
   ]
  },
  {
   "cell_type": "code",
   "execution_count": 147,
   "id": "6864427e",
   "metadata": {},
   "outputs": [
    {
     "data": {
      "text/plain": [
       "(2794, 11176)"
      ]
     },
     "execution_count": 147,
     "metadata": {},
     "output_type": "execute_result"
    }
   ],
   "source": [
    "batches_per_epoch, total_train_steps"
   ]
  },
  {
   "cell_type": "code",
   "execution_count": 149,
   "id": "63a73152",
   "metadata": {},
   "outputs": [
    {
     "name": "stdout",
     "output_type": "stream",
     "text": [
      "Epoch 1/4\n",
      "5589/5589 [==============================] - 365s 65ms/step - loss: 0.1614 - acc: 0.9463 - val_loss: 0.1315 - val_acc: 0.9529\n",
      "Epoch 2/4\n",
      "5589/5589 [==============================] - 361s 65ms/step - loss: 0.1375 - acc: 0.9504 - val_loss: 0.1269 - val_acc: 0.9535\n",
      "Epoch 3/4\n",
      "5589/5589 [==============================] - 363s 65ms/step - loss: 0.1352 - acc: 0.9509 - val_loss: 0.1269 - val_acc: 0.9535\n",
      "Epoch 4/4\n",
      "5589/5589 [==============================] - 363s 65ms/step - loss: 0.1348 - acc: 0.9510 - val_loss: 0.1269 - val_acc: 0.9535\n"
     ]
    }
   ],
   "source": [
    "history = model.fit(X_train, y_train,\n",
    "                       validation_data=(X_val, y_val),  #Va cambiato con validation_split=0.1\n",
    "                       epochs=epochs)"
   ]
  },
  {
   "cell_type": "code",
   "execution_count": 150,
   "id": "29a636ff",
   "metadata": {},
   "outputs": [
    {
     "data": {
      "text/plain": [
       "{'loss': [0.16135714948177338,\n",
       "  0.13753026723861694,\n",
       "  0.13515250384807587,\n",
       "  0.13482336699962616],\n",
       " 'acc': [0.9462589025497437,\n",
       "  0.9503520131111145,\n",
       "  0.9509335160255432,\n",
       "  0.9510397911071777],\n",
       " 'val_loss': [0.13152329623699188,\n",
       "  0.1268678605556488,\n",
       "  0.1268678605556488,\n",
       "  0.1268678605556488],\n",
       " 'val_acc': [0.9528740644454956,\n",
       "  0.9535003304481506,\n",
       "  0.9535003304481506,\n",
       "  0.9535003304481506]}"
      ]
     },
     "execution_count": 150,
     "metadata": {},
     "output_type": "execute_result"
    }
   ],
   "source": [
    "history.history"
   ]
  },
  {
   "cell_type": "code",
   "execution_count": 151,
   "id": "f15a2c69",
   "metadata": {},
   "outputs": [
    {
     "data": {
      "image/png": "[encoded data removed]",
      "text/plain": [
       "<Figure size 432x288 with 1 Axes>"
      ]
     },
     "metadata": {
      "needs_background": "light"
     },
     "output_type": "display_data"
    }
   ],
   "source": [
    "plt.plot(history.history['loss'], label='train')\n",
    "plt.plot(history.history['val_loss'], label='test')\n",
    "plt.xlabel('Epochs')\n",
    "plt.ylabel('Loss')\n",
    "plt.legend()\n",
    "plt.show()"
   ]
  },
  {
   "cell_type": "code",
   "execution_count": 152,
   "id": "8733c1d8",
   "metadata": {},
   "outputs": [
    {
     "data": {
      "image/png": "[encoded data removed]",
      "text/plain": [
       "<Figure size 432x288 with 1 Axes>"
      ]
     },
     "metadata": {
      "needs_background": "light"
     },
     "output_type": "display_data"
    }
   ],
   "source": [
    "plt.plot(history.history['acc'], label='train')\n",
    "plt.plot(history.history['val_acc'], label='test')\n",
    "plt.xlabel('Epochs')\n",
    "plt.ylabel('Accuracy')\n",
    "plt.legend()\n",
    "plt.show()"
   ]
  },
  {
   "cell_type": "code",
   "execution_count": 153,
   "id": "b4825005",
   "metadata": {},
   "outputs": [],
   "source": [
    "predictions = model.predict(X_val)"
   ]
  },
  {
   "cell_type": "code",
   "execution_count": 154,
   "id": "5eb83fb4",
   "metadata": {},
   "outputs": [],
   "source": [
    "y_pred = np.round(predictions)"
   ]
  },
  {
   "cell_type": "code",
   "execution_count": 155,
   "id": "488417c3",
   "metadata": {},
   "outputs": [
    {
     "name": "stdout",
     "output_type": "stream",
     "text": [
      "              precision    recall  f1-score   support\n",
      "\n",
      "           0       0.97      0.98      0.97     40225\n",
      "           1       0.79      0.73      0.76      4485\n",
      "\n",
      "    accuracy                           0.95     44710\n",
      "   macro avg       0.88      0.86      0.87     44710\n",
      "weighted avg       0.95      0.95      0.95     44710\n",
      "\n"
     ]
    }
   ],
   "source": [
    "print(classification_report(y_val, y_pred))"
   ]
  },
  {
   "cell_type": "markdown",
   "id": "72e44e0a",
   "metadata": {},
   "source": [
    "# Multi-label classification task\n",
    "  toxic, severe_toxic, obscene, threat, insult, identity_hate"
   ]
  },
  {
   "cell_type": "code",
   "execution_count": 51,
   "id": "fb97baa3",
   "metadata": {},
   "outputs": [],
   "source": [
    "#Input Layer\n",
    "text_input = tf.keras.layers.Input(shape=(), dtype=tf.string, name='text')\n",
    "\n",
    "#Preprocessing Layer\n",
    "preprocessing_layer = hub.KerasLayer(\"https://tfhub.dev/tensorflow/bert_en_uncased_preprocess/3\", name='preprocessing')\n",
    "encoder_inputs = preprocessing_layer(text_input)\n",
    "\n",
    "#Encoder Layer\n",
    "encoder = hub.KerasLayer(\"https://tfhub.dev/tensorflow/small_bert/bert_en_uncased_L-4_H-128_A-2/2\", trainable=True, name='BERT_encoder')\n",
    "outputs = encoder(encoder_inputs)\n",
    "\n",
    "#Classification Layers\n",
    "net = outputs['pooled_output']\n",
    "net = tf.keras.layers.Dropout(0.2)(net)\n",
    "net = tf.keras.layers.Dense(50, activation='relu')(net)\n",
    "net = tf.keras.layers.Dropout(0.2)(net)\n",
    "net = tf.keras.layers.Dense(6, activation='sigmoid', name='classifier')(net)\n",
    "\n",
    "model = tf.keras.Model(inputs=[text_input], outputs=[net])"
   ]
  },
  {
   "cell_type": "code",
   "execution_count": 52,
   "id": "37aaccff",
   "metadata": {},
   "outputs": [],
   "source": [
    "batch_size = 64\n",
    "epochs  = 4\n",
    "batches_per_epoch = len(X_train) // batch_size\n",
    "total_train_steps = int(batches_per_epoch * epochs)\n",
    "\n",
    "optimizer, schedule = create_optimizer(\n",
    "    init_lr=2e-5, num_warmup_steps=0, num_train_steps=total_train_steps\n",
    ")\n",
    "\n",
    "model.compile(optimizer=optimizer, loss='binary_crossentropy', metrics='acc')"
   ]
  },
  {
   "cell_type": "code",
   "execution_count": 53,
   "id": "09f19124",
   "metadata": {},
   "outputs": [
    {
     "data": {
      "image/png": "[encoded data removed]",
      "text/plain": [
       "<IPython.core.display.Image object>"
      ]
     },
     "execution_count": 53,
     "metadata": {},
     "output_type": "execute_result"
    }
   ],
   "source": [
    "tf.keras.utils.plot_model(model, show_dtype=True)"
   ]
  },
  {
   "cell_type": "code",
   "execution_count": 54,
   "id": "a9f43620",
   "metadata": {},
   "outputs": [],
   "source": [
    "X = df.clean_text\n",
    "y = df[['toxic','severe_toxic','obscene','threat','insult','identity_hate']]\n",
    "\n",
    "X_train, X_val, y_train, y_val = train_test_split(X, y, test_size=0.2, random_state=42)"
   ]
  },
  {
   "cell_type": "code",
   "execution_count": 55,
   "id": "2ef6a183",
   "metadata": {},
   "outputs": [
    {
     "name": "stdout",
     "output_type": "stream",
     "text": [
      "Epoch 1/4\n",
      "5589/5589 [==============================] - 557s 99ms/step - loss: 0.1614 - acc: 0.5662 - val_loss: 0.0844 - val_acc: 0.9951\n",
      "Epoch 2/4\n",
      "5589/5589 [==============================] - 552s 99ms/step - loss: 0.0811 - acc: 0.5683 - val_loss: 0.0699 - val_acc: 0.9951\n",
      "Epoch 3/4\n",
      "5589/5589 [==============================] - 558s 100ms/step - loss: 0.0754 - acc: 0.5945 - val_loss: 0.0699 - val_acc: 0.9951\n",
      "Epoch 4/4\n",
      "5589/5589 [==============================] - 549s 98ms/step - loss: 0.0755 - acc: 0.5953 - val_loss: 0.0699 - val_acc: 0.9951\n"
     ]
    }
   ],
   "source": [
    "history = model.fit(X_train, y_train,\n",
    "                       validation_data=(X_val, y_val),   #Va cambiato con validation_split=0.1\n",
    "                       epochs=epochs)"
   ]
  },
  {
   "cell_type": "code",
   "execution_count": 56,
   "id": "a80eb221",
   "metadata": {},
   "outputs": [
    {
     "data": {
      "text/plain": [
       "{'loss': [0.16136153042316437,\n",
       "  0.08105543255805969,\n",
       "  0.07541345059871674,\n",
       "  0.07551664859056473],\n",
       " 'acc': [0.5662411451339722,\n",
       "  0.5683379769325256,\n",
       "  0.5945291519165039,\n",
       "  0.5953455567359924],\n",
       " 'val_loss': [0.08443357795476913,\n",
       "  0.06993142515420914,\n",
       "  0.06993142515420914,\n",
       "  0.06993142515420914],\n",
       " 'val_acc': [0.9951017498970032,\n",
       "  0.9951017498970032,\n",
       "  0.9951017498970032,\n",
       "  0.9951017498970032]}"
      ]
     },
     "execution_count": 56,
     "metadata": {},
     "output_type": "execute_result"
    }
   ],
   "source": [
    "history.history"
   ]
  },
  {
   "cell_type": "code",
   "execution_count": 57,
   "id": "54953eee",
   "metadata": {},
   "outputs": [
    {
     "data": {
      "image/png": "[encoded data removed]",
      "text/plain": [
       "<Figure size 432x288 with 1 Axes>"
      ]
     },
     "metadata": {
      "needs_background": "light"
     },
     "output_type": "display_data"
    }
   ],
   "source": [
    "plt.plot(history.history['loss'], label='train')\n",
    "plt.plot(history.history['val_loss'], label='test')\n",
    "plt.xlabel('Epochs')\n",
    "plt.ylabel('Loss')\n",
    "plt.legend()\n",
    "plt.show()"
   ]
  },
  {
   "cell_type": "code",
   "execution_count": 58,
   "id": "469904cf",
   "metadata": {},
   "outputs": [
    {
     "data": {
      "image/png": "[encoded data removed]",
      "text/plain": [
       "<Figure size 432x288 with 1 Axes>"
      ]
     },
     "metadata": {
      "needs_background": "light"
     },
     "output_type": "display_data"
    }
   ],
   "source": [
    "plt.plot(history.history['acc'], label='train')\n",
    "plt.plot(history.history['val_acc'], label='test')\n",
    "plt.xlabel('Epochs')\n",
    "plt.ylabel('Accuracy')\n",
    "plt.legend()\n",
    "plt.show()"
   ]
  },
  {
   "cell_type": "code",
   "execution_count": 59,
   "id": "1d492fe9",
   "metadata": {},
   "outputs": [],
   "source": [
    "predictions = model.predict(X_val)\n",
    "y_pred = np.round(predictions)"
   ]
  },
  {
   "cell_type": "code",
   "execution_count": 60,
   "id": "11a7e31a",
   "metadata": {},
   "outputs": [
    {
     "name": "stdout",
     "output_type": "stream",
     "text": [
      "              precision    recall  f1-score   support\n",
      "\n",
      "           0       0.77      0.72      0.75      4266\n",
      "           1       1.00      0.01      0.02       384\n",
      "           2       0.77      0.77      0.77      2486\n",
      "           3       0.00      0.00      0.00       133\n",
      "           4       0.69      0.67      0.68      2294\n",
      "           5       0.00      0.00      0.00       408\n",
      "\n",
      "   micro avg       0.75      0.66      0.70      9971\n",
      "   macro avg       0.54      0.36      0.37      9971\n",
      "weighted avg       0.72      0.66      0.67      9971\n",
      " samples avg       0.06      0.06      0.06      9971\n",
      "\n"
     ]
    }
   ],
   "source": [
    "print(classification_report(y_val, y_pred))"
   ]
  },
  {
   "cell_type": "markdown",
   "id": "d87c6b33",
   "metadata": {},
   "source": [
    "---"
   ]
  },
  {
   "cell_type": "markdown",
   "id": "c36117a8",
   "metadata": {},
   "source": [
    "# transformers library (tf) ----- Test!!!!!"
   ]
  },
  {
   "cell_type": "code",
   "execution_count": 19,
   "id": "2c2299c0",
   "metadata": {},
   "outputs": [
    {
     "ename": "ModuleNotFoundError",
     "evalue": "No module named 'transformers'",
     "output_type": "error",
     "traceback": [
      "\u001b[0;31m---------------------------------------------------------------------------\u001b[0m",
      "\u001b[0;31mModuleNotFoundError\u001b[0m                       Traceback (most recent call last)",
      "Input \u001b[0;32mIn [19]\u001b[0m, in \u001b[0;36m<module>\u001b[0;34m\u001b[0m\n\u001b[0;32m----> 1\u001b[0m \u001b[38;5;28;01mimport\u001b[39;00m \u001b[38;5;21;01mtransformers\u001b[39;00m\n\u001b[1;32m      2\u001b[0m \u001b[38;5;28;01mfrom\u001b[39;00m \u001b[38;5;21;01mtransformers\u001b[39;00m \u001b[38;5;28;01mimport\u001b[39;00m AutoTokenizer\n\u001b[1;32m      3\u001b[0m \u001b[38;5;28;01mfrom\u001b[39;00m \u001b[38;5;21;01mtransformers\u001b[39;00m \u001b[38;5;28;01mimport\u001b[39;00m TFAutoModelForSequenceClassification\n",
      "\u001b[0;31mModuleNotFoundError\u001b[0m: No module named 'transformers'"
     ]
    }
   ],
   "source": [
    "import transformers\n",
    "from transformers import AutoTokenizer\n",
    "from transformers import TFAutoModelForSequenceClassification"
   ]
  },
  {
   "cell_type": "code",
   "execution_count": 7,
   "id": "a0ebe7b3",
   "metadata": {},
   "outputs": [],
   "source": [
    "model_checkpoint = \"distilbert-base-uncased\"\n",
    "tokenizer = AutoTokenizer.from_pretrained(model_checkpoint)"
   ]
  },
  {
   "cell_type": "code",
   "execution_count": 8,
   "id": "b5ec33db",
   "metadata": {},
   "outputs": [
    {
     "data": {
      "text/plain": [
       "{'input_ids': [101, 7526, 2339, 1996, 10086, 2015, 2081, 2104, 2026, 5310, 18442, 13076, 12392, 2050, 5470, 2020, 16407, 1029, 2027, 4694, 1005, 1056, 3158, 9305, 22556, 1010, 2074, 8503, 2006, 2070, 3806, 2044, 1045, 5444, 2012, 2047, 2259, 14421, 6904, 2278, 1012, 1998, 3531, 2123, 1005, 1056, 6366, 1996, 23561, 2013, 1996, 2831, 3931, 2144, 1045, 1005, 1049, 3394, 2085, 1012, 6486, 1012, 16327, 1012, 4229, 1012, 2676, 102], 'attention_mask': [1, 1, 1, 1, 1, 1, 1, 1, 1, 1, 1, 1, 1, 1, 1, 1, 1, 1, 1, 1, 1, 1, 1, 1, 1, 1, 1, 1, 1, 1, 1, 1, 1, 1, 1, 1, 1, 1, 1, 1, 1, 1, 1, 1, 1, 1, 1, 1, 1, 1, 1, 1, 1, 1, 1, 1, 1, 1, 1, 1, 1, 1, 1, 1, 1, 1, 1, 1]}"
      ]
     },
     "execution_count": 8,
     "metadata": {},
     "output_type": "execute_result"
    }
   ],
   "source": [
    "tokenizer(df.comment_text[0])"
   ]
  },
  {
   "cell_type": "code",
   "execution_count": 9,
   "id": "0cab8a44",
   "metadata": {},
   "outputs": [
    {
     "name": "stderr",
     "output_type": "stream",
     "text": [
      "Some layers from the model checkpoint at distilbert-base-uncased were not used when initializing TFDistilBertForSequenceClassification: ['vocab_projector', 'activation_13', 'vocab_transform', 'vocab_layer_norm']\n",
      "- This IS expected if you are initializing TFDistilBertForSequenceClassification from the checkpoint of a model trained on another task or with another architecture (e.g. initializing a BertForSequenceClassification model from a BertForPreTraining model).\n",
      "- This IS NOT expected if you are initializing TFDistilBertForSequenceClassification from the checkpoint of a model that you expect to be exactly identical (initializing a BertForSequenceClassification model from a BertForSequenceClassification model).\n",
      "Some layers of TFDistilBertForSequenceClassification were not initialized from the model checkpoint at distilbert-base-uncased and are newly initialized: ['classifier', 'pre_classifier', 'dropout_19']\n",
      "You should probably TRAIN this model on a down-stream task to be able to use it for predictions and inference.\n"
     ]
    }
   ],
   "source": [
    "model = TFAutoModelForSequenceClassification.from_pretrained(model_checkpoint, num_labels=2)"
   ]
  },
  {
   "cell_type": "code",
   "execution_count": 10,
   "id": "6a7f086c",
   "metadata": {},
   "outputs": [],
   "source": [
    "from sklearn.model_selection import train_test_split\n",
    "\n",
    "X = df.comment_text.sample(frac = 0.1, random_state=42)\n",
    "y = df['class'][X.index]\n",
    "\n",
    "X_train, X_val, y_train, y_val = train_test_split(X, y, test_size=0.2, random_state=42)\n",
    "\n",
    "#tokenize the text\n",
    "X_train_enc = tokenizer(list(X_train), truncation=True, padding=True)\n",
    "X_val_enc = tokenizer(list(X_val), truncation=True, padding=True)"
   ]
  },
  {
   "cell_type": "code",
   "execution_count": 11,
   "id": "ac94176a",
   "metadata": {},
   "outputs": [
    {
     "name": "stdout",
     "output_type": "stream",
     "text": [
      "Text: 106369    RU and RL\\nSince there is no hybridized rules ...\n",
      "Name: comment_text, dtype: object\n",
      "Input ids: [101, 21766, 1998, 1054, 2140, 2144, 2045, 2003, 2053, 8893, 3550, 3513, 2003, 2023, 2428, 1037, 8893, 1029, 1045, 2812, 2182, 1999, 3163, 2057, 2070, 2051, 2156, 2028, 2431, 4715, 1998, 2028, 2431, 11196, 2374, 2021, 2169, 2431, 2003, 2209, 1999, 1996, 6687, 9537, 3513, 1012, 2005, 21766, 1998, 1054, 2140, 2003, 2037, 2151, 2742, 1997, 2399, 2108, 2209, 2005, 2742, 2007, 2240, 21100, 2021, 2069, 1019, 10455, 1029, 6564, 1012, 4413, 1012, 6535, 1012, 16333, 102, 0, 0, 0, 0, 0, 0, 0, 0, 0, 0, 0, 0, 0, 0, 0, 0, 0, 0, 0, 0, 0, 0, 0, 0, 0, 0, 0, 0, 0, 0, 0, 0, 0, 0, 0, 0, 0, 0, 0, 0, 0, 0, 0, 0, 0, 0, 0, 0, 0, 0, 0, 0, 0, 0, 0, 0, 0, 0, 0, 0, 0, 0, 0, 0, 0, 0, 0, 0, 0, 0, 0, 0, 0, 0, 0, 0, 0, 0, 0, 0, 0, 0, 0, 0, 0, 0, 0, 0, 0, 0, 0, 0, 0, 0, 0, 0, 0, 0, 0, 0, 0, 0, 0, 0, 0, 0, 0, 0, 0, 0, 0, 0, 0, 0, 0, 0, 0, 0, 0, 0, 0, 0, 0, 0, 0, 0, 0, 0, 0, 0, 0, 0, 0, 0, 0, 0, 0, 0, 0, 0, 0, 0, 0, 0, 0, 0, 0, 0, 0, 0, 0, 0, 0, 0, 0, 0, 0, 0, 0, 0, 0, 0, 0, 0, 0, 0, 0, 0, 0, 0, 0, 0, 0, 0, 0, 0, 0, 0, 0, 0, 0, 0, 0, 0, 0, 0, 0, 0, 0, 0, 0, 0, 0, 0, 0, 0, 0, 0, 0, 0, 0, 0, 0, 0, 0, 0, 0, 0, 0, 0, 0, 0, 0, 0, 0, 0, 0, 0, 0, 0, 0, 0, 0, 0, 0, 0, 0, 0, 0, 0, 0, 0, 0, 0, 0, 0, 0, 0, 0, 0, 0, 0, 0, 0, 0, 0, 0, 0, 0, 0, 0, 0, 0, 0, 0, 0, 0, 0, 0, 0, 0, 0, 0, 0, 0, 0, 0, 0, 0, 0, 0, 0, 0, 0, 0, 0, 0, 0, 0, 0, 0, 0, 0, 0, 0, 0, 0, 0, 0, 0, 0, 0, 0, 0, 0, 0, 0, 0, 0, 0, 0, 0, 0, 0, 0, 0, 0, 0, 0, 0, 0, 0, 0, 0, 0, 0, 0, 0, 0, 0, 0, 0, 0, 0, 0, 0, 0, 0, 0, 0, 0, 0, 0, 0, 0, 0, 0, 0, 0, 0, 0, 0, 0, 0, 0, 0, 0, 0, 0, 0, 0, 0, 0, 0, 0, 0, 0, 0, 0, 0, 0, 0, 0, 0, 0, 0, 0, 0, 0, 0, 0, 0, 0, 0, 0, 0, 0, 0, 0, 0, 0, 0, 0, 0, 0, 0, 0, 0, 0, 0, 0, 0, 0, 0, 0, 0, 0, 0, 0, 0, 0, 0, 0, 0, 0, 0, 0, 0, 0, 0, 0, 0, 0, 0, 0, 0, 0, 0, 0, 0, 0, 0, 0, 0, 0, 0, 0, 0, 0, 0, 0, 0, 0, 0, 0] \n",
      "Input ids: [1, 1, 1, 1, 1, 1, 1, 1, 1, 1, 1, 1, 1, 1, 1, 1, 1, 1, 1, 1, 1, 1, 1, 1, 1, 1, 1, 1, 1, 1, 1, 1, 1, 1, 1, 1, 1, 1, 1, 1, 1, 1, 1, 1, 1, 1, 1, 1, 1, 1, 1, 1, 1, 1, 1, 1, 1, 1, 1, 1, 1, 1, 1, 1, 1, 1, 1, 1, 1, 1, 1, 1, 1, 1, 1, 1, 1, 0, 0, 0, 0, 0, 0, 0, 0, 0, 0, 0, 0, 0, 0, 0, 0, 0, 0, 0, 0, 0, 0, 0, 0, 0, 0, 0, 0, 0, 0, 0, 0, 0, 0, 0, 0, 0, 0, 0, 0, 0, 0, 0, 0, 0, 0, 0, 0, 0, 0, 0, 0, 0, 0, 0, 0, 0, 0, 0, 0, 0, 0, 0, 0, 0, 0, 0, 0, 0, 0, 0, 0, 0, 0, 0, 0, 0, 0, 0, 0, 0, 0, 0, 0, 0, 0, 0, 0, 0, 0, 0, 0, 0, 0, 0, 0, 0, 0, 0, 0, 0, 0, 0, 0, 0, 0, 0, 0, 0, 0, 0, 0, 0, 0, 0, 0, 0, 0, 0, 0, 0, 0, 0, 0, 0, 0, 0, 0, 0, 0, 0, 0, 0, 0, 0, 0, 0, 0, 0, 0, 0, 0, 0, 0, 0, 0, 0, 0, 0, 0, 0, 0, 0, 0, 0, 0, 0, 0, 0, 0, 0, 0, 0, 0, 0, 0, 0, 0, 0, 0, 0, 0, 0, 0, 0, 0, 0, 0, 0, 0, 0, 0, 0, 0, 0, 0, 0, 0, 0, 0, 0, 0, 0, 0, 0, 0, 0, 0, 0, 0, 0, 0, 0, 0, 0, 0, 0, 0, 0, 0, 0, 0, 0, 0, 0, 0, 0, 0, 0, 0, 0, 0, 0, 0, 0, 0, 0, 0, 0, 0, 0, 0, 0, 0, 0, 0, 0, 0, 0, 0, 0, 0, 0, 0, 0, 0, 0, 0, 0, 0, 0, 0, 0, 0, 0, 0, 0, 0, 0, 0, 0, 0, 0, 0, 0, 0, 0, 0, 0, 0, 0, 0, 0, 0, 0, 0, 0, 0, 0, 0, 0, 0, 0, 0, 0, 0, 0, 0, 0, 0, 0, 0, 0, 0, 0, 0, 0, 0, 0, 0, 0, 0, 0, 0, 0, 0, 0, 0, 0, 0, 0, 0, 0, 0, 0, 0, 0, 0, 0, 0, 0, 0, 0, 0, 0, 0, 0, 0, 0, 0, 0, 0, 0, 0, 0, 0, 0, 0, 0, 0, 0, 0, 0, 0, 0, 0, 0, 0, 0, 0, 0, 0, 0, 0, 0, 0, 0, 0, 0, 0, 0, 0, 0, 0, 0, 0, 0, 0, 0, 0, 0, 0, 0, 0, 0, 0, 0, 0, 0, 0, 0, 0, 0, 0, 0, 0, 0, 0, 0, 0, 0, 0, 0, 0, 0, 0, 0, 0, 0, 0, 0, 0, 0, 0, 0, 0, 0, 0, 0, 0, 0, 0, 0, 0, 0, 0, 0, 0, 0, 0, 0, 0, 0, 0, 0, 0, 0, 0, 0, 0, 0, 0, 0, 0, 0] \n"
     ]
    }
   ],
   "source": [
    "print(f'Text: { X_train[:1] }')\n",
    "print(f'Input ids: { X_train_enc[\"input_ids\"][0] } ')\n",
    "print(f'Input ids: { X_train_enc[\"attention_mask\"][0] } ')"
   ]
  },
  {
   "cell_type": "code",
   "execution_count": 16,
   "id": "a20cd4dd",
   "metadata": {},
   "outputs": [
    {
     "data": {
      "text/plain": [
       "<TakeDataset shapes: ({input_ids: (512,), attention_mask: (512,)}, ()), types: ({input_ids: tf.int32, attention_mask: tf.int32}, tf.int32)>"
      ]
     },
     "execution_count": 16,
     "metadata": {},
     "output_type": "execute_result"
    }
   ],
   "source": [
    "train_dataset = tf.data.Dataset.from_tensor_slices( (dict(X_train_enc), list(y_train)) )\n",
    "val_dataset = tf.data.Dataset.from_tensor_slices( (dict(X_val_enc), list(y_val)) )\n",
    "train_dataset.take(1)"
   ]
  },
  {
   "cell_type": "code",
   "execution_count": 17,
   "id": "954ca63c",
   "metadata": {},
   "outputs": [],
   "source": [
    "from transformers import create_optimizer\n",
    "\n",
    "batch_size = 8\n",
    "epochs  = 4\n",
    "batches_per_epoch = len(X_train) // batch_size\n",
    "total_train_steps = int(batches_per_epoch * epochs)\n",
    "\n",
    "optimizer, schedule = create_optimizer(\n",
    "    init_lr=2e-5, num_warmup_steps=0, num_train_steps=total_train_steps\n",
    ")\n",
    "\n",
    "model.compile(optimizer=optimizer, loss='binary_crossentropy', metrics='acc')"
   ]
  },
  {
   "cell_type": "code",
   "execution_count": 18,
   "id": "35bdeba8",
   "metadata": {},
   "outputs": [
    {
     "data": {
      "image/png": "[encoded data removed]",
      "text/plain": [
       "<IPython.core.display.Image object>"
      ]
     },
     "execution_count": 18,
     "metadata": {},
     "output_type": "execute_result"
    }
   ],
   "source": [
    "tf.keras.utils.plot_model(model, show_shapes=True, show_dtype=True)"
   ]
  },
  {
   "cell_type": "code",
   "execution_count": 25,
   "id": "be298665",
   "metadata": {},
   "outputs": [
    {
     "name": "stdout",
     "output_type": "stream",
     "text": [
      "Model: \"tf_distil_bert_for_sequence_classification\"\n",
      "_________________________________________________________________\n",
      " Layer (type)                Output Shape              Param #   \n",
      "=================================================================\n",
      " distilbert (TFDistilBertMai  multiple                 66362880  \n",
      " nLayer)                                                         \n",
      "                                                                 \n",
      " pre_classifier (Dense)      multiple                  590592    \n",
      "                                                                 \n",
      " classifier (Dense)          multiple                  1538      \n",
      "                                                                 \n",
      " dropout_19 (Dropout)        multiple                  0         \n",
      "                                                                 \n",
      "=================================================================\n",
      "Total params: 66,955,010\n",
      "Trainable params: 66,955,010\n",
      "Non-trainable params: 0\n",
      "_________________________________________________________________\n"
     ]
    }
   ],
   "source": [
    "model.summary()"
   ]
  },
  {
   "cell_type": "code",
   "execution_count": 24,
   "id": "b0647f9c",
   "metadata": {},
   "outputs": [
    {
     "name": "stdout",
     "output_type": "stream",
     "text": [
      "Epoch 1/4\n"
     ]
    },
    {
     "ename": "ResourceExhaustedError",
     "evalue": " OOM when allocating tensor with shape[8,12,512,64] and type float on /job:localhost/replica:0/task:0/device:GPU:0 by allocator GPU_0_bfc\n\t [[node tf_distil_bert_for_sequence_classification/distilbert/transformer/layer_._3/attention/transpose_1\n (defined at C:\\Users\\Francesco\\anaconda3\\envs\\ta\\lib\\site-packages\\transformers\\models\\distilbert\\modeling_tf_distilbert.py:179)\n]]\nHint: If you want to see a list of allocated tensors when OOM happens, add report_tensor_allocations_upon_oom to RunOptions for current allocation info. This isn't available when running in Eager mode.\n [Op:__inference_train_function_23435]\n\nErrors may have originated from an input operation.\nInput Source operations connected to node tf_distil_bert_for_sequence_classification/distilbert/transformer/layer_._3/attention/transpose_1:\nIn[0] tf_distil_bert_for_sequence_classification/distilbert/transformer/layer_._3/attention/Reshape_1:\t\nIn[1] tf_distil_bert_for_sequence_classification/distilbert/transformer/layer_._3/attention/transpose_1/perm:\n\nOperation defined at: (most recent call last)\n>>>   File \"C:\\Users\\Francesco\\anaconda3\\envs\\ta\\lib\\runpy.py\", line 197, in _run_module_as_main\n>>>     return _run_code(code, main_globals, None,\n>>> \n>>>   File \"C:\\Users\\Francesco\\anaconda3\\envs\\ta\\lib\\runpy.py\", line 87, in _run_code\n>>>     exec(code, run_globals)\n>>> \n>>>   File \"C:\\Users\\Francesco\\anaconda3\\envs\\ta\\lib\\site-packages\\ipykernel_launcher.py\", line 16, in <module>\n>>>     app.launch_new_instance()\n>>> \n>>>   File \"C:\\Users\\Francesco\\anaconda3\\envs\\ta\\lib\\site-packages\\traitlets\\config\\application.py\", line 846, in launch_instance\n>>>     app.start()\n>>> \n>>>   File \"C:\\Users\\Francesco\\anaconda3\\envs\\ta\\lib\\site-packages\\ipykernel\\kernelapp.py\", line 677, in start\n>>>     self.io_loop.start()\n>>> \n>>>   File \"C:\\Users\\Francesco\\anaconda3\\envs\\ta\\lib\\site-packages\\tornado\\platform\\asyncio.py\", line 199, in start\n>>>     self.asyncio_loop.run_forever()\n>>> \n>>>   File \"C:\\Users\\Francesco\\anaconda3\\envs\\ta\\lib\\asyncio\\base_events.py\", line 596, in run_forever\n>>>     self._run_once()\n>>> \n>>>   File \"C:\\Users\\Francesco\\anaconda3\\envs\\ta\\lib\\asyncio\\base_events.py\", line 1890, in _run_once\n>>>     handle._run()\n>>> \n>>>   File \"C:\\Users\\Francesco\\anaconda3\\envs\\ta\\lib\\asyncio\\events.py\", line 80, in _run\n>>>     self._context.run(self._callback, *self._args)\n>>> \n>>>   File \"C:\\Users\\Francesco\\anaconda3\\envs\\ta\\lib\\site-packages\\ipykernel\\kernelbase.py\", line 457, in dispatch_queue\n>>>     await self.process_one()\n>>> \n>>>   File \"C:\\Users\\Francesco\\anaconda3\\envs\\ta\\lib\\site-packages\\ipykernel\\kernelbase.py\", line 446, in process_one\n>>>     await dispatch(*args)\n>>> \n>>>   File \"C:\\Users\\Francesco\\anaconda3\\envs\\ta\\lib\\site-packages\\ipykernel\\kernelbase.py\", line 353, in dispatch_shell\n>>>     await result\n>>> \n>>>   File \"C:\\Users\\Francesco\\anaconda3\\envs\\ta\\lib\\site-packages\\ipykernel\\kernelbase.py\", line 648, in execute_request\n>>>     reply_content = await reply_content\n>>> \n>>>   File \"C:\\Users\\Francesco\\anaconda3\\envs\\ta\\lib\\site-packages\\ipykernel\\ipkernel.py\", line 353, in do_execute\n>>>     res = shell.run_cell(code, store_history=store_history, silent=silent)\n>>> \n>>>   File \"C:\\Users\\Francesco\\anaconda3\\envs\\ta\\lib\\site-packages\\ipykernel\\zmqshell.py\", line 533, in run_cell\n>>>     return super(ZMQInteractiveShell, self).run_cell(*args, **kwargs)\n>>> \n>>>   File \"C:\\Users\\Francesco\\anaconda3\\envs\\ta\\lib\\site-packages\\IPython\\core\\interactiveshell.py\", line 2901, in run_cell\n>>>     result = self._run_cell(\n>>> \n>>>   File \"C:\\Users\\Francesco\\anaconda3\\envs\\ta\\lib\\site-packages\\IPython\\core\\interactiveshell.py\", line 2947, in _run_cell\n>>>     return runner(coro)\n>>> \n>>>   File \"C:\\Users\\Francesco\\anaconda3\\envs\\ta\\lib\\site-packages\\IPython\\core\\async_helpers.py\", line 68, in _pseudo_sync_runner\n>>>     coro.send(None)\n>>> \n>>>   File \"C:\\Users\\Francesco\\anaconda3\\envs\\ta\\lib\\site-packages\\IPython\\core\\interactiveshell.py\", line 3172, in run_cell_async\n>>>     has_raised = await self.run_ast_nodes(code_ast.body, cell_name,\n>>> \n>>>   File \"C:\\Users\\Francesco\\anaconda3\\envs\\ta\\lib\\site-packages\\IPython\\core\\interactiveshell.py\", line 3364, in run_ast_nodes\n>>>     if (await self.run_code(code, result,  async_=asy)):\n>>> \n>>>   File \"C:\\Users\\Francesco\\anaconda3\\envs\\ta\\lib\\site-packages\\IPython\\core\\interactiveshell.py\", line 3444, in run_code\n>>>     exec(code_obj, self.user_global_ns, self.user_ns)\n>>> \n>>>   File \"C:\\Users\\FRANCE~1\\AppData\\Local\\Temp/ipykernel_2852/2952165569.py\", line 1, in <module>\n>>>     history = model.fit(train_dataset.batch(batch_size),\n>>> \n>>>   File \"C:\\Users\\Francesco\\anaconda3\\envs\\ta\\lib\\site-packages\\keras\\utils\\traceback_utils.py\", line 64, in error_handler\n>>>     return fn(*args, **kwargs)\n>>> \n>>>   File \"C:\\Users\\Francesco\\anaconda3\\envs\\ta\\lib\\site-packages\\keras\\engine\\training.py\", line 1216, in fit\n>>>     tmp_logs = self.train_function(iterator)\n>>> \n>>>   File \"C:\\Users\\Francesco\\anaconda3\\envs\\ta\\lib\\site-packages\\keras\\engine\\training.py\", line 878, in train_function\n>>>     return step_function(self, iterator)\n>>> \n>>>   File \"C:\\Users\\Francesco\\anaconda3\\envs\\ta\\lib\\site-packages\\keras\\engine\\training.py\", line 867, in step_function\n>>>     outputs = model.distribute_strategy.run(run_step, args=(data,))\n>>> \n>>>   File \"C:\\Users\\Francesco\\anaconda3\\envs\\ta\\lib\\site-packages\\keras\\engine\\training.py\", line 860, in run_step\n>>>     outputs = model.train_step(data)\n>>> \n>>>   File \"C:\\Users\\Francesco\\anaconda3\\envs\\ta\\lib\\site-packages\\transformers\\modeling_tf_utils.py\", line 796, in train_step\n>>>     y_pred = self(x, training=True)\n>>> \n>>>   File \"C:\\Users\\Francesco\\anaconda3\\envs\\ta\\lib\\site-packages\\keras\\utils\\traceback_utils.py\", line 64, in error_handler\n>>>     return fn(*args, **kwargs)\n>>> \n>>>   File \"C:\\Users\\Francesco\\anaconda3\\envs\\ta\\lib\\site-packages\\keras\\engine\\base_layer.py\", line 1083, in __call__\n>>>     outputs = call_fn(inputs, *args, **kwargs)\n>>> \n>>>   File \"C:\\Users\\Francesco\\anaconda3\\envs\\ta\\lib\\site-packages\\keras\\utils\\traceback_utils.py\", line 92, in error_handler\n>>>     return fn(*args, **kwargs)\n>>> \n>>>   File \"C:\\Users\\Francesco\\anaconda3\\envs\\ta\\lib\\site-packages\\transformers\\models\\distilbert\\modeling_tf_distilbert.py\", line 800, in call\n>>>     distilbert_output = self.distilbert(\n>>> \n>>>   File \"C:\\Users\\Francesco\\anaconda3\\envs\\ta\\lib\\site-packages\\keras\\utils\\traceback_utils.py\", line 64, in error_handler\n>>>     return fn(*args, **kwargs)\n>>> \n>>>   File \"C:\\Users\\Francesco\\anaconda3\\envs\\ta\\lib\\site-packages\\keras\\engine\\base_layer.py\", line 1083, in __call__\n>>>     outputs = call_fn(inputs, *args, **kwargs)\n>>> \n>>>   File \"C:\\Users\\Francesco\\anaconda3\\envs\\ta\\lib\\site-packages\\keras\\utils\\traceback_utils.py\", line 92, in error_handler\n>>>     return fn(*args, **kwargs)\n>>> \n>>>   File \"C:\\Users\\Francesco\\anaconda3\\envs\\ta\\lib\\site-packages\\transformers\\models\\distilbert\\modeling_tf_distilbert.py\", line 418, in call\n>>>     tfmr_output = self.transformer(\n>>> \n>>>   File \"C:\\Users\\Francesco\\anaconda3\\envs\\ta\\lib\\site-packages\\keras\\utils\\traceback_utils.py\", line 64, in error_handler\n>>>     return fn(*args, **kwargs)\n>>> \n>>>   File \"C:\\Users\\Francesco\\anaconda3\\envs\\ta\\lib\\site-packages\\keras\\engine\\base_layer.py\", line 1083, in __call__\n>>>     outputs = call_fn(inputs, *args, **kwargs)\n>>> \n>>>   File \"C:\\Users\\Francesco\\anaconda3\\envs\\ta\\lib\\site-packages\\keras\\utils\\traceback_utils.py\", line 92, in error_handler\n>>>     return fn(*args, **kwargs)\n>>> \n>>>   File \"C:\\Users\\Francesco\\anaconda3\\envs\\ta\\lib\\site-packages\\transformers\\models\\distilbert\\modeling_tf_distilbert.py\", line 314, in call\n>>>     for i, layer_module in enumerate(self.layer):\n>>> \n>>>   File \"C:\\Users\\Francesco\\anaconda3\\envs\\ta\\lib\\site-packages\\transformers\\models\\distilbert\\modeling_tf_distilbert.py\", line 318, in call\n>>>     layer_outputs = layer_module(hidden_state, attn_mask, head_mask[i], output_attentions, training=training)\n>>> \n>>>   File \"C:\\Users\\Francesco\\anaconda3\\envs\\ta\\lib\\site-packages\\keras\\utils\\traceback_utils.py\", line 64, in error_handler\n>>>     return fn(*args, **kwargs)\n>>> \n>>>   File \"C:\\Users\\Francesco\\anaconda3\\envs\\ta\\lib\\site-packages\\keras\\engine\\base_layer.py\", line 1083, in __call__\n>>>     outputs = call_fn(inputs, *args, **kwargs)\n>>> \n>>>   File \"C:\\Users\\Francesco\\anaconda3\\envs\\ta\\lib\\site-packages\\keras\\utils\\traceback_utils.py\", line 92, in error_handler\n>>>     return fn(*args, **kwargs)\n>>> \n>>>   File \"C:\\Users\\Francesco\\anaconda3\\envs\\ta\\lib\\site-packages\\transformers\\models\\distilbert\\modeling_tf_distilbert.py\", line 266, in call\n>>>     sa_output = self.attention(x, x, x, attn_mask, head_mask, output_attentions, training=training)\n>>> \n>>>   File \"C:\\Users\\Francesco\\anaconda3\\envs\\ta\\lib\\site-packages\\keras\\utils\\traceback_utils.py\", line 64, in error_handler\n>>>     return fn(*args, **kwargs)\n>>> \n>>>   File \"C:\\Users\\Francesco\\anaconda3\\envs\\ta\\lib\\site-packages\\keras\\engine\\base_layer.py\", line 1083, in __call__\n>>>     outputs = call_fn(inputs, *args, **kwargs)\n>>> \n>>>   File \"C:\\Users\\Francesco\\anaconda3\\envs\\ta\\lib\\site-packages\\keras\\utils\\traceback_utils.py\", line 92, in error_handler\n>>>     return fn(*args, **kwargs)\n>>> \n>>>   File \"C:\\Users\\Francesco\\anaconda3\\envs\\ta\\lib\\site-packages\\transformers\\models\\distilbert\\modeling_tf_distilbert.py\", line 186, in call\n>>>     k = shape(self.k_lin(key))  # (bs, n_heads, k_length, dim_per_head)\n>>> \n>>>   File \"C:\\Users\\Francesco\\anaconda3\\envs\\ta\\lib\\site-packages\\transformers\\models\\distilbert\\modeling_tf_distilbert.py\", line 179, in shape\n>>>     return tf.transpose(tf.reshape(x, (bs, -1, self.n_heads, dim_per_head)), perm=(0, 2, 1, 3))\n>>> ",
     "output_type": "error",
     "traceback": [
      "\u001b[1;31m---------------------------------------------------------------------------\u001b[0m",
      "\u001b[1;31mResourceExhaustedError\u001b[0m                    Traceback (most recent call last)",
      "\u001b[1;32mC:\\Users\\FRANCE~1\\AppData\\Local\\Temp/ipykernel_2852/1588486513.py\u001b[0m in \u001b[0;36m<module>\u001b[1;34m\u001b[0m\n\u001b[1;32m----> 1\u001b[1;33m history = model.fit(train_dataset.batch(batch_size),\n\u001b[0m\u001b[0;32m      2\u001b[0m                        \u001b[0mvalidation_data\u001b[0m\u001b[1;33m=\u001b[0m\u001b[0mval_dataset\u001b[0m\u001b[1;33m,\u001b[0m\u001b[1;33m\u001b[0m\u001b[1;33m\u001b[0m\u001b[0m\n\u001b[0;32m      3\u001b[0m                        epochs=epochs)\n",
      "\u001b[1;32m~\\anaconda3\\envs\\ta\\lib\\site-packages\\keras\\utils\\traceback_utils.py\u001b[0m in \u001b[0;36merror_handler\u001b[1;34m(*args, **kwargs)\u001b[0m\n\u001b[0;32m     65\u001b[0m     \u001b[1;32mexcept\u001b[0m \u001b[0mException\u001b[0m \u001b[1;32mas\u001b[0m \u001b[0me\u001b[0m\u001b[1;33m:\u001b[0m  \u001b[1;31m# pylint: disable=broad-except\u001b[0m\u001b[1;33m\u001b[0m\u001b[1;33m\u001b[0m\u001b[0m\n\u001b[0;32m     66\u001b[0m       \u001b[0mfiltered_tb\u001b[0m \u001b[1;33m=\u001b[0m \u001b[0m_process_traceback_frames\u001b[0m\u001b[1;33m(\u001b[0m\u001b[0me\u001b[0m\u001b[1;33m.\u001b[0m\u001b[0m__traceback__\u001b[0m\u001b[1;33m)\u001b[0m\u001b[1;33m\u001b[0m\u001b[1;33m\u001b[0m\u001b[0m\n\u001b[1;32m---> 67\u001b[1;33m       \u001b[1;32mraise\u001b[0m \u001b[0me\u001b[0m\u001b[1;33m.\u001b[0m\u001b[0mwith_traceback\u001b[0m\u001b[1;33m(\u001b[0m\u001b[0mfiltered_tb\u001b[0m\u001b[1;33m)\u001b[0m \u001b[1;32mfrom\u001b[0m \u001b[1;32mNone\u001b[0m\u001b[1;33m\u001b[0m\u001b[1;33m\u001b[0m\u001b[0m\n\u001b[0m\u001b[0;32m     68\u001b[0m     \u001b[1;32mfinally\u001b[0m\u001b[1;33m:\u001b[0m\u001b[1;33m\u001b[0m\u001b[1;33m\u001b[0m\u001b[0m\n\u001b[0;32m     69\u001b[0m       \u001b[1;32mdel\u001b[0m \u001b[0mfiltered_tb\u001b[0m\u001b[1;33m\u001b[0m\u001b[1;33m\u001b[0m\u001b[0m\n",
      "\u001b[1;32m~\\AppData\\Roaming\\Python\\Python39\\site-packages\\tensorflow\\python\\eager\\execute.py\u001b[0m in \u001b[0;36mquick_execute\u001b[1;34m(op_name, num_outputs, inputs, attrs, ctx, name)\u001b[0m\n\u001b[0;32m     56\u001b[0m   \u001b[1;32mtry\u001b[0m\u001b[1;33m:\u001b[0m\u001b[1;33m\u001b[0m\u001b[1;33m\u001b[0m\u001b[0m\n\u001b[0;32m     57\u001b[0m     \u001b[0mctx\u001b[0m\u001b[1;33m.\u001b[0m\u001b[0mensure_initialized\u001b[0m\u001b[1;33m(\u001b[0m\u001b[1;33m)\u001b[0m\u001b[1;33m\u001b[0m\u001b[1;33m\u001b[0m\u001b[0m\n\u001b[1;32m---> 58\u001b[1;33m     tensors = pywrap_tfe.TFE_Py_Execute(ctx._handle, device_name, op_name,\n\u001b[0m\u001b[0;32m     59\u001b[0m                                         inputs, attrs, num_outputs)\n\u001b[0;32m     60\u001b[0m   \u001b[1;32mexcept\u001b[0m \u001b[0mcore\u001b[0m\u001b[1;33m.\u001b[0m\u001b[0m_NotOkStatusException\u001b[0m \u001b[1;32mas\u001b[0m \u001b[0me\u001b[0m\u001b[1;33m:\u001b[0m\u001b[1;33m\u001b[0m\u001b[1;33m\u001b[0m\u001b[0m\n",
      "\u001b[1;31mResourceExhaustedError\u001b[0m:  OOM when allocating tensor with shape[8,12,512,64] and type float on /job:localhost/replica:0/task:0/device:GPU:0 by allocator GPU_0_bfc\n\t [[node tf_distil_bert_for_sequence_classification/distilbert/transformer/layer_._3/attention/transpose_1\n (defined at C:\\Users\\Francesco\\anaconda3\\envs\\ta\\lib\\site-packages\\transformers\\models\\distilbert\\modeling_tf_distilbert.py:179)\n]]\nHint: If you want to see a list of allocated tensors when OOM happens, add report_tensor_allocations_upon_oom to RunOptions for current allocation info. This isn't available when running in Eager mode.\n [Op:__inference_train_function_23435]\n\nErrors may have originated from an input operation.\nInput Source operations connected to node tf_distil_bert_for_sequence_classification/distilbert/transformer/layer_._3/attention/transpose_1:\nIn[0] tf_distil_bert_for_sequence_classification/distilbert/transformer/layer_._3/attention/Reshape_1:\t\nIn[1] tf_distil_bert_for_sequence_classification/distilbert/transformer/layer_._3/attention/transpose_1/perm:\n\nOperation defined at: (most recent call last)\n>>>   File \"C:\\Users\\Francesco\\anaconda3\\envs\\ta\\lib\\runpy.py\", line 197, in _run_module_as_main\n>>>     return _run_code(code, main_globals, None,\n>>> \n>>>   File \"C:\\Users\\Francesco\\anaconda3\\envs\\ta\\lib\\runpy.py\", line 87, in _run_code\n>>>     exec(code, run_globals)\n>>> \n>>>   File \"C:\\Users\\Francesco\\anaconda3\\envs\\ta\\lib\\site-packages\\ipykernel_launcher.py\", line 16, in <module>\n>>>     app.launch_new_instance()\n>>> \n>>>   File \"C:\\Users\\Francesco\\anaconda3\\envs\\ta\\lib\\site-packages\\traitlets\\config\\application.py\", line 846, in launch_instance\n>>>     app.start()\n>>> \n>>>   File \"C:\\Users\\Francesco\\anaconda3\\envs\\ta\\lib\\site-packages\\ipykernel\\kernelapp.py\", line 677, in start\n>>>     self.io_loop.start()\n>>> \n>>>   File \"C:\\Users\\Francesco\\anaconda3\\envs\\ta\\lib\\site-packages\\tornado\\platform\\asyncio.py\", line 199, in start\n>>>     self.asyncio_loop.run_forever()\n>>> \n>>>   File \"C:\\Users\\Francesco\\anaconda3\\envs\\ta\\lib\\asyncio\\base_events.py\", line 596, in run_forever\n>>>     self._run_once()\n>>> \n>>>   File \"C:\\Users\\Francesco\\anaconda3\\envs\\ta\\lib\\asyncio\\base_events.py\", line 1890, in _run_once\n>>>     handle._run()\n>>> \n>>>   File \"C:\\Users\\Francesco\\anaconda3\\envs\\ta\\lib\\asyncio\\events.py\", line 80, in _run\n>>>     self._context.run(self._callback, *self._args)\n>>> \n>>>   File \"C:\\Users\\Francesco\\anaconda3\\envs\\ta\\lib\\site-packages\\ipykernel\\kernelbase.py\", line 457, in dispatch_queue\n>>>     await self.process_one()\n>>> \n>>>   File \"C:\\Users\\Francesco\\anaconda3\\envs\\ta\\lib\\site-packages\\ipykernel\\kernelbase.py\", line 446, in process_one\n>>>     await dispatch(*args)\n>>> \n>>>   File \"C:\\Users\\Francesco\\anaconda3\\envs\\ta\\lib\\site-packages\\ipykernel\\kernelbase.py\", line 353, in dispatch_shell\n>>>     await result\n>>> \n>>>   File \"C:\\Users\\Francesco\\anaconda3\\envs\\ta\\lib\\site-packages\\ipykernel\\kernelbase.py\", line 648, in execute_request\n>>>     reply_content = await reply_content\n>>> \n>>>   File \"C:\\Users\\Francesco\\anaconda3\\envs\\ta\\lib\\site-packages\\ipykernel\\ipkernel.py\", line 353, in do_execute\n>>>     res = shell.run_cell(code, store_history=store_history, silent=silent)\n>>> \n>>>   File \"C:\\Users\\Francesco\\anaconda3\\envs\\ta\\lib\\site-packages\\ipykernel\\zmqshell.py\", line 533, in run_cell\n>>>     return super(ZMQInteractiveShell, self).run_cell(*args, **kwargs)\n>>> \n>>>   File \"C:\\Users\\Francesco\\anaconda3\\envs\\ta\\lib\\site-packages\\IPython\\core\\interactiveshell.py\", line 2901, in run_cell\n>>>     result = self._run_cell(\n>>> \n>>>   File \"C:\\Users\\Francesco\\anaconda3\\envs\\ta\\lib\\site-packages\\IPython\\core\\interactiveshell.py\", line 2947, in _run_cell\n>>>     return runner(coro)\n>>> \n>>>   File \"C:\\Users\\Francesco\\anaconda3\\envs\\ta\\lib\\site-packages\\IPython\\core\\async_helpers.py\", line 68, in _pseudo_sync_runner\n>>>     coro.send(None)\n>>> \n>>>   File \"C:\\Users\\Francesco\\anaconda3\\envs\\ta\\lib\\site-packages\\IPython\\core\\interactiveshell.py\", line 3172, in run_cell_async\n>>>     has_raised = await self.run_ast_nodes(code_ast.body, cell_name,\n>>> \n>>>   File \"C:\\Users\\Francesco\\anaconda3\\envs\\ta\\lib\\site-packages\\IPython\\core\\interactiveshell.py\", line 3364, in run_ast_nodes\n>>>     if (await self.run_code(code, result,  async_=asy)):\n>>> \n>>>   File \"C:\\Users\\Francesco\\anaconda3\\envs\\ta\\lib\\site-packages\\IPython\\core\\interactiveshell.py\", line 3444, in run_code\n>>>     exec(code_obj, self.user_global_ns, self.user_ns)\n>>> \n>>>   File \"C:\\Users\\FRANCE~1\\AppData\\Local\\Temp/ipykernel_2852/2952165569.py\", line 1, in <module>\n>>>     history = model.fit(train_dataset.batch(batch_size),\n>>> \n>>>   File \"C:\\Users\\Francesco\\anaconda3\\envs\\ta\\lib\\site-packages\\keras\\utils\\traceback_utils.py\", line 64, in error_handler\n>>>     return fn(*args, **kwargs)\n>>> \n>>>   File \"C:\\Users\\Francesco\\anaconda3\\envs\\ta\\lib\\site-packages\\keras\\engine\\training.py\", line 1216, in fit\n>>>     tmp_logs = self.train_function(iterator)\n>>> \n>>>   File \"C:\\Users\\Francesco\\anaconda3\\envs\\ta\\lib\\site-packages\\keras\\engine\\training.py\", line 878, in train_function\n>>>     return step_function(self, iterator)\n>>> \n>>>   File \"C:\\Users\\Francesco\\anaconda3\\envs\\ta\\lib\\site-packages\\keras\\engine\\training.py\", line 867, in step_function\n>>>     outputs = model.distribute_strategy.run(run_step, args=(data,))\n>>> \n>>>   File \"C:\\Users\\Francesco\\anaconda3\\envs\\ta\\lib\\site-packages\\keras\\engine\\training.py\", line 860, in run_step\n>>>     outputs = model.train_step(data)\n>>> \n>>>   File \"C:\\Users\\Francesco\\anaconda3\\envs\\ta\\lib\\site-packages\\transformers\\modeling_tf_utils.py\", line 796, in train_step\n>>>     y_pred = self(x, training=True)\n>>> \n>>>   File \"C:\\Users\\Francesco\\anaconda3\\envs\\ta\\lib\\site-packages\\keras\\utils\\traceback_utils.py\", line 64, in error_handler\n>>>     return fn(*args, **kwargs)\n>>> \n>>>   File \"C:\\Users\\Francesco\\anaconda3\\envs\\ta\\lib\\site-packages\\keras\\engine\\base_layer.py\", line 1083, in __call__\n>>>     outputs = call_fn(inputs, *args, **kwargs)\n>>> \n>>>   File \"C:\\Users\\Francesco\\anaconda3\\envs\\ta\\lib\\site-packages\\keras\\utils\\traceback_utils.py\", line 92, in error_handler\n>>>     return fn(*args, **kwargs)\n>>> \n>>>   File \"C:\\Users\\Francesco\\anaconda3\\envs\\ta\\lib\\site-packages\\transformers\\models\\distilbert\\modeling_tf_distilbert.py\", line 800, in call\n>>>     distilbert_output = self.distilbert(\n>>> \n>>>   File \"C:\\Users\\Francesco\\anaconda3\\envs\\ta\\lib\\site-packages\\keras\\utils\\traceback_utils.py\", line 64, in error_handler\n>>>     return fn(*args, **kwargs)\n>>> \n>>>   File \"C:\\Users\\Francesco\\anaconda3\\envs\\ta\\lib\\site-packages\\keras\\engine\\base_layer.py\", line 1083, in __call__\n>>>     outputs = call_fn(inputs, *args, **kwargs)\n>>> \n>>>   File \"C:\\Users\\Francesco\\anaconda3\\envs\\ta\\lib\\site-packages\\keras\\utils\\traceback_utils.py\", line 92, in error_handler\n>>>     return fn(*args, **kwargs)\n>>> \n>>>   File \"C:\\Users\\Francesco\\anaconda3\\envs\\ta\\lib\\site-packages\\transformers\\models\\distilbert\\modeling_tf_distilbert.py\", line 418, in call\n>>>     tfmr_output = self.transformer(\n>>> \n>>>   File \"C:\\Users\\Francesco\\anaconda3\\envs\\ta\\lib\\site-packages\\keras\\utils\\traceback_utils.py\", line 64, in error_handler\n>>>     return fn(*args, **kwargs)\n>>> \n>>>   File \"C:\\Users\\Francesco\\anaconda3\\envs\\ta\\lib\\site-packages\\keras\\engine\\base_layer.py\", line 1083, in __call__\n>>>     outputs = call_fn(inputs, *args, **kwargs)\n>>> \n>>>   File \"C:\\Users\\Francesco\\anaconda3\\envs\\ta\\lib\\site-packages\\keras\\utils\\traceback_utils.py\", line 92, in error_handler\n>>>     return fn(*args, **kwargs)\n>>> \n>>>   File \"C:\\Users\\Francesco\\anaconda3\\envs\\ta\\lib\\site-packages\\transformers\\models\\distilbert\\modeling_tf_distilbert.py\", line 314, in call\n>>>     for i, layer_module in enumerate(self.layer):\n>>> \n>>>   File \"C:\\Users\\Francesco\\anaconda3\\envs\\ta\\lib\\site-packages\\transformers\\models\\distilbert\\modeling_tf_distilbert.py\", line 318, in call\n>>>     layer_outputs = layer_module(hidden_state, attn_mask, head_mask[i], output_attentions, training=training)\n>>> \n>>>   File \"C:\\Users\\Francesco\\anaconda3\\envs\\ta\\lib\\site-packages\\keras\\utils\\traceback_utils.py\", line 64, in error_handler\n>>>     return fn(*args, **kwargs)\n>>> \n>>>   File \"C:\\Users\\Francesco\\anaconda3\\envs\\ta\\lib\\site-packages\\keras\\engine\\base_layer.py\", line 1083, in __call__\n>>>     outputs = call_fn(inputs, *args, **kwargs)\n>>> \n>>>   File \"C:\\Users\\Francesco\\anaconda3\\envs\\ta\\lib\\site-packages\\keras\\utils\\traceback_utils.py\", line 92, in error_handler\n>>>     return fn(*args, **kwargs)\n>>> \n>>>   File \"C:\\Users\\Francesco\\anaconda3\\envs\\ta\\lib\\site-packages\\transformers\\models\\distilbert\\modeling_tf_distilbert.py\", line 266, in call\n>>>     sa_output = self.attention(x, x, x, attn_mask, head_mask, output_attentions, training=training)\n>>> \n>>>   File \"C:\\Users\\Francesco\\anaconda3\\envs\\ta\\lib\\site-packages\\keras\\utils\\traceback_utils.py\", line 64, in error_handler\n>>>     return fn(*args, **kwargs)\n>>> \n>>>   File \"C:\\Users\\Francesco\\anaconda3\\envs\\ta\\lib\\site-packages\\keras\\engine\\base_layer.py\", line 1083, in __call__\n>>>     outputs = call_fn(inputs, *args, **kwargs)\n>>> \n>>>   File \"C:\\Users\\Francesco\\anaconda3\\envs\\ta\\lib\\site-packages\\keras\\utils\\traceback_utils.py\", line 92, in error_handler\n>>>     return fn(*args, **kwargs)\n>>> \n>>>   File \"C:\\Users\\Francesco\\anaconda3\\envs\\ta\\lib\\site-packages\\transformers\\models\\distilbert\\modeling_tf_distilbert.py\", line 186, in call\n>>>     k = shape(self.k_lin(key))  # (bs, n_heads, k_length, dim_per_head)\n>>> \n>>>   File \"C:\\Users\\Francesco\\anaconda3\\envs\\ta\\lib\\site-packages\\transformers\\models\\distilbert\\modeling_tf_distilbert.py\", line 179, in shape\n>>>     return tf.transpose(tf.reshape(x, (bs, -1, self.n_heads, dim_per_head)), perm=(0, 2, 1, 3))\n>>> "
     ]
    }
   ],
   "source": [
    "history = model.fit(train_dataset.batch(batch_size),\n",
    "                       validation_data=val_dataset,\n",
    "                       epochs=epochs)"
   ]
  },
  {
   "cell_type": "code",
   "execution_count": null,
   "id": "83130e6f",
   "metadata": {},
   "outputs": [],
   "source": []
  },
  {
   "cell_type": "code",
   "execution_count": null,
   "id": "7fef1020",
   "metadata": {},
   "outputs": [],
   "source": []
  }
 ],
 "metadata": {
  "kernelspec": {
   "display_name": "Python 3 (ipykernel)",
   "language": "python",
   "name": "python3"
  },
  "language_info": {
   "codemirror_mode": {
    "name": "ipython",
    "version": 3
   },
   "file_extension": ".py",
   "mimetype": "text/x-python",
   "name": "python",
   "nbconvert_exporter": "python",
   "pygments_lexer": "ipython3",
   "version": "3.10.2"
  }
 },
 "nbformat": 4,
 "nbformat_minor": 5
}
